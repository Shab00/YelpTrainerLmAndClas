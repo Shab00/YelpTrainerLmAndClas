{
 "cells": [
  {
   "cell_type": "code",
   "execution_count": 1,
   "id": "271172ce",
   "metadata": {
    "_cell_guid": "b1076dfc-b9ad-4769-8c92-a6c4dae69d19",
    "_uuid": "8f2839f25d086af736a60e9eeb907d3b93b6e0e5",
    "execution": {
     "iopub.execute_input": "2024-07-03T18:19:21.596074Z",
     "iopub.status.busy": "2024-07-03T18:19:21.595713Z",
     "iopub.status.idle": "2024-07-03T18:19:48.111329Z",
     "shell.execute_reply": "2024-07-03T18:19:48.110268Z"
    },
    "papermill": {
     "duration": 26.529431,
     "end_time": "2024-07-03T18:19:48.113896",
     "exception": false,
     "start_time": "2024-07-03T18:19:21.584465",
     "status": "completed"
    },
    "tags": []
   },
   "outputs": [],
   "source": [
    "# This Python 3 environment comes with many helpful analytics libraries installed\n",
    "# It is defined by the kaggle/python Docker image: https://github.com/kaggle/docker-python\n",
    "# For example, here's several helpful packages to load\n",
    "! pip install -Uqq fastbook\n",
    "import fastbook\n",
    "fastbook.setup_book()\n",
    "import numpy as np # linear algebra\n",
    "import pandas as pd # data processing, CSV file I/O (e.g. pd.read_csv)\n",
    "\n",
    "# Input data files are available in the read-only \"../input/\" directory\n",
    "# For example, running this (by clicking run or pressing Shift+Enter) will list all files under the input directory\n",
    "\n",
    "import os\n",
    "for dirname, _, filenames in os.walk('/kaggle/input'):\n",
    "    for filename in filenames:\n",
    "        print(os.path.join(dirname, filename))\n",
    "\n",
    "# You can write up to 20GB to the current directory (/kaggle/working/) that gets preserved as output when you create a version using \"Save & Run All\" \n",
    "# You can also write temporary files to /kaggle/temp/, but they won't be saved outside of the current session"
   ]
  },
  {
   "cell_type": "code",
   "execution_count": 2,
   "id": "08c624eb",
   "metadata": {
    "execution": {
     "iopub.execute_input": "2024-07-03T18:19:48.135410Z",
     "iopub.status.busy": "2024-07-03T18:19:48.134619Z",
     "iopub.status.idle": "2024-07-03T18:19:48.139495Z",
     "shell.execute_reply": "2024-07-03T18:19:48.138658Z"
    },
    "papermill": {
     "duration": 0.01701,
     "end_time": "2024-07-03T18:19:48.141433",
     "exception": false,
     "start_time": "2024-07-03T18:19:48.124423",
     "status": "completed"
    },
    "tags": []
   },
   "outputs": [],
   "source": [
    "from fastbook import *\n",
    "from fastai.imports import *\n",
    "from IPython.display import display,HTML"
   ]
  },
  {
   "cell_type": "code",
   "execution_count": 3,
   "id": "7d356c13",
   "metadata": {
    "execution": {
     "iopub.execute_input": "2024-07-03T18:19:48.160775Z",
     "iopub.status.busy": "2024-07-03T18:19:48.160514Z",
     "iopub.status.idle": "2024-07-03T18:19:59.729618Z",
     "shell.execute_reply": "2024-07-03T18:19:59.728830Z"
    },
    "papermill": {
     "duration": 11.581425,
     "end_time": "2024-07-03T18:19:59.732056",
     "exception": false,
     "start_time": "2024-07-03T18:19:48.150631",
     "status": "completed"
    },
    "tags": []
   },
   "outputs": [
    {
     "data": {
      "text/html": [
       "\n",
       "<style>\n",
       "    /* Turns off some styling */\n",
       "    progress {\n",
       "        /* gets rid of default border in Firefox and Opera. */\n",
       "        border: none;\n",
       "        /* Needs to be in here for Safari polyfill so background images work as expected. */\n",
       "        background-size: auto;\n",
       "    }\n",
       "    progress:not([value]), progress:not([value])::-webkit-progress-bar {\n",
       "        background: repeating-linear-gradient(45deg, #7e7e7e, #7e7e7e 10px, #5c5c5c 10px, #5c5c5c 20px);\n",
       "    }\n",
       "    .progress-bar-interrupted, .progress-bar-interrupted::-webkit-progress-bar {\n",
       "        background: #F44336;\n",
       "    }\n",
       "</style>\n"
      ],
      "text/plain": [
       "<IPython.core.display.HTML object>"
      ]
     },
     "metadata": {},
     "output_type": "display_data"
    },
    {
     "data": {
      "text/html": [
       "\n",
       "    <div>\n",
       "      <progress value='196149248' class='' max='196146755' style='width:300px; height:20px; vertical-align: middle;'></progress>\n",
       "      100.00% [196149248/196146755 00:06&lt;00:00]\n",
       "    </div>\n",
       "    "
      ],
      "text/plain": [
       "<IPython.core.display.HTML object>"
      ]
     },
     "metadata": {},
     "output_type": "display_data"
    }
   ],
   "source": [
    "from fastai.text.all import *\n",
    "path = untar_data(URLs.YELP_REVIEWS)"
   ]
  },
  {
   "cell_type": "code",
   "execution_count": 4,
   "id": "8bcba35e",
   "metadata": {
    "execution": {
     "iopub.execute_input": "2024-07-03T18:19:59.753150Z",
     "iopub.status.busy": "2024-07-03T18:19:59.752870Z",
     "iopub.status.idle": "2024-07-03T18:19:59.759074Z",
     "shell.execute_reply": "2024-07-03T18:19:59.758237Z"
    },
    "papermill": {
     "duration": 0.019089,
     "end_time": "2024-07-03T18:19:59.761160",
     "exception": false,
     "start_time": "2024-07-03T18:19:59.742071",
     "status": "completed"
    },
    "tags": []
   },
   "outputs": [
    {
     "data": {
      "text/plain": [
       "(#3) [Path('/root/.fastai/data/yelp_review_full_csv/readme.txt'),Path('/root/.fastai/data/yelp_review_full_csv/train.csv'),Path('/root/.fastai/data/yelp_review_full_csv/test.csv')]"
      ]
     },
     "execution_count": 4,
     "metadata": {},
     "output_type": "execute_result"
    }
   ],
   "source": [
    "path.ls()"
   ]
  },
  {
   "cell_type": "code",
   "execution_count": 5,
   "id": "0dd87242",
   "metadata": {
    "execution": {
     "iopub.execute_input": "2024-07-03T18:19:59.782399Z",
     "iopub.status.busy": "2024-07-03T18:19:59.781895Z",
     "iopub.status.idle": "2024-07-03T18:20:04.622428Z",
     "shell.execute_reply": "2024-07-03T18:20:04.621251Z"
    },
    "papermill": {
     "duration": 4.853518,
     "end_time": "2024-07-03T18:20:04.624991",
     "exception": false,
     "start_time": "2024-07-03T18:19:59.771473",
     "status": "completed"
    },
    "tags": []
   },
   "outputs": [],
   "source": [
    "df_train = pd.read_csv(path/'train.csv', header=None)\n",
    "df_valid = pd.read_csv(path/'test.csv', header=None)\n",
    "df_train.columns = ['category', 'text']\n",
    "df_valid.columns = ['category', 'text']\n",
    "df_all = pd.concat([df_train, df_valid])"
   ]
  },
  {
   "cell_type": "code",
   "execution_count": 6,
   "id": "ea63a636",
   "metadata": {
    "execution": {
     "iopub.execute_input": "2024-07-03T18:20:04.646320Z",
     "iopub.status.busy": "2024-07-03T18:20:04.645973Z",
     "iopub.status.idle": "2024-07-03T18:20:04.680771Z",
     "shell.execute_reply": "2024-07-03T18:20:04.679228Z"
    },
    "papermill": {
     "duration": 0.047789,
     "end_time": "2024-07-03T18:20:04.682930",
     "exception": false,
     "start_time": "2024-07-03T18:20:04.635141",
     "status": "completed"
    },
    "tags": []
   },
   "outputs": [
    {
     "name": "stdout",
     "output_type": "stream",
     "text": [
      "<class 'pandas.core.frame.DataFrame'>\n",
      "RangeIndex: 50000 entries, 0 to 49999\n",
      "Data columns (total 2 columns):\n",
      " #   Column    Non-Null Count  Dtype \n",
      "---  ------    --------------  ----- \n",
      " 0   category  50000 non-null  int64 \n",
      " 1   text      50000 non-null  object\n",
      "dtypes: int64(1), object(1)\n",
      "memory usage: 781.4+ KB\n"
     ]
    }
   ],
   "source": [
    "df_valid.info()"
   ]
  },
  {
   "cell_type": "code",
   "execution_count": 7,
   "id": "568495af",
   "metadata": {
    "execution": {
     "iopub.execute_input": "2024-07-03T18:20:04.705217Z",
     "iopub.status.busy": "2024-07-03T18:20:04.704864Z",
     "iopub.status.idle": "2024-07-03T18:20:04.810156Z",
     "shell.execute_reply": "2024-07-03T18:20:04.808880Z"
    },
    "papermill": {
     "duration": 0.118575,
     "end_time": "2024-07-03T18:20:04.812398",
     "exception": false,
     "start_time": "2024-07-03T18:20:04.693823",
     "status": "completed"
    },
    "tags": []
   },
   "outputs": [
    {
     "name": "stdout",
     "output_type": "stream",
     "text": [
      "<class 'pandas.core.frame.DataFrame'>\n",
      "RangeIndex: 650000 entries, 0 to 649999\n",
      "Data columns (total 2 columns):\n",
      " #   Column    Non-Null Count   Dtype \n",
      "---  ------    --------------   ----- \n",
      " 0   category  650000 non-null  int64 \n",
      " 1   text      650000 non-null  object\n",
      "dtypes: int64(1), object(1)\n",
      "memory usage: 9.9+ MB\n"
     ]
    }
   ],
   "source": [
    "df_train.info()"
   ]
  },
  {
   "cell_type": "code",
   "execution_count": 8,
   "id": "16237489",
   "metadata": {
    "execution": {
     "iopub.execute_input": "2024-07-03T18:20:04.834261Z",
     "iopub.status.busy": "2024-07-03T18:20:04.833917Z",
     "iopub.status.idle": "2024-07-03T18:20:04.852009Z",
     "shell.execute_reply": "2024-07-03T18:20:04.850944Z"
    },
    "papermill": {
     "duration": 0.031259,
     "end_time": "2024-07-03T18:20:04.854058",
     "exception": false,
     "start_time": "2024-07-03T18:20:04.822799",
     "status": "completed"
    },
    "tags": []
   },
   "outputs": [
    {
     "data": {
      "text/html": [
       "<div>\n",
       "<style scoped>\n",
       "    .dataframe tbody tr th:only-of-type {\n",
       "        vertical-align: middle;\n",
       "    }\n",
       "\n",
       "    .dataframe tbody tr th {\n",
       "        vertical-align: top;\n",
       "    }\n",
       "\n",
       "    .dataframe thead th {\n",
       "        text-align: right;\n",
       "    }\n",
       "</style>\n",
       "<table border=\"1\" class=\"dataframe\">\n",
       "  <thead>\n",
       "    <tr style=\"text-align: right;\">\n",
       "      <th></th>\n",
       "      <th>category</th>\n",
       "      <th>text</th>\n",
       "    </tr>\n",
       "  </thead>\n",
       "  <tbody>\n",
       "    <tr>\n",
       "      <th>0</th>\n",
       "      <td>5</td>\n",
       "      <td>dr. goldberg offers everything i look for in a general practitioner.  he's nice and easy to talk to without being patronizing; he's always on time in seeing his patients; he's affiliated with a top-notch hospital (nyu) which my parents have explained to me is very important in case something happens and you need surgery; and you can get referrals to see specialists without having to see him first.  really, what more do you need?  i'm sitting here trying to think of any complaints i have about him, but i'm really drawing a blank.</td>\n",
       "    </tr>\n",
       "    <tr>\n",
       "      <th>1</th>\n",
       "      <td>2</td>\n",
       "      <td>Unfortunately, the frustration of being Dr. Goldberg's patient is a repeat of the experience I've had with so many other doctors in NYC -- good doctor, terrible staff.  It seems that his staff simply never answers the phone.  It usually takes 2 hours of repeated calling to get an answer.  Who has time for that or wants to deal with it?  I have run into this problem with many other doctors and I just don't get it.  You have office workers, you have patients with medical needs, why isn't anyone answering the phone?  It's incomprehensible and not work the aggravation.  It's with regret that I...</td>\n",
       "    </tr>\n",
       "    <tr>\n",
       "      <th>2</th>\n",
       "      <td>4</td>\n",
       "      <td>Been going to Dr. Goldberg for over 10 years. I think I was one of his 1st patients when he started at MHMG. He's been great over the years and is really all about the big picture. It is because of him, not my now former gyn Dr. Markoff, that I found out I have fibroids. He explores all options with you and is very patient and understanding. He doesn't judge and asks all the right questions. Very thorough and wants to be kept in the loop on every aspect of your medical health and your life.</td>\n",
       "    </tr>\n",
       "    <tr>\n",
       "      <th>3</th>\n",
       "      <td>4</td>\n",
       "      <td>Got a letter in the mail last week that said Dr. Goldberg is moving to Arizona to take a new position there in June.  He will be missed very much.  \\n\\nI think finding a new doctor in NYC that you actually like might almost be as awful as trying to find a date!</td>\n",
       "    </tr>\n",
       "    <tr>\n",
       "      <th>4</th>\n",
       "      <td>1</td>\n",
       "      <td>I don't know what Dr. Goldberg was like before  moving to Arizona, but let me tell you, STAY AWAY from this doctor and this office. I was going to Dr. Johnson before he left and Goldberg took over when Johnson left. He is not a caring doctor. He is only interested in the co-pay and having you come in for medication refills every month. He will not give refills and could less about patients's financial situations. Trying to get your 90 days mail away pharmacy prescriptions through this guy is a joke. And to make matters even worse, his office staff is incompetent. 90% of the time when you c...</td>\n",
       "    </tr>\n",
       "    <tr>\n",
       "      <th>...</th>\n",
       "      <td>...</td>\n",
       "      <td>...</td>\n",
       "    </tr>\n",
       "    <tr>\n",
       "      <th>649995</th>\n",
       "      <td>5</td>\n",
       "      <td>I had a sprinkler that was gushing... pipe broken way below ground, it turned out.  I read such good reviews about Ryan and Vegas Valley Lawn Care on Yelp, that I called them to have it fixed.  Their work was great, and they were great to deal with.  So I'll join their many \\\"fans\\\" and highly recommend them.  Louise R.   :)</td>\n",
       "    </tr>\n",
       "    <tr>\n",
       "      <th>649996</th>\n",
       "      <td>1</td>\n",
       "      <td>Phone calls always go to voicemail and messages are not returned.  Stupid way to do business.</td>\n",
       "    </tr>\n",
       "    <tr>\n",
       "      <th>649997</th>\n",
       "      <td>1</td>\n",
       "      <td>Looks like all of the good reviews have gone to their head at this place!  Jason and Ryan came out last fall and did a wonderful job pruning, etc.  Called them to come back this spring and no response after first call.  After second call, I was told they could only come on a Monday.  I work Mondays, and left a message what days would work for me. NEVER heard back from them!  After 3 calls, nothing.  Very UNRELIABLE and UNACCOMMODATING..</td>\n",
       "    </tr>\n",
       "    <tr>\n",
       "      <th>649998</th>\n",
       "      <td>5</td>\n",
       "      <td>I was able to once again rely on Yelp to provide the needed response to my leaking sprinkler system. Ryan is the man for the job. He was on time, knew exactly how to fix the problem, make short work in performing the repairs; even though the system was not standard size tubing, Ryan quickly secured the components that ended my water leak. \\nHighly recommend Ryan and Vegas Valley Lawn Care!</td>\n",
       "    </tr>\n",
       "    <tr>\n",
       "      <th>649999</th>\n",
       "      <td>1</td>\n",
       "      <td>I have been using this company for 11 months.  Ryan would come out every other week and do what he needed to be done. Very little was required as I have desert landscaping and pretty much maintained it myself.  Just needed blowing and general light cleanup.  Ryan was very thorough.\\nThen his brother, I believe, would  come out.  I would have to watch him as if I was not looking, it would be a pretty much \\\"hit and run\\\" literally.\\nI was expecting them Friday.  No show, no call as they never call when they cannot make it.  I have to call them and ask where they are or if they are coming.  ...</td>\n",
       "    </tr>\n",
       "  </tbody>\n",
       "</table>\n",
       "<p>650000 rows × 2 columns</p>\n",
       "</div>"
      ],
      "text/plain": [
       "        category  \\\n",
       "0              5   \n",
       "1              2   \n",
       "2              4   \n",
       "3              4   \n",
       "4              1   \n",
       "...          ...   \n",
       "649995         5   \n",
       "649996         1   \n",
       "649997         1   \n",
       "649998         5   \n",
       "649999         1   \n",
       "\n",
       "                                                                                                                                                                                                                                                                                                                                                                                                                                                                                                                                                                                                                           text  \n",
       "0                                                                        dr. goldberg offers everything i look for in a general practitioner.  he's nice and easy to talk to without being patronizing; he's always on time in seeing his patients; he's affiliated with a top-notch hospital (nyu) which my parents have explained to me is very important in case something happens and you need surgery; and you can get referrals to see specialists without having to see him first.  really, what more do you need?  i'm sitting here trying to think of any complaints i have about him, but i'm really drawing a blank.  \n",
       "1       Unfortunately, the frustration of being Dr. Goldberg's patient is a repeat of the experience I've had with so many other doctors in NYC -- good doctor, terrible staff.  It seems that his staff simply never answers the phone.  It usually takes 2 hours of repeated calling to get an answer.  Who has time for that or wants to deal with it?  I have run into this problem with many other doctors and I just don't get it.  You have office workers, you have patients with medical needs, why isn't anyone answering the phone?  It's incomprehensible and not work the aggravation.  It's with regret that I...  \n",
       "2                                                                                                               Been going to Dr. Goldberg for over 10 years. I think I was one of his 1st patients when he started at MHMG. He's been great over the years and is really all about the big picture. It is because of him, not my now former gyn Dr. Markoff, that I found out I have fibroids. He explores all options with you and is very patient and understanding. He doesn't judge and asks all the right questions. Very thorough and wants to be kept in the loop on every aspect of your medical health and your life.  \n",
       "3                                                                                                                                                                                                                                                                                                                                                         Got a letter in the mail last week that said Dr. Goldberg is moving to Arizona to take a new position there in June.  He will be missed very much.  \\n\\nI think finding a new doctor in NYC that you actually like might almost be as awful as trying to find a date!  \n",
       "4       I don't know what Dr. Goldberg was like before  moving to Arizona, but let me tell you, STAY AWAY from this doctor and this office. I was going to Dr. Johnson before he left and Goldberg took over when Johnson left. He is not a caring doctor. He is only interested in the co-pay and having you come in for medication refills every month. He will not give refills and could less about patients's financial situations. Trying to get your 90 days mail away pharmacy prescriptions through this guy is a joke. And to make matters even worse, his office staff is incompetent. 90% of the time when you c...  \n",
       "...                                                                                                                                                                                                                                                                                                                                                                                                                                                                                                                                                                                                                         ...  \n",
       "649995                                                                                                                                                                                                                                                                                   I had a sprinkler that was gushing... pipe broken way below ground, it turned out.  I read such good reviews about Ryan and Vegas Valley Lawn Care on Yelp, that I called them to have it fixed.  Their work was great, and they were great to deal with.  So I'll join their many \\\"fans\\\" and highly recommend them.  Louise R.   :)  \n",
       "649996                                                                                                                                                                                                                                                                                                                                                                                                                                                                                                                            Phone calls always go to voicemail and messages are not returned.  Stupid way to do business.  \n",
       "649997                                                                                                                                                                 Looks like all of the good reviews have gone to their head at this place!  Jason and Ryan came out last fall and did a wonderful job pruning, etc.  Called them to come back this spring and no response after first call.  After second call, I was told they could only come on a Monday.  I work Mondays, and left a message what days would work for me. NEVER heard back from them!  After 3 calls, nothing.  Very UNRELIABLE and UNACCOMMODATING..  \n",
       "649998                                                                                                                                                                                                                 I was able to once again rely on Yelp to provide the needed response to my leaking sprinkler system. Ryan is the man for the job. He was on time, knew exactly how to fix the problem, make short work in performing the repairs; even though the system was not standard size tubing, Ryan quickly secured the components that ended my water leak. \\nHighly recommend Ryan and Vegas Valley Lawn Care!  \n",
       "649999  I have been using this company for 11 months.  Ryan would come out every other week and do what he needed to be done. Very little was required as I have desert landscaping and pretty much maintained it myself.  Just needed blowing and general light cleanup.  Ryan was very thorough.\\nThen his brother, I believe, would  come out.  I would have to watch him as if I was not looking, it would be a pretty much \\\"hit and run\\\" literally.\\nI was expecting them Friday.  No show, no call as they never call when they cannot make it.  I have to call them and ask where they are or if they are coming.  ...  \n",
       "\n",
       "[650000 rows x 2 columns]"
      ]
     },
     "execution_count": 8,
     "metadata": {},
     "output_type": "execute_result"
    }
   ],
   "source": [
    "df_train"
   ]
  },
  {
   "cell_type": "code",
   "execution_count": 9,
   "id": "8e9b3b6c",
   "metadata": {
    "execution": {
     "iopub.execute_input": "2024-07-03T18:20:04.876542Z",
     "iopub.status.busy": "2024-07-03T18:20:04.876228Z",
     "iopub.status.idle": "2024-07-03T18:20:04.881359Z",
     "shell.execute_reply": "2024-07-03T18:20:04.880432Z"
    },
    "papermill": {
     "duration": 0.018588,
     "end_time": "2024-07-03T18:20:04.883700",
     "exception": false,
     "start_time": "2024-07-03T18:20:04.865112",
     "status": "completed"
    },
    "tags": []
   },
   "outputs": [
    {
     "name": "stdout",
     "output_type": "stream",
     "text": [
      "\n",
      "Types of data after conversion:\n",
      " category     int64\n",
      "text        object\n",
      "dtype: object\n"
     ]
    }
   ],
   "source": [
    "print(\"\\nTypes of data after conversion:\\n\", df_all.dtypes)"
   ]
  },
  {
   "cell_type": "code",
   "execution_count": 10,
   "id": "03376beb",
   "metadata": {
    "execution": {
     "iopub.execute_input": "2024-07-03T18:20:04.905489Z",
     "iopub.status.busy": "2024-07-03T18:20:04.905236Z",
     "iopub.status.idle": "2024-07-03T18:20:04.917535Z",
     "shell.execute_reply": "2024-07-03T18:20:04.916852Z"
    },
    "papermill": {
     "duration": 0.025404,
     "end_time": "2024-07-03T18:20:04.919380",
     "exception": false,
     "start_time": "2024-07-03T18:20:04.893976",
     "status": "completed"
    },
    "tags": []
   },
   "outputs": [],
   "source": [
    "df_valid['review'] = pd.cut(df_valid['category'],\n",
    "        bins=[df_all['category'].min() - 1, 2, df_all['category'].max() + 1],\n",
    "        labels=['negative', 'positive'])"
   ]
  },
  {
   "cell_type": "code",
   "execution_count": 11,
   "id": "7a41c28c",
   "metadata": {
    "execution": {
     "iopub.execute_input": "2024-07-03T18:20:04.941768Z",
     "iopub.status.busy": "2024-07-03T18:20:04.941124Z",
     "iopub.status.idle": "2024-07-03T18:20:04.953846Z",
     "shell.execute_reply": "2024-07-03T18:20:04.953066Z"
    },
    "papermill": {
     "duration": 0.025981,
     "end_time": "2024-07-03T18:20:04.955924",
     "exception": false,
     "start_time": "2024-07-03T18:20:04.929943",
     "status": "completed"
    },
    "tags": []
   },
   "outputs": [
    {
     "data": {
      "text/html": [
       "<div>\n",
       "<style scoped>\n",
       "    .dataframe tbody tr th:only-of-type {\n",
       "        vertical-align: middle;\n",
       "    }\n",
       "\n",
       "    .dataframe tbody tr th {\n",
       "        vertical-align: top;\n",
       "    }\n",
       "\n",
       "    .dataframe thead th {\n",
       "        text-align: right;\n",
       "    }\n",
       "</style>\n",
       "<table border=\"1\" class=\"dataframe\">\n",
       "  <thead>\n",
       "    <tr style=\"text-align: right;\">\n",
       "      <th></th>\n",
       "      <th>category</th>\n",
       "      <th>text</th>\n",
       "      <th>review</th>\n",
       "    </tr>\n",
       "  </thead>\n",
       "  <tbody>\n",
       "    <tr>\n",
       "      <th>0</th>\n",
       "      <td>1</td>\n",
       "      <td>I got 'new' tires from them and within two weeks got a flat. I took my car to a local mechanic to see if i could get the hole patched, but they said the reason I had a flat was because the previous patch had blown - WAIT, WHAT? I just got the tire and never needed to have it patched? This was supposed to be a new tire. \\nI took the tire over to Flynn's and they told me that someone punctured my tire, then tried to patch it. So there are resentful tire slashers? I find that very unlikely. After arguing with the guy and telling him that his logic was far fetched he said he'd give me a new ti...</td>\n",
       "      <td>negative</td>\n",
       "    </tr>\n",
       "    <tr>\n",
       "      <th>1</th>\n",
       "      <td>1</td>\n",
       "      <td>Don't waste your time.  We had two different people come to our house to give us estimates for a deck (one of them the OWNER).  Both times, we never heard from them.  Not a call, not the estimate, nothing.</td>\n",
       "      <td>negative</td>\n",
       "    </tr>\n",
       "    <tr>\n",
       "      <th>2</th>\n",
       "      <td>1</td>\n",
       "      <td>All I can say is the worst! We were the only 2 people in the place for lunch, the place was freezing and loaded with kids toys! 2 bicycles, a scooter, and an electronic keyboard graced the dining room. A fish tank with filthy, slimy fingerprints smeared all over it is there for your enjoyment.\\n\\nOur food came... no water to drink, no tea, medium temperature food. Of course its cold, just like the room, I never took my jacket off! The plates are too small, you food spills over onto some semi-clean tables as you sit in your completely worn out booth seat. The fried noodles were out of a box...</td>\n",
       "      <td>negative</td>\n",
       "    </tr>\n",
       "    <tr>\n",
       "      <th>3</th>\n",
       "      <td>1</td>\n",
       "      <td>I have been to this restaurant twice and was disappointed both times. I won't go back. The first time we were there almost 3 hours. It took forever to order and then forever for our food to come and the place was empty. When I complained the manager was very rude and tried to blame us for taking to long to order. It made no sense, how could we order when the waitress wasn't coming to the table? After arguing with me he ended up taking $6 off of our $200+ bill. Ridiculous. If it were up to me I would have never returned. Unfortunately my family decided to go here again tonight. Again it too...</td>\n",
       "      <td>negative</td>\n",
       "    </tr>\n",
       "    <tr>\n",
       "      <th>4</th>\n",
       "      <td>1</td>\n",
       "      <td>Food was NOT GOOD at all! My husband &amp; I ate here a couple weeks ago for the first time. I ordered a salad &amp; basil pesto cream pasta &amp; my husband ordered the spinach &amp; feta pasta. The salad was just a huge plate of spring mix (nothing else in it) with WAY to much vinegar dressing. My lettuce was drowning in the vinegar. My pesto pasta had no flavor (did not taste like a cream sauce to me) &amp; the pesto was so runny/watery &amp; way too much sauce not enough noodles. My husband's pasta had even less flavor than mine. We ate about a quarter of the food &amp; couldn't even finish it. We took it home &amp; ...</td>\n",
       "      <td>negative</td>\n",
       "    </tr>\n",
       "    <tr>\n",
       "      <th>...</th>\n",
       "      <td>...</td>\n",
       "      <td>...</td>\n",
       "      <td>...</td>\n",
       "    </tr>\n",
       "    <tr>\n",
       "      <th>49995</th>\n",
       "      <td>1</td>\n",
       "      <td>Just wanted to write a review to chip in with what the others said. I would not recommend going.  If you have little kids (under 8 maybe), they might like it but unless you have a lot of money to waste it probably wouldn't be worth finding out. A lot of the attractions are not very accurate. There's one where you strike a pose and you summon a superhero based on your pose. 8 out of 10 people would change their pose and summon the same superhero. Also, there's nowhere to sit. You wait in line after line and nowhere to sit. By the end, we were excited for the sitting ride. That actually was ...</td>\n",
       "      <td>negative</td>\n",
       "    </tr>\n",
       "    <tr>\n",
       "      <th>49996</th>\n",
       "      <td>5</td>\n",
       "      <td>Great ambience. Great drinks. Great food. I love this place!</td>\n",
       "      <td>positive</td>\n",
       "    </tr>\n",
       "    <tr>\n",
       "      <th>49997</th>\n",
       "      <td>4</td>\n",
       "      <td>I have been to the other Monks locations so I was excited when I heard they were coming Sun Prairie.  I was not disappointed.  We each orded something different and shared. I really liked my chicken sandwich and the fish tacos were great. My husband had a breakfast burger that while not something I would normally order, was pretty good.\\n\\nThere really aren't many places in Sun Prairie to eat besides fast food and I can see Monks being one of our favorites. I took away a star because the dining room is packed with tables,  when full it is a tight squeeze to get around.</td>\n",
       "      <td>positive</td>\n",
       "    </tr>\n",
       "    <tr>\n",
       "      <th>49998</th>\n",
       "      <td>2</td>\n",
       "      <td>Don't go here.  I know you might want to try it but these good reviews are people who sadly have no taste buds. I got fries a burger and the spicy chicken. The spicy chicken which I am almost positive they drive down the street got it from McDonald's re wrapped it and gave it to me for 50 cents more.. Only McDonald's chicken is better quality.. That's right McDonald's is better which is the only time I have or will ever say that.  Their burger was flavorless and had the same consistency as burgers you find in the frozen dinner isle at Walmart. They have a lot of bells and whistles. Like wi...</td>\n",
       "      <td>negative</td>\n",
       "    </tr>\n",
       "    <tr>\n",
       "      <th>49999</th>\n",
       "      <td>1</td>\n",
       "      <td>Buffet was recently open after renovation so my husband and I are thinking it should be pretty good....wrong. We arrived at 8:30 am for what we thought was a Saturday brunch offering champs, nope. Price is $21.95 but on Monday - Friday is $18.95...same food so why the increase? I can go to the Fiesta in Henderson with champs and better food for $8.99 Sat/Sun but we wanted to try something we thought was going to be an upgrade....lol what a joke. \\n\\n\\nFood: everything I tried looked and tasted like food was leftover from the day before and reheated. \\n\\nShrimps were all water logged, the c...</td>\n",
       "      <td>negative</td>\n",
       "    </tr>\n",
       "  </tbody>\n",
       "</table>\n",
       "<p>50000 rows × 3 columns</p>\n",
       "</div>"
      ],
      "text/plain": [
       "       category  \\\n",
       "0             1   \n",
       "1             1   \n",
       "2             1   \n",
       "3             1   \n",
       "4             1   \n",
       "...         ...   \n",
       "49995         1   \n",
       "49996         5   \n",
       "49997         4   \n",
       "49998         2   \n",
       "49999         1   \n",
       "\n",
       "                                                                                                                                                                                                                                                                                                                                                                                                                                                                                                                                                                                                                          text  \\\n",
       "0      I got 'new' tires from them and within two weeks got a flat. I took my car to a local mechanic to see if i could get the hole patched, but they said the reason I had a flat was because the previous patch had blown - WAIT, WHAT? I just got the tire and never needed to have it patched? This was supposed to be a new tire. \\nI took the tire over to Flynn's and they told me that someone punctured my tire, then tried to patch it. So there are resentful tire slashers? I find that very unlikely. After arguing with the guy and telling him that his logic was far fetched he said he'd give me a new ti...   \n",
       "1                                                                                                                                                                                                                                                                                                                                                                                                                Don't waste your time.  We had two different people come to our house to give us estimates for a deck (one of them the OWNER).  Both times, we never heard from them.  Not a call, not the estimate, nothing.   \n",
       "2      All I can say is the worst! We were the only 2 people in the place for lunch, the place was freezing and loaded with kids toys! 2 bicycles, a scooter, and an electronic keyboard graced the dining room. A fish tank with filthy, slimy fingerprints smeared all over it is there for your enjoyment.\\n\\nOur food came... no water to drink, no tea, medium temperature food. Of course its cold, just like the room, I never took my jacket off! The plates are too small, you food spills over onto some semi-clean tables as you sit in your completely worn out booth seat. The fried noodles were out of a box...   \n",
       "3      I have been to this restaurant twice and was disappointed both times. I won't go back. The first time we were there almost 3 hours. It took forever to order and then forever for our food to come and the place was empty. When I complained the manager was very rude and tried to blame us for taking to long to order. It made no sense, how could we order when the waitress wasn't coming to the table? After arguing with me he ended up taking $6 off of our $200+ bill. Ridiculous. If it were up to me I would have never returned. Unfortunately my family decided to go here again tonight. Again it too...   \n",
       "4      Food was NOT GOOD at all! My husband & I ate here a couple weeks ago for the first time. I ordered a salad & basil pesto cream pasta & my husband ordered the spinach & feta pasta. The salad was just a huge plate of spring mix (nothing else in it) with WAY to much vinegar dressing. My lettuce was drowning in the vinegar. My pesto pasta had no flavor (did not taste like a cream sauce to me) & the pesto was so runny/watery & way too much sauce not enough noodles. My husband's pasta had even less flavor than mine. We ate about a quarter of the food & couldn't even finish it. We took it home & ...   \n",
       "...                                                                                                                                                                                                                                                                                                                                                                                                                                                                                                                                                                                                                        ...   \n",
       "49995  Just wanted to write a review to chip in with what the others said. I would not recommend going.  If you have little kids (under 8 maybe), they might like it but unless you have a lot of money to waste it probably wouldn't be worth finding out. A lot of the attractions are not very accurate. There's one where you strike a pose and you summon a superhero based on your pose. 8 out of 10 people would change their pose and summon the same superhero. Also, there's nowhere to sit. You wait in line after line and nowhere to sit. By the end, we were excited for the sitting ride. That actually was ...   \n",
       "49996                                                                                                                                                                                                                                                                                                                                                                                                                                                                                                                                                             Great ambience. Great drinks. Great food. I love this place!   \n",
       "49997                          I have been to the other Monks locations so I was excited when I heard they were coming Sun Prairie.  I was not disappointed.  We each orded something different and shared. I really liked my chicken sandwich and the fish tacos were great. My husband had a breakfast burger that while not something I would normally order, was pretty good.\\n\\nThere really aren't many places in Sun Prairie to eat besides fast food and I can see Monks being one of our favorites. I took away a star because the dining room is packed with tables,  when full it is a tight squeeze to get around.   \n",
       "49998  Don't go here.  I know you might want to try it but these good reviews are people who sadly have no taste buds. I got fries a burger and the spicy chicken. The spicy chicken which I am almost positive they drive down the street got it from McDonald's re wrapped it and gave it to me for 50 cents more.. Only McDonald's chicken is better quality.. That's right McDonald's is better which is the only time I have or will ever say that.  Their burger was flavorless and had the same consistency as burgers you find in the frozen dinner isle at Walmart. They have a lot of bells and whistles. Like wi...   \n",
       "49999  Buffet was recently open after renovation so my husband and I are thinking it should be pretty good....wrong. We arrived at 8:30 am for what we thought was a Saturday brunch offering champs, nope. Price is $21.95 but on Monday - Friday is $18.95...same food so why the increase? I can go to the Fiesta in Henderson with champs and better food for $8.99 Sat/Sun but we wanted to try something we thought was going to be an upgrade....lol what a joke. \\n\\n\\nFood: everything I tried looked and tasted like food was leftover from the day before and reheated. \\n\\nShrimps were all water logged, the c...   \n",
       "\n",
       "         review  \n",
       "0      negative  \n",
       "1      negative  \n",
       "2      negative  \n",
       "3      negative  \n",
       "4      negative  \n",
       "...         ...  \n",
       "49995  negative  \n",
       "49996  positive  \n",
       "49997  positive  \n",
       "49998  negative  \n",
       "49999  negative  \n",
       "\n",
       "[50000 rows x 3 columns]"
      ]
     },
     "execution_count": 11,
     "metadata": {},
     "output_type": "execute_result"
    }
   ],
   "source": [
    "df_valid"
   ]
  },
  {
   "cell_type": "code",
   "execution_count": 12,
   "id": "dcecfde0",
   "metadata": {
    "execution": {
     "iopub.execute_input": "2024-07-03T18:20:04.981023Z",
     "iopub.status.busy": "2024-07-03T18:20:04.980742Z",
     "iopub.status.idle": "2024-07-03T18:20:04.994146Z",
     "shell.execute_reply": "2024-07-03T18:20:04.993231Z"
    },
    "papermill": {
     "duration": 0.02808,
     "end_time": "2024-07-03T18:20:04.996050",
     "exception": false,
     "start_time": "2024-07-03T18:20:04.967970",
     "status": "completed"
    },
    "tags": []
   },
   "outputs": [
    {
     "data": {
      "text/html": [
       "<div>\n",
       "<style scoped>\n",
       "    .dataframe tbody tr th:only-of-type {\n",
       "        vertical-align: middle;\n",
       "    }\n",
       "\n",
       "    .dataframe tbody tr th {\n",
       "        vertical-align: top;\n",
       "    }\n",
       "\n",
       "    .dataframe thead th {\n",
       "        text-align: right;\n",
       "    }\n",
       "</style>\n",
       "<table border=\"1\" class=\"dataframe\">\n",
       "  <thead>\n",
       "    <tr style=\"text-align: right;\">\n",
       "      <th></th>\n",
       "      <th>text</th>\n",
       "      <th>review</th>\n",
       "    </tr>\n",
       "  </thead>\n",
       "  <tbody>\n",
       "    <tr>\n",
       "      <th>0</th>\n",
       "      <td>I got 'new' tires from them and within two weeks got a flat. I took my car to a local mechanic to see if i could get the hole patched, but they said the reason I had a flat was because the previous patch had blown - WAIT, WHAT? I just got the tire and never needed to have it patched? This was supposed to be a new tire. \\nI took the tire over to Flynn's and they told me that someone punctured my tire, then tried to patch it. So there are resentful tire slashers? I find that very unlikely. After arguing with the guy and telling him that his logic was far fetched he said he'd give me a new ti...</td>\n",
       "      <td>negative</td>\n",
       "    </tr>\n",
       "    <tr>\n",
       "      <th>1</th>\n",
       "      <td>Don't waste your time.  We had two different people come to our house to give us estimates for a deck (one of them the OWNER).  Both times, we never heard from them.  Not a call, not the estimate, nothing.</td>\n",
       "      <td>negative</td>\n",
       "    </tr>\n",
       "    <tr>\n",
       "      <th>2</th>\n",
       "      <td>All I can say is the worst! We were the only 2 people in the place for lunch, the place was freezing and loaded with kids toys! 2 bicycles, a scooter, and an electronic keyboard graced the dining room. A fish tank with filthy, slimy fingerprints smeared all over it is there for your enjoyment.\\n\\nOur food came... no water to drink, no tea, medium temperature food. Of course its cold, just like the room, I never took my jacket off! The plates are too small, you food spills over onto some semi-clean tables as you sit in your completely worn out booth seat. The fried noodles were out of a box...</td>\n",
       "      <td>negative</td>\n",
       "    </tr>\n",
       "    <tr>\n",
       "      <th>3</th>\n",
       "      <td>I have been to this restaurant twice and was disappointed both times. I won't go back. The first time we were there almost 3 hours. It took forever to order and then forever for our food to come and the place was empty. When I complained the manager was very rude and tried to blame us for taking to long to order. It made no sense, how could we order when the waitress wasn't coming to the table? After arguing with me he ended up taking $6 off of our $200+ bill. Ridiculous. If it were up to me I would have never returned. Unfortunately my family decided to go here again tonight. Again it too...</td>\n",
       "      <td>negative</td>\n",
       "    </tr>\n",
       "    <tr>\n",
       "      <th>4</th>\n",
       "      <td>Food was NOT GOOD at all! My husband &amp; I ate here a couple weeks ago for the first time. I ordered a salad &amp; basil pesto cream pasta &amp; my husband ordered the spinach &amp; feta pasta. The salad was just a huge plate of spring mix (nothing else in it) with WAY to much vinegar dressing. My lettuce was drowning in the vinegar. My pesto pasta had no flavor (did not taste like a cream sauce to me) &amp; the pesto was so runny/watery &amp; way too much sauce not enough noodles. My husband's pasta had even less flavor than mine. We ate about a quarter of the food &amp; couldn't even finish it. We took it home &amp; ...</td>\n",
       "      <td>negative</td>\n",
       "    </tr>\n",
       "  </tbody>\n",
       "</table>\n",
       "</div>"
      ],
      "text/plain": [
       "                                                                                                                                                                                                                                                                                                                                                                                                                                                                                                                                                                                                                      text  \\\n",
       "0  I got 'new' tires from them and within two weeks got a flat. I took my car to a local mechanic to see if i could get the hole patched, but they said the reason I had a flat was because the previous patch had blown - WAIT, WHAT? I just got the tire and never needed to have it patched? This was supposed to be a new tire. \\nI took the tire over to Flynn's and they told me that someone punctured my tire, then tried to patch it. So there are resentful tire slashers? I find that very unlikely. After arguing with the guy and telling him that his logic was far fetched he said he'd give me a new ti...   \n",
       "1                                                                                                                                                                                                                                                                                                                                                                                                            Don't waste your time.  We had two different people come to our house to give us estimates for a deck (one of them the OWNER).  Both times, we never heard from them.  Not a call, not the estimate, nothing.   \n",
       "2  All I can say is the worst! We were the only 2 people in the place for lunch, the place was freezing and loaded with kids toys! 2 bicycles, a scooter, and an electronic keyboard graced the dining room. A fish tank with filthy, slimy fingerprints smeared all over it is there for your enjoyment.\\n\\nOur food came... no water to drink, no tea, medium temperature food. Of course its cold, just like the room, I never took my jacket off! The plates are too small, you food spills over onto some semi-clean tables as you sit in your completely worn out booth seat. The fried noodles were out of a box...   \n",
       "3  I have been to this restaurant twice and was disappointed both times. I won't go back. The first time we were there almost 3 hours. It took forever to order and then forever for our food to come and the place was empty. When I complained the manager was very rude and tried to blame us for taking to long to order. It made no sense, how could we order when the waitress wasn't coming to the table? After arguing with me he ended up taking $6 off of our $200+ bill. Ridiculous. If it were up to me I would have never returned. Unfortunately my family decided to go here again tonight. Again it too...   \n",
       "4  Food was NOT GOOD at all! My husband & I ate here a couple weeks ago for the first time. I ordered a salad & basil pesto cream pasta & my husband ordered the spinach & feta pasta. The salad was just a huge plate of spring mix (nothing else in it) with WAY to much vinegar dressing. My lettuce was drowning in the vinegar. My pesto pasta had no flavor (did not taste like a cream sauce to me) & the pesto was so runny/watery & way too much sauce not enough noodles. My husband's pasta had even less flavor than mine. We ate about a quarter of the food & couldn't even finish it. We took it home & ...   \n",
       "\n",
       "     review  \n",
       "0  negative  \n",
       "1  negative  \n",
       "2  negative  \n",
       "3  negative  \n",
       "4  negative  "
      ]
     },
     "execution_count": 12,
     "metadata": {},
     "output_type": "execute_result"
    }
   ],
   "source": [
    "df_valid = df_valid.drop('category', axis='columns')\n",
    "df_valid.head()"
   ]
  },
  {
   "cell_type": "code",
   "execution_count": 13,
   "id": "11308740",
   "metadata": {
    "execution": {
     "iopub.execute_input": "2024-07-03T18:20:05.022440Z",
     "iopub.status.busy": "2024-07-03T18:20:05.022073Z",
     "iopub.status.idle": "2024-07-03T18:20:08.143250Z",
     "shell.execute_reply": "2024-07-03T18:20:08.142381Z"
    },
    "papermill": {
     "duration": 3.136616,
     "end_time": "2024-07-03T18:20:08.145587",
     "exception": false,
     "start_time": "2024-07-03T18:20:05.008971",
     "status": "completed"
    },
    "tags": []
   },
   "outputs": [],
   "source": [
    "yelp_lm = DataBlock(blocks=TextBlock.from_df('text', is_lm=True),\n",
    "                    get_x=ColReader('text'),\n",
    "                    splitter=RandomSplitter(valid_pct=0.1, seed=42)\n",
    ")"
   ]
  },
  {
   "cell_type": "code",
   "execution_count": 14,
   "id": "47a5bafe",
   "metadata": {
    "execution": {
     "iopub.execute_input": "2024-07-03T18:20:08.171419Z",
     "iopub.status.busy": "2024-07-03T18:20:08.170108Z",
     "iopub.status.idle": "2024-07-03T18:21:31.019680Z",
     "shell.execute_reply": "2024-07-03T18:21:31.018511Z"
    },
    "papermill": {
     "duration": 82.864694,
     "end_time": "2024-07-03T18:21:31.022126",
     "exception": false,
     "start_time": "2024-07-03T18:20:08.157432",
     "status": "completed"
    },
    "tags": []
   },
   "outputs": [
    {
     "data": {
      "text/html": [
       "\n",
       "<style>\n",
       "    /* Turns off some styling */\n",
       "    progress {\n",
       "        /* gets rid of default border in Firefox and Opera. */\n",
       "        border: none;\n",
       "        /* Needs to be in here for Safari polyfill so background images work as expected. */\n",
       "        background-size: auto;\n",
       "    }\n",
       "    progress:not([value]), progress:not([value])::-webkit-progress-bar {\n",
       "        background: repeating-linear-gradient(45deg, #7e7e7e, #7e7e7e 10px, #5c5c5c 10px, #5c5c5c 20px);\n",
       "    }\n",
       "    .progress-bar-interrupted, .progress-bar-interrupted::-webkit-progress-bar {\n",
       "        background: #F44336;\n",
       "    }\n",
       "</style>\n"
      ],
      "text/plain": [
       "<IPython.core.display.HTML object>"
      ]
     },
     "metadata": {},
     "output_type": "display_data"
    },
    {
     "data": {
      "text/html": [],
      "text/plain": [
       "<IPython.core.display.HTML object>"
      ]
     },
     "metadata": {},
     "output_type": "display_data"
    }
   ],
   "source": [
    "dls = yelp_lm.dataloaders(df_valid, bs=64, seq_len=72)"
   ]
  },
  {
   "cell_type": "code",
   "execution_count": 15,
   "id": "19c8c210",
   "metadata": {
    "execution": {
     "iopub.execute_input": "2024-07-03T18:21:31.047043Z",
     "iopub.status.busy": "2024-07-03T18:21:31.046707Z",
     "iopub.status.idle": "2024-07-03T18:21:31.485382Z",
     "shell.execute_reply": "2024-07-03T18:21:31.484427Z"
    },
    "papermill": {
     "duration": 0.453982,
     "end_time": "2024-07-03T18:21:31.487864",
     "exception": false,
     "start_time": "2024-07-03T18:21:31.033882",
     "status": "completed"
    },
    "tags": []
   },
   "outputs": [
    {
     "data": {
      "text/html": [
       "<table border=\"1\" class=\"dataframe\">\n",
       "  <thead>\n",
       "    <tr style=\"text-align: right;\">\n",
       "      <th></th>\n",
       "      <th>text</th>\n",
       "      <th>text_</th>\n",
       "    </tr>\n",
       "  </thead>\n",
       "  <tbody>\n",
       "    <tr>\n",
       "      <th>0</th>\n",
       "      <td>xxbos xxmaj go no farther than the xxmaj seabass ! xxmaj miso glazed to perfection ! xxmaj we are so addicted to this dish we always order it , and let our 2nd dish be whatever … xxmaj crunchy xxmaj spicy xxmaj yellowtail is one of the best rolls in town , often we come just for a quick nibble of that . xxmaj be sure to make a reservation ! xxbos</td>\n",
       "      <td>xxmaj go no farther than the xxmaj seabass ! xxmaj miso glazed to perfection ! xxmaj we are so addicted to this dish we always order it , and let our 2nd dish be whatever … xxmaj crunchy xxmaj spicy xxmaj yellowtail is one of the best rolls in town , often we come just for a quick nibble of that . xxmaj be sure to make a reservation ! xxbos i</td>\n",
       "    </tr>\n",
       "    <tr>\n",
       "      <th>1</th>\n",
       "      <td>longer endorse either this gym or the parent company , simply because of their insistence that i pay for something i was never aware of being liable for . xxbos i have never felt so welcome and comfortable at a dentist office . xxmaj the scheduling was efficient and they had all my insurance information ready as soon as i walked in . xxmaj the office is all digital so i did</td>\n",
       "      <td>endorse either this gym or the parent company , simply because of their insistence that i pay for something i was never aware of being liable for . xxbos i have never felt so welcome and comfortable at a dentist office . xxmaj the scheduling was efficient and they had all my insurance information ready as soon as i walked in . xxmaj the office is all digital so i did n't</td>\n",
       "    </tr>\n",
       "    <tr>\n",
       "      <th>2</th>\n",
       "      <td>filing this complaint . xxmaj initially , they allowed me to file a complaint and i got a report number . xxmaj then they said call the xxup risk xxup management office ( which i do n't think exists ! ! ) to follow up . i have called the office xxup every xxup single day and xxup every xxup single time it goes to voice mail , saying they are busy</td>\n",
       "      <td>this complaint . xxmaj initially , they allowed me to file a complaint and i got a report number . xxmaj then they said call the xxup risk xxup management office ( which i do n't think exists ! ! ) to follow up . i have called the office xxup every xxup single day and xxup every xxup single time it goes to voice mail , saying they are busy or</td>\n",
       "    </tr>\n",
       "    <tr>\n",
       "      <th>3</th>\n",
       "      <td>3 ! xxbos xxmaj food was good , but did not match the menu description , and the service was the worst i have ever had . \\n\\n xxmaj after being seated about 7:30 p.m. we were given water and menus right away , and that 's where anything i could call service ended . 20 or 25 minutes passed , and someone in our group had to hail down the server</td>\n",
       "      <td>! xxbos xxmaj food was good , but did not match the menu description , and the service was the worst i have ever had . \\n\\n xxmaj after being seated about 7:30 p.m. we were given water and menus right away , and that 's where anything i could call service ended . 20 or 25 minutes passed , and someone in our group had to hail down the server to</td>\n",
       "    </tr>\n",
       "    <tr>\n",
       "      <th>4</th>\n",
       "      <td>this the best you can do ! \\n\\n a smattering of brightly coloured seating and … .well actually there 's nothing else , failed to provide any form of long awaited result . \\n\\n i use the caf \\ u00e9 because it 's the only option when you 're milling about the library but other than that i would firmly avoid it . a shambles . xxbos i know it 's busy</td>\n",
       "      <td>the best you can do ! \\n\\n a smattering of brightly coloured seating and … .well actually there 's nothing else , failed to provide any form of long awaited result . \\n\\n i use the caf \\ u00e9 because it 's the only option when you 're milling about the library but other than that i would firmly avoid it . a shambles . xxbos i know it 's busy here</td>\n",
       "    </tr>\n",
       "  </tbody>\n",
       "</table>"
      ],
      "text/plain": [
       "<IPython.core.display.HTML object>"
      ]
     },
     "metadata": {},
     "output_type": "display_data"
    }
   ],
   "source": [
    "dls.show_batch(max_n=5)"
   ]
  },
  {
   "cell_type": "code",
   "execution_count": 16,
   "id": "cbefaa0c",
   "metadata": {
    "execution": {
     "iopub.execute_input": "2024-07-03T18:21:31.512748Z",
     "iopub.status.busy": "2024-07-03T18:21:31.512418Z",
     "iopub.status.idle": "2024-07-03T18:21:55.628929Z",
     "shell.execute_reply": "2024-07-03T18:21:55.628066Z"
    },
    "papermill": {
     "duration": 24.131633,
     "end_time": "2024-07-03T18:21:55.631320",
     "exception": false,
     "start_time": "2024-07-03T18:21:31.499687",
     "status": "completed"
    },
    "tags": []
   },
   "outputs": [
    {
     "data": {
      "text/html": [
       "\n",
       "<style>\n",
       "    /* Turns off some styling */\n",
       "    progress {\n",
       "        /* gets rid of default border in Firefox and Opera. */\n",
       "        border: none;\n",
       "        /* Needs to be in here for Safari polyfill so background images work as expected. */\n",
       "        background-size: auto;\n",
       "    }\n",
       "    progress:not([value]), progress:not([value])::-webkit-progress-bar {\n",
       "        background: repeating-linear-gradient(45deg, #7e7e7e, #7e7e7e 10px, #5c5c5c 10px, #5c5c5c 20px);\n",
       "    }\n",
       "    .progress-bar-interrupted, .progress-bar-interrupted::-webkit-progress-bar {\n",
       "        background: #F44336;\n",
       "    }\n",
       "</style>\n"
      ],
      "text/plain": [
       "<IPython.core.display.HTML object>"
      ]
     },
     "metadata": {},
     "output_type": "display_data"
    },
    {
     "data": {
      "text/html": [
       "\n",
       "    <div>\n",
       "      <progress value='105070592' class='' max='105067061' style='width:300px; height:20px; vertical-align: middle;'></progress>\n",
       "      100.00% [105070592/105067061 00:20&lt;00:00]\n",
       "    </div>\n",
       "    "
      ],
      "text/plain": [
       "<IPython.core.display.HTML object>"
      ]
     },
     "metadata": {},
     "output_type": "display_data"
    }
   ],
   "source": [
    "learn = language_model_learner(\n",
    "    dls, AWD_LSTM, drop_mult=0.3,\n",
    "    metrics=[accuracy, Perplexity()]).to_fp16()"
   ]
  },
  {
   "cell_type": "code",
   "execution_count": 17,
   "id": "e4c5f719",
   "metadata": {
    "execution": {
     "iopub.execute_input": "2024-07-03T18:21:55.657541Z",
     "iopub.status.busy": "2024-07-03T18:21:55.656725Z",
     "iopub.status.idle": "2024-07-03T18:29:37.915725Z",
     "shell.execute_reply": "2024-07-03T18:29:37.914675Z"
    },
    "papermill": {
     "duration": 462.274219,
     "end_time": "2024-07-03T18:29:37.917904",
     "exception": false,
     "start_time": "2024-07-03T18:21:55.643685",
     "status": "completed"
    },
    "tags": []
   },
   "outputs": [
    {
     "data": {
      "text/html": [
       "\n",
       "<style>\n",
       "    /* Turns off some styling */\n",
       "    progress {\n",
       "        /* gets rid of default border in Firefox and Opera. */\n",
       "        border: none;\n",
       "        /* Needs to be in here for Safari polyfill so background images work as expected. */\n",
       "        background-size: auto;\n",
       "    }\n",
       "    progress:not([value]), progress:not([value])::-webkit-progress-bar {\n",
       "        background: repeating-linear-gradient(45deg, #7e7e7e, #7e7e7e 10px, #5c5c5c 10px, #5c5c5c 20px);\n",
       "    }\n",
       "    .progress-bar-interrupted, .progress-bar-interrupted::-webkit-progress-bar {\n",
       "        background: #F44336;\n",
       "    }\n",
       "</style>\n"
      ],
      "text/plain": [
       "<IPython.core.display.HTML object>"
      ]
     },
     "metadata": {},
     "output_type": "display_data"
    },
    {
     "data": {
      "text/html": [
       "<table border=\"1\" class=\"dataframe\">\n",
       "  <thead>\n",
       "    <tr style=\"text-align: left;\">\n",
       "      <th>epoch</th>\n",
       "      <th>train_loss</th>\n",
       "      <th>valid_loss</th>\n",
       "      <th>accuracy</th>\n",
       "      <th>perplexity</th>\n",
       "      <th>time</th>\n",
       "    </tr>\n",
       "  </thead>\n",
       "  <tbody>\n",
       "    <tr>\n",
       "      <td>0</td>\n",
       "      <td>3.904366</td>\n",
       "      <td>3.797254</td>\n",
       "      <td>0.290630</td>\n",
       "      <td>44.578617</td>\n",
       "      <td>07:42</td>\n",
       "    </tr>\n",
       "  </tbody>\n",
       "</table>"
      ],
      "text/plain": [
       "<IPython.core.display.HTML object>"
      ]
     },
     "metadata": {},
     "output_type": "display_data"
    }
   ],
   "source": [
    "learn.fit_one_cycle(1, 2e-2)"
   ]
  },
  {
   "cell_type": "code",
   "execution_count": 18,
   "id": "f7f1b1f2",
   "metadata": {
    "execution": {
     "iopub.execute_input": "2024-07-03T18:29:37.944532Z",
     "iopub.status.busy": "2024-07-03T18:29:37.944138Z",
     "iopub.status.idle": "2024-07-03T18:29:38.370875Z",
     "shell.execute_reply": "2024-07-03T18:29:38.369837Z"
    },
    "papermill": {
     "duration": 0.442747,
     "end_time": "2024-07-03T18:29:38.373086",
     "exception": false,
     "start_time": "2024-07-03T18:29:37.930339",
     "status": "completed"
    },
    "tags": []
   },
   "outputs": [
    {
     "data": {
      "text/plain": [
       "Path('models/1epoch.pth')"
      ]
     },
     "execution_count": 18,
     "metadata": {},
     "output_type": "execute_result"
    }
   ],
   "source": [
    "learn.save('1epoch')"
   ]
  },
  {
   "cell_type": "code",
   "execution_count": 19,
   "id": "c5afb545",
   "metadata": {
    "execution": {
     "iopub.execute_input": "2024-07-03T18:29:38.400036Z",
     "iopub.status.busy": "2024-07-03T18:29:38.399714Z",
     "iopub.status.idle": "2024-07-03T18:29:38.562695Z",
     "shell.execute_reply": "2024-07-03T18:29:38.561834Z"
    },
    "papermill": {
     "duration": 0.179219,
     "end_time": "2024-07-03T18:29:38.565118",
     "exception": false,
     "start_time": "2024-07-03T18:29:38.385899",
     "status": "completed"
    },
    "tags": []
   },
   "outputs": [],
   "source": [
    "learn = learn.load('1epoch')"
   ]
  },
  {
   "cell_type": "code",
   "execution_count": 20,
   "id": "2a785e85",
   "metadata": {
    "execution": {
     "iopub.execute_input": "2024-07-03T18:29:38.592048Z",
     "iopub.status.busy": "2024-07-03T18:29:38.591683Z",
     "iopub.status.idle": "2024-07-03T19:28:50.240279Z",
     "shell.execute_reply": "2024-07-03T19:28:50.239253Z"
    },
    "papermill": {
     "duration": 3551.664624,
     "end_time": "2024-07-03T19:28:50.242469",
     "exception": false,
     "start_time": "2024-07-03T18:29:38.577845",
     "status": "completed"
    },
    "tags": []
   },
   "outputs": [
    {
     "data": {
      "text/html": [
       "\n",
       "<style>\n",
       "    /* Turns off some styling */\n",
       "    progress {\n",
       "        /* gets rid of default border in Firefox and Opera. */\n",
       "        border: none;\n",
       "        /* Needs to be in here for Safari polyfill so background images work as expected. */\n",
       "        background-size: auto;\n",
       "    }\n",
       "    progress:not([value]), progress:not([value])::-webkit-progress-bar {\n",
       "        background: repeating-linear-gradient(45deg, #7e7e7e, #7e7e7e 10px, #5c5c5c 10px, #5c5c5c 20px);\n",
       "    }\n",
       "    .progress-bar-interrupted, .progress-bar-interrupted::-webkit-progress-bar {\n",
       "        background: #F44336;\n",
       "    }\n",
       "</style>\n"
      ],
      "text/plain": [
       "<IPython.core.display.HTML object>"
      ]
     },
     "metadata": {},
     "output_type": "display_data"
    },
    {
     "data": {
      "text/html": [
       "<table border=\"1\" class=\"dataframe\">\n",
       "  <thead>\n",
       "    <tr style=\"text-align: left;\">\n",
       "      <th>epoch</th>\n",
       "      <th>train_loss</th>\n",
       "      <th>valid_loss</th>\n",
       "      <th>accuracy</th>\n",
       "      <th>perplexity</th>\n",
       "      <th>time</th>\n",
       "    </tr>\n",
       "  </thead>\n",
       "  <tbody>\n",
       "    <tr>\n",
       "      <td>0</td>\n",
       "      <td>3.622450</td>\n",
       "      <td>3.653467</td>\n",
       "      <td>0.306622</td>\n",
       "      <td>38.608288</td>\n",
       "      <td>08:26</td>\n",
       "    </tr>\n",
       "    <tr>\n",
       "      <td>1</td>\n",
       "      <td>3.550436</td>\n",
       "      <td>3.575978</td>\n",
       "      <td>0.316093</td>\n",
       "      <td>35.729530</td>\n",
       "      <td>08:25</td>\n",
       "    </tr>\n",
       "    <tr>\n",
       "      <td>2</td>\n",
       "      <td>3.438738</td>\n",
       "      <td>3.516559</td>\n",
       "      <td>0.322993</td>\n",
       "      <td>33.668381</td>\n",
       "      <td>08:28</td>\n",
       "    </tr>\n",
       "    <tr>\n",
       "      <td>3</td>\n",
       "      <td>3.290211</td>\n",
       "      <td>3.491909</td>\n",
       "      <td>0.326592</td>\n",
       "      <td>32.848587</td>\n",
       "      <td>08:29</td>\n",
       "    </tr>\n",
       "    <tr>\n",
       "      <td>4</td>\n",
       "      <td>3.144015</td>\n",
       "      <td>3.492723</td>\n",
       "      <td>0.328410</td>\n",
       "      <td>32.875362</td>\n",
       "      <td>08:28</td>\n",
       "    </tr>\n",
       "    <tr>\n",
       "      <td>5</td>\n",
       "      <td>3.005194</td>\n",
       "      <td>3.514975</td>\n",
       "      <td>0.328194</td>\n",
       "      <td>33.615082</td>\n",
       "      <td>08:24</td>\n",
       "    </tr>\n",
       "    <tr>\n",
       "      <td>6</td>\n",
       "      <td>2.908329</td>\n",
       "      <td>3.536575</td>\n",
       "      <td>0.327089</td>\n",
       "      <td>34.349083</td>\n",
       "      <td>08:27</td>\n",
       "    </tr>\n",
       "  </tbody>\n",
       "</table>"
      ],
      "text/plain": [
       "<IPython.core.display.HTML object>"
      ]
     },
     "metadata": {},
     "output_type": "display_data"
    }
   ],
   "source": [
    "learn.unfreeze()\n",
    "learn.fit_one_cycle(7, 2e-3)"
   ]
  },
  {
   "cell_type": "code",
   "execution_count": 21,
   "id": "2248c4da",
   "metadata": {
    "execution": {
     "iopub.execute_input": "2024-07-03T19:28:50.271145Z",
     "iopub.status.busy": "2024-07-03T19:28:50.270454Z",
     "iopub.status.idle": "2024-07-03T19:28:50.495246Z",
     "shell.execute_reply": "2024-07-03T19:28:50.494423Z"
    },
    "papermill": {
     "duration": 0.241333,
     "end_time": "2024-07-03T19:28:50.497705",
     "exception": false,
     "start_time": "2024-07-03T19:28:50.256372",
     "status": "completed"
    },
    "tags": []
   },
   "outputs": [],
   "source": [
    "learn.save_encoder('finetuned')"
   ]
  },
  {
   "cell_type": "code",
   "execution_count": 22,
   "id": "e7b5d05d",
   "metadata": {
    "execution": {
     "iopub.execute_input": "2024-07-03T19:28:50.524927Z",
     "iopub.status.busy": "2024-07-03T19:28:50.524634Z",
     "iopub.status.idle": "2024-07-03T19:28:52.568117Z",
     "shell.execute_reply": "2024-07-03T19:28:52.567315Z"
    },
    "papermill": {
     "duration": 2.059339,
     "end_time": "2024-07-03T19:28:52.570334",
     "exception": false,
     "start_time": "2024-07-03T19:28:50.510995",
     "status": "completed"
    },
    "tags": []
   },
   "outputs": [
    {
     "data": {
      "text/html": [
       "\n",
       "<style>\n",
       "    /* Turns off some styling */\n",
       "    progress {\n",
       "        /* gets rid of default border in Firefox and Opera. */\n",
       "        border: none;\n",
       "        /* Needs to be in here for Safari polyfill so background images work as expected. */\n",
       "        background-size: auto;\n",
       "    }\n",
       "    progress:not([value]), progress:not([value])::-webkit-progress-bar {\n",
       "        background: repeating-linear-gradient(45deg, #7e7e7e, #7e7e7e 10px, #5c5c5c 10px, #5c5c5c 20px);\n",
       "    }\n",
       "    .progress-bar-interrupted, .progress-bar-interrupted::-webkit-progress-bar {\n",
       "        background: #F44336;\n",
       "    }\n",
       "</style>\n"
      ],
      "text/plain": [
       "<IPython.core.display.HTML object>"
      ]
     },
     "metadata": {},
     "output_type": "display_data"
    },
    {
     "data": {
      "text/html": [],
      "text/plain": [
       "<IPython.core.display.HTML object>"
      ]
     },
     "metadata": {},
     "output_type": "display_data"
    },
    {
     "data": {
      "text/html": [
       "\n",
       "<style>\n",
       "    /* Turns off some styling */\n",
       "    progress {\n",
       "        /* gets rid of default border in Firefox and Opera. */\n",
       "        border: none;\n",
       "        /* Needs to be in here for Safari polyfill so background images work as expected. */\n",
       "        background-size: auto;\n",
       "    }\n",
       "    progress:not([value]), progress:not([value])::-webkit-progress-bar {\n",
       "        background: repeating-linear-gradient(45deg, #7e7e7e, #7e7e7e 10px, #5c5c5c 10px, #5c5c5c 20px);\n",
       "    }\n",
       "    .progress-bar-interrupted, .progress-bar-interrupted::-webkit-progress-bar {\n",
       "        background: #F44336;\n",
       "    }\n",
       "</style>\n"
      ],
      "text/plain": [
       "<IPython.core.display.HTML object>"
      ]
     },
     "metadata": {},
     "output_type": "display_data"
    },
    {
     "data": {
      "text/html": [],
      "text/plain": [
       "<IPython.core.display.HTML object>"
      ]
     },
     "metadata": {},
     "output_type": "display_data"
    },
    {
     "data": {
      "text/html": [
       "\n",
       "<style>\n",
       "    /* Turns off some styling */\n",
       "    progress {\n",
       "        /* gets rid of default border in Firefox and Opera. */\n",
       "        border: none;\n",
       "        /* Needs to be in here for Safari polyfill so background images work as expected. */\n",
       "        background-size: auto;\n",
       "    }\n",
       "    progress:not([value]), progress:not([value])::-webkit-progress-bar {\n",
       "        background: repeating-linear-gradient(45deg, #7e7e7e, #7e7e7e 10px, #5c5c5c 10px, #5c5c5c 20px);\n",
       "    }\n",
       "    .progress-bar-interrupted, .progress-bar-interrupted::-webkit-progress-bar {\n",
       "        background: #F44336;\n",
       "    }\n",
       "</style>\n"
      ],
      "text/plain": [
       "<IPython.core.display.HTML object>"
      ]
     },
     "metadata": {},
     "output_type": "display_data"
    },
    {
     "data": {
      "text/html": [],
      "text/plain": [
       "<IPython.core.display.HTML object>"
      ]
     },
     "metadata": {},
     "output_type": "display_data"
    },
    {
     "data": {
      "text/html": [
       "\n",
       "<style>\n",
       "    /* Turns off some styling */\n",
       "    progress {\n",
       "        /* gets rid of default border in Firefox and Opera. */\n",
       "        border: none;\n",
       "        /* Needs to be in here for Safari polyfill so background images work as expected. */\n",
       "        background-size: auto;\n",
       "    }\n",
       "    progress:not([value]), progress:not([value])::-webkit-progress-bar {\n",
       "        background: repeating-linear-gradient(45deg, #7e7e7e, #7e7e7e 10px, #5c5c5c 10px, #5c5c5c 20px);\n",
       "    }\n",
       "    .progress-bar-interrupted, .progress-bar-interrupted::-webkit-progress-bar {\n",
       "        background: #F44336;\n",
       "    }\n",
       "</style>\n"
      ],
      "text/plain": [
       "<IPython.core.display.HTML object>"
      ]
     },
     "metadata": {},
     "output_type": "display_data"
    },
    {
     "data": {
      "text/html": [],
      "text/plain": [
       "<IPython.core.display.HTML object>"
      ]
     },
     "metadata": {},
     "output_type": "display_data"
    }
   ],
   "source": [
    "TEXT = \"I liked this meal because\"\n",
    "N_WORDS = 40\n",
    "N_SENTENCES = 4\n",
    "preds = [learn.predict(TEXT, N_WORDS, temperature=0.75) \n",
    "         for _ in range(N_SENTENCES)]"
   ]
  },
  {
   "cell_type": "code",
   "execution_count": 23,
   "id": "8101b914",
   "metadata": {
    "execution": {
     "iopub.execute_input": "2024-07-03T19:28:52.600982Z",
     "iopub.status.busy": "2024-07-03T19:28:52.600366Z",
     "iopub.status.idle": "2024-07-03T19:28:52.605392Z",
     "shell.execute_reply": "2024-07-03T19:28:52.604461Z"
    },
    "papermill": {
     "duration": 0.022262,
     "end_time": "2024-07-03T19:28:52.607569",
     "exception": false,
     "start_time": "2024-07-03T19:28:52.585307",
     "status": "completed"
    },
    "tags": []
   },
   "outputs": [
    {
     "name": "stdout",
     "output_type": "stream",
     "text": [
      "i liked this meal because i was really looking forward to it . My husband and i shared a savory crepe with sausage and goat cheese . It was very delicious . The goat cheese salad was also very good . \n",
      "\n",
      "\n",
      "i liked this meal because we were heading up to Vegas for a convention at the hotel . The suite was small and tiny , but the bed was comfy . The hotel is beautiful , but it is n't as luxurious\n",
      "i liked this meal because it was fantastic . The bartender was more than willing to give her a good shot of Riesling . i love wine and the wine list is quite extensive . The menu is large . i had\n",
      "i liked this meal because of the waiter . Maybe he 's the manager but his service was terrible . The food was ok but the service was absolutely horrible . We stopped in for some takeout on a Sunday\n"
     ]
    }
   ],
   "source": [
    "print(\"\\n\".join(preds))"
   ]
  },
  {
   "cell_type": "code",
   "execution_count": 24,
   "id": "a7a6521e",
   "metadata": {
    "execution": {
     "iopub.execute_input": "2024-07-03T19:28:52.637623Z",
     "iopub.status.busy": "2024-07-03T19:28:52.637329Z",
     "iopub.status.idle": "2024-07-03T19:28:52.923178Z",
     "shell.execute_reply": "2024-07-03T19:28:52.922355Z"
    },
    "papermill": {
     "duration": 0.30363,
     "end_time": "2024-07-03T19:28:52.925497",
     "exception": false,
     "start_time": "2024-07-03T19:28:52.621867",
     "status": "completed"
    },
    "tags": []
   },
   "outputs": [],
   "source": [
    "yelp_clas = DataBlock(blocks=(TextBlock.from_df('text', seq_len=72, vocab=dls.vocab), CategoryBlock),\n",
    "                      get_x=ColReader('text'),\n",
    "                      get_y=ColReader('review'),\n",
    "                      splitter=RandomSplitter(valid_pct=0.1, seed=42))"
   ]
  },
  {
   "cell_type": "code",
   "execution_count": 25,
   "id": "7e5d81e1",
   "metadata": {
    "execution": {
     "iopub.execute_input": "2024-07-03T19:28:52.955305Z",
     "iopub.status.busy": "2024-07-03T19:28:52.954985Z",
     "iopub.status.idle": "2024-07-03T19:30:21.653956Z",
     "shell.execute_reply": "2024-07-03T19:30:21.653076Z"
    },
    "papermill": {
     "duration": 88.716579,
     "end_time": "2024-07-03T19:30:21.656367",
     "exception": false,
     "start_time": "2024-07-03T19:28:52.939788",
     "status": "completed"
    },
    "tags": []
   },
   "outputs": [
    {
     "data": {
      "text/html": [
       "\n",
       "<style>\n",
       "    /* Turns off some styling */\n",
       "    progress {\n",
       "        /* gets rid of default border in Firefox and Opera. */\n",
       "        border: none;\n",
       "        /* Needs to be in here for Safari polyfill so background images work as expected. */\n",
       "        background-size: auto;\n",
       "    }\n",
       "    progress:not([value]), progress:not([value])::-webkit-progress-bar {\n",
       "        background: repeating-linear-gradient(45deg, #7e7e7e, #7e7e7e 10px, #5c5c5c 10px, #5c5c5c 20px);\n",
       "    }\n",
       "    .progress-bar-interrupted, .progress-bar-interrupted::-webkit-progress-bar {\n",
       "        background: #F44336;\n",
       "    }\n",
       "</style>\n"
      ],
      "text/plain": [
       "<IPython.core.display.HTML object>"
      ]
     },
     "metadata": {},
     "output_type": "display_data"
    },
    {
     "data": {
      "text/html": [],
      "text/plain": [
       "<IPython.core.display.HTML object>"
      ]
     },
     "metadata": {},
     "output_type": "display_data"
    }
   ],
   "source": [
    "dls_clas = yelp_clas.dataloaders(df_valid, bs=64)"
   ]
  },
  {
   "cell_type": "code",
   "execution_count": 26,
   "id": "b8eee31b",
   "metadata": {
    "execution": {
     "iopub.execute_input": "2024-07-03T19:30:21.687258Z",
     "iopub.status.busy": "2024-07-03T19:30:21.686664Z",
     "iopub.status.idle": "2024-07-03T19:30:22.104827Z",
     "shell.execute_reply": "2024-07-03T19:30:22.103925Z"
    },
    "papermill": {
     "duration": 0.435841,
     "end_time": "2024-07-03T19:30:22.107033",
     "exception": false,
     "start_time": "2024-07-03T19:30:21.671192",
     "status": "completed"
    },
    "tags": []
   },
   "outputs": [
    {
     "data": {
      "text/html": [
       "<table border=\"1\" class=\"dataframe\">\n",
       "  <thead>\n",
       "    <tr style=\"text-align: right;\">\n",
       "      <th></th>\n",
       "      <th>text</th>\n",
       "      <th>category</th>\n",
       "    </tr>\n",
       "  </thead>\n",
       "  <tbody>\n",
       "    <tr>\n",
       "      <th>0</th>\n",
       "      <td>xxbos xxmaj our xxmaj coldwell xxmaj realtor , xxmaj jazmin xxmaj xxunk , was wildly inexperienced and completely wasted our time and money spent on a trip to xxmaj vegas ( $ 700 trip for me , $ 600 trip for my father ) to look at properties . i own four properties ; two in xxmaj california , one in xxmaj hawaii and one in xxmaj las xxmaj vegas … xxmaj i 've worked with many , many realtors and , to date , xxmaj i 've never seen one so utterly incompetent - like , how in the world is she even in this business , she was so bad . xxmaj it was like someone \" playing \" or \" pretending \" to be a realtor for a day . \\n\\n xxmaj long story short ; \\n\\n xxmaj my parents are / were looking for a condo</td>\n",
       "      <td>negative</td>\n",
       "    </tr>\n",
       "    <tr>\n",
       "      <th>1</th>\n",
       "      <td>xxbos xxmaj ok … so last year ( 2009 ) was the first time we stayed in an all suite , casino / smoke free type of hotel . xxmaj we stayed at the xxmaj trump which i have to say was very impressive . xxmaj unfortunately , once you try these \" type \" of hotels , you never want to go back to the norm . \\n\\n xxmaj so this year we tried another . xxmaj after reading other reviews i anticipated the xxmaj signature to be the \" cream of the crop \" . i booked our 1 bedroom suite back in xxmaj march ( 2010 ) and got a sweet deal through the xxmaj signature xxup mgm xxmaj grand website . xxmaj after registering with the site i started receiving additional offers which i took advantage of in xxmaj may . i was taking my fianc</td>\n",
       "      <td>positive</td>\n",
       "    </tr>\n",
       "    <tr>\n",
       "      <th>2</th>\n",
       "      <td>xxbos xxmaj mochi wrapped in bacon ? xxmaj asparagus wrapped in bacon ? ! xxmaj salmon mozzarella tempura , oh my ! \\n\\n xxmaj this place has a lot of food that boggles your mind . xxmaj be adventurous and order off the items on the wall . xxmaj this is the kind of stuff you see on xxmaj iron xxmaj chef . xxup but , execution of many the dishes are far from xxmaj iron xxmaj chef caliber . \\n\\n xxmaj our group ordered a lot and i still do n't remember everything i ate . \\n\\n * xxmaj deep xxmaj fried xxmaj prawns - xxmaj the prawns are not the jumbo shrimp that many people are use to , but the small size everyone refers to as shrimp . xxmaj even then it was n't deep fried enough where you can eat the entire shrimp as a whole</td>\n",
       "      <td>positive</td>\n",
       "    </tr>\n",
       "    <tr>\n",
       "      <th>3</th>\n",
       "      <td>xxbos xxmaj communication prior to wedding was really great ; i knew what i wanted and expressed spec . styles , was reassured it could be done . \\n\\n xxmaj me , my mom &amp; my mother - in - law had hair &amp; makeup done by them . \\n\\n xxmaj they were prompt . xxmaj literally at xxunk xxup am the doorbell rang . i had makeup done by xxmaj celina &amp; hair by xxmaj courtney . i had my m / u done first . i showed her various pictures of what i was looking for and did nt look like any of the sample pictures , nor did i like my look at all . i did n't get a good look at myself because right after she finished , i went to the hair chair . xxmaj it was only until after that i noticed that</td>\n",
       "      <td>positive</td>\n",
       "    </tr>\n",
       "    <tr>\n",
       "      <th>4</th>\n",
       "      <td>xxbos 7 / 4 / 12 \\n\\n xxmaj i 'd visited a few years ago , but it was too busy , and i did n't have time to wait 30 to 45 minutes to be seated , so i left . xxmaj i 've had xxup ck bookmarked to try since . xxmaj when i heard word that xxup ck was offering a xxmaj fourth of xxmaj july special ( buy one entree , get the second for $ 4 ) , i thought it was time to see what all the fuzz was about . \\n\\n xxmaj two weeks beforehand , i made plans with a cousin to have lunch here on the 4th . xxmaj what a surprise to find out that xxup ck was serving brunch , as well , and we breakfast lovers were thrilled to check out the breakfast items . xxmaj while our</td>\n",
       "      <td>positive</td>\n",
       "    </tr>\n",
       "    <tr>\n",
       "      <th>5</th>\n",
       "      <td>xxbos xxmaj downtown xxmaj mesa is n't normally known for higher quality food or destination restaurants , but xxmaj il xxmaj vinaio is looking to buck that trend . xxmaj it does n't look like much from the outside and resides in an older building which resembles a diner built circa xxunk . xxmaj inside , however , is a whole different story . \\n\\n xxmaj the restaurant has a large area in the middle that is mainly open and provides room for the live music . xxmaj the upper part of the central area has wine related quotes on the walls . xxmaj it 's a nice touch and it adds some xxunk to the layout . xxmaj on either side of this central area is more seating . xxmaj the tables are cozy and some even have small loveseat - like benched pulled up to them on one</td>\n",
       "      <td>positive</td>\n",
       "    </tr>\n",
       "    <tr>\n",
       "      <th>6</th>\n",
       "      <td>xxbos i play squash xxunk 's , a sport favored by the east coast \" elites \" from them xxmaj ivy xxmaj league schools , those snooty xxmaj xxunk and the xxmaj pakistani leisure class :) \\n\\n xxmaj why they let me play , xxmaj i 'll never know :) \\n\\n xxmaj last evening , we had a little tourney in which a group of us from the xxmaj village traveled to the outer reaches of xxmaj tempe to play a group from xxmaj lifetime xxmaj fitness :) \\n\\n xxmaj it was a jolly good , show , ever so much fun and our xxmaj village group gave the xxmaj lifetime group a bit of a \" xxunk \" :) \\n\\n xxmaj so it was with happy hearts and high spirits that we headed down the street to the post tourney repast at xxmaj skip &amp; xxmaj jan 's …</td>\n",
       "      <td>negative</td>\n",
       "    </tr>\n",
       "    <tr>\n",
       "      <th>7</th>\n",
       "      <td>xxbos i give it a 1 for location because i have to . xxmaj i 've been here less than a month and everything xxmaj i 've read , xxmaj i 've experienced so far . xxmaj car window smashed the first week . xxmaj fire alarms went off for an hour tonight . xxmaj i 've seen 1 cockroach in bathtub . xxmaj my car was backed into and dented . xxmaj this is a great area but not a great place to live . i unfortunately moved here sight unseen as i was xxunk reassured by the staff ( alex ) that these complaints were n't true . xxmaj they 've all happened to me so far . xxmaj only 12 months to go , joy . xxmaj positives : nice pool , above average fitness facility for an apartment community and some good people . xxmaj live</td>\n",
       "      <td>negative</td>\n",
       "    </tr>\n",
       "    <tr>\n",
       "      <th>8</th>\n",
       "      <td>xxbos xxmaj hello to all my fellow foodies :) \\n\\n xxmaj here it is 2 years after my first experience and for some odd reason i chose to celebrate my birthday again at xxmaj salt xxmaj cellar . i was really craving some seafood and at the time i forgotten just how poor the first experience was … .so … . a group of us met at the tiny overcrowded bar area . \\n\\n xxmaj we were allowed to bring our appetizers to the table and still pay the \" happy hour \" prices … i though this was decent of them . \\n\\n i was craving scallops and asked more than once if scallops were in season , as i know there are certain times of the year when such items are \" in season \" therefore providing a fresher delicacy . \\n\\n xxmaj the one thing i really</td>\n",
       "      <td>negative</td>\n",
       "    </tr>\n",
       "  </tbody>\n",
       "</table>"
      ],
      "text/plain": [
       "<IPython.core.display.HTML object>"
      ]
     },
     "metadata": {},
     "output_type": "display_data"
    }
   ],
   "source": [
    "dls_clas.show_batch()"
   ]
  },
  {
   "cell_type": "code",
   "execution_count": 27,
   "id": "78ca419d",
   "metadata": {
    "execution": {
     "iopub.execute_input": "2024-07-03T19:30:22.138587Z",
     "iopub.status.busy": "2024-07-03T19:30:22.137956Z",
     "iopub.status.idle": "2024-07-03T19:30:23.205029Z",
     "shell.execute_reply": "2024-07-03T19:30:23.204023Z"
    },
    "papermill": {
     "duration": 1.085728,
     "end_time": "2024-07-03T19:30:23.207523",
     "exception": false,
     "start_time": "2024-07-03T19:30:22.121795",
     "status": "completed"
    },
    "tags": []
   },
   "outputs": [],
   "source": [
    "learn = text_classifier_learner(dls_clas, AWD_LSTM, drop_mult=0.5, \n",
    "                                metrics=accuracy).to_fp16()"
   ]
  },
  {
   "cell_type": "code",
   "execution_count": 28,
   "id": "355a9f53",
   "metadata": {
    "execution": {
     "iopub.execute_input": "2024-07-03T19:30:23.238901Z",
     "iopub.status.busy": "2024-07-03T19:30:23.238521Z",
     "iopub.status.idle": "2024-07-03T19:30:23.358998Z",
     "shell.execute_reply": "2024-07-03T19:30:23.358204Z"
    },
    "papermill": {
     "duration": 0.138805,
     "end_time": "2024-07-03T19:30:23.361334",
     "exception": false,
     "start_time": "2024-07-03T19:30:23.222529",
     "status": "completed"
    },
    "tags": []
   },
   "outputs": [],
   "source": [
    "learn = learn.load_encoder('finetuned')"
   ]
  },
  {
   "cell_type": "code",
   "execution_count": 29,
   "id": "4df199bc",
   "metadata": {
    "execution": {
     "iopub.execute_input": "2024-07-03T19:30:23.393316Z",
     "iopub.status.busy": "2024-07-03T19:30:23.392917Z",
     "iopub.status.idle": "2024-07-03T19:31:49.813390Z",
     "shell.execute_reply": "2024-07-03T19:31:49.812269Z"
    },
    "papermill": {
     "duration": 86.439296,
     "end_time": "2024-07-03T19:31:49.815771",
     "exception": false,
     "start_time": "2024-07-03T19:30:23.376475",
     "status": "completed"
    },
    "tags": []
   },
   "outputs": [
    {
     "data": {
      "text/html": [
       "\n",
       "<style>\n",
       "    /* Turns off some styling */\n",
       "    progress {\n",
       "        /* gets rid of default border in Firefox and Opera. */\n",
       "        border: none;\n",
       "        /* Needs to be in here for Safari polyfill so background images work as expected. */\n",
       "        background-size: auto;\n",
       "    }\n",
       "    progress:not([value]), progress:not([value])::-webkit-progress-bar {\n",
       "        background: repeating-linear-gradient(45deg, #7e7e7e, #7e7e7e 10px, #5c5c5c 10px, #5c5c5c 20px);\n",
       "    }\n",
       "    .progress-bar-interrupted, .progress-bar-interrupted::-webkit-progress-bar {\n",
       "        background: #F44336;\n",
       "    }\n",
       "</style>\n"
      ],
      "text/plain": [
       "<IPython.core.display.HTML object>"
      ]
     },
     "metadata": {},
     "output_type": "display_data"
    },
    {
     "data": {
      "text/html": [
       "<table border=\"1\" class=\"dataframe\">\n",
       "  <thead>\n",
       "    <tr style=\"text-align: left;\">\n",
       "      <th>epoch</th>\n",
       "      <th>train_loss</th>\n",
       "      <th>valid_loss</th>\n",
       "      <th>accuracy</th>\n",
       "      <th>time</th>\n",
       "    </tr>\n",
       "  </thead>\n",
       "  <tbody>\n",
       "    <tr>\n",
       "      <td>0</td>\n",
       "      <td>0.314280</td>\n",
       "      <td>0.266148</td>\n",
       "      <td>0.885000</td>\n",
       "      <td>01:26</td>\n",
       "    </tr>\n",
       "  </tbody>\n",
       "</table>"
      ],
      "text/plain": [
       "<IPython.core.display.HTML object>"
      ]
     },
     "metadata": {},
     "output_type": "display_data"
    }
   ],
   "source": [
    "learn.fit_one_cycle(1, 2e-2)"
   ]
  },
  {
   "cell_type": "code",
   "execution_count": 30,
   "id": "dd8a1e5f",
   "metadata": {
    "execution": {
     "iopub.execute_input": "2024-07-03T19:31:49.848816Z",
     "iopub.status.busy": "2024-07-03T19:31:49.848409Z",
     "iopub.status.idle": "2024-07-03T19:33:33.368681Z",
     "shell.execute_reply": "2024-07-03T19:33:33.367644Z"
    },
    "papermill": {
     "duration": 103.539228,
     "end_time": "2024-07-03T19:33:33.371042",
     "exception": false,
     "start_time": "2024-07-03T19:31:49.831814",
     "status": "completed"
    },
    "tags": []
   },
   "outputs": [
    {
     "data": {
      "text/html": [
       "\n",
       "<style>\n",
       "    /* Turns off some styling */\n",
       "    progress {\n",
       "        /* gets rid of default border in Firefox and Opera. */\n",
       "        border: none;\n",
       "        /* Needs to be in here for Safari polyfill so background images work as expected. */\n",
       "        background-size: auto;\n",
       "    }\n",
       "    progress:not([value]), progress:not([value])::-webkit-progress-bar {\n",
       "        background: repeating-linear-gradient(45deg, #7e7e7e, #7e7e7e 10px, #5c5c5c 10px, #5c5c5c 20px);\n",
       "    }\n",
       "    .progress-bar-interrupted, .progress-bar-interrupted::-webkit-progress-bar {\n",
       "        background: #F44336;\n",
       "    }\n",
       "</style>\n"
      ],
      "text/plain": [
       "<IPython.core.display.HTML object>"
      ]
     },
     "metadata": {},
     "output_type": "display_data"
    },
    {
     "data": {
      "text/html": [
       "<table border=\"1\" class=\"dataframe\">\n",
       "  <thead>\n",
       "    <tr style=\"text-align: left;\">\n",
       "      <th>epoch</th>\n",
       "      <th>train_loss</th>\n",
       "      <th>valid_loss</th>\n",
       "      <th>accuracy</th>\n",
       "      <th>time</th>\n",
       "    </tr>\n",
       "  </thead>\n",
       "  <tbody>\n",
       "    <tr>\n",
       "      <td>0</td>\n",
       "      <td>0.296860</td>\n",
       "      <td>0.242122</td>\n",
       "      <td>0.895800</td>\n",
       "      <td>01:43</td>\n",
       "    </tr>\n",
       "  </tbody>\n",
       "</table>"
      ],
      "text/plain": [
       "<IPython.core.display.HTML object>"
      ]
     },
     "metadata": {},
     "output_type": "display_data"
    }
   ],
   "source": [
    "learn.freeze_to(-2)\n",
    "learn.fit_one_cycle(1, slice(1e-2/(2.6**4),1e-2))"
   ]
  },
  {
   "cell_type": "code",
   "execution_count": 31,
   "id": "f185c4a0",
   "metadata": {
    "execution": {
     "iopub.execute_input": "2024-07-03T19:33:33.405034Z",
     "iopub.status.busy": "2024-07-03T19:33:33.404164Z",
     "iopub.status.idle": "2024-07-03T19:36:11.713760Z",
     "shell.execute_reply": "2024-07-03T19:36:11.712732Z"
    },
    "papermill": {
     "duration": 158.328586,
     "end_time": "2024-07-03T19:36:11.716021",
     "exception": false,
     "start_time": "2024-07-03T19:33:33.387435",
     "status": "completed"
    },
    "tags": []
   },
   "outputs": [
    {
     "data": {
      "text/html": [
       "\n",
       "<style>\n",
       "    /* Turns off some styling */\n",
       "    progress {\n",
       "        /* gets rid of default border in Firefox and Opera. */\n",
       "        border: none;\n",
       "        /* Needs to be in here for Safari polyfill so background images work as expected. */\n",
       "        background-size: auto;\n",
       "    }\n",
       "    progress:not([value]), progress:not([value])::-webkit-progress-bar {\n",
       "        background: repeating-linear-gradient(45deg, #7e7e7e, #7e7e7e 10px, #5c5c5c 10px, #5c5c5c 20px);\n",
       "    }\n",
       "    .progress-bar-interrupted, .progress-bar-interrupted::-webkit-progress-bar {\n",
       "        background: #F44336;\n",
       "    }\n",
       "</style>\n"
      ],
      "text/plain": [
       "<IPython.core.display.HTML object>"
      ]
     },
     "metadata": {},
     "output_type": "display_data"
    },
    {
     "data": {
      "text/html": [
       "<table border=\"1\" class=\"dataframe\">\n",
       "  <thead>\n",
       "    <tr style=\"text-align: left;\">\n",
       "      <th>epoch</th>\n",
       "      <th>train_loss</th>\n",
       "      <th>valid_loss</th>\n",
       "      <th>accuracy</th>\n",
       "      <th>time</th>\n",
       "    </tr>\n",
       "  </thead>\n",
       "  <tbody>\n",
       "    <tr>\n",
       "      <td>0</td>\n",
       "      <td>0.252771</td>\n",
       "      <td>0.229718</td>\n",
       "      <td>0.905400</td>\n",
       "      <td>02:38</td>\n",
       "    </tr>\n",
       "  </tbody>\n",
       "</table>"
      ],
      "text/plain": [
       "<IPython.core.display.HTML object>"
      ]
     },
     "metadata": {},
     "output_type": "display_data"
    }
   ],
   "source": [
    "learn.freeze_to(-3)\n",
    "learn.fit_one_cycle(1, slice(5e-3/(2.6**4),5e-3))"
   ]
  },
  {
   "cell_type": "code",
   "execution_count": 32,
   "id": "d051c713",
   "metadata": {
    "execution": {
     "iopub.execute_input": "2024-07-03T19:36:11.751817Z",
     "iopub.status.busy": "2024-07-03T19:36:11.751435Z",
     "iopub.status.idle": "2024-07-03T19:42:59.446253Z",
     "shell.execute_reply": "2024-07-03T19:42:59.445262Z"
    },
    "papermill": {
     "duration": 407.715926,
     "end_time": "2024-07-03T19:42:59.448367",
     "exception": false,
     "start_time": "2024-07-03T19:36:11.732441",
     "status": "completed"
    },
    "tags": []
   },
   "outputs": [
    {
     "data": {
      "text/html": [
       "\n",
       "<style>\n",
       "    /* Turns off some styling */\n",
       "    progress {\n",
       "        /* gets rid of default border in Firefox and Opera. */\n",
       "        border: none;\n",
       "        /* Needs to be in here for Safari polyfill so background images work as expected. */\n",
       "        background-size: auto;\n",
       "    }\n",
       "    progress:not([value]), progress:not([value])::-webkit-progress-bar {\n",
       "        background: repeating-linear-gradient(45deg, #7e7e7e, #7e7e7e 10px, #5c5c5c 10px, #5c5c5c 20px);\n",
       "    }\n",
       "    .progress-bar-interrupted, .progress-bar-interrupted::-webkit-progress-bar {\n",
       "        background: #F44336;\n",
       "    }\n",
       "</style>\n"
      ],
      "text/plain": [
       "<IPython.core.display.HTML object>"
      ]
     },
     "metadata": {},
     "output_type": "display_data"
    },
    {
     "data": {
      "text/html": [
       "<table border=\"1\" class=\"dataframe\">\n",
       "  <thead>\n",
       "    <tr style=\"text-align: left;\">\n",
       "      <th>epoch</th>\n",
       "      <th>train_loss</th>\n",
       "      <th>valid_loss</th>\n",
       "      <th>accuracy</th>\n",
       "      <th>time</th>\n",
       "    </tr>\n",
       "  </thead>\n",
       "  <tbody>\n",
       "    <tr>\n",
       "      <td>0</td>\n",
       "      <td>0.226687</td>\n",
       "      <td>0.235877</td>\n",
       "      <td>0.902200</td>\n",
       "      <td>03:23</td>\n",
       "    </tr>\n",
       "    <tr>\n",
       "      <td>1</td>\n",
       "      <td>0.215624</td>\n",
       "      <td>0.234570</td>\n",
       "      <td>0.903400</td>\n",
       "      <td>03:23</td>\n",
       "    </tr>\n",
       "  </tbody>\n",
       "</table>"
      ],
      "text/plain": [
       "<IPython.core.display.HTML object>"
      ]
     },
     "metadata": {},
     "output_type": "display_data"
    }
   ],
   "source": [
    "learn.unfreeze()\n",
    "learn.fit_one_cycle(2, slice(1e-3/(2.6**4),1e-3))"
   ]
  },
  {
   "cell_type": "code",
   "execution_count": 33,
   "id": "67ad20a1",
   "metadata": {
    "execution": {
     "iopub.execute_input": "2024-07-03T19:42:59.482388Z",
     "iopub.status.busy": "2024-07-03T19:42:59.482010Z",
     "iopub.status.idle": "2024-07-03T19:42:59.704596Z",
     "shell.execute_reply": "2024-07-03T19:42:59.703736Z"
    },
    "papermill": {
     "duration": 0.241929,
     "end_time": "2024-07-03T19:42:59.706839",
     "exception": false,
     "start_time": "2024-07-03T19:42:59.464910",
     "status": "completed"
    },
    "tags": []
   },
   "outputs": [],
   "source": [
    "learn.save_encoder('yelpLM')"
   ]
  },
  {
   "cell_type": "code",
   "execution_count": 34,
   "id": "0ee39917",
   "metadata": {
    "execution": {
     "iopub.execute_input": "2024-07-03T19:42:59.740321Z",
     "iopub.status.busy": "2024-07-03T19:42:59.739940Z",
     "iopub.status.idle": "2024-07-03T19:43:00.585805Z",
     "shell.execute_reply": "2024-07-03T19:43:00.584752Z"
    },
    "papermill": {
     "duration": 0.864975,
     "end_time": "2024-07-03T19:43:00.587914",
     "exception": false,
     "start_time": "2024-07-03T19:42:59.722939",
     "status": "completed"
    },
    "tags": []
   },
   "outputs": [
    {
     "data": {
      "text/plain": [
       "(#1) [Path('export.pkl')]"
      ]
     },
     "execution_count": 34,
     "metadata": {},
     "output_type": "execute_result"
    }
   ],
   "source": [
    "learn.export()\n",
    "path=Path()\n",
    "path.ls(file_exts='.pkl')\n"
   ]
  },
  {
   "cell_type": "code",
   "execution_count": 35,
   "id": "28aa3f80",
   "metadata": {
    "execution": {
     "iopub.execute_input": "2024-07-03T19:43:00.621249Z",
     "iopub.status.busy": "2024-07-03T19:43:00.620902Z",
     "iopub.status.idle": "2024-07-03T19:43:01.310370Z",
     "shell.execute_reply": "2024-07-03T19:43:01.309359Z"
    },
    "papermill": {
     "duration": 0.723404,
     "end_time": "2024-07-03T19:43:01.327539",
     "exception": false,
     "start_time": "2024-07-03T19:43:00.604135",
     "status": "completed"
    },
    "tags": []
   },
   "outputs": [
    {
     "data": {
      "text/plain": [
       "(#2) [['xxunk', 'xxpad', 'xxbos', 'xxeos', 'xxfld', 'xxrep', 'xxwrep', 'xxup', 'xxmaj', '.', 'the', ',', 'and', 'i', 'a', 'to', 'was', 'it', 'of', 'for', 'is', 'in', 'that', '\\n\\n', 'my', 'we', 'but', 'you', 'this', 'they', '!', 'with', \"n't\", 'on', 'not', 'have', \"'s\", 'had', 'were', 'at', '-', 'so', 'are', 'food', 'there', 'good', '\"', 'be', 'place', 'as', ')', '…', 'me', '(', 'if', 'like', 'all', 'just', 'do', 'out', 'our', 'here', 'would', 'one', 'get', 'very', 'did', '\\n', 'when', 'or', 'service', 'time', 'great', 'up', 'from', 'their', 'about', 'go', 'back', 'no', 'what', 'really', 'an', '?', '$', 'which', 'some', 'he', 'she', 'only', 'been', 'your', 'more', 'can', 'will', 'us', 'because', '3', 'by', 'got', 'could', 'them', 'even', 'other', 'after', 'also', 'too', \"'ve\", '/', 'nice', \"'m\", 'ordered', 'well', 'than', 'has', 'people', 'much', 'over', ':', 'came', 'order', 'went', 'little', 'first', 'never', 'then', 'restaurant', 'pretty', 'better', 'again', 'off', 'best', '2', 'know', 'try', 'said', 'her', 'way', 'chicken', 'two', 'how', 'who', 'bar', 'going', 'night', 'room', 'come', 'make', 'menu', 'think', 'always', 'staff', 'love', 'am', 'any', 'before', 'vegas', 'want', 'bad', 'experience', 'made', 'say', 'down', 'minutes', 'still', 'around', '5', 'day', 'right', \"'re\", '4', 'see', 'wait', 'table', 'another', 'take', 'give', 'friendly', 'while', 'few', '..', 'eat', 'now', 'asked', 'since', 'sure', 'definitely', 'told', 'something', 'took', 'ever', 'new', 'being', 'cheese', 'next', '&', 'price', 'pizza', 'though', 'bit', 'should', \"'ll\", 'into', 'most', 'where', 'times', '\\\\', 'sauce', 'salad', 'thing', 'everything', 'ca', 'lunch', 'last', 'small', 'many', 'long', 'find', 'meal', 'lot', 'drinks', 'nothing', 'location', 'his', 'does', 'area', 'ok', 'its', 'wanted', 'delicious', 'dinner', 'every', 'side', 'fresh', 'hotel', \"'d\", 'check', 'big', '1', 'stars', 'drink', 'amazing', 'same', \"'\", 'burger', '10', 'hot', 'looking', 'tried', 'hour', 'worth', 'server', 'both', 'enough', 'need', 'why', 'work', 'however', 'things', 'taste', 'home', 'fries', 'feel', 'probably', 'quality', 'different', 'left', 'customer', 'prices', 'maybe', 'thought', 'away', 'actually', 'free', 'happy', 'store', 'meat', 'look', 'old', 'anything', 'him', 'sushi', 'line', 'else', 'once', 'friend', 'recommend', 'money', 'these', 'sandwich', 'beer', 'friends', 'let', 'top', 'places', 'flavor', 'special', 'kind', 'half', 'found', 'looked', 'clean', 'decided', 'called', 'bread', 'review', 'full', 'manager', 'overall', 'ask', 'visit', 'put', 'awesome', 'show', ';', 'sweet', 'front', 'decent', 'water', 'quite', 'breakfast', 'getting', 'steak', 'through', 'rice', 'years', 'least', 'pay', 'waitress', 'super', 'star', 'stay', 'used', 'each', 'coffee', 'selection', 'strip', 'those', 'done', 'inside', 'tasted', 'dish', 'large', 'tasty', 'open', 'finally', 'high', 'waiting', 'huge', 'call', 'almost', 'someone', 'atmosphere', '20', 'beef', 'hard', 'car', 'business', 'fried', 'favorite', 'gave', 'buffet', 'seemed', 'fun', 'having', 'tables', 'far', 'everyone', 'busy', 'couple', 'without', 'use', 'three', 'served', 'disappointed', 'end', 'soup', 'usually', 'wo', 'outside', 'excellent', 'house', 'later', 'whole', 'less', 'reviews', 'coming', 'person', 'trying', 'tell', 'fish', 'part', 'items', 'nt', 'husband', 'eating', 'town', '6', 'wrong', 'waiter', 'hours', 'until', 'wine', 'cool', 'such', 'during', 'instead', 'cream', 'care', 'guy', '*', 'restaurants', 'felt', 'dishes', 'walk', 'cold', 'walked', 'cooked', 'shrimp', 'second', 'either', 'oh', 'family', 'point', 'okay', 'music', 'guess', '15', 'must', 'close', 'door', 'week', 'plate', 'enjoy', 'fine', '--', 'several', 'may', 'pork', 'waited', 'especially', 'perfect', 'extra', 'course', 'dessert', 'deal', 'needed', 'party', 'started', 'brought', 'dining', 'spot', 'own', 'might', 'ice', 'worst', 'saw', 'wife', 'spicy', 'cheap', 'shop', 'reason', 'arrived', 'fast', 'help', 'return', 'yes', 'year', 'expect', 'enjoyed', 'parking', 'loved', 'seated', 'bring', 'sit', 'group', 'keep', 'chocolate', 'although', 'able', 'quick', 'horrible', '30', 'name', 'rude', 'sat', 'problem', 'pool', 'days', 'kids', 'leave', 'chips', 'makes', 'fact', 'dry', 'options', 'club', 'plus', 'red', 'slow', 'comes', 'seems', 'expensive', 'job', 'stop', 'average', 'customers', 'stuff', 'today', 'yet', 'floor', 'real', 'already', 'cut', 'rooms', 'pm', 'owner', 'myself', 'start', 'fan', '7', 'las', 'casino', 'anyone', 'phone', 'terrible', 'size', 'liked', 'yelp', 'style', 'street', 'bacon', 'ate', 'late', 'decor', 'paid', 'tea', 'bill', 'bland', 'lots', 'extremely', 'tacos', 'guys', 'roll', '8', 'ended', 'drive', 'live', 'given', 'wish', 'rather', 'ago', 'charge', 'offer', 'mexican', 'seen', 'working', 'absolutely', 'trip', 'rolls', 'seem', 'buy', 'mind', 'making', 'sitting', 'local', 'kitchen', 'regular', 'crab', 'counter', 'short', 'card', 'doing', 'portions', 'looks', 'fantastic', 'white', 'between', 'past', 'etc', 'amount', 'girl', 'pick', 'bbq', 'm', 'tip', 'green', 'thai', 'dog', 'hair', 'main', 'helpful', 'wonderful', 'believe', 'run', 'change', 'impressed', 'twice', 'morning', 'heard', 'easy', 'under', 'glass', 'quickly', 'french', 'taking', 'empty', 'kept', 'completely', 'serve', 'set', 'remember', 'view', 'lady', 'burgers', 'offered', 'expected', 'beautiful', 'gone', 'unfortunately', 'chinese', 'entire', 'itself', 'saturday', 'early', 'list', 'o', 'mean', 'received', 's', 'employees', 'w', 'salsa', 'four', 'man', 'light', 'pasta', 'walking', 'weekend', 'priced', 'gets', 'appetizer', 'rest', 'ready', 'seating', 'soon', 'seriously', 'highly', 'stayed', 'poor', 'behind', 'egg', 'warm', 'potatoes', 'eggs', 'cake', 'needs', 'wings', 'often', 'stopped', 'plenty', 'near', 'patio', '%', 'italian', 'totally', 'understand', 'available', 'dirty', 'others', 'portion', 'packed', 'beans', 'flavors', 'across', 'choice', 'hit', 'watch', 'company', 'ordering', 'friday', 'noticed', 'saying', 'bite', 'potato', ':)', 'bartender', 'cost', 'la', 'type', 'attentive', 'life', 'sandwiches', 'desk', 'chef', 'hand', 'sorry', 'knew', 'variety', 'sunday', 'de', 'months', 'located', 'space', 'phoenix', 'paying', '+', 'servers', 'garlic', 'loud', 'evening', 'add', 'reasonable', 'black', 'yummy', 'read', 'bowl', 'please', 'head', 'girls', 'along', 'taken', 'seafood', 'city', 'due', 'sometimes', 'office', 'anyway', 'boyfriend', 'game', 'spend', 'idea', 'five', 'overpriced', 'together', 'orders', 'mediocre', 'unless', 'checked', 'medium', 'birthday', 'excited', 'lobster', 'grilled', 'hungry', 'bathroom', 'salmon', 'number', 'middle', 'based', '12', 'giving', 'eaten', 'sign', 'says', 'simple', 'plates', 'literally', 'crispy', 'taco', '50', 'crowded', 'minute', 'pieces', 'talk', 'hope', 'wow', 'thank', 'bottle', 'perfectly', 'play', 'turned', 'total', 'cafe', 'upon', 'n', 'oil', 'reservation', 'salty', 'opened', 'surprised', 'ambiance', 'feeling', 'crowd', 'pricey', 'butter', 'per', 'issue', 'comfortable', 'noodles', 'center', 'low', 'frozen', 'ones', 'longer', 'cup', 'mac', 'world', 'hear', 'tv', '9', 'happened', 'choose', 'shopping', 'glad', 'yourself', 'beers', 'interesting', 'disappointing', 'd', 'immediately', 'talking', 'closed', 'awful', 'weeks', 'piece', 'onion', 'appointment', 'spent', 'non', 'bought', 'prepared', 'brunch', 'tiny', 'stand', 'month', 'ingredients', 'thanks', 'hostess', 'option', 'honestly', 'filled', '\\n▁', 'moved', 'chance', 'exactly', 'date', 'somewhere', 'seat', 'standard', 'basically', 'simply', 'credit', 'burrito', 'bed', 'within', 'mall', '40', 'park', 'hate', 'goes', 'asian', '#', 'except', 'case', 'choices', 'attention', 'weird', 'charged', 'recently', 'including', 'tomato', 'tuna', 'appetizers', 'specials', 'whatever', 'miss', 'worse', 'added', 'dance', 'supposed', '25', 'note', 'staying', 'mouth', 'wall', 'crust', 'pleasant', 'sides', 'sort', 'entrees', 'write', 'sausage', 'takes', 'flavorful', 'unique', 'box', 'management', 'above', 'pho', 'move', 'hands', 'serving', 'lack', 'meals', 'apparently', 'soft', 'dark', 'mine', 'corn', 'tender', 'anywhere', 'entree', 'bucks', 'seats', 'barely', 'thinking', 'recommended', 'item', 'waste', 'cute', 'level', 'massage', 'book', 'greeted', 'airport', 'crazy', 'station', 'ribs', 'authentic', 'lost', 'save', 'rib', 'scottsdale', 'school', 'mention', 'salt', 'fairly', 'thin', 'fix', 'slightly', 'greasy', 'attitude', 'worked', 'face', 'expecting', 'value', 'downtown', 'asking', 'desserts', 'sad', 'joint', 'grab', 'finish', '11', 'cash', 'section', 'rating', 'clearly', 'mostly', 'delivery', 'avoid', 'playing', 'forgot', 'running', 'onions', 'sent', 'kinda', 'lettuce', 'rare', 'yeah', 'turn', 'typical', '100', 'single', 'mixed', 'share', 'afternoon', 'watching', 'dressing', 'daughter', 'online', 'eye', '45', 'pass', 'leaving', 'salads', 'opinion', 'normally', 'certainly', 'class', 'considering', 'chili', 'cook', 'obviously', 'forward', 'matter', 'tastes', 'forever', 'changed', 'tasting', 'finished', '=', 'mom', 'mentioned', 'fair', 'showed', 'elsewhere', 'bag', 'building', 'toppings', 'curry', 'mix', 'professional', 'limited', 'fee', 'picked', 'baked', 'young', 'veggies', 'nails', 'establishment', 'truly', 'perhaps', 'blue', 'dogs', 'means', 'dollars', 'otherwise', 'min', 'pie', 'u00e9', '24', 'chose', 'issues', 'chain', 'word', 'gotten', 'true', 'seeing', 'toast', 'smell', 'thick', 'u', 'neighborhood', 'prime', 'touch', 'stick', 'pulled', 'mistake', 'despite', 'die', 'speak', 'using', 'solid', 'bottom', 'corner', 'included', 'flat', 'shot', 'none', 'normal', 'hell', 'ridiculous', 'plan', 'woman', 'valley', 'tonight', 'treat', 'event', 'movie', 'pepper', 'nights', 'lol', 'cocktail', 'fancy', 'pancakes', 'fat', 'shows', 'grill', 'compared', 'double', 'window', 'sour', 'visited', 'groupon', 'security', 'employee', 'filling', 'duck', 'fruit', 'checking', 'stuffed', 'visiting', 'usual', 'lines', 'resort', 'shower', 'bunch', 'smaller', 'guests', '\\n\\n▁', 'air', 'rock', 'prefer', 'seasoned', 'standing', 'nearly', 'combo', 'modern', 'higher', 'craving', 'turkey', 'covered', 'dr', 'stores', 'coupon', 'spa', 'alone', 'mins', 'paper', 'easily', 'baby', 'helped', 'split', 'games', 'gym', 'disappointment', 'reservations', 'story', 'kid', 'heat', 'forget', 'complete', 'par', 'yum', 'son', 'ahead', 'shops', 'salon', 'complaint', 'hold', 'plain', 'sell', 'b', 'h', 'spinach', 'expectations', 'reading', 'gross', 'chairs', 'mushrooms', 'returning', 'lounge', 'similar', 'slice', 'meh', 'soggy', 'owners', 'y', 'rate', 'cheaper', 'vibe', 'original', 'explained', 'market', 'lacking', 'happen', 'clear', 'glasses', 'funny', 'lamb', 'treated', 'beyond', 'shared', 'general', 'bun', 'questions', 'starbucks', 'surprise', 'mini', 'possible', 'honest', 'sauces', 'veggie', 'vegetarian', 'website', 'tough', 'legs', 'fill', 'bellagio', 'knows', 'notice', 'conversation', 'lovely', 'american', 'missing', 'previous', '0', 'placed', 'wash', 'works', 'anymore', 'quiet', 'cover', 'odd', 'sports', 'healthy', 'orange', 'slices', 'disgusting', 'le', 'folks', 'hotels', 'bars', 'foods', 'nicely', 'delivered', 'mess', 'actual', 'damn', 'japanese', 'outdoor', 'nail', 'smoke', 'break', 't', 'discount', 'incredibly', 'experienced', 'purchase', 'filet', 'e', 'dip', 'sub', 'charlotte', 'feet', 'basic', 'boy', 'cashier', 'experiences', 'future', 'system', 'third', 'hoping', 'drinking', 'gift', 'sucks', 'imagine', 'summer', 'tickets', 'sugar', 'products', 'met', 'color', 'problems', 'cleaning', 'soda', 'known', 'sized', 'deep', 'figured', 'outstanding', 'complain', 'bother', 'particular', 'texture', 'drunk', 'convenient', 'suggest', 'vegetables', 'straight', 'incredible', 'locations', 'dollar', 'strong', 'cocktails', 'difficult', 'roasted', 'juice', 'generous', 'telling', 'hang', 'positive', 'heavy', 'overcooked', 'personal', 'meats', 'sense', 'ladies', 'machine', 'figure', 'sales', 'girlfriend', 'negative', 'crap', 'thru', 'milk', 'desert', 'booked', 'returned', 'situation', 'nor', 'et', 'tomatoes', 'somewhat', 'pre', 'send', 'alright', 'multiple', 'wynn', 'addition', 'realized', 'buffets', 'c', 'wedding', 'iced', 'cause', 'willing', 'children', 'sound', 'juicy', '14', 'bartenders', 'overly', 'theater', 'sick', 'everywhere', 'round', 'grand', 'traditional', 'appreciate', 'informed', 'throughout', 'creamy', 'walls', 'alcohol', 'living', 'south', 'women', 'lemon', 'interior', 'homemade', 'un', 'bigger', 'sister', 'pour', 'hey', 'presentation', 'stuck', 'apple', 'consider', 'rush', 'casual', 'moving', 'bean', 'purchased', 'guest', 'california', 'self', 'opening', 'fit', 'request', 'spring', 'answer', 'older', 'pittsburgh', 'workers', 'noodle', 'ran', 'update', 'smile', 'arrive', 'brown', 'guacamole', 'lived', 'ass', 'patrons', 'mushroom', 're', 'product', 'beat', 'process', 'monday', 'truck', 'generally', 'ramen', 'likely', 'indian', 'yesterday', 'road', 'ride', 'lobby', 'spice', 'arizona', 'drop', 'certain', 'rich', 'stood', 'korean', 'fabulous', 'avocado', 'tofu', 'flight', 'broth', 'bf', 'king', 'menus', 'dress', 'services', 'raw', 'additional', 'english', 'ten', 'eyes', 'venue', 'driving', 'lights', 'environment', 'impressive', 'topped', 'themselves', 'meet', 'mashed', 'buying', 'pub', 'dropped', 'pictures', 'mood', 'brisket', 'major', 'chewy', 'sadly', 'spoke', 'range', 'cleaned', 'calamari', 'nachos', 'vegan', 'register', 'pizzas', 'areas', 'pleased', 'agree', 'tons', 'nearby', 'peppers', 'satisfied', 'machines', '\\n\\n\\n', 'complaints', 'personally', 'carry', 'entrance', 'larger', 'doctor', 'stage', 'realize', 'provide', 'separate', 'art', 'annoying', 'suite', 'grocery', 'montreal', 'nasty', 'version', 'moment', 'wonder', 'picture', 'ton', 'pad', 'refill', 'pricing', 'concept', 'difference', 'popular', 'spending', 'mother', 'recent', 'east', 'finding', 'below', 'clothes', 'deli', 'shame', 'classic', 'plastic', 'doubt', 'brand', 'tower', 'luck', 'heart', 'joke', 'bites', 'prior', 'fixed', 'wanting', 'booth', 'needless', 'biggest', 'whether', 'broken', 'lucky', '18', 'correct', 'calling', 'polite', 'skin', 'gravy', 'pain', 'steaks', 'question', 'spectacular', 'key', 'important', 'smoking', 'feels', 'west', 'skip', 'york', 'men', 'ham', 'knowledgeable', 'hash', 'cooking', 'fry', 'requested', 'talked', 'bone', 'bottles', 'shoes', 'pop', 'hummus', 'god', 'hole', 'offers', 'margarita', 'caesar', 'tortilla', 'chipotle', 'passed', 'smoked', 'tuesday', 'step', 'foot', 'post', 'refills', 'ranch', 'dine', 'explain', 'pita', 'onto', 'dead', 'fell', 'become', 'host', 'visits', 'state', 'stated', 'setting', 'admit', 'cakes', 'waitresses', 'wrap', 'chicago', 'kick', 'internet', 'excuse', 'seasoning', 'country', 'trust', 'oz', 'doors', 'putting', 'notch', 'crisp', 'continue', 'possibly', 'diner', 'fault', 'north', 'earlier', 'honey', 'anyways', 'tap', 'banana', 'goodness', 'hubby', 'reasonably', 'st', 'rings', 'gives', 'response', 'affordable', 'property', 'az', 'ticket', 'strange', 'provided', 'gas', 'selections', 'san', 'receipt', 'suggested', 'spots', 'points', 'sale', 'email', 'greek', 'zero', 'yogurt', 'six', 'refund', 'decide', 'various', 'waffles', 'sun', 'bathrooms', 'favorites', 'scene', 'oysters', 'vanilla', 'burnt', 'played', 'tasteless', '16', 'hip', 'stomach', 'lighting', 'combination', 'allowed', 'besides', 'giant', 'thursday', 'throw', '13', 'olive', 'apart', 'u00e0', 'screen', 'parts', 'smelled', 'sold', 'relaxing', 'complimentary', 'strawberry', 'closer', 'mayo', 'types', 'aside', 'daily', 'loves', 'bell', 'receive', 'tired', 'lower', 'sliders', 'serious', 'boring', 'missed', 'sample', 'dancing', 'contact', 'body', 'words', 'cuisine', 'wifi', 'pink', 'furniture', 'beds', 'bus', 'lacked', 'agreed', 'pot', 'efficient', 'luckily', 'cheesecake', 'member', 'chair', 'catch', 'towards', 'madison', 'fire', 'scallops', ':(', '90', 'buffalo', 'team', 'cookies', 'upset', 'hype', 'frequent', 'na', 'mgm', 'comment', 'interested', 'valet', 'department', 'welcome', 'clubs', 'cards', 'opted', 'college', 'tire', 'bright', 'band', 'driver', 'against', 'coconut', 'donuts', 'wants', 'shit', 'carne', 'upstairs', 'reminded', 'cups', 'waiters', 'drove', 'co', 'greens', 'health', 'hopefully', 'suppose', 'wide', 'l', '60', 'ny', 'garden', 'writing', 'stock', 'truffle', 'hardly', 'dj', 'gon', 'surprisingly', 'sounds', 'safe', 'cupcakes', 'cookie', 'coke', 'basil', 'windows', 'sea', 'owned', 'sashimi', 'training', 'information', '2nd', 'fare', 'bags', 'whenever', 'rushed', 'particularly', 'square', 'sum', 'tempe', 'awhile', 'wrapped', 'crunchy', 'vip', 'deliver', 'hanging', 'mustard', 'locals', 'cars', 'serves', 'les', 'pull', 'mango', 'crepe', 'following', 'ground', 'bagel', 'ignored', 'confused', 'r', 'cab', 'leaves', '35', 'gem', 'dim', 'promptly', 'tempura', 'somehow', 'asada', 'support', 'miles', 'stale', 'random', 'groups', 'access', 'helping', 'watched', 'wear', 'belly', 'uncomfortable', 'begin', 'handed', 'meatballs', 'apologized', 'platter', 'board', 'dad', 'handle', 'hidden', 'ambience', 'costs', 'express', 'flavorless', 'roast', 'design', 'gelato', 'typically', 'happens', 'turns', 'melted', 'annoyed', 'sliced', 'relatively', 'properly', 'waffle', 'tells', 'eventually', 'http', 'perfection', 'calls', 'vacation', 'corporate', 'moist', 'ourselves', 'beware', 'booths', 'f', 'du', 'insurance', 'neither', 'shake', 'layout', 'tapas', 'parents', 'boba', 'weather', 'noise', 'till', 'tour', 'spacious', 'mile', 'compare', 'bringing', 'margaritas', 'weekends', 'follow', 'lazy', 'fall', 'accommodating', 'dozen', 'constantly', 'crappy', 'bay', 'theme', 'recommendation', 'refused', 'effort', 'dipping', 'allow', 'private', 'tips', 'bakery', 'steakhouse', 'mozzarella', 'include', 'deals', 'site', 'christmas', 'pros', 'ta', 'appeared', 'travel', 'child', 'cozy', 'headed', 'replaced', 'fridge', 'starting', 'offering', 'repair', 'meant', 'vodka', 'threw', 'awkward', 'consistently', 'towels', 'knowing', 'floors', 'patient', 'potential', 'nobody', 'enjoyable', 'cons', 'joe', 'omg', 'cheesy', 'further', 'dressed', 'photos', 'tub', 'age', 'upscale', 'oven', 'policy', '3.5', 'venetian', 'soy', 'chefs', 'example', 'impression', 'advice', 'sucked', 'unlike', 'comfy', 'signature', 'closing', 'rave', 'gorgeous', 'facility', 'pudding', 'act', 'syrup', 'unprofessional', 'tortillas', 'cirque', 'proceeded', 'reasons', '80', 'famous', 'specialty', 'managed', 'members', 'bike', 'pedicure', 'dried', 'tvs', 'likes', 'wearing', 'complained', 'account', 'parmesan', 'g', 'hello', 'schedule', 'island', 'delish', 'prompt', 'detail', 'became', 'cupcake', 'refreshing', 'wise', 'benedict', 'charges', 'wtf', 'sleep', 'champagne', 'shuttle', 'fountain', 'exceptional', 'enjoying', 'nicer', 'wet', 'began', 'starving', 'classes', 'brother', 'welcoming', 'budget', 'control', 'stupid', 'pleasantly', 'gluten', 'ayce', 'balls', 'rarely', 'sticky', 'failed', 'wednesday', 'rent', 'appreciated', 'gras', 'classy', 'grease', 'dude', 'gambling', 'sounded', 'broccoli', 'picky', 'package', 'relax', 'laid', 'martini', 'bet', 'shots', '1st', 'computer', 'heaven', 'gyro', 'listed', 'enter', 'standards', 'meeting', 'fully', 'upgrade', 'und', 'blah', 'peanut', 'season', 'seconds', 'snack', 'sizes', 'slaw', 'pan', 'pet', 'caught', 'keeping', 'changes', 'toilet', 'ruined', 'absolute', 'distance', 'gold', 'beginning', 'yelpers', 'answered', 'patty', 'speaking', 'produce', 'memorable', 'vehicle', 'tax', 'test', 'steamed', 'advantage', 'candy', 'followed', 'books', 'signs', 'kinds', 'common', 'palace', 'edible', 'final', 'bank', 'fake', 'tad', 'posted', 'starts', 'golden', 'mark', 'fees', 'ginger', 'massive', 'bloody', 'pair', 'dough', 'ball', 'sangria', 'sake', 'app', 'presented', 'wood', 'shocked', 'polish', 'specifically', 'omelet', 'au', 'goat', 'jack', 'events', 'parties', 'tend', 'miso', 'poorly', 'form', 'kidding', 'chip', 'eggplant', 'elevator', 'match', 'lime', 'vegetable', 'trash', 'vietnamese', 'row', 'shirt', 'casinos', 'describe', 'flavored', 'basket', 'courteous', 'listen', 'occasion', 'learn', 'spread', 'court', 'creative', 'attempt', 'consistent', 'occasions', 'shredded', 'traffic', 'dumplings', 'mandalay', 've', 'trouble', 'asparagus', 'concerned', 'garage', 'central', 'aria', 'restroom', 'shell', 'hurry', 'rental', 'obvious', 'dive', 'learned', 'rated', 'continued', 'pineapple', 'des', 'depending', 'ugh', 'hint', 'apartment', 'pepperoni', 'regardless', 'display', 'edinburgh', 'chopped', 'undercooked', 'favor', 'treatment', 'heck', 'teriyaki', 'pas', 'yellow', 'fingers', 'u00e9e', 'chunks', 'planning', 'caramel', 'decorated', 'hop', 'among', 'mid', 'tires', 'pastries', 'directly', 'soups', 'entertainment', 'organic', 'assume', 'temperature', 'en', 'freshly', 'fatty', 'flag', 'chill', 'crepes', 'pressure', 'law', 'mail', 'quesadilla', 'phenomenal', 'gel', 'trendy', 'rip', 'coupons', 'pointed', 'foie', 'apology', 'mushy', 'neat', 'courses', 'enchiladas', 'charging', 'ketchup', 'anytime', 'downstairs', 'al', 'kobe', 'que', 'recommendations', 'address', '3rd', 'search', 'aware', 'creme', 'burritos', 'hawaiian', 'fans', 'toasted', 'equipment', 'cuts', 'history', 'savory', 'decision', 'fashion', 'haha', 'lets', 'replace', 'picking', 'tao', 'weak', 'ways', 'haircut', 'exact', 'hearing', 'natural', 'cucumber', 'written', 'opportunity', 'hopes', 'alot', 'eh', 'blow', '200', 'names', 'inexpensive', 'topping', 'carpet', 'disappoint', 'cinnamon', 'pack', 'highlight', 'lv', 'views', 'selling', 'video', 'ridiculously', 'nope', 'block', 'spoon', 'superb', 'velvet', 'specific', 'lame', 'pools', 'broke', 'pickles', 'grabbed', 'comfort', 'female', 'paris', 'showing', 'offerings', 'removed', 'reviewers', 'factor', 'ill', 'wasted', 'ahi', 'mill', 'blown', 'claim', 'nowhere', 'bothered', 'originally', 'mary', 'spaghetti', 'wild', 'tech', 'heading', 'photo', 'hill', 'mussels', 'bomb', 'convenience', 'clothing', 'dined', 'reminds', 'rocks', '21', 'est', 'himself', 'adult', 'btw', 'southern', 'via', 'worker', 'minus', 'loaded', 'draft', 'pure', 'remembered', 'midnight', 'inviting', 'olives', 'batter', 'messed', 'switch', 'adults', 'wines', 'message', 'breast', 'bowls', 'beach', 'leftovers', 'win', 'rolled', 'sharing', 'holiday', 'advance', 'pedi', 'pesto', 'desired', 'gourmet', 'complaining', 'consistency', 'diners', 'football', 'fork', 'pastrami', 'terms', 'discovered', 'won', 'biscuits', 'diet', 'oily', 'reserved', 'hurt', 'craft', 'held', 'goods', 'numerous', 'fail', 'saved', 'cheddar', 'community', 'tag', 'worry', 'snacks', 'irish', 'je', 'planet', 'risotto', 'smells', 'deserve', 'exciting', 'results', 'named', 'walmart', 'granted', 'cheeseburger', 'buns', 'hung', 'ribeye', 'refilled', 'blood', 'treats', 'exception', 'warned', 'mountain', 'liquor', 'complex', 'liking', 'includes', 'ring', 'golf', 'energy', 'correctly', 'mad', 'membership', 'bass', 'gentleman', 'mignon', 'popcorn', 'mr', 'warning', 'ceiling', 'relaxed', 'factory', 'pissed', 'repeat', 'chile', 'mainly', 'manner', 'sticks', 'chat', 'freaking', 'voice', 'chorizo', 'impossible', 'beverage', 'ends', 'nuts', 'forced', 'melt', 'mint', 'mesa', 'fight', 'apps', 'suggestions', 'hall', 'bagels', 'housekeeping', 'sprouts', 'details', 'elevators', 'saving', 'spices', 'extensive', 'strips', 'shirts', 'cabbage', 'shape', 'cherry', 'count', 'lose', 'closest', 'intimate', 'frequently', 'fly', 'promised', 'secret', 'vinegar', 'mild', 'ravioli', 'public', 'train', 'smooth', '\\n▁\\n', 'period', 'industry', 'container', 'buddy', 'scheduled', 'changing', 'fellow', 'stairs', 'equally', 'cajun', 'el', 'pancake', 'thoroughly', 'plaza', 'regularly', 'enchilada', 'arrival', 'hospital', '.i', 'def', 'screw', 'accept', 'crew', 'smoothie', 'manicure', 'apologize', 'bonus', 'slot', 'spanish', 'studio', 'keeps', 'practice', 'regret', 'suggestion', 'confusing', 'spoiled', 'power', 'stellar', 'tart', 'watery', 'thrown', 'romantic', 'adding', 'suck', 'previously', 'colors', 'paint', 'fitness', '.yelp.com', 'thankfully', 'wanna', 'clients', 'wing', 'managers', 'entertaining', 'ya', 'tab', 'unacceptable', 'downhill', 'texas', 'eats', '17', 'student', 'bistro', 'comparison', 'espresso', 'hamburger', 'feed', 'nyc', 'tourist', 'cutting', 'wondering', 'movies', 'joints', 'vet', 'social', 'minimum', 'balance', ';)', 'initially', 'bedroom', 'boys', 'bitter', 'latte', 'raspberry', 'base', 'seared', 'boxes', '@', 'custard', 'angry', 'news', 'described', 'cheeses', 'museum', 'subway', 'pants', 'necessary', 'yuck', 'prepare', 'practically', 'families', 'cramped', 'pound', 'wrote', 'improve', 'proper', 'noisy', 'majority', 'downside', 'brings', 'trips', 'veal', 'deserves', 'costco', 'replacement', 'familiar', 'clams', 'result', 'samples', 'pastry', 'checks', 'asks', 'preferred', 'chatting', 'cart', 'blast', 'cat', 'bits', 'amenities', 'ours', 'skills', 'regulars', '22', 'score', 'queen', 'wax', 'denny', 'circus', 'gf', 'filthy', 'blame', 'cancel', 'afterwards', 'garbage', 'um', 'entering', 'built', 'students', 'cents', 'cleanliness', 'terribly', 'accommodate', 'lemonade', 'salted', 'code', 'anniversary', 'younger', 'canned', 'snow', 'gate', 'handful', 'respect', 'messy', 'indeed', 'lit', 'concert', 'mediterranean', 'happening', 'taxi', 'entered', 'holy', 'bruschetta', 'beautifully', 'crunch', 'kill', 'burned', 'chandler', 'rio', 'une', 'cell', 'takeout', 'planned', 'personable', 'organized', 'clue', 'john', 'pleasure', 'runs', 'leg', 'stone', 'chow', 'warranty', 'fluffy', 'tom', 'poutine', 'der', 'acceptable', 'thus', 'designed', 'artichoke', 'chop', 'weight', 'chris', 'stations', 'auto', 'paradise', 'earth', 'wheat', 'premium', 'initial', 'track', 'ac', 'maintenance', 'quantity', 'states', 'pretzel', 'america', 'yoga', 'present', 'nightclub', 'indoor', 'ghetto', 'shut', 'businesses', 'signed', 'napkins', 'quote', 'falling', '70', 'pile', 'shortly', 'protein', 'carrots', 'boss', 'cilantro', 'das', 'hollywood', 'description', 'replied', 'mcdonald', 'waitstaff', 'easier', 'focus', 'judge', 'philly', 'afford', 'whipped', 'remove', 'buds', 'suites', 'everyday', 'palazzo', 'shakes', 'comments', 'browns', 'create', 'tight', 'settled', 'pro', 'yay', 'clam', 'comped', 'jalapeno', 'raised', 'greatest', 'everytime', 'los', 'henderson', 'required', 'individual', 'rack', 'build', 'clerk', 'lie', 'target', 'approached', 'china', 'appetite', 'knife', 'father', 'naan', 'payment', 'acknowledge', 'ordinary', 'buck', 'overwhelming', 'careful', 'tall', 'coast', 'wi', 'holes', 'action', 'marinated', 'cares', 'partner', 'quoted', 'yelling', 'prosciutto', 'male', 'manage', 'consisted', \"c'est\", 'appears', 'paperwork', 'receptionist', 'inch', 'knowledge', 'beverages', 'fi', 'jerk', 'teeth', ']', 'flamingo', 'drank', 'songs', 'frustrating', 'makeup', 'sets', 'advertised', 'watered', 'dealing', 'dancers', 'encore', 'winter', 'microwave', 'stylist', 'arriving', 'current', 'delightful', 'mcdonalds', 'cooks', 'stands', 'tourists', '[', 'poker', 'caesars', 'acted', 'scoop', 'jam', 'considered', 'sink', 'nonetheless', 'donut', 'strawberries', 'hire', 'sesame', 'animal', 'coleslaw', 'macaroni', 'terrific', 'speed', 'contract', 'promise', 'steep', 'starter', 'pig', 'couch', 'push', 'pushed', 'interest', 'risk', 'x', 'construction', 'tops', 'fremont', 'celebrate', 'hassle', 'ish', 'afraid', 'alternative', 'frankly', 'noted', 'mais', 'lastly', 'weekly', 'conference', 'concern', 'biscuit', 'letting', 'faster', 'scale', 'gamble', '75', 'rubbery', 'plentiful', 'workout', 'twenty', 'tequila', 'print', 'appealing', '2014', 'dated', 'lives', 'bc', 'blend', 'noon', 'cheapest', 'poured', 'mein', 'brew', 'luxor', 'traveling', 'suit', 'bisque', 'knock', 'chowder', 'satisfying', 'comparable', 'alfredo', 'darn', 'upgraded', 'balcony', 'comp', 'mirage', 'nightmare', 'omelette', 'honor', 'thumbs', 'lover', 'whatsoever', 'helps', 'destination', 'personality', 'appropriate', 'tomorrow', 'forgotten', 'unit', '2013', 'holding', 'rough', 'yard', 'il', 'timely', 'animals', '2.5', 'overwhelmed', 'thrilled', 'couples', 'stocked', 'fiance', 'meatball', 'slots', 'inedible', 'lackluster', 'supposedly', 'million', 'degrees', 'corned', 'opposite', 'sight', 'nigiri', 'herself', 'michael', 'waters', 'regarding', 'according', 'frustrated', 'muffin', 'background', 'tank', 'cleaner', 'dream', 'passing', 'heads', 'assured', 'washed', 'hallway', 'levels', 'checkout', 'tossed', 'unable', 'lo', 'xs', 'song', 'river', 'responded', 'smart', 'rates', 'meaning', 'pit', 'tucked', 'crowds', 'pitcher', 'penny', 'con', 'entirely', 'unfortunate', 'mike', 'flying', 'generic', 'finger', 'culinary', 'report', 'earned', 'challenge', 'lake', 'info', 'worthy', 'theatre', 'brulee', 'client', 'balsamic', 'sometime', 'july', 'screens', 'grew', 'falafel', 'edge', 'ripped', 'wallet', 'led', 'carrot', 'exchange', 'panini', 'marinara', 'ich', 'semi', 'audience', 'accompanied', 'currently', 'reviewer', 'convention', 'tots', 'keys', 'frosting', 'neck', 'bouncers', 'setup', 'tail', 'cod', 'fishy', 'pies', 'feta', 'entry', 'fusion', 'ai', 'killer', 'magic', 'jalape', 'mon', 'bowling', 'passes', 'starters', 'lasagna', 'blocks', 'booze', 'assumed', 'direction', 'stepped', 'cuz', 'screaming', 'land', 'grade', 'ave', 'seven', 'unfriendly', 'page', 'roof', 'sexy', 'cosmopolitan', 'u00e8s', 'establishments', 'laugh', 'swear', 'improvement', 'juices', 'winner', 'memories', 'calories', 'quaint', 'forth', 'dentist', 'therefore', 'cross', 'updated', 'metal', '300', 'zucchini', 'hits', 'somebody', 'blueberry', 'frites', 'subs', 'ceviche', 'basis', 'bath', 'biz_photos', 'hawaii', '\\n\\n\\n▁', 'bananas', 'acknowledged', 'stopping', 'carnitas', 'slight', 'towel', 'unhappy', '150', 'debit', 'bouncer', 'ist', 'quarter', 'attended', 'text', 'grits', 'scrambled', '4th', 'understanding', 'insisted', 'field', 'burn', 'weekday', 'trained', 'wraps', 'screwed', 'marquee', 'popped', 'cleared', 'sampler', 'brownie', 'apologetic', 'inconvenience', 'flour', 'dirt', 'clientele', 'condition', 'dresses', 'pumpkin', 'greet', 'cousin', 'tone', 'worried', 'steam', 'guac', ':-)', 'unpleasant', 'wished', 'root', 'degree', 'coworkers', 'cole', 'tan', 'encountered', 'panda', 'bugs', 'strike', 'luggage', 'shaved', 'rose', 'worn', 'lukewarm', 'iron', 'scared', 'remind', 'gnocchi', 'tries', 'battery', 'cornbread', 'chains', 'patron', 'oyster', 'heated', 'badly', 'introduced', 'mi', 'bills', 'exit', 'tongue', 'flowers', 'searching', 'assuming', 'unusual', 'shoe', 'faces', 'silverware', 'growing', 'dig', 'david', 'eater', 'walks', 'soul', 'grub', 'former', 'explaining', 'dinners', 'companies', 'impress', 'necessarily', 'church', 'cafeteria', 'improved', 'contacted', 'village', 'whoever', 'mani', 'maple', 'inn', 'outdated', 'ugly', 'ale', 'dump', 'funky', 'til', 'pace', 'unlimited', 'qui', 'attached', 'outrageous', 'confirmed', 'appointments', 'stating', 'adds', 'teas', 'toward', 'recall', 'foodie', 'ups', 'fortunately', 'k', 'confirm', 'dates', 'created', 'mojito', 'luxury', 'vous', 'war', 'repairs', 'milkshake', 'layer', 'tray', 'eastern', 'essentially', 'adequate', 'research', 'minor', 'amazingly', 'grace', 'cooler', 'barbecue', 'unbelievable', 'uh', 'laughing', 'newer', 'coworker', 'sampled', 'squash', 'lousy', 'almond', 'bottled', 'jeans', 'lacks', 'gordon', 'runny', 'hat', 'stumbled', 'finishing', 'language', 'hipster', 'swimming', 'nervous', 'loose', 'everybody', 'benefit', 'sigh', 'dropping', 'stir', 'program', 'locally', 'moon', 'skinny', 'nicht', 'singing', 'parked', 'jewelry', 'pocket', 'theirs', 'attend', 'crave', 'pillows', 'certificate', '2012', 'performance', 'cared', 'mahi', 'soleil', 'monte', 'phones', 'venture', 'reach', 'couches', 'aged', 'twist', 'surgery', 'lil', 'handled', 'queso', 'skewers', 'hated', 'surprising', 'acts', 'competition', 'occupied', '):', 'hence', 'gal', 'diego', 'throwing', 'carte', 'human', 'facial', 'rule', 'fajitas', 'satisfy', 'shady', 'underwhelming', 'insane', 'pushing', 'liquid', 'session', 'poisoning', 'dust', 'rudely', 'mongolian', 'gratuity', 'disappeared', 'occasionally', 'admission', 'happily', 'ha', 'overrated', 'steal', 'sweetness', 'shift', 'library', 'mash', 'vintage', 'branch', 'duty', 'commented', 'character', 'fired', 'maintained', 'reviewed', 'lately', 'district', 'puts', 'restrooms', 'sundae', 'stays', 'attempted', 'octopus', 'knowledgable', 'breads', 'southwest', 'brie', 'wasabi', 'jump', 'aioli', 'hi', 'chinatown', 'brewery', 'charm', 'hundreds', '28', 'rainbow', 'definite', 'blonde', 'draw', 'comedy', 'bang', 'bummer', 'girlfriends', 'festival', 'bored', 'palms', 'inspired', 'requests', 'appearance', 'collection', 'police', 'chances', 'sirloin', 'memory', 'whiskey', 'companion', 'disaster', 'beauty', 'marked', 'boiled', 'buttery', 'conveniently', 'reception', 'staple', 'brick', 'load', 'creepy', 'raved', 'delight', 'slide', '500', 'appear', 'concierge', 'croissant', 'fed', 'attractive', 'sundays', 'lightly', 'nutella', 'peak', 'cigarette', 'assistant', 'diamond', 'grass', 'german', 'politely', 'ideal', 'drunken', 'seasonal', 'sloppy', 'crack', 'caused', 'doctors', 'accurate', 'catfish', 'superior', 'custom', 'steve', 'punch', '32', 'blew', 'campus', 'pickled', 'sorts', 'stories', 'stops', 'appetizing', 'soaked', 'ample', 'facebook', 'highlights', 'crawfish', 'hooked', 'death', 'metro', 'players', 'numbers', 'wave', 'rain', '.the', 'shitty', '4.5', 'peach', 'declined', 'hut', '19', 'staring', 'hh', 'breading', 'record', 'lesson', 'peanuts', 'reality', 'stack', 'atm', 'vinaigrette', 'advised', 'leather', 'technician', 'facilities', 'booking', 'breaded', 'embarrassed', 'dealership', 'alcoholic', 'limit', 'wonton', 'poke', 'ce', 'ne', 'straw', 'underwhelmed', 'spiced', 'features', 'buzz', 'plans', 'farm', 'tiramisu', 'uptown', 'thanksgiving', 'sin', 'puppy', 'alas', 'phx', 'involved', 'ratio', 'rid', 'lively', 'es', 'themed', 'pump', 'guard', 'bands', 'august', 'grown', 'legit', 'exterior', 'raving', 'facing', 'arm', 'ingredient', 'minimal', 'aka', 'welcomed', 'associate', 'locked', 'elegant', 'provides', 'stew', 'freezer', 'pride', 'motel', 'shock', 'hoped', '26', 'pretentious', 'visitors', 'safety', 'edamame', 'incompetent', 'silly', 'smoothies', 'rewards', 'idiot', 'purpose', 'flights', 'terminal', 'plane', 'thorough', 'connected', 'wicked', 'flow', 'flatbread', 'fountains', 'i.e.', 'max', 'sheets', 'compliment', 'reputation', 'opens', 'damage', 'claimed', 'mexico', 'smoky', 'communication', 'obnoxious', 'sunset', 'concerns', 'boo', 'hearty', 'sam', 'bear', 'arugula', 'rosemary', 'blt', 'dealt', 'steps', 'nicest', 'cosmo', 'impeccable', 'dealer', 'meatloaf', 'braised', 'hitting', 'kicked', 'mocha', 'lay', 'eve', 'tho', 'recipe', 'appeal', 'shoulder', 'hostesses', 'staffed', 'divine', 'sky', '_', 'irritated', 'feature', 'amongst', 'listening', 'eyebrows', 'bargain', 'parm', 'labor', 'thinks', 'karaoke', 'watermelon', 'surely', 'condiments', 'monthly', '27', 'butt', 'fyi', 'chick', 'fianc', 'laughed', 'scallop', 'tr', 'smokey', '-the', 'dans', '.and', '99', 'ending', 'chic', 'happier', 'cracked', 'dealers', 'amazed', 'falls', 'sauteed', 'p.s', 'fox', 'ignore', 'supervisor', 'fondue', 'francisco', 'rep', 'painted', 'slowly', 'skillet', 'yep', 'whom', 'estimate', 'providing', 'guessing', 'explanation', 'er', 'emergency', 'swiss', 'ps', 'pastas', 'tooth', 'voucher', 'pickle', 'cashiers', 'halfway', 'carpets', 'surf', 'fruits', 'pint', 'scary', 'spare', 'retail', 'heels', 'dinning', 'painful', 'mirror', 'ricotta', 'aspect', '23', 'inconsistent', 'ages', 'fashioned', 'peas', 'tangy', 'wedge', 'march', 'volume', 'closet', 'fool', 'error', 'sodas', 'medical', 'fucking', 'stains', 'jungle', 'blvd', 'ruin', 'sing', '.but', 'yelled', 'invited', 'franchise', 'tree', 'charming', 'upper', 'prescription', 'direct', 'join', 'receiving', 'additionally', 'curious', 'boutique', 'greeting', 'torn', 'royal', 'soap', 'outlet', 'button', 'wasting', 'featured', 'wheel', 'iceberg', 'loss', 'executed', 'stadium', 'purchasing', 'yea', 'chops', 'justify', 'alley', 'lamp', 'loyal', 'referred', 'huh', 'tenders', 'appt', 'attendant', 'summerlin', 'avec', 'mechanic', 'refuse', 'pressed', 'coat', 'uses', 'flip', '2011', 'ins', 'ihop', 'nose', 'massages', 'george', 'triple', 'hundred', 'decorations', 'ears', 'purse', 'agent', 'lee', 'yellowtail', 'lovers', 'arcade', 'beats', 'utensils', 'pulling', 'subpar', 'surrounding', 'scratch', 'incident', 'whose', '2.50', 'herbs', 'patties', 'understood', 'knocked', 'breath', 'dave', 'apples', 'outlets', 'miserable', 'rented', 'balanced', 'caring', 'patients', 'nurse', 'gilbert', 'u00f1o', 'gooey', 'pushy', 'bones', 'genuinely', 'native', 'ultimately', 'del', 'losing', 'props', 'western', 'dipped', 'letter', 'hike', 'tenderloin', 'june', 'spray', 'genuine', 'sweat', 'shelf', 'pharmacy', 'jazz', 'rolling', 'condescending', 'bird', 'lied', 'lane', 'albeit', 'fav', 'locker', 'salsas', 'caprese', 'importantly', 'creamed', 'gladly', 'toys', 'advise', 'license', 'p.m.', 'related', 'hilton', 'surrounded', 'naturally', 'ah', 'lead', 'require', 'argue', 'rules', 'poached', 'rum', 'assortment', 'styles', 'hospitality', 'da', 'mass', 'pear', 'joy', 'horrendous', 'pollo', 'squid', 'ratings', 'wipe', 'extended', 'horribly', 'overlooking', 'sweets', 'snob', 'powder', 'status', 'bull', 'hangover', 'choosing', 'dental', 'se', 'adorable', 'jobs', 'p', 'blackjack', 'auch', 'disgusted', 'freakin', 'diverse', 'processed', 'skipped', 'kudos', 'patience', 'treasure', 'ease', 'discounts', 'bucket', '1.5', 'lying', 'needing', 'reviewing', 'u00e9cor', 'belt', 'ceilings', 'tipped', 'incorrect', 'canyon', 'zone', 'iphone', '=)', 'combined', 'prix', 'deck', 'bleu', 'palate', 'renovated', 'inches', 'trader', 'chew', 'enormous', 'carried', 'execution', 'amounts', 'sucker', 'chai', 'woke', 'accident', 'nut', 'cow', 'airline', 'apparent', 'glazed', 'depends', 'truth', 'reply', 'neighbors', 'ppl', 'pickup', 'gaming', 'convinced', 'moves', 'scam', 'mission', 'bachelorette', 'houses', 'halibut', 'stress', 'brands', 'trio', 'loving', 'trade', 'caf', 'fuck', 'tartare', 'arrives', 'informative', 'accessories', 'seemingly', 'jason', 'junk', 'december', 'player', 'latest', 'master', 'deserts', 'turning', 'covers', 'culture', 'urban', 'pico', 'model', 'placing', 'zoo', 'hilarious', 'copy', 'jalapenos', 'oxtail', 'freezing', 'ray', 'eatery', 'piping', 'presence', 'approach', 'dumb', 'piled', 'smiling', 'soo', 'salons', 'italy', 'mart', 'edges', 'shaped', 'unimpressed', 'rail', 'courtesy', 'trees', 'charred', 'cancelled', 'goodies', 'j', 'jar', 'basics', 'colored', 'cali', 'circle', 'warn', 'servings', 'sticking', 'seaweed', 'performers', 'rd', 'entr', 'sending', 'dairy', 'supermarket', 'ear', 'brews', 'closes', 'v', 'attending', 'sells', 'plays', 'shelves', 'university', 'reserve', 'existent', 'passion', 'yo', 'cent', 'colorful', 'containers', 'mistakes', 'completed', 'gripe', 'yelper', 'gun', 'd.', 'significant', 'opposed', 'jacuzzi', 'paella', 'muffins', 'moments', 'marks', 'boot', 'excalibur', 'roller', 'epic', 'april', 'suspect', 'fond', 'switched', 'network', 'battered', 'printed', 'proximity', 'feast', 'selected', 'hesitant', 'shade', 'shorts', 'select', 'transaction', 'content', 'fear', 'navigate', 'therapist', 'guarantee', 'chilled', 'gigantic', 'camera', 'instantly', 'skeptical', 'floating', 'discover', 'tacky', 'barista', 'understaffed', 'lock', 'firm', 'web', 'blowing', 'naked', 'decently', 'installed', 'silver', 'hood', 'blended', 'reuben', 'packaged', 'flavour', 'cabana', 'filipino', 'pounds', 'category', 'wondered', 'hangout', 'wooden', 'conversations', 'respond', 'ensure', 'strongly', 'angel', 'americanized', '5th', 'definately', 'spin', 'outback', 'constant', 'curds', 'wendy', 'bug', 'mixture', 'behavior', 'camelback', 'sorbet', 'kim', 'inattentive', 'artist', 'array', 'crusted', 'pretzels', 'celery', 'cheesesteak', 'advertising', 'sahara', 'catering', 'gyros', 'kale', 'partying', 'combinations', 'fave', 'deposit', 'mimosas', 'stare', 'hockey', 'tony', 'pastor', 'petite', 'nous', 'talented', 'paste', 'desperate', 'expert', 'hibachi', 'trick', 'rang', 'squeezed', 'pathetic', 'remodel', 'pricy', 'approximately', 'sans', 'engine', 'refried', 'economy', 'asu', 'conclusion', 'yell', 'lb', 'priority', 'sooner', 'drenched', 'opt', 'veg', 'groceries', 'shampoo', 'driven', 'cases', 'downright', 'sleeping', 'tile', 'drivers', 'joined', 'clock', 'smiles', '2010', 'sober', 'kung', 'properties', 'smith', 'deciding', 'touched', 'varieties', 'overpowering', 'answers', 'shells', 'endless', 'laundry', 'billing', 'carlo', 'zu', 'piano', 'matters', 'anybody', 'european', 'breeze', 'dingy', 'gin', 'port', 'limp', 'path', 'intended', 'lease', 'gifts', 'cranberry', 'wa', 'competitive', 'creek', 'preference', 'grandma', 'dryer', 'preparation', 'wake', 'gut', 'yu', 'hired', 'spirit', 'heavily', 'eight', 'steer', 'exhibit', 'laptop', 'sip', 'solely', 'length', 'luke', 'leaf', 'rustic', 'kabob', 'grille', 'vast', 'masala', 'listened', 'oddly', 'scramble', 'anyhow', 'desire', 'international', 'freshness', 'backed', 'eager', 'hunt', 'cater', 'reliable', 'loudly', 'batch', 'verde', 'flaky', 'u00e9s', 'bon', 'jokes', 'caramelized', 'artists', 'washing', 'bummed', 'ipa', 'repeatedly', 'avenue', 'trek', '400', 'squeeze', 'smothered', 'horseradish', 'fourth', 'automatically', 'discounted', 'calm', 'cravings', 'knots', 'turf', 'cuban', 'bobby', 'oatmeal', 'beatles', 'u00fcr', 'hills', 'flies', 'brewed', 'microwaved', 'tavern', 'inform', 'hollandaise', 'pops', 'corrected', 'carrying', 'install', 'upside', 'sections', 'subtle', 'shoot', 'adventure', 'acting', 'cone', 'ka', 'pics', 'cracker', 'stuffing', 'uncle', 'sheet', 'bulgogi', 'si', 'deluxe', 'winning', 'timing', 'companions', 'clinic', 'spotty', 'jumped', 'bare', 'hyped', 'connection', 'paired', 'supply', 'barber', 'hamburgers', 'feelings', 'fridays', 'theaters', 'rides', 'force', 'trucks', 'herb', 'favourite', 'detailed', 'sits', 'heavenly', 'burning', 'continues', 'suddenly', 'ultimate', 'pairing', 'delay', 'crackers', 'hr', 'notes', 'spilled', 'boston', 'gay', 'martinis', 'meanwhile', 'pizzeria', 'breaking', 'tends', 'napkin', 'grey', 'smiled', 'blank', 'excuses', 'killed', 'jelly', 'adventurous', 'angeles', 'pedicures', 'baguette', 'kimchi', 'infused', 'temp', 'vendors', 'drain', 'dear', 'castle', 'directions', 'bud', 'asap', 'operation', 'wagyu', 'curtains', 'berry', 'ramsay', 'bien', 'dripping', 'tattoo', 'settle', 'forgettable', 'ew', 'lighter', 'whim', 'drag', 'file', 'guide', '.it', 'uni', 'basketball', 'radio', 'signage', 'trail', 'dang', 'advertise', 'newly', 'maker', 'underneath', 'january', 'katsu', 'mit', 'sur', 'contemporary', 'clueless', 'repeated', 'study', 'watering', 'steakhouses', 'sharp', 'lanes', 'refrigerator', 'refer', 'shown', 'mousse', 'breaks', 'perform', 'hooters', 'tout', 'kinks', 'stained', 'instructors', 'confusion', 'bikes', 'cr', 'lasted', 'timeshare', 'den', 'sunny', 'unnecessary', 'smelling', 'thousands', 'celebrity', 'stunning', 'mex', 'dare', 'meaty', 'supplies', 'spaces', 'streets', 'trim', 'toes', 'hesitate', 'yr', 'vs', '55', 'overdone', 'nine', 'insanely', 'someplace', 'rounds', 'harder', 'term', 'bday', 'arms', 'grow', 'tryst', 'largest', 'waxing', 'chatted', 'overlook', 'rub', 'faux', 'socks', 'elvis', 'ed', 'wandering', 'grabbing', 'accidentally', 'bs', 'bake', 'holidays', 'liver', 'situated', 'disorganized', 'glance', 'luxurious', 'buddies', 'grounds', 'dime', 'wisconsin', 'sourdough', 'emailed', 'meets', 'rotation', 'prove', 'tamale', 'relleno', '1.50', 'solution', 'pregnant', 'icing', 'carpaccio', 'drops', 'feedback', 'thirsty', 'retro', 'u00e9tait', 'claims', 'celebrating', 'delicate', 'resist', 'fits', 'fig', 'recommending', 'vs.', 'trap', 'routine', 'organization', 'bento', 'aisles', 'randomly', 'mold', 'substitute', 'carts', 'sir', 'boots', 'expectation', 'success', 'gates', 'japan', 'merchandise', 'gallo', 'route', 'lunches', 'aisle', 'professionalism', 'hook', 'handling', 'pasty', 'salesman', 'limo', 'sont', 'sehr', 'rubber', 'faced', 'norm', 'penne', 'google', \"c'm\", 'salami', 'angus', 'gloves', 'warehouse', 'lap', 'lamps', 'van', 'thousand', 'arena', 'apologies', 'ma', 'convince', 'leak', 'remodeled', 'reached', 'dying', 'citrus', 'production', 'pets', 'jumbo', 'tamales', 'race', 'successful', 'instructor', 'tools', 'frank', 'highest', 'mochi', 'stickers', '7:30', 'doughy', 'novelty', 'focused', 'questionable', 'packages', 'excitement', 'brazilian', 'nature', 'dislike', 'walnut', 'wal', 'useless', 'cable', 'summary', 'boarding', 'forum', '65', 'married', 'neighbor', 'attempts', 'satisfaction', 'exam', 'hrs', 'paul', 'depot', 'reheated', 'gyoza', 'marrow', 'husbands', 'expired', 'leftover', 'responsibility', 'jimmy', 'stretch', 'mystery', 'sketchy', 'bitch', 'unexpected', 'udon', 'link', 'fillet', 'leading', 'ocean', 'discuss', 'depressing', 'proud', 'crown', 'assist', 'peaks', 'spoken', 'hide', 'miracle', 'judging', 'jersey', 'carefully', 'grain', 'smallest', 'consists', 'nugget', 'beforehand', 'dozens', 'layers', 'exist', 'cigarettes', 'rear', 'statement', 'causing', 'pouring', 'interaction', 'bride', '48', 'loads', 'eateries', 'sausages', 'ship', 'neon', 'film', 'orleans', 'cave', 'catching', 'proof', 'skimpy', 'spit', 'conditioning', 'ownership', 'press', 'dense', 'hers', 'nevada', 'hamachi', 'brioche', 'bouchon', 'bulk', 'significantly', 'allows', 'renovation', 'riding', 'stolen', 'born', 'roughly', 'explore', 'cappuccino', 'project', 'croissants', 'pao', 'remain', 'accepted', 'buildings', 'ounce', 'rushing', 'hallways', 'gm', 'ability', 'baseball', 'eclectic', 'combos', 'indicated', 'flan', 'fuss', 'med', 'pinot', 'q', 'cardboard', 'sand', 'lifetime', 'answering', 'ur', 'banh', 'bourbon', 'promising', 'u00e8re', 'aber', 'healthier', 'dangerous', 'holds', 'wonderfully', 'rotten', 'leads', 'cities', 'allowing', 'i.', 'atrocious', 'varied', 'accent', 'cheers', 'pinch', 'redeeming', 'remaining', 'cowboy', 'grateful', 'prawns', 'wowed', 'halloween', 'soak', 'lean', 'exceptionally', 'swim', 'cotton', 'virtually', 'ph', 'stared', 'visible', 'quit', 'maid', 'wee', 'tricks', 'marketing', 'acrobatics', 'splurge', 'saturdays', 'bench', 'sf', 'tempted', 'drinker', 'concoction', 'crying', 'negatives', 'courtyard', 'associates', 'mellow', 'structure', 'practices', 'dente', 'sparse', 'nom', 'pretend', 'activities', 'accessible', 'costume', 'snotty', 'becoming', 'shrimps', 'wiped', 'a+', 'vegetarians', 'confident', 'skirt', 'don', 'caviar', 'jet', 'kindly', 'eel', 'humor', 'dudes', 'warmer', 'tears', 'plants', 'b.', 'dragged', 'emails', 'cvs', 'severely', 'flower', 'bizarre', 'extras', 'po', 'tater', 'touching', 'television', 'military', 'showers', 'medicine', 'terrace', 'extreme', 'separately', 'exotic', 'laws', 'hotter', 'indulge', 'privacy', 'capacity', 'spiciness', 'gear', 'foam', 'witnessed', 'preparing', 'headache', 'jose', 'doughnuts', 'hookah', 'harrah', 'ein', 'coffees', 'pecan', 'wilted', 'insult', 'refunded', 'milkshakes', 'attraction', 'gallery', 'died', 'prep', 'ruth', 'effect', 'capital', 'decadent', 'shall', 'bat', 'avoiding', 'evenings', 'finest', 'procedure', 'frame', 'tear', 'centre', 'boat', 'pepsi', 'ex', 'thoughts', 'mirrors', 'dragon', 'renting', 'hmm', 'wound', 'lunchtime', 'harsh', 'strictly', 'em', 'bubble', 'shooting', 'lux', 'republic', 'designer', 'confit', 'lotion', 'craps', 'hungover', \"j'ai\", 'hearts', 'brothers', 'papa', 'tuesdays', 'contrast', 'avoided', 'hunger', 'compliments', 'beet', '10:30', 'versus', 'purple', 'nerve', 'tube', 'blackened', 'messages', 'picnic', 'manger', 'purchases', 'gumbo', 'remained', 'costumes', 'covering', 'apartments', 'splitting', 'ranging', 'learning', 'fifteen', 'demand', 'artwork', 'sage', 'puffs', 'trays', 'supporting', 'kalbi', 'tummy', '6:30', 'bachelor', 'drizzled', 'guilty', 'asleep', 'styrofoam', 'hometown', 'ignoring', 'scott', 'char', 'lotus', 'adjacent', 'grape', 'stole', 'national', 'entertained', 'colleagues', '7th', 'repaired', 'union', 'filter', 'league', 'kfc', 'brief', 'alive', 'cox', 'sauna', 'shout', 'november', 'scotch', 'babies', 'fudge', 'gorgonzola', 'tropicana', 'empanadas', 'electronic', 'chang', 'admitted', 'cleaners', 'ultra', 'ideas', 'carries', 'contained', 'stuffy', 'toddler', 'aroma', 'aid', 'bump', 'assigned', '120', 'johnny', 'waits', 'narrow', 'fitting', 'shabby', 'exposed', 'bye', 'confirmation', 'commercial', 'consideration', 'sprinkled', 'mole', 'earl', 'scoops', 'handy', 'peel', 'di', 'calzone', 'offended', 'hosts', 'fruity', 'solo', 'unbelievably', 'quiche', 'rye', 'arts', 'october', 'succulent', 'popping', 'chocolates', 'corners', 'greatly', 'denied', 'pa', 'positives', 'grande', 'tram', 'understandable', 'apologizing', 'cap', 'reaction', 'oriented', 'award', 'embarrassing', 'sensitive', 'clubbing', 'aunt', 'seek', 'slower', 'addressed', 'creativity', 'scream', 'vehicles', 'questioned', 'industrial', 'responsible', 'diced', 'flagged', 'oregano', 'whip', 'glendale', 'waterfall', 'damaged', 'blows', 'busier', 'inquired', 'c.', 'ipad', 'glaze', 'brain', 'assistance', 'grimaldi', 'dunkin', 'elements', 'dumpling', 'trop', 'rabbit', 'vdara', 'peu', 'pf', 'crusty', 'inspection', 'chunk', 'dissapointed', 'oj', '5.00', 'browse', 'bridge', 'magical', 'deliciousness', 'omelets', 'annual', 'carolina', 'buyer', 'dumped', 'matt', 'admittedly', '29', 'genius', 'resident', 'separated', 'yup', 'safeway', 'tipping', 'mentioning', 'impatient', 'painting', 'horse', 'sprinkles', 'representative', 'puree', 'macaroons', 'celebration', 'talent', '8:30', 'occasional', 'thicker', 'unsatisfied', 'slammed', 'electric', 'biz', 'panang', 'complicated', 'excessive', 'edit', 'bothering', 'harris', 'daughters', 'substance', 'wandered', 'directed', 'pointing', 'becomes', 'wireless', 'scenery', 'backs', 'cardio', 'ad', 'elderly', 'sole', 'reflect', 'cheerful', '101', 'crabs', 'creating', 'keg', 'depth', 'wind', 'sofa', 'yikes', 'runner', 'delectable', 'freeway', 'allergic', 'shoulders', 'aquarium', 'firefly', 'bally', 'bacchanal', 'teacher', 'allergies', 'century', 'louis', 'element', 'provolone', 'false', 'lined', 'imo', 'pillow', 'thrift', 'saut', 'croutons', 'distracted', 'string', 'guessed', 'flash', 'quicker', 'instant', 'fooled', 'speaks', '3.50', 'speakers', 'pong', 'rows', 'swing', 'raise', 'instructions', 'frustration', 'piss', 'pic', 'barrel', 'pistachio', 'channel', 'encounter', 'bathtub', 'stratosphere', 'bi', 'u00eame', 'arguing', 'requires', 'slider', 'pricier', 'fighting', 'accompanying', 'september', 'enthusiastic', 'gracious', 'equal', 'stingy', 'shaking', 'thirty', 'lychee', 'windshield', 'sporting', 'reduced', 'dc', 'outfits', 'ft', 'attendants', 'altogether', 'comparing', 'crumbs', 'recognize', 'unorganized', 'slip', 'biltmore', 'torta', 'skimp', 'ventured', '9.99', 'racks', 'puppies', '9:30', 'taxes', 'amazon', 'device', 'fixe', 'sport', 'weekdays', 'dull', 'reads', 'resolved', 'scrumptious', 'mia', \"ol'\", 'carbs', 'frills', 'patiently', 'handing', 'records', 'suits', 'tikka', 'newest', 'plumbing', 'officially', 'signing', 'teenagers', 'attack', 'msg', 'sophisticated', 'devoured', 'primarily', 'fills', 'authenticity', 'spotted', 'aggressive', 'replacing', 'forgetting', 'serviced', 'guaranteed', 'activity', 'recognized', 'secondly', 'butcher', 'venues', 'brooklyn', 'techs', 'marsala', 'chosen', 'eaters', 'ti', 'produced', 'robin', 'tool', 'promotion', 'chase', 'restaurant.com', 'attempting', 'coated', 'tartar', 'monster', 'videos', 'shorter', 'dan', 'cans', 'loaf', 'absurd', 'candle', 'disney', 'moderately', 'boneless', 'grandmother', 'z', 'artichokes', 'immediate', 'sufficient', 'friendliness', 'upbeat', 'challenging', 'displays', 'recipes', 'behold', 'stacked', 'laying', 'crushed', 'uneven', 'sex', 'memorial', 'sticker', 'trivia', 'tri', 'towers', 'comme', '.so', 'mildly', 'fortune', 'byob', 'gentlemen', 'material', 'severe', 'trusted', 'yrs', 'lining', 'increase', 'series', 'overnight', 'houston', '95', 'exercise', 'curtain', 'greater', 'atop', 'mimosa', 'carb', 'pots', 'jus', 'regards', 'cubes', 'wore', 'equivalent', 'coco', 'earn', 'condo', 'hiking', 'digress', 'borderline', 'yours', 'oreo', 'wei', 'tanning', 'kicking', 'parent', 'ou', 'escape', 'wth', 'journey', 'instance', 'performed', 'sugary', 'injury', 'cast', 'ie', 'rim', 'fab', 'caliber', 'bold', 'senior', 'soccer', 'u00e9ed', 'wander', 'a.m.', 'clearance', 'seeds', 'mama', 'intense', 'abundance', 'odor', 'airlines', 'latter', 'plethora', 'wedges', 'mega', 'imperial', 'pleasing', 'teach', 'reminiscent', 'appalled', 'stools', 'sinks', 'thankful', 'shave', 'locate', 'tow', 'latin', 'mandarin', 'peace', 'cucumbers', 'demeanor', 'rowdy', 'multi', 'brewing', 'dusty', 'chilli', 'deserved', 'brows', 'smash', 'promoter', 'von', 'jacket', 'counting', 'cola', 'mere', 'beside', 'crammed', 'source', 'delivers', 'profit', 'worries', 'hubs', 'loyalty', 'melts', 'sampling', 'relish', 'pains', 'airy', 'delivering', 'jumping', 'tape', 'cannoli', 'birds', 'duh', 'sore', 'physical', 'fifth', 'sudden', 'bumped', 'residents', 'horchata', 'float', 'linguine', 'tropical', 'urgent', 'aloha', 'criticism', 'warmed', 'overlooked', 'chipped', 'honda', 'joking', 'scrub', 'nobu', 'gratin', 'thomas', 'individually', 'panera', 'jim', 'utterly', 'bin', '4.50', 'rounded', \"'em\", '85', 'competent', 'ethnic', 'adjust', 'textures', 'picks', 'pairs', 'exists', 'dissatisfied', 'fryer', 'cobb', 'inventory', 'outdoors', 'valentine', 'humble', 'quesadillas', 'lump', 'partially', 'merely', 'pomegranate', 'displayed', 'marketplace', 'champaign', 'garnish', 'spam', 'flew', 'touristy', '7.99', 'umm', 'dreams', 'extraordinary', 'pale', 'minded', 'cry', 'james', '36', 'truffles', 'media', 'reschedule', 'seasons', 'wontons', 'inconvenient', 'addicted', 'benches', 'guitar', 'mondays', 'applebee', 'granola', 'architecture', 'slab', 'childhood', 'county', 'horror', 'slept', 'cured', 'busboy', 'exceeded', 'tastier', 'highway', 'rant', 'melting', 'tilapia', 'personnel', 'delighted', 'reported', 'treating', 'walgreens', 'shy', 'ringing', 'baklava', 'eric', 'costing', 'homeless', 'remarkable', 'niece', 'baja', 'horrid', 'tee', 'posh', 'countless', 'fails', 'ryan', 'hefty', 'attitudes', 'aj', 'speaker', 'ashamed', 'stylish', 'okra', 'zen', 'arcadia', 'treatments', 'cough', 'remote', 'jr', 'santa', 'zip', 'argued', 'jerky', 'jean', 'palm', 'slimy', 'tres', 'brush', 'mixing', 'surface', 'stamp', 'verify', 'baskets', 'benefits', 'splash', 'nap', 'blind', 'dunno', 'flakes', 'consumed', 'swanky', 'manhattan', 'hustle', 'resolve', 'pages', 'ghost', 'ra', 'romaine', 'ikea', 'fuel', 'crawl', 'berries', 'prevent', 'owns', 'unhelpful', 'carving', 'critical', 'quest', 'roommate', 'accordingly', 'thinly', 'mornings', 'monkey', 'gosh', 'title', 'designs', 'unsure', 'hats', 'blanket', 'sweating', 'toe', 'relationship', 'fundido', 'puck', 'outta', 'plantains', 'heater', 'puff', 'taro', 'executive', 'nacho', 'strings', 'overpowered', 'basement', 'cameras', 'teachers', 'a.', 'bob', 'energetic', 'liberty', 'thanked', 'remains', 'bottomless', 'chaos', 'beets', 'signal', 'peaceful', 'throat', 'fettuccine', 'shipping', 'searched', 'shiny', 'core', 'marriott', 'automated', 'northern', 'spinning', 'measure', 'tie', 'independent', 'maintain', 'lashes', 'encourage', '5.99', 'frequented', 'chit', 'leaking', ':-(', 'adore', 'notified', 'shoved', 'esp', 'cactus', '110', 'freshest', 'busser', 'proved', 'flowing', 'nearest', 'freak', 'pr', 'mush', 'reduction', 'links', 'butternut', '10.00', 'speedy', 's.', 'individuals', 'belgian', 'anticipated', 'mechanical', 'toilets', 'weights', '5:30', 'scent', 'charlie', 'awe', 'counters', 'baristas', 'indoors', 'passable', 'cauliflower', 'conditioner', 'loin', 'tex', 'intrigued', 'pee', 'connect', 'garlicky', 'computers', 'fixing', 'staples', 'ala', 'satisfactory', 'cigar', 'forgive', 'curries', 'playground', 'renovations', 'friendlier', 'operated', 'vacuum', 'primary', 'tests', 'lbs', 'comforting', 'mojitos', 'realizing', 'complimented', 'stinks', 'associated', 'british', 'chimichanga', 'stressed', 'mains', 'vision', 'snobby', 'foster', '39', 'lip', 'quarters', 'souffle', 'amuse', 'foil', 'fillings', 'position', 'inappropriate', 'stephanie', 'unlv', 'edc', 'pyramid', 'smashburger', 'vraiment', 'auf', 'wir', 'spirits', 'apply', 'calorie', 'insulting', 'shine', 'powdered', 'science', 'steel', 'crime', 'goodbye', 'steaming', 'drawn', 'arranged', 'afterward', 'munchies', 'pearl', 'refilling', 'wishing', 'malls', 'technicians', 'kicker', 'tunes', 'bumping', 'gesture', 'longest', 'identity', 'channels', 'alarm', 'accustomed', 'rescue', 'border', 'determined', 'sums', 'exhibits', 'dug', 'disrespectful', 'availability', 'hipsters', 'overheard', 'desperately', 'sparkling', 'loco', 'mai', 'brakes', 'horrific', 'featuring', 'arrogant', 'smelly', 'effects', 'ben', 'mario', 'candles', 'sweaty', 'monorail', 'bison', 'brussel', 'confidence', 'soaking', 'quieter', 'perk', '80s', 'flair', 'stiff', 'stylists', 'curly', 'perspective', 'penn', 'hazelnut', 'coating', 'moms', 'coolest', 'eggrolls', 'map', 'technique', 'platinum', 'mayonnaise', 'sp', '800', 'jambalaya', 'compete', 'volcano', 'scampi', 'scattered', '~', 'rudest', 'tzatziki', 'automatic', 'maze', 'proceeds', 'struck', 'sleek', 'tradition', 'bodies', 'overhead', 'nevertheless', 'quail', 'posting', 'shouting', 'chaotic', 'trainers', '11:30', 'tokyo', 'rudeness', 'belong', 'jennifer', 'russian', 'mattress', 'envy', 'sw', 'tubs', 'lava', 'smashed', 'ashley', 'brilliant', 'guinness', 'outs', 'roberto', 'ventilation', 'beignets', 'bachi', 'sheer', 'washes', 'haircuts', 'paintings', 'dedicated', 'princess', 'michelle', 'sites', 'india', 'someday', 'policies', 'sisters', 'rocked', 'homey', 'laden', 'scottish', 'uninspired', 'chunky', 'sorta', 'ho', 'airports', 'airways', 'magazine', 'bound', 'dos', 'fiancee', 'bleh', 'mal', 'cantina', 'inquire', 'unappetizing', 'engaging', 'burro', 'surroundings', 'chewing', 'sweeter', 'photographer', 'compensate', 'pubs', 'groupons', 'finds', 'ipod', 'foreign', 'rubbed', 'neglected', 'expense', 'postino', 'plug', 'partial', 'differently', 'anthony', 'pete', 'resorts', 'failure', 'visual', 'portioned', 'walkway', 'douche', 'u00eatre', 'gritty', 'surly', 'misleading', 'breadsticks', 'rooftop', 'proceed', 'overs', 'beaten', 'caution', 'patronize', 'ramsey', 'asshole', 'praise', '250', 'returns', 'storage', 'fajita', 'biased', 'sidewalk', 'intention', 'danced', 'experiencing', 'escorted', 'percent', 'secure', 'cesar', 'relative', 'mug', 'preface', 'tricky', 'conditions', 'bears', 'applied', 'remotely', 'indifferent', 'accommodated', 'joes', 'relief', 'grumpy', 'huevos', 'equipped', 'expressed', 'lord', 'subject', ';-)', 'strangers', 'expand', 'vouchers', 'shawarma', 'teppanyaki', '.not', 'appropriately', 'brow', 'pole', 'comps', 'carnival', 'rex', 'zumanity', 'fois', 'eine', 'grossed', 'holder', 'eyebrow', 'quirky', 'seattle', 'cultural', 'caters', 'packs', 'assorted', 'cider', 'distinct', 'westin', 'transfer', 'farmer', 'fallen', 'referring', 'tissue', 'esque', 'toffee', 'gyms', 'pockets', 'breakfasts', 'noticing', 'fixtures', 'savings', 'decoration', 'defiantly', 'bust', 'djs', 'snooty', 'deliciously', 'brownies', 'foul', 'concrete', 'evil', 'domestic', 'talks', 'lion', 'discussing', 'boiling', 'bleeding', 'legal', 'verdict', 'palette', '21st', 'pays', 'payed', 'technically', 'vomit', 'nephew', 'wherever', 'labeled', 'funds', 'anxious', 'remedy', 'vig', 'tasteful', 'nickel', 'lowest', 'mode', 'greedy', 'brake', 'madness', 'farmers', 'smokers', 'revisit', 'nonsense', 'hella', 'whisky', 'trump', 'resto', 'harrahs', 'sanitary', 'climbing', 'polenta', 'collard', 'upfront', 'miller', 'redeem', 'fireplace', 'idiots', 'primanti', 'w.', 'bridal', 'updating', 'dick', 'stepping', 'shoppers', 'catered', 'delayed', 'definition', 'disappoints', 'sorely', 'brag', 'smack', 'peeve', 'downfall', 'satay', 'tiger', 'habit', 'stall', 'trashy', 'doc', '4:30', 'testing', 'struggling', 'honesty', 'breaker', 'image', 'ross', 'amc', 'succeed', 'polished', 'scheduling', 'billed', 'forms', 'lounges', 'encouraged', 'rancheros', ':p', 'complement', 'gray', 'imitation', 'misters', 'birth', 'turkish', 'strength', 'kona', 'matched', 'capers', 'performances', 'sls', 'dill', 'acoustics', 'dd', 'figuring', 'unremarkable', 'slap', 'thinner', 'traveler', 'fresher', 'concerts', 'belongings', 'operate', 'washer', 'toss', 'visitor', 'communicate', 'chilly', 'discussion', 'scan', 'nye', 'midwest', 'competitors', 'allergy', 'converted', 'viewing', 'reward', 'landed', 'descent', 'enjoys', 'coach', 'sons', 'baking', 'walnuts', 'lentils', 'bo', 'reverse', 'colleague', 'aspects', 'hertz', 'friendliest', 'fennel', 'diarrhea', 'dane', 'tune', 'parks', 'identical', 'ann', 'cafes', 'steady', 'tostada', 'goal', 'gallon', 'backyard', 'l.a', 'conscious', 'nuggets', 'grooming', 'decline', 'outing', 'uber', 'specially', 'expanded', 'bravo', 'distracting', 'aftertaste', 'marginal', 'resulted', 'cob', 'contacts', 'spoons', 'poblano', 'buttermilk', 'strict', 'offensive', 'easter', 'nite', 'exhausted', 'roulette', 'aussi', 'versions', '2:30', 'gap', 'fraction', 'addicting', 'alert', 'newspaper', 'lift', 'chicks', 'introduce', 'shrugged', 'smoothly', 'ole', 'historic', 'lemongrass', 'ginormous', 'guards', 'connoisseur', 'demanded', 'decisions', 'cereal', 'judgement', 'episode', 'discussed', 'bj', 'canceled', 'crossed', 'whites', 'operations', 'consumer', 'overcharged', 'stressful', 'caribbean', 'method', 'posters', 'texting', 'virgin', 'awkwardly', 'rick', 'bmw', 'peter', 'inflated', 'compensation', 'platters', 'memorabilia', 'toy', 'active', 'marble', 'fabric', 'mandatory', 'drug', 'condiment', 'electronics', 'france', 'southwestern', 'roomy', 'elite', 'pei', 'hopping', 'bubbles', 'bamboo', 'jaw', 'albacore', 'quinoa', 'approved', 'cd', 'begins', 'formal', 'queens', 'rotating', 'br', 'macarons', 'dem', 'hier', 'trout', 'tso', 'fold', 'efforts', 'strangely', 'carson', 'johns', 'squirrel', 'cleanest', 'vendor', 'worthwhile', 'pointless', 'sammy', 'flavoring', 'utter', 'makeover', 'enthusiasm', 'nurses', 'bianco', 'insert', 'stalls', 'designated', 'brian', 'warrant', 'cal', 'tags', 'units', 'outfit', 'pin', 'circumstances', 'courts', 'hurts', 'urge', 'suited', 'lentil', 'explains', 'attract', 'supreme', 'pairings', 'hectic', 'sarcastic', 'hesitation', 'hiring', 'disneyland', 'roach', 'climb', 'almonds', 'vets', 'crafted', 'profile', 'kevin', 'danny', 'creations', 'uncooked', 'sommelier', '31', '4.99', 'knee', 'washington', 'slides', 'dept', 'teeny', 'filed', 'registration', 'exclusive', 'techno', 'potstickers', 'adobo', 'eiffel', 'keller', 'sind', 'u00e7a', 'physically', 'kiosk', 'canada', 'pitch', 'smoker', 'slipped', 'oops', 'furthermore', 'kiss', 'buses', 'fluke', 'malt', 'farther', 'february', 'comic', 'disagree', 'fu', 'grapes', 'scored', 'connecting', 'ick', 'disclaimer', 'shipped', 'shopped', 'medication', 'lite', 'artificial', 'ehh', 'crash', 'flops', 'todd', 'chi', 'specialties', 'errors', 'tremendous', 'irritating', 'usa', 'spas', 'imported', 'smallish', 'reference', 'packing', 'staffs', 'cabo', 'sandwhich', 'removing', 'neighboring', '2009', 'geared', 'effective', 'gentle', 'pate', 'silence', 'chemicals', 'comfortably', 'coma', 'u00f1os', 'gum', 'killing', 'lush', 'focaccia', 'daddy', 'canadian', 'glowing', 'label', 'robert', 'groomer', 'dash', 'responsive', 'kitty', 'hiding', 'upcoming', 'touches', 'performing', 'cuticles', 'taps', 'hashbrowns', 'faith', 'pitchers', 'potentially', 'geez', 'rays', 'amex', 'toro', 'cabanas', 'canal', 'plated', 'sarah', 'ripe', 'fro', 'u00e9es', 'arepas', 'chuck', 'e.', 'enticing', '38', 'blues', 'vegans', 'rad', 'compelled', 'wheels', 'understatement', 'watches', 'prints', 'arrangements', 'caffeine', 'waxed', 'illegal', 'theory', 'bullshit', 'poppers', 'substantial', 'browsing', 'parsley', 'existence', 'invest', 'clever', 'purely', 'tolerable', 'agreement', 'eyed', 'chapel', 'stroll', 'cha', 'tsa', 'michelin', 'claiming', 'thermostat', 'attractions', 'goodwill', 'imagined', 'tennis', 'susan', 'snap', 'approval', 'suffering', 'beloved', 'lab', 'asia', 'innovative', 'blankets', 'ing', 'united', 'scenes', 'mc', 'facts', 'mouths', 'gardens', 'flooring', '.we', 'frames', 'reluctantly', 'twin', 'approx', 'resturant', 'bam', 'stain', 'mask', 'plant', 'professionals', 'installation', 'premises', 'tai', 'packet', '600', 'alex', 'timer', 'margherita', 'hairs', 'cousins', 'blueberries', 'listing', 'supper', 'nordstrom', 'impressions', 'wells', 'ordeal', 'escargot', 'fritters', 'drawback', 'arepa', 'bahn', 'snapper', 'delux', 'froyo', 'quand', 'lessons', 'knocking', 'stink', 'lattes', 'storm', 'elbow', 'spicier', 'digging', 'breathing', 'authority', 'kills', 'interrupted', 'temps', 'rachel', 'plum', 'paneer', 'mothers', 'jeff', 'm.', 'decade', 'meds', '6.99', 'dips', 'petit', 'candied', 'infection', 'krispy', 'rigatoni', 'entre', 'travels', 'increased', 'extensions', 'goose', 'boulevard', 'existed', 'largely', 'aforementioned', 'opinions', 'slathered', 'taught', 'arrangement', 'ruining', 'rely', 'portobello', 'europe', 'trainer', 'pints', 'mgr', 'wifey', 'standout', 'coverage', 'heirloom', 'fence', 'alike', 'sounding', 'magazines', 'cancer', 'hush', 'tin', 'liar', 'rise', 'papaya', 'contains', 'stout', 'dmv', 'attire', 'porterhouse', 'micro', 'sessions', 'monta', 'portuguese', 'meetings', 'math', 'birthdays', 'layered', 'chatty', 'trend', 'institution', 'bros', 'survive', 'glorious', 'chopsticks', 'drunks', 'nostalgia', '2.00', 'reminder', 'slam', 'bliss', 'dispenser', 'thursdays', 'saffron', 'baggage', 'procedures', 'meantime', 'roaches', 'thoughtful', 'foodies', 'laser', 'estimated', 'outrageously', 'spotless', 'clearing', 'vary', 'hotdog', 'concepts', 'sincere', 'musical', 'tiles', 'sewer', 'oriental', 'serrano', 'drowned', 'females', 'tied', 'relaxation', 'laptops', 'suggesting', 'requesting', 'flawless', 'euro', 'fluid', 'instructed', 'characters', 'cottage', '3.99', 'louder', 'obsessed', 'progress', 'upsell', 'mimi', 'dvd', 'struggle', 'inner', 'harkins', 'therapists', 'sealed', 'bait', 'drugs', 'sliding', 'ciabatta', 'folk', 'blaring', 'prob', 'drew', 'flexible', 'sincerely', 'poolside', 'sees', 'chandeliers', 'siam', 'faire', 'aux', 'burgr', 'honored', 'cpk', 'sodium', 'stumble', 'sicilian', 'boards', 'noticeable', 'anti', 'peeps', 'accompany', 'counted', 'breathe', 'jasmine', 'tandoori', 'screams', 'professionally', 'miniature', 'disappear', 'peruvian', 'nicole', 'jane', 'biggie', 'pbr', 'visually', 'claustrophobic', 'england', 'nfl', 'void', 'singer', 'hub', 'yards', 'cats', 'senses', 'clerks', 'tails', 'bolognese', 'banquet', 'cloth', 'skill', 'warmly', 'yelped', 'sl', 'flank', 'quad', 'timed', 'collect', 'bookstore', 'cops', 'sentence', 'drip', 'marshmallow', 'combine', 'strikes', 'lips', 'buttons', 'tucson', 'collar', 'noir', 'chest', 'jessica', 'parlor', 'slim', 'tested', 'kabuki', 'foundation', 'tanks', 'battle', 'gals', 'observed', 'farms', 'queue', 'flush', 'springs', 'dancer', '42', 'dramatic', 'rocket', 'generously', 'eddie', 'possibility', 'guns', 'inventive', 'ces', 'tiffany', 'rehab', 'surrender', 'flame', 'crystals', 'mystere', 'sich', 'suis', 'tonkotsu', 'enjoyment', 'commission', 'gang', 'skins', 'burgh', 'traveled', 'chemical', 'soba', 'difficulty', 'camp', 'cabs', 'caps', 'variations', 'morton', 'sizzling', 'remainder', 'eleven', 'functional', 'racist', 'beard', 'pine', 'thumb', 'bustling', 'omakase', 'values', 'dives', 'nc', 'defense', 'nightlife', 'transferred', '33', 'concession', 'logo', 'frat', 'jackson', 'carmel', 'fest', 'comics', 'ethiopian', 'era', 'wrapping', 'u.s', 'bagged', 'actors', 'appointed', 'contacting', 'agents', 'boxed', 'tracks', 'filler', 'wok', 'vicinity', 'ace', 'dominos', 'incorrectly', 'settings', 'yolk', 'promo', 'upgrades', 'dancefloor', 'prize', 'bueno', 'flyer', 'shark', 'consume', 'hosting', 'lies', 'drizzle', 'jj', 'classics', 'skewer', 'odds', 'tarts', 'amy', 'persons', 'delmonico', 'blocked', 'sprite', 'function', 'assure', 'kelly', 'addictive', 'u00e8me', 'towed', '3x', 'roy', 'melon', 'lid', 'unreal', 'lowe', 'fri', '.they', 'worlds', 'topless', 'capable', 'woo', 'descriptions', 'stored', 'bikini', 'essen', 'bussers', 'whilst', 'hakkasan', 'einen', 'noch', 'bonne', 'unlikely', 'misses', 'errands', 'slowest', 'toiletries', 'ridge', 'eagle', 'trimmed', 'gummy', 'shack', 'tuned', 'r.', 'hd', 'contain', 'sriracha', 'pretending', 'unassuming', 'antique', 'masses', 'peeling', 'pedestrian', 'fame', 'respectable', 'oscar', 'roti', 'figures', '.this', 'austin', 'dallas', 'jamba', \"y'\", 'folded', 'blocking', 'gather', 'unreasonable', 'anticipation', 'suffered', 'y.', 'ink', 'cobbler', 'soupy', 'stool', 'accomodating', 'hates', 'modest', 'baba', 'tim', 'valid', 'tj', 'guava', 'munch', 'painfully', 'useful', 'haven', 'mule', 'certificates', 'prepaid', 'task', 'ouch', 'intriguing', 'thier', 'wellington', 'electrical', 'adam', 'posts', 'batteries', 'soothing', 'getaway', 'justice', 'overbearing', 'sipping', 'complementary', 'robbed', 'scotland', 'forks', 'bid', 'dose', 'movers', 'delta', 'release', 'technology', 'defensive', 'shopper', 'casa', 'overflowing', 'seperate', 'trailer', 'cones', 'persian', 'vanity', '1:30', 'andy', 'ami', 'manchego', 'halo', 'tonic', 'mo', 'bouche', 'cosy', 'stronger', 'uk', 'cette', 'nur', 'sang', 'oils', 'ceremony', 'luster', 'mailed', 'lisa', 'alongside', 'rag', 'drafts', 'hotdogs', 'believed', 'lasts', 'verizon', 'gain', 'noises', 'teens', '.50', 'easiest', 'jay', 'forest', 'sears', 'hardware', 'height', 'haired', 'scheme', 'moderate', 'cabinet', 'passionate', 'troubles', 'shellfish', 'rocking', 'fort', 'lengthy', 'waived', 'suffer', 'manners', '12:30', 'regard', 'inexperienced', 'punk', 'demanding', 'stringy', 'blamed', 'brave', 'saltiness', 'wednesdays', 'speciality', 'accommodations', 'occurred', 'kicks', 'pitas', 'drum', 'glow', 'habanero', 'youth', 'rope', 'galore', 'owed', 'sneak', 'chelsea', 'choke', 'ribbon', 'payments', 'pen', 'lox', 'assisted', 'linens', 'painless', 'cure', 'shades', 'broadway', 'trails', 'balloon', 'cherries', 'overcrowded', 'charleston', 'agency', 'charity', 'frequenting', 'blech', 'interact', 'captain', 'shea', 'official', 'tolerate', 'vent', 'bulbs', 'mistaken', 'closely', 'engaged', 'ons', 'struggled', 'heaping', 'glitter', 'bww', 'ponzu', 'ounces', 'stinky', 'osso', 'mastro', 'drowning', 'describing', 'coca', 'printing', 'hose', '2008', 'katie', 'teaching', 'transportation', 'mountains', 'craig', \"o'clock\", 'stranger', 'debating', 'panel', 'sol', 'indication', 'skilled', 'carafe', 'asians', 'dire', 'quotes', 'dimly', 'article', 'delays', 'wonders', 'alternatives', 'pumped', 'sauerkraut', 'vending', '1.00', 'recieved', 'brightly', 'region', 'cinema', 'friggin', 'hyatt', 'viet', 'fancier', 'waving', 'enterprise', 'raves', 'olds', 'ranks', 'dodge', 'shu', 'escalator', 'seeking', 'furnishings', 'ping', 'intend', 'freeze', 'food-', 'affair', 'unavailable', 'permanent', 'lesser', 'taquitos', 'gathering', 'souvenir', 'sonic', 'qualify', 'thrifty', 'groom', 'taiwanese', 'pond', 'director', 'blossom', 'bend', 'petsmart', 'vacuumed', 'ruins', 'mobile', 'valentines', 'exaggerating', 'masseuse', 'scratched', 'pun', 'urine', 'boulder', 'expiration', 'dishwasher', 'respectful', 'claw', '5.50', 'flavours', 'counts', 'grind', 'zipps', 'lasting', 'rv', 'goodyear', 'scrape', '215', 'omelettes', 'roman', 'commitment', 'purses', 'rainy', 'm&m', 'sh*t', 'tattoos', 'coins', 'antipasto', 'linq', 'charcuterie', 'plating', 'princes', 'unpretentious', 'dressings', 'stray', 'rode', 'gems', 'quantities', 'periods', 'drives', 'precious', 'pat', 'oakland', 'nonexistent', 'apt', 'gag', 'chardonnay', 'pity', 'beg', 'valued', 'script', 'socal', 'spider', 'haus', 'salesperson', 'lists', 'louisiana', 'sq', 'snapped', 'partake', 'drown', 'pans', 'bothers', 'flown', 'zombie', 'established', 'cheeseburgers', 'fuzzy', 'scallions', 'pressured', 'einstein', 'suffice', 'bao', 'insulted', 'macy', 'imagination', 'awards', 'cds', 'essential', 'filets', 'heating', 'barbacoa', 'staffing', 'runners', 'sunrise', 'hispanic', 'dice', 'rob', 'reputable', 'copper', 'drinkers', 'pumps', 'weeknight', '8)', 'voicemail', 'cried', '6.50', 'shank', 'backup', '30th', 'considerably', '3.75', 'sis', 'optional', 'ahwatukee', 'brushed', 'matthew', 'sunglasses', 'coin', 'mechanics', 'drama', 'plush', 'tournament', '3:30', 'corral', 'marshmallows', '180', 'keen', 'handles', 'wins', 'nowadays', 'tint', 'dh', 'lowes', 'developed', 'lick', 'annoyance', 'vinyl', 'bingo', 'cracking', 'daniel', 'abysmal', 'josh', 'cc', 'flirting', 'tiki', 'mccarran', 'lone', 'dock', 'abandoned', 'echo', 'flay', 'beaucoup', 'gibt', 'mich', 'crystal', 'rancid', 'whereas', 'ache', 'alaskan', 'charger', 'buzzing', 'scare', 'snag', 'notable', 'amusing', 'creation', 'nestled', 'vermicelli', 'substituted', 'infamous', 'addiction', 'underground', 'mills', 'behaved', 't.', 'decades', 'swirl', 'casserole', 'travelers', 'departure', 'bustle', 'improving', 'insist', 'teller', 'blasting', 'recover', 'loan', 'financial', 'qdoba', 'noting', 'perfume', 'artisan', 'fiesta', 'stealing', 'jacked', 'motion', 'tang', 'tix', 'pep', 'devil', 'reflects', 'pregnancy', 'wrist', 'boar', 'chandelier', 'teenage', 'faint', 'porter', 'boom', 'maximum', 'creates', 'opera', 'cluttered', 'fortunate', 'role', 'accounts', 'stove', 'scalp', 'yelping', 'revolving', 'firstly', 'pawn', 'flipped', 'heaters', 'safely', 'elephant', 'griddle', 'chimi', 'filing', 'landing', 'dent', 'promises', 'markets', 'hurting', 'oasis', 'coolant', 'techniques', 'jan', 'doughnut', 'hankering', 'graciously', 'hahaha', 'sexual', 'fella', 'ichiza', 'carbonara', 'buzzed', 'pinball', 'absinthe', 'fait', 'genre', 'refined', 'components', 'chilean', 'threading', 'parma', 'carnegie', 'seed', 'slapped', 'coloring', 'chalk', 'packets', 'pierogies', 'kool', 'papers', 'evident', 'hoagie', 'spell', 'curd', 'registers', 'bakeries', 'amateur', 'daytime', '9:00', 'brat', 'ritz', 'london', 'jealous', 'jesus', 'frying', 'spilling', 'nosh', 'deceiving', 'banging', 'owe', 'graham', 'advertisement', 'raisin', 'niche', 'darts', 'sweetened', 'cordial', 'americans', 'raising', 'straws', 'apache', 'remembering', 'integrity', 'iffy', 'laughable', 'suitable', 'relieved', 'breathtaking', 'temperatures', 'timers', 'shocking', 'costumer', 'vacant', 'trunk', 'readily', 'labels', 'mud', 'jerry', 'chutney', 'ono', 'croque', 'kit', 'frys', 'accomodate', 'stromboli', 'cabinets', 'unfamiliar', 'protect', 'competitor', 'observation', 'unwilling', 'joked', 'application', 'tomatillo', 'tripe', 'differences', 'elaborate', 'shook', 'pause', 'careless', 'betty', '3d', 'rundown', 'ng', 'clips', 'rotisserie', 'robust', 'stench', 'donna', 'o.k', 'adjustment', 'leche', 'swedish', 'absent', 'curb', 'riviera', 'deviled', 'audio', 'pecans', 'therapy', 'lechon', 'joel', 'fogo', 'guestlist', 'kann', 'zum', 'decides', 'rotate', 'invite', 'decorating', 'blond', 'op', 'refunds', 'greeter', 'quietly', 'sips', 'wary', 'atleast', 'oldest', 'receipts', 'broad', 'pirate', '6th', 'stream', 'preferences', 'pampered', 'ramp', 'greg', 'alterations', 'brim', 'emeril', 'valuable', 'musty', 'elevated', 'rank', '34', 'bedding', 'avid', 'java', 'hottest', 'referral', 'florida', 'concessions', 'disturbing', 'condensed', 'waved', 'upcharge', 'boa', 'ballantyne', 'livid', 'lawn', 'swallow', 'hosted', 'willy', 'society', 'deserted', 'peaches', 'entertain', 'coaster', 'exclusively', 'lard', 'stereo', 'ballpark', 'unimpressive', 'bogo', 'leisurely', 'pigs', 'mj', 'ranges', 'happiness', 'breweries', 'ranged', 'seal', 'remodeling', 'th', 'avail', 'regretted', 'moral', 'appalling', 'ceasar', 'handicapped', 'anywho', 'symptoms', 'needle', 'cutlery', 'powered', 'unbearable', 'poop', 'buttered', 'harbor', '6.95', 'oranges', 'jello', 'cage', 'viva', 'oozing', 'customize', 'solve', 'reflected', 'burrata', 'varies', 'nv', 'seasonings', 'savor', 'roots', 'wildflower', 'rat', 'fin', 'slightest', 'acrylic', 'vibrant', 'filtered', 'spouse', 'crossfit', 'u00fbl', 'scones', 'als', 'teeter', 'donc', 'wenn', 'jackets', 'taylor', 'standby', 'lounging', 'resolution', 'changs', '8:00', 'humongous', 'dietary', 'stones', 'nick', 'razor', 'glory', 'tina', 'junior', 'unhealthy', 'conditioned', 'excess', 'cheated', 'raining', 'crawling', 'pea', 'priceline', 'zing', 'mt', 'amanda', 'exploring', 'dean', 'sardines', 'limes', 'systems', 'tidy', 'scone', 'boasts', 'kings', 'celebrated', 'boost', 'kreme', 'haze', 'indie', 'lockers', 'skate', 'ohio', 'youngest', 'gps', 'jars', 'circular', 'palatable', 'comforter', 'artistic', 'piercing', 'swordfish', 'letters', 'yucky', 'formed', 'reccomend', 'uniform', 'anticipating', 'inspiration', 'conveyor', 'appliances', 'untouched', 'kee', 'collections', 'shoestring', 'knees', 'bombs', 'chilaquiles', 'lipstick', 'amber', 'educated', 'bikram', 'saint', 'turnover', 'seedy', 'dances', 'furious', 'drool', 'accepting', '16th', 'holders', 'clarify', 'chez', 'mrs', 'mixes', 'prizes', 'jones', 'gasp', 'breasts', 'daycare', 'fewer', 'cigars', 'pest', 'minds', 'shuttles', 'enhance', 'backwards', 'committed', 'coupled', 'hum', 'emphasis', 'plump', 'fist', 'e.g.', 'opportunities', 'umbrellas', 'thee', 'enclosed', 'audacity', 'certified', 'reflection', 'cancellation', 'colder', 'hostile', 'poles', 'wreck', 'ironic', 'johnson', 'justin', 'richness', 'gimmick', 'belle', 'hardest', 'wolfgang', 'nyny', 'stoked', 'notre', 'promoters', 'bei', 'raku', 'u00e9al', 'commercials', '37', 'slop', 'announced', 'jammed', 'whoa', 'kitschy', 'household', 'mounted', 'drying', 'marathon', 'efficiently', 'southside', 'starch', \"''\", 'candies', 'evenly', 'barrier', 'cocoa', 'trapped', 'recovery', 'faves', 'cuisines', 'tapioca', 'locks', 'arrange', 'pose', 'digital', 'nascar', 'magnificent', 'unsafe', 'failing', 'hardcore', 'radish', 'grainy', 'fanatic', '7.50', '11:00', 'assembly', 'materials', 'pads', '12.00', 'programs', 'overlooks', 'spoonful', 'fights', 'oak', 'printer', 'continental', 'population', '.just', 'accomplished', 'tostadas', 'sauced', 'kabobs', 'races', 'warmth', 'stomachs', 'deeply', 'donate', 'affect', 'surprises', 'yah', 'army', 'workouts', 'impact', 'rubbing', 'compares', 'understands', 'ufc', 'poster', 'leash', 'blinds', 'cellar', 'accompaniment', 'holly', 'silent', 'removal', 'vista', 'religious', 'dreadful', 'fluff', 'span', 'facials', 'tempting', 'miscommunication', 'remembers', 'frog', 'nike', 'lowered', '8.99', 'togo', 'bout', 'fixings', 'reps', 'installer', 'magically', 'toyota', '8.50', 'yourselves', 'gristle', 'exaggeration', 'wears', 'squares', 'gruyere', 'remade', 'blackberry', 'colorado', 'begging', 'jamaican', 'charcoal', 'joining', 'meager', 'buffett', 'stripper', 'remake', 'stamps', 'carl', 'makers', 'invisible', 'spite', 'knives', 'macadamia', 'showroom', 'royale', 'jade', 'retrospect', 'empanada', 'reve', 'jaleo', 'mir', '700', 'coors', '.no', 'redo', 'requirements', 'angle', 'creams', 'museums', '15.00', 'buckets', 'pos', 'floral', 'whack', 'overload', 'retrieve', 'roaming', 'cranky', 'screamed', 'asses', 'inefficient', 'matching', 'crisps', 'mat', '08', 'pipe', 'tenants', 'drab', '4.00', 'identify', 'hampton', 'regional', 'nod', '49', 'ignorant', 'unfair', 'harvest', 'layover', 'lax', 'variation', 'informing', 'immensely', 'sipped', 'brasserie', 'laughs', 'nah', 'fields', 'andrew', 'gods', 'chalkboard', 'compact', 'pours', '8th', 'patronage', 'specified', 'bangs', 'styled', 'desirable', 'rc', 'attracts', 'freely', 'mozz', 'va', 'scooped', 'rudy', 'immaculate', 'responses', 'lifted', '1.99', 'rocky', 'continuously', 'forbid', 'diagnosed', 'skipping', 'radar', 'debbie', 'similarly', '2.99', 'awesomeness', 'omlette', 'qualities', 'towners', 'wie', 'improvements', 'contrary', 'refuses', 'deer', 'advanced', 'perks', '72', 'incompetence', 'bro', 'co.', 'flu', 'saigon', 'diagnosis', 'perusing', 'dam', 'uninspiring', 'televisions', 'michigan', 'loading', 'pluses', 'kierland', 'anchovies', 'puke', 'rims', 'lifting', 'limits', 'interestingly', 'maryland', '\\n\\n\\n\\n', 'soju', 'claws', 'contest', 'straightforward', 'clowns', 'noda', 'alla', 'nathan', 'aim', 'jumper', 'maison', 'clad', 'brazil', 'marinade', 'blender', 'moi', 'yogurtland', 'choix', 'vape', 'tipsy', 'ironically', 'glanced', 'jewish', 'lemons', 'alignment', 'driveway', 'doused', 'centrally', 'abuse', '98', 'philadelphia', 'maine', 'handicap', 'rectify', 'baffled', 'jerks', '9.00', 'fairness', 'legitimate', 'kosher', 'tier', 'shares', 'log', 'grills', 'shining', 'whopping', 'promotions', 'capitol', 'clt', 'buys', 'lonely', 'creole', 'oversized', '52', 'diane', 'weary', 'transport', 'nation', 'proclaimed', 'seabass', 'boyfriends', 'default', 'souvlaki', 'carryout', 'miami', 'threatened', 'consisting', 'ducks', 'cattle', 'rangoon', 'domino', 'studying', 'influence', 'pits', 'asiago', 'jukebox', 'kebab', 'cue', 'flare', 'dorm', 'haul', '130', 'cockroach', 'discourage', 'intoxicated', 'transition', 'divided', 'protection', 'interactive', 'stages', 'chimichurri', 'butterfly', 'abundant', 'flashing', 'peoria', 'consuming', 'diablo', 'wiping', 'keith', 'bumper', 'inexcusable', 'dec', '8.00', 'piper', 'contents', 'allison', 'bent', 'homes', 'barry', 'justified', 'ultrasound', 'adjusted', 'deducted', 'harassed', 'windy', 'kathy', 'faded', 'peoples', 'consultation', 'gown', 'sprint', 'chart', 'substandard', 'texted', 'essence', 'linguini', 'temporary', 'mental', 'resembled', 'crumb', 'anthem', 'medley', 'unappealing', 'carved', 'accents', 'rinse', '54', 'acai', 'peppercorn', 'drawing', 'kohl', 'estate', 'carly', 'honeymoon', 'qualified', 'refrigerated', 'ted', 'fraud', '.a', 'spoil', 'stunned', 'bobbie', 'lvac', 'francis', 'dutch', 'varying', 'tendon', 'singapore', 'cantonese', 'aliante', 'sleazy', 'marc', '+1', 'pens', 'matthews', '-it', 'eternity', 'gabi', 'platform', 'singers', 'blanco', 'boobs', 'batali', 'burlesque', 'lavender', 'endroit', 'firehouse', 'u00e8res', 'montr', 'u00f4', 'leith', 'dass', 'rap', 'weigh', 'craziness', 'tours', 'pony', 'follows', 'reluctant', 'graduation', 'fax', 'forewarned', 'drawer', 'basmati', 'barley', 'ken', 'mickey', 'applies', 'brats', 'bursting', 'scores', 'teams', 'fil', 'steven', 'passengers', 'situations', 'utilized', 'maps', 'greatness', 'minced', 'telephone', 'szechuan', 'tended', 'deserving', 'peppery', 'bubbly', 'murphy', 'visa', 'b&b', 'intimidating', 'balloons', 'messing', 'cruise', 'it-', 'lumpy', 'good-', 'appreciation', 'vomiting', 'mackerel', 'guided', 'uninterested', 'aback', 'flashy', 'mcdowell', 'centers', 'kiddos', 'twelve', 'formula', 'harry', 'wheelchair', 'avocados', 'banner', 'disease', 'moscow', 'quiznos', 'click', 'veterans', 'premade', 'judgment', 'liter', 'consignment', 'jeep', 'leaning', 'suggests', 'sephora', 'devices', 'mob', 'corridor', '90s', 'screws', 'managing', 'dollop', 'heavier', 'fulfill', 'loop', 'offices', 'cane', 'tabs', 'parfait', 'talkative', 'firestone', 'kitchens', 'motor', 'kilt', 'tubes', 'ahold', '.that', 'projects', 'explosion', 'challenged', '=(', 'kettle', 'visibly', 'angels', 'exorbitant', 'polo', '.what', 'experiment', 'switching', 'relatives', 'maneuver', 'fade', 'hovering', 'flimsy', 'breakdown', 'll', 'accompaniments', '9:30pm', '2x', 'measly', 'cockroaches', 'sweetest', 'sunshine', 'beau', 'beneath', 'tonkatsu', 'worthless', 'bee', 'busiest', 'leches', 'outer', 'overdue', 'waist', 'ot', 'images', 'vons', 'edm', 'sever', 'kimchee', 'xmas', 'wired', 'sweetheart', 'transmission', 'ropes', 'grossly', 'brandy', 'cushions', 'silky', 'cibo', 'deuce', 'grit', 'handmade', 'repas', 'nightly', 'musicians', '140', 'argument', 'swore', 'daylight', 'lemony', 'imho', 'shore', 'beverly', 'melissa', 'mmm', 'somethings', 'officer', 'determine', 'newbie', 'acquired', 'intimidated', 'humid', 'glorified', 'unwelcome', 'downer', 'mic', 'landscaping', 'curt', 'plugs', 'profusely', 'achieve', 'pi', 'assisting', 'packaging', 'schnitzel', 'movement', 'bulb', 'treadmills', 'halls', 'showcase', 'bald', 'mats', 'films', '-no', 'planes', 'torture', 'reaching', 'nursing', 'kitchenette', 'ness', 'beast', 'inclined', 'villa', 'hobby', 'education', 'suv', 'teen', 'pennies', 'nook', 'accused', 'evidently', 'biting', 'whiz', 'awaiting', 'brainer', 'peeled', 'heather', 'concoctions', 'condos', 'barbeque', 'obliged', 'yorker', 'stacks', 'mentions', 'rosie', 'continuing', 'unfinished', 'brandon', 'unseasoned', 'pup', 'rage', 'catherine', 'freaked', 'intake', 'lgo', '6:30pm', 'unwind', 'chives', 'embarrassment', 'incentive', 'ripoff', 'retired', 'sa', 'mattresses', 'rubio', 'dismal', 'unusually', 'melty', 'circles', '20min', 'shortcake', 'saloon', 'shaker', 'benihana', 'blatantly', 'hong', 'kong', 'promote', 'cycle', 'megan', 'tenant', 'ob', 'sprinkle', 'dishonest', 'potatos', 'cabernet', 'ms', 'disliked', 'disturb', 'describes', 'websites', 'restaraunt', 'waive', 'foo', 'camping', 'inspiring', 'redone', 'cornish', 'fireworks', 'diff', 'popularity', 'smh', 'neatly', 'spill', 'crumbles', 'ought', 'additions', 'poses', 'martin', 'frosted', 'shoving', 'simplicity', 'cloud', 'duration', 'grapefruit', 'mardi', 'crisis', 'boxing', 'marys', 'comical', 'couscous', 'patrick', 'repeating', 'westgate', 'apricot', 'truffled', 'deux', 'nourriture', 'einem', 'quebec', 'gordo', \"n'est\", 'u00e4', 'drums', 'louie', 'roma', 'requirement', 'approaching', 'extravagant', 'conservative', 'pamela', 'jenny', 'legend', 'priceless', 'tuscan', 'littered', 'tortellini', 'factors', 'saucy', 'denver', 'bicycle', 'munching', 'dom', 'maki', 'blessed', 'stocking', 'homework', 'tx', 'matches', 'cashew', 'broiled', 'monitor', 'cubed', 'bookmarked', 'lager', 'h&m', 'leaked', 'belief', 'despise', 'disturbed', 'feeding', 'sweater', 'frisco', 'survey', 'oct', 'hero', 'pacific', 'disinterested', 'touted', 'ruby', 'storyline', 'showtime', 'panko', 'pal', 'drained', 'extent', '51', 'unknown', 'roadhouse', 'copies', '5:00', 'crooked', 'banchan', 'decatur', 'nw', '10th', 'pipes', 'maria', 'net', 'schools', 'ect', 'wich', 'carlos', 'urgency', 'generation', 'apologizes', 'banks', 'heartbeat', 'muscles', 'pulls', 'nightclubs', 'favorable', 'acid', 'toronto', 'debate', 'lube', 'serviceable', 'calvin', 'lucille', 'acknowledging', 'performer', 'data', 'spendy', 'transactions', 'amused', 'service-', 'threatening', 'n.', 'doggie', 'baker', 'umami', 'rentals', 'treasures', 'lucy', 'arrowhead', 'verbally', '125', 'nutrition', 'unagi', 'considerate', 'swamped', 'weeds', 'lcd', 'weed', 'goers', 'groomed', 'verified', 'albertson', 'reduce', 'manicures', 'downsides', '|', '6.00', 'countries', 'carnivore', 'mainstream', '50.00', 'ales', 'reminding', 'booty', 'specializes', 'bra', 'robes', 'mazing', 'hazard', 'prawn', '10:30pm', 'entitled', 'roses', 'competing', 'capriotti', 'shabu', 'strippers', 'gathered', 'popeye', 'curiosity', 'fargo', 'assholes', 'toasty', 'slippers', '25.00', '11.99', 'robe', 'fatburger', 'blanc', 'aladdin', 'tastebuds', 'snarky', 'duo', 'african', 'citizen', 'personalized', 'agave', 'sbarro', 'lvh', 'cantaloupe', 'brio', 'churros', 'mina', 'macaroon', 'plats', 'moins', 'dispute', 'disclosure', 'dijon', 'noticeably', 'folding', 'h.', '20.00', 'pronounce', 'casually', 'hotwire', 'kraft', 'scenario', 'festive', 'wrapper', 'fritter', 'novel', 'ii', 'shortage', 'utilize', 'disrespect', 'cautious', 'displeasure', 'ammo', 'fate', 'jared', 'adams', 'saturated', 'warner', 'delights', 'ware', 'youtube', 'mouse', 'sweetie', 'treadmill', 'mascarpone', 'tastiest', 'malaysian', 'cranberries', 'panels', 'passenger', 'escalators', 'terminals', 'philosophy', 'firearms', 'cutter', 'aficionado', 'deemed', 'nutshell', 'sayin', 'enemy', 'maintaining', 'offset', 'dot', 'crafts', 'lactose', 'accounting', 'slippery', 'plague', 'thailand', 'clay', 'chimichangas', 'chiles', 'lengua', 'forgo', 'rumor', 'practical', 'porn', 'adjoining', 'filiberto', 'paycheck', 'offense', 'wh', 'chewed', 'vote', 'choc', 'granite', 'fran', 'iv', 'technical', 'acknowledgement', 'twins', 'pb', 'studios', 'bum', 'finely', 'dennys', 'ulta', 'jams', 'chilis', 'component', 'modem', 'woods', 'shavings', 'moldy', 'prickly', 'dinky', 'crumbly', 'twinkies', 'expansive', 'cioppino', 'midway', 'pointe', 'salesmen', 'sewage', 'calzones', 'kindness', 'kansas', 'bins', 'communicated', 'bedside', 'motorcycle', 'pv', 'statue', 'creaminess', 'continually', 'consumption', 'serendipity', 'specialist', 'toaster', 'danger', '-1', 'richard', 'icy', 'samosa', 'sends', 'millions', 'interrupting', 'submitted', 'trial', '12.99', 'nancy', 'slick', '2006', 'northwest', 'racing', 'aesthetic', 'destroyed', 'tableside', 'suitcase', 'examined', '.my', 'stella', 'sapporo', 'chompie', 'warranted', 'danielle', 'briefly', 'sublime', 'jen', 'actions', 'upsetting', 'hopped', 'rootbeer', 'typing', 'distant', 'specialize', 'redeemed', 'coincidence', 'ivy', 'presumably', 'sedona', 'bella', '6:00', 'cooling', 'bangkok', 'mister', 'ciao', 'rockets', 'freddy', 'christopher', 'kate', 'yells', 'centennial', 'spelling', 'jo', 'dosa', 'citizens', 'napoleon', 'fever', 'loft', 'lolo', 'expertise', 'crescent', 'spongy', 'inconsistency', 'shooters', 'sights', '19.99', 'sneakers', 'lavo', 'cher', 'yuzu', 'holsteins', 'voir', 'assez', 'immer', 'schon', 'patch', 'hybrid', 'shanghai', '3.00', 'vino', 'soundtrack', 'toothpaste', '70s', 'pgh', 'stark', 'bark', 'deliveries', 'sanitation', 'patronizing', 'mound', 'pinto', '10min', 'boast', 'ballet', 'cooled', 'drawers', 'barbers', 'focusing', '7.95', 'acidic', 'rod', 'pitt', 'defective', 'exquisite', 'fascinating', 'lungs', 't.v', 'sleeper', 'manual', 'swap', 'germany', 'dvds', 'fluids', 'fitted', 'prison', 'exchanged', 'floored', 'weddings', 'sponge', 'specify', 'merlot', 'cop', 'midst', 'provider', 'cheat', 'slid', 'mates', 'greets', 'endure', 'servicing', 'stoned', 'indicating', '.you', 'behalf', 'compassion', 'hippies', 'approve', 'warming', 'proportions', 'burns', 'stunk', 'ahh', '.99', 'baseline', 'processing', 'photography', 'sunscreen', 'accurately', 'frosty', 'awaited', 'biker', 'bleach', 'ripping', 'customized', 'saki', 'uncommon', 'housemade', 'carrier', 'feb', 'guilt', 'sandy', 'mate', 'beads', 'strategy', 'poo', 'crumbled', 'suspicious', 'cadillac', 'updates', 'mcd', 'recycled', 'remark', 'upwards', 'trimming', 'lingering', 'dillard', 'hardy', 'gels', 'disgust', 'rescheduled', 'pimento', 'damned', 'applewood', 'shadow', 'extension', 'credits', 'unbeatable', 'mens', 'ads', 'dentists', 'islands', 'machaca', 'forgetful', 'tore', 'bond', 'favors', 'pc', 'handsome', 'spaced', 'panna', 'bunny', 'lulu', 'maui', 'zombies', 'divey', 'checkin', 'tactics', 'butts', 'costly', 'dresser', 'imax', 'prescriptions', 'browned', 'eww', 'hen', '20s', 'wars', 'proscuitto', 'kare', 'yama', '30min', 'pt', 'habits', 'wayne', 'extend', 'darker', 'qua', 'tribute', 'bangers', 'jour', 'vin', 'tastefully', 'unforgettable', 'pears', 'gouda', 'controlled', 'disappearing', 'interacted', 'tent', 'gr', 'acrobats', 'ballroom', 'locale', 'gus', '-they', 'buddha', 'vic', 'butterscotch', 'americano', 'mist', 'thehotel', 'u00eape', 'existing', 'qualit', \"qu'il\", 'ils', 'leur', 'mes', 'shoyu', 'hatte', 'waren', 'swift', '7:00', 'forty', 'decorate', 'stem', 'hindsight', 'depressed', 'reheat', 'restrictions', 'models', 'hopeful', 'mediocrity', 'tendency', 'chickens', 'mop', 'pumping', 'reeks', 'k.', 'cram', 'kitsch', 'afternoons', 'parmigiana', 'vaguely', 'linda', 'graduate', 'bureau', 'thread', 'buried', 'clip', 'patios', 'shorted', 'congealed', 'fedex', '9.95', 'alexander', 'hammered', 'leek', 'insides', 'reader', 'branches', 'guiness', 'tablecloths', 'rarity', 'glassware', 'tolerance', 'navy', 'housing', 'masterpiece', 'outright', 'cheery', 'nailed', 'dispensers', 'woohoo', '09', 'downs', 'offs', '9.50', 'plopped', 'uncomfortably', 'communal', 'masters', 'cumin', 'victoria', 'exceptions', 'saves', 'ceasars', 'crusts', 'twisted', 'residence', 'mu', 'uniforms', 'universe', 'rosati', 'outcome', 'finance', 'development', 'luna', 'blu', \"ma'am\", 'thingy', 'physician', 'rugs', 'thunder', 'maids', 'expo', 'meter', 'files', 'xrays', 'shaded', 'bunnies', 'represent', 'souper', 'sheraton', 'banter', 'horrified', 'etiquette', 'unwelcoming', 'approachable', 'fb', 'framed', 'permanently', 'cube', 'donation', 'junkie', 'aloof', 'bordering', 'reset', 'sizable', '56', 'doubled', 'operating', 'moco', 'benny', 'resembling', 'seldom', 'tick', 'sally', 'betting', 'nostalgic', '8:30pm', 'hanger', 'pounding', 'mount', 'motivated', 'attracted', '5.95', 'sherry', 'julie', 'danish', 'manufacturer', 'landscape', 'flustered', 'cokes', 'tatum', 'frazzled', 'object', 'favs', 'assistants', 'principle', 'ahem', 'reporting', 'portland', 'operator', '15min', 'teppan', 'inspect', 'baguettes', '30.00', 'wannabe', 'disapointed', 'stares', 'korma', 'sleepy', 'yearly', 'suburban', 'breed', 'puddle', 'fam', 'promotional', 'substitution', 'muscle', 'australian', 'flautas', 'gamey', 'voted', 'separating', 'dana', 'specialized', 'corona', 'notices', 'retailers', 'gee', 'sinatra', 'cement', 'delightfully', '105', 'scammed', 'angela', 'hops', 'bow', 'wishes', 'spears', 'choy', 'brussels', 'reeked', 'mature', 'investment', 'durango', 'anchovy', 'fr', 'assembled', 'instruments', 'instruction', 'flaws', 'ga', 'tar', 'flavourful', 'caveat', 'rx', 'apr', 'julia', 'profits', 'hygiene', 'mentally', 'clogged', 'staircase', 'boca', 'fifty', 'statues', 'remover', 'carol', 'sanctuary', 'roosevelt', 'amore', 'ont', 'pnc', 'wristbands', 'mehr', 'u00dfen', 'haben', \"j'y\", 'serveuse', 'peut', 'nach', 'dann', 'logic', 'charles', 'belongs', 'skating', 'isolated', 'remarkably', 'overkill', 'nuisance', 'wf', 'o.', 'emily', 'tending', 'obligatory', 'warrants', 'clogging', 'elizabeth', 'mph', 'overworked', '14.99', 'tiniest', 'dependable', 'ids', 'singles', 'hoisin', 'kay', 'draws', 'disrespected', 'inebriated', 'expanding', 'exceed', 'antibiotics', 'collecting', 'debris', 'hunting', 'shed', 'issued', 'hickory', 'confronted', 'rea', 'cringe', 'spiked', 'vinegary', 'trashed', 'desperation', 'rita', 'inability', 'surround', 'criteria', 'busted', 'opentable', 'connections', 'ford', 'taped', 'perused', 'samosas', 'cannelloni', 'legendary', 'chevy', 'carwash', 'shockingly', 'calendar', '12.95', 'burst', 'subsequent', 'corporation', '.well', 'artsy', 'merry', 'impersonal', 'tues', 'twists', 'victorian', 'weighed', 'downgrade', 'scratches', 'refusing', 'halves', 'voices', 'tommy', 'replies', 'suckered', 'arroz', 'papago', 'karen', 'violation', 'ch', 'token', 'buff', 'transported', 'guidance', 'responding', 'passport', 'pattern', 'bees', 'whatnot', 'mildew', '46', 'summed', 'groomers', 'vowed', 'bargains', 'bras', 'solved', 'taker', 'raisins', 'entries', 'furry', 'crossing', 'input', 'cutest', 'fastest', 'sofas', 'figs', 'toned', 'disgustingly', 'deny', 'fingerling', 'ding', 'deduct', 'overcharge', 'sprayed', 'manages', 'gobbled', 'chipolte', 'seniors', 'lecture', 'goo', 'partly', 'scarce', 'shouted', '.there', 'historical', 'underwear', 'deter', 'nutty', 'mighty', 'decked', 'twitter', 'shrug', 'footage', 'grated', 'brighter', 'refundable', 'disconnected', 'awfully', 'successfully', '20mins', 'jamie', 'suffers', 'donated', 'user', 'collected', 'improves', 'heights', 'dab', 'graffiti', 'harley', 'discs', '350', 'garnished', 'kristen', '160', 'coats', 'import', 'sandwiched', 'sunflower', 'mason', 'palmer', 'pins', 'bok', 'employer', 'vibes', 'shove', 'puzzled', 'aluminum', 'definetly', 'entrances', 'smog', 'brunette', 'cindy', 'mead', 'pakora', 'bets', 'chee', 'ego', 'opting', 'realtor', 'madame', 'attacked', 'tot', 'hunk', 'discovery', 'dee', 'crostini', 'panic', 'wallpaper', 'designers', 'encrusted', 'proven', 'penguin', 'hoo', 'desires', 'partners', 'scents', 'ragu', 'liquors', 'intentionally', 'eyelashes', 'dawn', 'pancetta', 'sal', 'airplane', 'elle', 'carrie', 'lindo', 'har', 'shoppes', 'm&ms', 'craftsteak', 'lawry', 'tracking', 'slivers', 'robbery', 'hubert', 'plateau', \"l'endroit\", 'hank', 'dayclub', 'contre', 'plusieurs', \"qu'on\", 'leider', 'imaginable', 'canceling', 'rung', 'rendition', 'diversity', 'ge', 'effectively', 'poppy', 'styling', 'hug', 'slack', 'blush', 'pronounced', '17th', 'raunchy', '59', 'fishing', 'vouch', 'rivals', 'grasp', '5:30pm', 'cursed', 'displeased', 'flexibility', '4.95', 'criminal', 'motivation', 'sanity', 'document', 'bumps', 'lured', 'loosely', 'anchor', 'copious', 'hound', 'demographic', 'introduction', 'glimpse', 'milling', 'stingray', 'peruse', 'converse', 'interview', 'overwhelmingly', 'wire', 'registered', 'lakes', 'sop', 'tamarind', 'undoubtedly', 'cheesesteaks', 'cici', 'emptied', 'spectacle', 'mod', 'sundaes', 'tahini', 'michaels', 'intolerant', 'hurried', 'phrase', 'headaches', 'trains', 'appliance', 'maxx', '2007', 'dreaded', 'poppin', 'challenges', 'responds', 'expire', 'doll', 'recommends', 'pineapples', 'juke', 'explode', 'housekeeper', 'resemble', 'flags', 'flipping', 'growler', 'horizon', 'juan', 'evidence', 'infant', 'christina', 'bypass', 'essentials', 'ziti', 'sinful', 'critique', 'obscure', 'prepackaged', 'bitty', 'diagnose', '.if', 'pistachios', 'eggroll', 'garcia', 'cheaply', 'prompted', 'compromise', 'periodically', 'clippers', 'flop', 'backdrop', 'reasoning', 'grouchy', 'expenses', 'anna', 'cowboys', 'lou', 'thickness', 'speechless', 'helper', 'apparel', 'sara', 'idk', 'dynamite', 'pirates', 'faucet', 'souvenirs', 'earthy', 'hunter', 'discovering', 'yuk', 'sakana', 'humans', 'lifestyle', 'chao', '.or', 'l.', 'hail', '(:', 'formerly', 'sue', 'steroids', 'cluster', 'pp', 'privilege', 'haunt', 'preserved', 'validate', 'kai', 'icecream', 'rising', 'rellenos', 'earrings', 'mis', '3:00', 'tgi', 'government', 'sams', 'mysterious', 'mortgage', '115', 'doo', 'devoid', 'vitamin', 'piles', 'oder', 'barro', 'memberships', 'toll', 'stake', 'dramatically', 'exiting', 'corny', 'koi', 'reassured', 'retarded', 'aaron', 'rosa', '89', 'mariana', 'kbbq', 'distinctive', 'doubles', 'believer', 'pray', 'plumber', 'pu', 'detour', 'oxygen', 'pilates', 'abc', 'racial', 'caffe', 'decidedly', 'kiosks', 'ski', 'phat', 'pilot', 'envelope', 'respectively', 'comedians', 'waves', 'britney', 'tunnel', 'flyers', 'stumbling', 'broccolini', 'famished', 'bellman', 'pommes', '43', 'paninis', 'dulce', 'freemont', 'thurs', 'peppermill', 'pur', 'camper', 'cristo', 'plasma', 'minority', \"s'mores\", 'oreos', 'pio', 'tu', 'quelques', 'u00e9taient', \"d'un\", 'wit', 'splendid', 'shadyside', 'modified', 'elected', 'deco', 'decorative', 'architectural', 'occurrence', 'tale', 'dreaming', 'dismissive', 'decaf', 'itching', 'hideous', 'coolers', 'unlock', 'groove', 'residential', 'corkage', 'users', 'gripes', 'crowed', 'secluded', 'ongoing', 'tack', 'southpark', 'freedom', 'distract', '7:30pm', '-i', 'contracts', 'mamma', 'rewarded', 'phil', 'radius', 'mouthwatering', 'interactions', 'resembles', 'stroller', 'suspects', 'reports', 'relation', 'walkways', 'underdone', 'hippie', 'raging', 'avacado', 'vice', 'scallion', 'backing', 'squeezing', 'perch', 'peking', 'whopper', 'tearing', 'thrill', 'investigate', 'sassy', 'muddled', 'loses', 'jon', 'housed', 'terrified', 'kennel', 'urbana', 'edgy', 'molly', 'glare', 'illinois', 'hygienist', 'ankle', 'forcing', 'suns', 'monroe', 'ambient', 'espn', 'consist', 'remarks', 'menudo', 'centered', 'blazing', 'paths', 'afterthought', 'herbal', 'grip', 'chimis', 'florist', 'novice', 'sucking', 'giggling', 'judged', 'restuarant', 'appreciative', 'obligated', 'giants', 'increasingly', 'mugs', 'sword', 'girly', 'clipped', 'thereafter', 'privately', 'assessment', 'flooded', 'esthetician', 'sh', 'overhaul', '2004', 'shapes', 'drill', 'whirl', 'glue', 'apron', 'mien', 'weirdly', 'compote', 'belonged', 'evaluate', 'toddlers', '.for', 'hospitable', 'alternator', 'awake', 'taxis', 'hack', 'qt', 'involve', 'expression', 'eek', 'concentrate', 'resulting', 'tataki', 'marie', 'thigh', 'moo', 'siu', 'abrupt', 'christ', 'christian', 'temporarily', 'anticipate', 'moody', 'upgrading', 'tlc', 'diaper', 'inept', 'jordan', 'lollipops', '2.75', 'sleeves', 'plastered', 'chased', 'smores', 'caked', 'reg', 'costumers', 'wong', 'cloudy', 'engage', 'kidney', 'appetites', 'monica', 'sucky', 'choreography', 'ties', 'addict', 'filibertos', 'educational', 'pearls', 'cork', '3.95', 'appreciates', 'gambler', 'ash', 'vu', 'bums', '8.95', 'cheer', 'survived', 'acrylics', 'obsession', 'pushes', 'interrupt', 'isle', 'cheek', 'invoice', 'napa', '10.99', 'orzo', 'theatres', 'pretended', '07', 'storefront', 'marker', 'wares', 'carbon', 'researched', 'rink', 'gow', 'porch', 'bias', 'nj', 'earns', 'indicates', 'ovens', 'midwood', '1.25', 'lightning', 'me-', 'buco', 'a1', 'symphony', 'stacy', 'cotta', 'saddle', 'behave', 'marmalade', 'suspected', 'licked', 'mixers', 'whirlpool', 'peek', 'photographers', 'scented', 'int', 'investigation', '360', 'wink', 'gambled', 'dome', 'toby', 'pina', 'wallets', 'billion', 'examine', 'memphis', 'luxe', 'ganache', 'gazpacho', 'philippe', 'tilted', 'rouge', 'roku', 'chocolat', 'galaxy', 'werden', 'gro', 'pris', 'haggis', 'tous', 'roe', 'rue', 'rien', 'avons', 'toujours', 'scarpetta', 'hammer', 'settling', 'ninja', 'noble', 'ethic', 'swiped', 'orgasm', 'grimy', 'finishes', 'ceo', 'neighborhoods', 'elementary', 'shuffle', 'relate', 'marg', 'predictable', 'linger', 'minuscule', 'roads', 'shriveled', 'finale', 'legacy', 'smokes', 'aesthetics', 'minimalist', 'permit', 'hollow', 'aggravation', 'fur', 'career', 'practicing', 'officers', '88', 'cabin', 'clown', 'efficiency', 'totaled', 'mileage', 'lenses', 'dye', 'vague', 'adopted', 'tarter', 'shepherd', 'celebrities', 'lookin', 'winners', 'amusement', 'dryers', 'observe', 'divide', 'altered', 'hurricane', 'headphones', 'scanned', '2005', 'impromptu', 'perception', 'infested', 'misfortune', 'phantom', 'dissapointing', 'relocated', 'offend', 'affiliated', 'teenager', 'sourced', 'ye', 'sought', 'softer', 'poison', 'foremost', '}', 'automotive', 'cord', 'allen', 'squishy', 'witch', 'empire', 'format', 'mao', 'navigating', 'cardinals', 'abilities', 'sonoran', 'validated', 'haunted', 'akin', 'disposable', 'renaissance', 'exited', 'triangles', 'ol', 'requiring', 'basha', 'commit', 'barrio', 'planner', 'coordinator', 'adequately', 'plantain', 'trustworthy', 'drift', 'indicate', 'subsequently', 'applause', 'interacting', 'craze', 'craved', 'fought', 'inconvenienced', 'starved', '11th', 'volvo', 'callous', 'gained', 'ancient', 'rug', 'astonished', 'victim', 'hana', 'assed', 'gossiping', 'ecstatic', 'syrupy', '19th', 'fantasy', 'documents', 'joey', 'casey', 'apathetic', 'intrusive', 'nightmares', 'grandparents', 'butchered', 'diabetic', 'raviolis', 'demands', 'flats', '1:00', 'phoenician', 'restocking', 'presents', 'brides', 'douchebag', 'theft', 'ron', 'manageable', 'subjected', 'venison', '170', 'kc', 'podium', 'unwanted', 'vindaloo', 'jewel', 'fragrance', 'grassy', 'diamonds', 'liars', 'vida', 'peppered', 'chad', 'korea', 'veteran', 'wellness', 'healthcare', 'substitutions', 'blessing', 'batches', 'pj', 'proteins', 'mommy', 'morsel', 'flemings', 'amigos', '18th', 'yumm', 'jolly', 'reopened', 'matzo', 'regal', 'tangerine', 'manor', 'carefree', 'starwood', 'sandals', 'guitars', 'newbies', 'enhanced', 'inconveniencing', 'noteworthy', 'nd', 'classier', 'debated', 'poultry', 'uns', 'veins', 'chilling', 'macayo', 'scraped', 'diving', 'aesthetically', 'sept', 'uneaten', 'sweeping', '10x', 'pictured', 'thawed', 'dehydrated', 'unattractive', 'paced', 'fe', 'convincing', 'swipe', 'osaka', 'grilling', 'blurry', 'vegas?select', 'sportsbook', 'helicopter', 'convert', 'aging', 'terry', 'rebel', 'raspberries', 'tablet', 'om', 'thighs', 'socializing', 'bells', 'tapenade', 'informs', 'influenced', 'wonderland', 'mum', 'jalepeno', 'vanessa', 'comprised', 'titanic', 'lure', 'laziness', 'acrobatic', 'complements', 'marco', 'hee', 'fillers', 'takeaway', 'lineup', 'aureole', 'crashed', 'rats', 'targets', 'bucco', 'spain', 'yardhouse', 'toasts', 'cosmetics', 'samba', 'jacks', 'oyshi', 'silverton', 'comedian', 'premier', 'ghostbar', 'skyline', 'gros', 'tiesto', 'juste', 'pasties', 'boutiques', 'skyy', 'moe', 'hefe', 'autre', 'qu', 'coloured', 'ontrac', 'dort', 'u00df', 'destihl', 'invested', 'highland', 'sixth', 'overshadowed', 'alternate', 'moisture', 'forgiving', 'microbrews', 'excessively', 'germs', 'swallowed', 'shoppe', 'myriad', 'parade', 'festivities', 'chore', \"i'm\", 'havana', 'praises', 'marginally', 'congested', 'silk', 'grabs', 'tailor', 'emphasize', 'rendered', 'software', 'coasters', 'spelled', 'steering', 'involves', 'atlanta', 'representation', 'monitors', 'wives', \"'cause\", 'complemented', 'expertly', 'resting', 'waistline', 'employ', 'tastings', 'atlantic', 'buyers', 'bk', 'humanity', 'volunteers', 'mingle', 'mumbled', 'applebees', 'hawk', 'blatant', 'bombay', 'keeper', 'wipes', 'screwing', 'sean', 'charts', 'drooling', 'mojo', 'incomplete', 'dominated', 'bitchy', 'gossip', 'gimmicky', 'remnants', 'socialize', 'waterfalls', 'gai', 'uncaring', 'masks', 'pottery', '8:15', 'cornmeal', 'uneasy', '10:30am', 'spends', 'absence', 'serene', 'preserve', 'swept', 'invented', 'baths', 'outgoing', 'douchebags', 'exercises', 'supplied', 'dynamic', 'thief', 'cult', '28th', 'rhythm', 'sensor', 'eliminated', 'witness', 'morgan', 'valve', 'pam', 'anger', 'notify', 'flirt', 'chalked', 'attentiveness', 'considerable', 'dismissed', 'potty', 'dragging', 'pallet', 'orchestra', 'radishes', 'obtain', 'shutters', 'royalty', 'cocky', 'cubano', 'nursery', 'reserving', 'secrets', 'indicator', 'diagnostic', 'tracy', 'recorded', 'umbrella', 'ceramic', 'supportive', 'kiddie', 'vents', 'overbooked', 'parkway', 'fleur', 'salivating', 'advisor', 'nodded', 'whew', 'apprehensive', 'smokiness', 'fires', 'pisses', 'kitten', 'oregon', 'synthetic', 'witty', 'forming', 'grin', 'replenished', 'chipping', 'bogus', 'sarcasm', 'directing', 'bore', 'fluorescent', 'salespeople', 'lau', 'patches', 'ranked', 'sanitizer', 'inducing', 'chilies', 'combining', 'stocks', 'identified', 'powerful', 'consumers', 'lingerie', 'portabello', '24hrs', 'moron', 'miserably', 'selecting', 'blob', 'supplements', 'vienna', 'causes', 'promoting', 'cartel', 'rounding', 'constructive', 'staycation', 'rainforest', 'obscene', 'usps', 'yukon', 'buca', 'intersection', 'brisk', 'comb', 'stranded', 'ushers', 'surreal', 'tossing', 'duct', 'slushy', 'duper', 'brochure', 'gc', 'paranoid', 'insisting', 'jackpot', 'florentine', 'trigger', 'highlighted', 'inhaled', 'kahlua', 'inconsiderate', 'bartending', 'sparkly', 'throws', 'smashing', 'usher', 'rips', 'assumption', 'wolf', 'grove', 'hue', 'ellis', 'rights', 'letdown', 'president', '15th', 'chiropractor', 'sharks', 'buckwheat', 'kiwi', 'voodoo', 'browsed', 'shoots', 'occassions', 'luv', 'glamour', 'unused', '7.00', 'nam', 'downgraded', 'enthusiast', 'trivial', 'unsatisfactory', 'preferably', 'respected', 'enforcement', 'debauchery', '18.00', 'goals', 'moose', 'beating', 'turtle', '8:45', 'bugged', 'wahoo', 'barking', 'hog', 'snobs', 'congee', 'stirred', 'nada', 'funk', 'tiled', 'cortez', 'elegance', 'mattered', 'u00f9', 'vine', 'mock', 'otto', 'plat', 'revamp', 'excluding', '79', 'glitz', 'ville', 'p.', 'revamped', 'cardenas', 'mlife', 'robuchon', 'colada', 'actively', 'scantily', 'liqueur', 'coal', 'lola', '808', 'playboy', 'patisserie', 'lions', 'carmelized', 'oui', 'splashing', 'plot', 'ici', 'u00dfe', 'macaron', 'dope', 'neighbourhood', 'tivoli', 'u00fbt', 'premi', 'terrasse', 'mont', 'votre', 'cochon', 'etwas', 'wieder', 'habe', 'alles', 'viel', 'oldies', 'intelligent', 'announce', 'arrogance', 'maitre', 'shaving', 'heinz', 'income', 'advertises', 'stainless', 'underseasoned', 'smiley', 'lawrenceville', 'surfaces', 'glutton', '4:30pm', 'venturing', 'doorman', '10:00', 'landmark', 'grows', 'cloths', 'hints', 'icon', 'inferior', 'experts', 'heel', 'pills', 'disregard', 'hemmed', 'leaks', 'represents', 'deluca', 'grout', 'fillets', 'og', 'shoddy', 'modifications', 'elliptical', 'jameson', 'peeked', 'tide', '6:45', 'crispiness', 'concourse', 'flagship', 'summarize', 'phase', 'tellers', 'engagement', 'volumes', 'sundried', 'pungent', 'borders', 'lighted', 'ht', 'cracks', 'daniels', 'disc', 'cuticle', 'quickest', 'streak', 'walleye', 'namesake', 'disabled', 'weapons', 'buzzer', 'uhm', 'tl;dr', 'hatch', 'wage', 'butterflies', 'place-', 'adoption', 'toenails', 'engineering', 'disgruntled', 'iowa', 'crabcake', 'j.', 'blizzard', 'squished', 'shameful', 'devoted', 'marilyn', 'coughing', 'schedules', 'blink', 'cheesey', 'fools', 'alice', 'illusion', '12:30pm', '2:30pm', 'rico', 'blaming', 'bosa', 'potatoe', 'scenic', 'versed', 'sichuan', 'presentable', 'chatter', 'unevenly', 'dismay', 'irked', 'entice', 'gouging', 'samurai', 'carlton', 'unapologetic', 'elbows', 'batman', '1200', 'chuckle', 'nerves', 'gateway', 'someones', 'recovering', 'brad', 'revenue', 'prom', 'fl', 'doorbell', 'barbershop', 'purposely', 'b.s', 'fussy', 'swinging', 'gringo', 'spinato', 'rectangular', 'peeved', '1500', 'grocer', 'riesling', 'merits', 'swung', 'busting', 'whomever', 'beefy', 'snide', 'stems', 'alaska', '40.00', 'instagram', 'bathe', 'establish', 'scum', 'beginners', 'independently', 'prefers', 'delicacy', 'paragraph', 'solutions', 'sympathy', 'kalua', 'dumpster', 'chock', 'val', 'tremendously', 'residue', 'ali', 'adjustments', 'abruptly', 'sadness', 'inquiry', 'rockin', 'medallions', 'locking', 'scarfed', 'shallow', 'cutlet', 'suprised', 'bloated', 'connects', 'andrea', 'gary', 'critic', '6pm', 'manicurist', 'crema', '11:30am', 'prepped', 'knocks', 'venti', 'jiffy', 'powering', 'albertsons', 'arnold', 'tongs', 'questioning', 'rodeo', 'sleeve', 'turnaround', '1.75', 'dissappointed', 'dings', 'contender', 'refreshed', 'expedia', 'firecracker', 'credited', 'gvr', 'rival', 'teri', 'supplement', 'napoli', 'winding', 'goto', 'dumbfounded', 'dunk', 'izakaya', 'marry', 'bouquet', 'honeydew', 'cleanse', 'readers', 'rivers', 'supplier', 'markup', 'handroll', 'tsk', 'sous', \"comp'd\", 'piccata', 'humus', 'sauvignon', 'hating', 'strolling', 'wholesome', 'stewed', 'humidity', 'capture', 'spur', 'sustainable', 'unexpectedly', 'midwestern', 'pedis', '11:15', 'freaks', 'wagon', 'pups', '4:00', 'spectrum', 'wrestling', 'gaudy', 'harold', 'gaps', 'bathing', 'internal', 'downed', 'eco', 'standouts', 'flaming', 'lobsters', 'nan', 'cavernous', 'creamer', 'meadows', 'thyme', 'albondigas', 'jets', 'belgium', 'criss', 'coney', 'linen', 'alligator', 'bounce', 'beijing', 'extract', 'closets', 'zarkana', 'stunts', 'for-1', 'wristband', 'zinburger', 'gimme', 'chasing', 'barcelona', 'boulders', 'ipic', 'agua', 'jamais', 'bref', 'iberico', 'burgatory', 'miyagi', 'preis', 'sch', 'einfach', 'aus', 'ohso', 'estimates', 'starbuck', 'hay', 'p.f', 'diameter', 'allegedly', 'fucked', 'snake', 'g.', 'cosmetic', 'unattended', 'emotional', 'consensus', 'bastard', 'deadline', 'proudly', 'rotting', 'measures', 'bolt', 'sammich', 'suckers', 'intentions', 'hairstylist', 'carpeting', 'preparations', '9th', 'lassi', 'router', 'sakes', 'overhyped', 'bracelet', 'organize', 'nauseous', '05', 'marvelous', 'velveeta', 'at&t', 'clumps', 'dicks', 'bacteria', 'uneventful', 'midday', 'barn', 'duplicate', 'releases', 'dilworth', 'bullet', 'stormed', 'secondary', 'coup', 'bless', 'flashlight', 'stretched', 'madhouse', 'oblivious', 'pinkberry', 'stamped', 'crinkle', 'strewn', 'mussel', 'fixes', 'resorted', 'pinnacle', 'replicate', 'ebay', 'laps', 'unaware', 'punched', 'mixer', 'gently', 'softball', 'overstuffed', 'champion', 'ruben', 'lebanese', 'boarded', 'anyplace', 'dread', 'spark', 'cu', 'tagged', 'perched', 'perimeter', 'salvage', 'nerd', 'admire', '\\n▁\\n▁', 'bruce', 'sunlight', 'rectified', 'substantially', 'distraction', 'embassy', 'tornado', 'ditch', 'fraiche', 'morsels', 'ticked', 'trusting', 'damper', 'escapes', 'liquids', 'biking', 'henry', 'cages', 'pseudo', 'difficulties', 'ashtray', 'rejected', 'retailer', 'graphic', 'fund', 'dolce', '2001', 'nirvana', 'devouring', 'loser', 'upselling', 'great-', 'adobada', 'sorted', 'croquettes', 'slipping', 'tones', 'cashews', 'wires', 'mansion', 'meringue', 'itty', 'exploded', 'hillstone', 'federal', 'prescribed', 'wider', '3.25', 'dogfish', 'unheard', '1hr', 'believing', 'avondale', 'freaky', 'headlights', '1990', 'positions', 'crabby', 'pitiful', 'worrying', 'mistakenly', 'inquiring', 'pristine', 'obnoxiously', 'robbins', 'sturdy', 'destinations', 'surcharge', 'sd', 'religion', 'callus', 'flaw', 'fashionable', 'spontaneous', 'slabs', 'adorned', 'eclair', 'scarf', 'chronic', 'reimburse', 'catches', 'scorching', 'amf', 'observations', 'bouncing', 'fundraiser', 'crawled', 'dilemma', 'passive', 'aimlessly', 'stretching', 'smoother', 'heal', 'manually', '2.95', 'applying', '41', 'precooked', 'annoyingly', 'dennis', 'ck', 'whitney', 'lieu', 'lollipop', 'embrace', 'minestrone', 'whining', 'leaned', 'chompies', 'bff', 'mints', 'translates', 'molasses', 'mishap', 'hells', '67', 'spreads', 'exemplary', 'williams', 'command', 'instances', 'scratching', '69', 'disappointments', 'calming', 'inspire', 'binge', 'eachother', 'completion', 'alerted', 'unnecessarily', 'blowout', 'amidst', 'contributed', 'dual', 'leisure', 'conduct', 'hooker', 'stroke', 'bussed', '16.99', 'revolution', 'smokehouse', 'tammy', 'pendant', 'galleria', 'reconsider', 'unsanitary', 'doggy', 'gusto', 'incorporate', 'ohh', 'measurements', 'sardine', 'nonstop', 'lucked', 'portabella', 'deodorant', 'u00f1a', 'precision', 'compromised', 'fulfilling', 'projector', 'te', 'crummy', 'zumba', 'googled', 'opener', 'greyhound', '-a', 'amazement', 'resemblance', 'bechamel', 'untrained', 'anxiety', 'stalk', 'meatless', 'ants', 'sierra', 'brushes', 'ban', 'flea', 'funnel', 'chive', 'sting', 'bitches', 'representatives', 'itinerary', 'crispier', 'furnished', 'colombian', 'represented', 'fumes', 'zur', 'fresca', 'cools', 'fo', 'violently', '57', 'tranquil', 'lotions', 'judy', 'disco', 'keno', 'fart', 'relieve', 'floats', 'becuase', 'undrinkable', 'attendees', 'fillmore', 'fresco', 'mounds', 'alexis', 'speedway', 'affected', 'trance', 'modelo', 'pureed', 'hanny', 'stroganoff', 'molten', 'bevmo', 'tabasco', 'anxiously', 'picasso', 'waterloo', 'oversalted', 'carnevino', 'bran', 'u00fcber', 'wird', 'soit', 'denis', 'bertha', 'kenny', 'coaches', 'avait', 'vieux', 'soir', 'autres', 'aller', 'mcgill', 'pied', 'wirklich', 'wurde', 'vor', 'preise', 'spills', 'waterfront', 'bitterness', 'bla', 'barnes', 'logged', 'frantically', 'stride', 'dreamy', 'commenting', 'circuit', 'armor', 'mammoth', 'reunion', 'writer', 'nova', 'nay', 'positioned', 'whoops', 'financially', 'concluded', 'satellite', 'lookout', 'chutneys', '530', 'shreds', 'absorb', 'eta', 'steelers', 'buttercream', 'hostage', 'laura', 'peers', 'deaf', '1:45', 'hushpuppies', 'flounder', 'hehe', 'polar', 'ymca', '2.25', 'lens', 'concord', 'nm', 'contractor', 'detect', 'projection', 'yams', 'sufficiently', 'canvas', 'invitation', 'reds', 'excellence', 'here-', 'cliche', 'mecca', 'bridesmaids', 'antipasti', 'scraping', 'runway', 'qc', 'tobacco', 'overboard', 'mealy', 'workplace', 'appealed', 'rapidly', 'dumpy', 'sculptures', 'lakeside', 'athletic', 'litter', '10.50', 'ethical', 'assault', 'saag', 'shelter', '{', 'qualms', 'muster', 'expansion', 'aromas', 'bar-', 'r&b', 'clump', 'knick', 'vacuuming', 'f.', 'funeral', 'scope', 'pleasures', 'lakers', 'clouds', 'nerds', 'functions', 'dobson', 'leap', 'intensity', 'knot', 'vie', '60s', 'trinkets', 'muy', 'hourly', 'crock', 'balconies', 'neutral', 'unkempt', 'mercedes', 'parallel', 'ushered', 'autozone', 'crooks', 'atomic', 'anyday', 'possibilities', 'maricopa', 'employed', 'graduated', 'compressor', 'displaying', 'scraps', 'gawd', 'seller', 'wade', 'cous', 'chocolatey', 'bearable', 'pencil', 'overflow', 'i\"m', 'wiring', 'representing', 'indulgence', 'fontina', 'freebies', 'switches', 'paw', 'steamer', 'dart', 'notion', 'gig', 'congrats', 'effing', 'greece', 'crispness', 'whitefish', 'principal', 'masa', 'strands', 'begged', 'uneducated', 'ethics', 'productive', 'bitten', 'financing', 'roam', 'sel', 'marshall', 'expressions', 'modify', 'misery', 'horses', 'multitude', '2-', 'demi', 'attic', 'bloom', 'awsome', 'splenda', 'nighttime', 'filth', 'raped', 'nello', 'golds', 'password', 'turd', 'rr', 'encouraging', 'aiming', 'fairways', 'takamatsu', 'padded', 'presenting', 'costa', 'percentage', 'reddish', 'presume', 'memo', 'bahama', '13.99', 'travelling', 'larry', 'spoonfuls', 'kiltlifter', 'renew', 'sickly', 'purposes', 'needles', '.he', 'intent', 'yakisoba', 'convertible', 'aromatic', 'attest', 'leopard', 'standpoint', '190', 'chanel', 'expresso', 'bellies', 'placement', 'humorous', 'optimistic', 'increasing', 'gestures', 'recording', 'auction', 'frankie', 'addresses', 'crate', 'grigio', 'crabmeat', 'glove', 'hu', 'hannah', 'chen', 'regretting', 'sb', 'chin', 'begrudgingly', 'sterling', 'ridden', 'translated', 'quiz', 'su', 'tripping', 'midas', 'hid', 'insists', 'wig', 'tightly', 'alter', 'hairdresser', 'volleyball', 'eyeliner', 'habitat', 'mil', 'fulfilled', 'routines', 'relations', 'tipper', 'radiator', 'bedrooms', 'partied', 'released', 'hugely', 'jun', 'irs', 'uninteresting', 'porridge', 'ranchero', 'panties', 'scrap', 'arch', 'eggy', 'swears', 'graveyard', 'toni', 'nov', 'cancelling', 'weirdest', 'donald', 'consult', 'mri', 'appease', 'sickening', 'eat24', 'landlord', 'legends', 'damp', 'addressing', 'floppy', 'participation', 'mentality', 'goofy', 'snagged', 'marriage', 'unsweetened', 'independence', 'compensated', 'tracked', 'antonio', 'lasagne', 'doorway', 'conducive', 'awesomely', 'frisee', 'jury', 'sapphire', 'openings', 'rancho', 'cleveland', 'jumpers', 'flock', 'devour', 'vacations', 'defintely', 'monkeys', 'movements', 'flourless', 'adovada', 'douchey', 'cody', 'sneaky', 'daunting', 'gastropub', 'scares', 'eli', 'extravaganza', 'hoa', 'knob', 'whistles', 'hustling', 'woken', 'gamblers', 'tinted', 'sympathetic', 'grinding', 'goyemon', 'time-', 'terrine', 'pancit', 'tapa', 'croquetas', 'gondola', 'wildly', 'urchin', 'salad-', 'robot', 'redbull', 'joseph', 'goddamn', 'javier', 'shellac', 'respective', 'kha', 'adored', 'rome', 'u00c0', 'margaritaville', 'monstrous', 'hrh', 'astounding', 'taiwan', 'paco', 'haute', 'schwartz', 'shipment', 'allerdings', 'sie', 'sisig', 'siracha', '`', 'eva', 'overwhelm', 'font', 'winco', 'kaskade', 'dickey', 'dit', 'avoir', 'monde', 'faut', 'toutes', 'mtl', 'grassmarket', 'hula', 'ronin', 'bis', 'karlsruhe', 'beim', 'lyrics', 'defined', 'applaud', 'coarse', 'whipping', 'likewise', 'jaded', 'borrow', 'virginia', 'exhibition', 'photographs', 'wilson', 'checkers', 'liz', 'listens', 'occupying', 'impersonator', 'profession', 'garages', 'insight', 'grubhub', 'cambodian', 'shears', 'biryani', 'hooray', 'album', 'torte', 'annie', 'backside', '7:45', 'strap', 'kraut', 'billy', 'retreat', 'traded', 'shenanigans', 'brutal', 'enforce', 'tread', 'ladder', 'imagining', 'misplaced', 'icky', 'tailoring', 'tackle', 'sidewalks', 'counterparts', 'atrium', 'lash', 'alarms', 'classical', 'gluttony', 'fragrant', 'rubbish', '2:00', 'lodge', 'favored', 'anise', 'unsuspecting', 'smug', 'overloaded', 'permission', 'scant', 'nonsmoking', 'tougher', 'monona', 'rangoons', 'dispatcher', 'ranking', 'pod', 'receives', 'counterpart', 'grime', 'zach', 'harm', 'jail', 'underage', 'bussing', 'clark', 'cityscape', 'pregame', 'zoe', '2003', 'cooper', 'appearances', 'taller', 'heed', 'potter', 'surpassed', 'bikinis', 'dammit', '0.50', 'roomie', 'coronado', 'burros', 'botanical', 'bushes', 'gated', 'renters', 'hangs', 'prairie', 'themes', 'supervisors', 'downward', 'waxes', 'f*ck', 'customary', 'drier', 'oink', 'rethink', 'politics', 'laminate', 'sided', 'suicide', 'exhaust', '10.95', 'hoot', 'marina', 'revolting', 'crumble', 'liner', 'mouthful', 'becky', 'gruff', 'pamper', 'reiterate', 'detailing', 'dating', 'lauren', 'parisian', 'itch', 'macbook', 'antibiotic', '1980', 'circulation', 'diabetes', 'puerto', 'wrappers', 'snail', 'nondescript', 'trifecta', '06', 'oreganos', 'thirst', 'scalloped', 'firmly', 'samantha', 'froze', 'lexus', 'festivals', 'pinky', 'functioning', 'armed', 'cliff', 'occur', 'perplexed', 'sirens', 'traditionally', 'homestyle', 'baskin', 'famed', 'drastic', '365', 'drawbacks', 'onsite', 'asado', 'grungy', '-there', 'vaccinations', 'upkeep', 'thou', 'checker', 'sliver', 'begun', 'differentiate', 'jeremy', 'measured', 'reorder', 'priorities', 'uye', 'gills', 'assemble', '11.00', 'vanished', 'disorganization', 'straighten', 'submit', 'hunan', 'ricardo', 'shepard', 'flippin', 'petco', 'saba', 'hugo', 'hem', 'imports', 'shumai', 'incense', 'greetings', 'destroy', 'negotiate', 'daiquiri', 'b&n', 'nordstroms', 'remedied', 'sear', 'alan', 'leafy', 'finals', 'feat', 'dame', 'amenity', 'curried', 'importance', 'ploy', 'manicotti', 'raucous', 'caterpillar', 'maguro', 'discerning', 'licensed', 'uppity', 'syndrome', 'golfing', 'cayenne', 'shortest', 'rotated', 'skimped', 'schmancy', 'fixins', 'relevant', 'territory', 'shoulda', 'detergent', 'gmo', 'envelopes', '900', 'cursing', 'yankee', 'romano', 'petty', 'references', 'sloppily', 'heidi', 'cassie', 'litchfield', 'dreary', 'picante', 'barbara', 'savers', 'tuck', 'hooks', 'scissors', 'brace', '12th', 'continuous', 'discontinued', 'hesitated', 'glob', 'tgif', 'bearing', 'strategically', 'strolled', 'biet', 'com', 'comida', 'mas', 'flagging', 'truthfully', 'v.', 'shortbread', 'critics', 'sparkle', 'ironing', 'bridesmaid', 'unclean', 'daikon', 'derek', 'overweight', 'peppermint', 'souls', 'tits', 'zesty', 'contemplating', 'temper', '44', 'ct', 'challah', 'mundane', 'marche', 'understandably', 'stereotype', 'chalky', 'arteries', 'sandra', 'maximize', 'michoacan', 'temple', 'recomend', 'grant', 'grandview', 'meters', 'deplorable', 'motions', 'excellently', '25th', 'hofbrauhaus', 'generosity', 'mafia', 'freight', 'categories', 'pleasurable', 'cheeks', 'c-', 'vogue', 'yorkshire', 'bing', 'bibimbap', 'dis', 'liability', 'aa', 'engineer', 'goats', 'faucets', 'heritage', 'genghis', 'sheep', 'refresh', 'peculiar', 'southeast', 'brandi', 'glam', 'dumping', 'meditation', 'recession', 'bash', 'elevation', 'containing', 'prosecco', 'crank', 'lon', 'appearing', 'gluttonous', 'improv', '-good', 'mortified', 'forehead', 'ballys', 'celine', 'penthouse', 'lug', 'tuning', 'roped', 'clipboard', 'spiral', 'prettier', 'fromage', 'congratulations', 'ci', 'ooh', 'pomme', 'illusions', 'doubtful', 'restraunt', 'licking', 'lynn', 'orgasmic', 'macchiato', 'ans', 'penang', 'dusted', 'jabbawockeez', 'cupcakery', 'voila', 'bubbling', 'arctic', 'salade', 'poulet', 'nori', 'snickerdoodle', 'foursquare', 'prive', 'shortcomings', 'carded', 'barbie', 'pb&j', 'curl', 'endured', 'lumpia', 'kalamata', 'honoring', 'mekong', 'laurent', 'gigi', 'helen', 'no1dp', 'lui', 'vais', 'nos', \"d'une\", 'u00eates', 'eu', 'prendre', 'parc', 'noca', 'reclining', 'whiskies', 'lomo', 'furikake', 'u00fchst', 'eigentlich', 'einer', 'keyboard', 'impeccably', 'personalities', 'comping', 'uno', 'rusty', 'egregious', 'thumping', 'unpacked', 'supported', 'bu', 'well-', 'deleted', 'camel', 'academy', 'waking', 'doorstep', 'dragons', 'rite', 'unmemorable', 'milwaukee', 'changer', 'disappointingly', 'scrubs', 'liberal', 'purist', 'consultant', 'imply', 'accidents', 'dolls', 'potent', 'oktoberfest', 'avis', 'immense', 'cheering', 'tryon', 'ri', 'aces', 'viewed', 'presto', 'bundle', 'unresponsive', 'streaming', 'cougars', 'feared', 'jake', 'grinders', 'violent', 'necessity', 'mm', 'believes', 'curse', 'gents', '24hr', 'sinking', 'overrun', 'praying', 'shred', 'passage', 'fuego', 'grades', 'darned', 'eagerly', 'tepid', 'finesse', 'installing', 'drinkable', 'tease', 'ella', 'interpretation', 'pressing', 'debacle', 'recovered', 'solidly', 'spicey', 'neil', 'tequilas', 'uninviting', 'rash', 'prominent', 'knacks', 'alma', 'banking', 'fez', 'churn', 'bases', 'towing', 'collision', 'latino', 'disposal', 'miffed', 'mural', 'dusk', 'bruchetta', 'renter', 'vuitton', 'vomited', 'celeb', 'proprietor', 'emergencies', 'departments', 'titles', 'introducing', 'collector', 'attendance', 'accolades', 'shooter', 'suede', 'eliminate', 'fabrics', 'whistle', 'lifeless', 'ensuring', 'regions', '20th', 'injured', 'wobbly', 'deceptive', '24th', 'delis', 'bethany', 'precisely', 'lloyd', 'rinsed', 'yumminess', 'moreover', 'culvers', 'laughter', 'rename', 'chlorine', 'minnesota', 'verge', 'implies', 'economical', 'woody', 'uncalled', 'stud', 'extends', '40th', 'tablecloth', 'expects', 'disbelief', 'leo', 'massaged', 'metallic', 'garrett', 'adjusting', 'fixture', 'bush', 'examples', 'plugged', 'guts', 'flagstaff', 'weakness', 'freshener', 'gloomy', 'shogun', 'sentimental', 'nationwide', 'honors', 'yolks', 'reversed', 'hunks', 'rhubarb', 'threat', 'carousel', 'tainted', 'gimmicks', 'sings', 'medications', ':-))', 'darling', 'musician', 'gowns', '7pm', 'pals', 'magician', 'tomatoe', 'chillin', 'extending', 'discernible', 'jw', 'butterfish', 'jockey', 'inspected', 'howies', 'smarter', 'ceaser', '.very', 'yer', 'luau', 'disconnect', 'proportioned', 'afterall', 'piling', 'workmanship', 'barked', 'concerning', 'ignorance', 'dimsum', 'labs', 'feeds', 'hyper', 'disconcerting', 'sources', 'shi', 'volunteer', 'nieces', 'hiro', 'chevron', 'eyelash', 'tapped', 'cushion', 'endive', 'motto', 'hardened', 'anthropologie', 'sweetener', 'phoned', 'fragile', '7:15', 'toxic', 'rubs', 'nazi', 'evaluation', 'skates', 'brittle', 'bleed', 'nevermind', 'drastically', 'leeks', 'gameworks', 'supermarkets', 'regrets', 'decency', 'outlook', 'blandest', 'fraudulent', 'centerpiece', 'lumps', 'pow', 'aggravated', 'electrician', 'depend', 'facelift', 'reveal', 'weakest', 'handbags', 'lorraine', 'deconstructed', 'incidentals', 'orlando', 'gauge', 'carmax', 'versa', 'thieves', 'beginner', 'justifies', 'dac', 'nissan', 'sprout', 'slogan', 'baller', 'oc', '702', 'detract', 'wack', 'wah', 'unedible', 'sneaking', 'hairy', 'noone', 'shines', 'sweaters', 'plaid', '175', 'komol', '.00', 'mobbed', 'pom', 'researching', 'thrive', 'sec', 'bridges', 'welcomes', 'repeats', '108', 'sighed', 'skirts', 'falafels', 'bungalow', 'railing', 'blackout', 'popeyes', 'ba', 'recline', 'aches', 'vips', 'effin', 'agrees', 'rust', 'riddled', 'ste', 'manning', 'frightening', 'whichever', 'discomfort', 'refreshments', 'verona', 'reflexology', 'breezy', 'texts', 'swag', 'bucatini', 'commute', 'origin', 'develop', 'amaretto', 'daring', 'equals', 'jugs', 'wardrobe', 'harassing', 'pallets', 'afforded', 'improperly', 'oiled', 'hitch', 'swan', '19.95', '107', 'preoccupied', 'championship', 'gratis', 'rnr', 'sacrifice', 'julian', 'elusive', 'glenn', 'diminished', 'grotto', 'franco', 'boozy', 'miniscule', 'slamming', 'accommodation', 'puking', 'canes', 'advocate', 'whore', 'dies', 'discrimination', '58', '109', 'grains', 'thali', 'dripped', 'munich', 'bosses', 'monstrosity', 'dion', 'noms', 'accomplish', 'peeves', 'association', 'smacked', 'acidity', 'juiciness', 'epitome', 'minibar', 'venice', 'barge', 'revealing', 'translate', 'nectar', 'sock', 'animated', 'hastily', 'sienna', 'porcelain', 'dashed', 'slime', 'realise', 'soi', 'accompanies', 'andouille', 'attributed', 'shawn', 'sterile', 'puny', 'prince', 'snails', 'hangar', 'immature', 'indulged', 'churrascaria', 'incarnation', 'crudo', 'rao', 'galbi', 'giada', 'emma', 'za', 'barrels', 'appr', 'trouve', 'roka', 'paved', 'washroom', 'nola', 'easton', 'yen', 'cowfish', 'threaded', 'muss', 'mauvais', 'u00e9rience', 'u00e9b', 'salle', 'surtout', 'trouver', 'bouffe', 'donner', 'elm', 'tha', 'u00e4re', 'fleisch', 'patched', 'artery', 'restricted', 'hater', 'disguise', 'utmost', 'krab', 'legitimately', 'aweful', 'diets', 'loathe', 'darren', 'fuming', 'draught', 'alien', 'blandness', 'kielbasa', 'jackie', 'circa', 'lingered', 'hvac', 'brass', 'calimari', 'absurdly', 'authorized', 'chickpeas', '.like', 'brgr', 'heavens', 'elephants', 'discretion', 'limeade', 'inevitably', 'squad', 'belmont', 'budweiser', 'spooky', 'sync', 'ward', 'tastey', 'ip', 'towner', 'usage', 'hover', 'panthers', 'rockefeller', 'granny', 'antiques', 'flick', 'auntie', 'differ', 'luncheon', 'supremely', 'gravel', 'abound', 'sprawling', 'optimal', 'screening', '911', 'distractions', 'sc', 'walkers', 'metropolitan', 'wendys', 'digs', 'transferring', 'pantry', 'commons', 'freebie', 'barefoot', 'clubhouse', 'cardinal', 'skewed', 'snatched', 'lish', 'mailing', 'saver', 'bind', 'feather', 'turnoff', 'recognition', 'bathed', 'nest', 'licious', 'classify', 'cancun', 'composed', 'digest', 'focuses', 'bling', 'dimmed', 'monty', 'smelt', 'misc', 'shish', 'conservatory', 'sensation', 'filters', 'professors', 'patronized', 'forgivable', 'aloo', 'thickly', 'aw', 'bragging', 'starchy', 'progressed', 'gamestop', 'satisfies', 'remoulade', 'reimbursed', 'shakers', 'nuff', 'flattering', 'mingling', 'utensil', 'disgrace', 'scolded', 'paneling', 'declining', 'alleged', 'intact', 'bible', 'blog', 'nifty', 'compassionate', 'belts', 'swamp', 'mucho', 'burden', 'notorious', 'sworn', 'scoring', 'bulky', 'penis', 'geek', 'deprived', 'delicatessen', 'hefeweizen', 'bellini', 'doormen', 'involving', 'margs', 'cheating', 'moussaka', 'vile', 'respecting', 'fiasco', 'decreased', 'oversight', 'testament', 'contractors', '29th', 'pharmacist', 'huddled', 'bothersome', 'mortadella', 'vocal', 'ox', 'houstons', 'messes', 'indecisive', 'pager', 'strive', 'excused', 'bib', 'coordinate', 'up-', 'proportion', 'pcs', 'winds', 'phoenix?select', 'vincent', 'intestines', 'narrowed', 'snooze', 'argumentative', 'eff', 'postinos', 'windsor', 'mare', 'garbanzo', 'fettucine', 'hershey', 'distinctly', 'fairy', 'nypd', 'harass', '1:00pm', 'cedar', '.when', 'amiss', 'threaten', 'caucasian', 'textured', 'unclear', 'economic', 'waiver', 'erica', 'dusting', 'cashed', 'weirdos', 'botched', 'b4', 'sammie', 'dreamed', 'audible', 'spruce', 'teaches', 'strongest', 'vietnam', 'heres', 'mountainside', 'communicating', 'elliot', 'newspapers', 'bundt', 'onward', 'unexciting', '100.00', 'nickle', 'devils', 'creature', 'stalks', 'exasperated', 'flake', 'snacking', 'audi', 'ensured', 'floyd', 'thanking', 'prospect', 'violin', 'previews', 'nastiness', 'shifts', 'crickets', 'puddles', 'brittany', 'bail', 'uhh', 'clutch', 'nuked', '9:15', 'forte', 'crayons', 'floss', 'tactic', 'gums', 'attorney', 'scrubbing', 'minimalistic', 'hysterical', 'avg', 'gabriel', 'palates', 'swings', 'chief', 'cheyenne', 'haunts', 'davidson', 'grams', 'rushes', 'jicama', 'vat', 'sellers', 'escort', 'dq', 'piped', 'deeper', 'seeming', 'forces', 'silverado', 'undergoing', 'malbec', 'xl', 'doug', 'legally', 'dirtiest', 'emerald', 'codes', 'happend', 'tees', 'accented', 'positively', 'irritation', 'sharon', 'promenade', 'neglect', 'stab', '.really', 'italiano', 'gouged', 'mans', '12.50', 'cobblestone', 'sensory', 'retrieved', 'ari', 'fender', 'drips', 'regulations', 'spear', 'meth', 'progressive', 'robotic', 'refrain', 'raft', 'captive', 'insistent', 'inaccurate', '200.00', 'beige', 'massaging', 'unload', 'glitzy', 'shutting', 'whatevs', 'franks', 'thunderbird', 'overcharging', 'skanky', 'grimaldis', 'chloe', 'dove', 'cellphone', 'participate', 'dressy', 'umc', 'preferable', 'chaise', 'nellis', 'majorly', 'settebello', 'shitake', 'karma', 'noses', 'descript', 'healing', 'rogue', 'brightest', 'slicing', 'costed', 'denying', 'uptight', 'civil', 'dun', 'powers', 'mtn', 'mercy', 'yakitori', 'upload', 'heineken', 'disputed', '220', 'bim', 'translation', 'gina', 'frickin', 'aggressively', 'affects', 'tshirt', 'methods', 'pepe', 'gall', 'loops', 'nausea', 'hiked', 'brett', 'attributes', '62', 'catholic', 'scar', 'bounced', 'particles', 'northeast', 'lindsey', 'semester', 'grave', 'savvy', 'william', 'incline', 'neapolitan', 'unreliable', 'murray', 'fooling', 'vastly', 'consolation', 'zada', 'suspicion', 'snuck', 'eyeing', 'traps', 'loudest', 'mesmerized', 'milky', 'vertical', 'strung', 'nit', 'grief', 'topic', 'ferrari', 'omfg', '5:45', 'tablespoon', 'fascinated', 'numb', 'locating', 'emo', 'blockbuster', 'donkey', 'din', 'gender', 'confirming', '23rd', 'trainee', 'valuables', 'speakeasy', 'barros', 'defeats', 'tripped', 'valets', 'campfire', 'charlies', 'aji', 'originality', 'gb', 'touring', 'agenda', 'naive', 'ftw', 'impatiently', 'clone', 'unobtrusive', 'dialed', 'delicous', 'db', 'paws', 'sands', 'griffin', 'bourdain', 'acquainted', 'drapes', 'orbitz', 'tortas', 'wizard', 'aggravating', 'fieri', 'colour', 'southpoint', 'cet', 'ferris', 'spago', 'shortribs', 'unsatisfying', 'actuality', 'bologna', 'drai', 'namely', 'dungeness', '240', 'champ', 'ally', 'bruised', 'ganoush', 'aimed', 'harmony', 'vodkas', 'openly', 'scrubbed', 'transformed', 'iconic', 'election', 'durant', 'vancouver', 'passionfruit', 'upright', 'wiener', 'fishes', 'puffy', 'ostrich', 'flatscreen', 'yogurts', 'whisked', 'garnishes', '-2', 'males', 'flood', 'soup-', 'stk', 'zinfandel', 'tc', 'honeycomb', 'realised', 'fanatics', 'f**king', 'rw', 'sizzler', 'specifics', 'libations', 'twenties', 'dislikes', 'heartily', 'tabbouleh', 'emotions', 'krave', 'beurre', 'airpark', 'copperfield', 'reese', 'sterne', 'nove', '5k', \"j'avais\", 'agr', 'u00e9able', '--the', 'nutritional', 'cinemas', 'jollibee', \"d'lish\", 'necklace', 'ab', 'buggy', 'soho', 'quoi', 'merchant', 'u00a310', 'xlb', 'garth', \"l'ambiance\", 'parce', 'toute', 'u00e9gumes', 'produits', \"j'aime\", 'vari', 'groupe', 'verre', 'u00e3o', 'peux', 'crews', 'xiao', 'fringe', 'saltado', 'mattie', 'u00fcck', 'keine', 'eher', 'donor', 'barre', 'vaping', 'scooter', 'smeared', 'dueling', 'glossy', 'pianos', 'empathy', '6:15', 'splashed', 'unkept', 'attribute', 'concur', 'brugge', 'superbowl', 'proposed', 'resides', 'celiac', 'recycling', 'separates', 'liven', 'avant', 'nicky', 'dank', 'reflecting', 'smattering', '53', 'ug', 'quintessential', 'prepares', 'leader', 'glamorous', 'eccentric', 'wholey', 'punishment', 'conducted', 'goer', 'moroccan', 'riot', 'recurring', 'retirement', 'gears', 'prick', 'cleanser', 'racket', 'gastro', 'nikki', 'tabletop', 'olivia', 'relegated', 'swank', 'saucer', 'md', 'innocent', 'hotcakes', 'outraged', 'dissatisfaction', 'pry', 'trading', 'straps', 'duties', 'commonly', 'flakey', 'ireland', 'newborn', 'there-', 'crush', 'throwback', 'goblet', 'alarming', 'cam', 'arthur', 'fiction', 'chalet', 'horn', 'simpler', 'ian', 'hah', 'broom', 'dimension', 'douglas', 'brooks', 'suitcases', 'forgiven', 'arose', 'hbo', 'communications', 'tgifridays', 'meaningless', 'monterrey', 'rhyme', 'luscious', 'prevented', 'peep', 'beings', 'walter', 'praised', 'serial', 'interstate', 'arguably', 'cloves', 'realm', 'thereof', '15mins', 'mg', 'howie', 'berlin', 'proactive', '14.95', 'indy', 'merit', 'perry', 'statements', 'tacked', 'speech', 'obese', 'adopt', 'fleet', 'koreans', 'lincoln', 'dt', 'rapid', 'a.k.a', 'staff-', 'culver', 'cultures', 'civilized', 'irate', 'canopy', 'junction', 'pointers', 'coronas', 'unstable', 'networking', 'sensed', 'gene', 'conventions', 'jerseys', 'electricity', 'jamaica', 'africa', \"po'boy\", 'urinal', 'regrettably', 'tablespoons', 'unloading', 'agonizing', 'species', 'clipper', 'scratchy', 'sideways', 'haphazardly', 'correction', '185', 'dandy', 'blondie', 'ok-', 'twilight', 'misty', 'greenway', 'flushing', 'healthiest', 'swearing', 'crashing', 'hyde', 'pitched', 'jog', 'unethical', 'hassles', 'roscoe', 'sopapillas', 'completing', 'violations', 'cruising', 'shane', 'doubts', 'succeeded', 'tightened', 'benedicts', 'yorkie', 'soured', 'fetch', 'hearted', 'profanity', 'tp', 'paprika', 'combat', 'occassion', '.its', 'malibu', 'chapter', 'insulated', 'fiber', 'a$$', 'souffl', 'teryaki', 'barb', 'produces', 'tomatos', 'flawlessly', 'hp', 'profiteroles', 'giggle', 'skimping', '82', 'semblance', 'u00a2', 'rican', 'mislead', 'authentically', 'shined', 'sizzle', 'proprietors', 'adventures', 'gratitude', 'feathers', 'unmarked', 'excitedly', 'cologne', 'veronica', 'escaped', 'spay', 'unprepared', 'suburbs', 'confuse', 'tyler', 'courtney', 'stabbed', 'progressively', 'decorator', 'convey', 'negotiation', '59th', 'nude', 'carnita', 'renowned', 'inferno', 'achieved', 'mustache', 'ungodly', 'draining', 'horrifying', 'minty', '.at', 'frequents', 'orderly', 'earplugs', 'glace', 'snappy', 'clarified', 'swapped', 'whisper', '35th', 'classroom', 'jewelers', 'hokey', '50th', 'induced', 'victor', 'vulgar', 'inspections', 'borrowed', 'patterns', 'donations', 'eligible', 'hires', 'briny', '10mins', 'hahah', '13.00', 'excel', 'fricken', 'tshirts', 'rollers', 'frugal', 'bl', 'gh', 'helpings', 'walker', 'shwarma', 'lavosh', 'contamination', 'athletes', 'intimacy', 'equation', ':-p', 'fog', 'homage', 'durable', 'clumped', 'complains', 'jug', 'interiors', 'staggering', 'fingernails', 'choked', 'squeaky', 'pounder', '=]', 'context', 'stat', 'morons', 'damages', 'developing', 'intro', 'extraordinarily', 'defrosted', 'douse', 'boars', 'seamless', 'envisioned', 'lanterns', 'kiddo', '14.00', 'dolly', 'curved', 'receptionists', 'err', 'hoopla', 'tighten', 'tinge', 'beppo', 'remarked', 'faxed', 'uncovered', 'ineffective', 'deja', 'gorge', 'rei', 'playoff', 'wheeled', 'mississippi', 'poking', 'citing', '29.99', 'rebuilt', 'suprise', 'sunsplash', 'repetitive', 'download', '51st', 'exclaimed', 'sarcastically', 'brains', 'marnier', 'commentary', 'einsteins', 'cables', 'dolmas', 'boggling', 'aquariums', 'climate', 'static', 'violated', 'hooter', '14th', 'craigslist', 'detroit', 'latkes', 'earning', 'walmarts', 'sonoma', 'l&l', 'educate', 'consequently', '5:15', 'bladder', 'rewarding', 'aight', 'losers', 'slips', 'growth', 'circled', 'angelo', 'cheep', 'consistant', '13.95', 'chianti', 'heartburn', 'genres', 'prop', 'trace', 'erin', 'pilaf', 'mexicans', 'georges', 'budge', '30mins', '11.95', 'methinks', 'emperor', 'globs', 'slush', 'decks', 'dale', 'howard', 'wealth', 'disregarded', 'cloyingly', '500.00', 'sickness', 'grandpa', 'advising', 'pissy', 'episodes', 'tijuana', 'deductible', 'glued', 'shuts', 'sweep', 'skits', 'tractor', 'squat', 'universally', 'drumsticks', 'wha', '3:30pm', 'nanny', 'dots', 'jalepenos', '12:45', 'postcard', 'equate', 'paz', 'notably', 'shifted', 'hordes', 'franchises', 'addicts', 'balances', 'jeez', 'whimsical', 'occupy', 'clubby', 'dashi', 'galleries', 'vacationing', 'vantage', 'butters', 'popsicle', 'complexity', 'bernaise', 'philippines', 'gobi', 'mish', 'bel', 'ja', 'captured', 'dlux', 'alittle', 'starve', 'branded', 'francesca', 'sensational', 'plunge', 'coz', 'tb', 'carafes', 'moneys', 'seitan', 'duke', 'rediculous', 'shifting', 'seinfeld', 'dividers', 'incidents', 'frybread', 'reminders', 'gays', 'platforms', 'clumpy', 'hm', 'busboys', '2015', '45min', 'restless', 'safer', 'tablets', 'clutter', 'pampering', '12:00', 'sitter', 'curls', 'hookahs', 'kentucky', 'beth', 'rm', 'slapping', 'chino', 'prada', 'hassled', 'edition', 'stereotypical', 'heap', 'romance', 'tattooed', 'underrated', 'conclude', 'prude', 'incorporated', 'wimpy', 'lethargic', 'slowed', 'cus', 'objective', 'handbag', 'immaculately', 'hardwood', 'nuclear', 'founder', 'tighter', 'sangrias', 'losses', 'overpower', 'bah', 'posole', 'steered', 'maggiano', 'verses', 'escargots', 'flabbergasted', 'negotiated', 'employment', 'breadcrumbs', 'lest', 'utah', 'pts', 'doomed', 'rocco', 'lumber', 'hoover', 'averaged', 'subdued', 'cmon', '202', 'bathtubs', 'undecided', 'actor', 'blossoms', 'masked', 'lauderdale', 'jellyfish', 'hiphop', 'crucial', 'sensual', 'dolphins', 'cheesecakes', 'monastery', 'rillettes', 'bordelaise', 'pondered', 'permitted', 'medieval', 'lent', 'shiitake', 'gelatos', 'petits', 'bailey', 'nat', 'creperie', 'similarities', 'togarashi', 'hangovers', 'zest', 'shishito', 'artfully', 'gogo', '.which', 'georgia', 'larb', 'sein', 'besuch', 'doch', \"n'ai\", 'winery', 'frou', 'smg', 'agreeing', 'binkley', 'tk', 'wingstop', 'expedition', 'overcome', 'dolsot', 'jt', 'montagu', 'longtemps', 'moonshine', 'u00e8', 'tesco', 'kaiseki', 'olympic', 'amis', 'musique', 'u00e9n', \"l'air\", 'alors', 'brenner', \"n'y\", \"s'y\", \"d'autres\", 'souvent', 'colours', 'seulement', 'colourful', 'waverley', 'lewis', 'dropout', 'lac', 'chashu', 'fuku', 'wohl', 'ganz', 'sixt', 'intermission', 'taqueria', 'headliner', 'idiotic', 'madonna', 'stopper', 'sheesh', 'stationary', 'climbed', 'flesh', '.yes', 'pittsburghers', 'douchy', 'kmart', 'ciders', 'robinson', 'stunt', 'routes', 'fares', 'operators', 'hookers', '.then', 'bready', 'explored', 'u.', 'motif', 'programming', 'cordon', 'lily', 'rumors', 'relying', 'hoppin', 'crunched', 'resources', 'squirt', 'sham', 'anne', 'indonesian', 'gaze', 'pill', 'saddens', 'tailored', 'agitated', 'mgmt', 'crisped', 'gagging', 'whispering', 'woefully', 'tales', 'enthused', '4.75', 'vitamins', 'sickeningly', 'aug', 'contemplated', 'separation', 'await', 'mamas', 'derby', 'epicenter', 'ignores', 'stadiums', \".i'm\", 'facade', 'profiles', 'acknowledges', 'sociable', 'meandering', '04', 'frantic', 'providers', 'documentation', 'd&d', 'gargantuan', 'blasted', 'eerie', 'modestly', 'cinco', 'sunk', 'frustrations', 'spraying', 'herbed', 'monitoring', 'dedication', 'uw', 'drumstick', ':]', 'raffle', 'imaginative', 'helpless', 'funding', 'curve', 'grading', 'mar', 'veterinarian', 'summers', 'rec', 'antics', 'dwindled', 'closure', 'fanciest', 'reliably', 'googling', '.good', 'scrambling', 'sunken', 'laveen', 'artifacts', 'paltry', 'revealed', 'buffer', 'sophistication', 'footlong', 'greeters', 'analyze', 'dbacks', 'jipped', 'kits', '1:30pm', 'negatively', 'b-', 'whataburger', 'dashboard', 'predict', 'frappe', 'chewier', '10:45', 'depression', 'advertisements', '7p', 'rained', 'coincidentally', 'granddaughter', 'rehearsal', 'hydrated', 'petting', 'sizing', 'hotpot', 'intending', 'arsenal', 'queasy', 'darkness', 'dizzy', 'aveda', 'crotch', 'naughty', 'katz', 'socially', 'hallmark', 'bashas', 'supporter', '2002', 'wrangler', 'routinely', '15.99', 'ribbons', 'elbowed', 'ajo', 'warnings', 'vacate', 'alleviate', 'candidate', 'fades', 'fears', 'i.e', 'sporadically', 'lackadaisical', 'ocd', 'plank', 'richardson', 'bottoms', 'amelia', 'yuppie', 'nameless', \"j'adore\", 'mindful', 'uninformed', 'tootsie', 'sause', 'lori', 'jellies', 'dangerously', 'boisterous', 'smartphone', 'respectfully', 'commuter', 'cabeza', 'tabouli', 'woulda', 'dicey', 'hideaway', 'accessory', 'ranting', 'dearly', 'trusty', 'fiery', 'jovial', '47', 'guarantees', 'appts', 'bakers', 'cenpho', 'globe', 'rape', 'nina', 'liberally', \"o'brien\", 'reigns', 'opi', 'tantalizing', 'enhancement', 'prospective', 'lego', 'notification', 'tapes', 'cannolis', '4.25', 'writers', 'chiropractic', 'marking', 'botox', 'tasks', 'abrasive', 'exceeds', 'slew', 'kindle', 'pimp', 'bleached', 'insipid', 'barf', 'wor', 'isles', 'roaster', 'demonstrated', 'out-', 'announcement', 'roadrunner', 'architect', 'soapy', 'childrens', 'i-10', 'dominoes', 'mesquite', 'timid', 'acoustic', 'diapers', '630', 'snobbish', 'triangle', 'commend', 'overcooking', 'decker', 'tournaments', 'montana', 'catalog', 'discern', 'inappropriately', 'forbidden', 'reusable', 'vans', 'expires', 'criminals', 'dermatology', 'ladle', 'handwritten', 'lasik', 'finer', 'booster', 'leery', 'persistent', 'craftsman', 'disappears', 'sighing', 'rested', 'goodie', 'reactions', 'kyoto', 'strollers', 'ubiquitous', 'filo', 'skull', 'sweats', '66', 'gadgets', 'bacardi', 'beams', 'laredo', 'psyched', 'okay-', 'infestation', 'shaft', 'marinate', 'savored', 'cock', 'ght', 'secretly', 'graces', 'correcting', 'bandera', 'participants', 'excruciatingly', 'fellas', 'yang', 'verbal', 'irony', 'summertime', 'clumsy', 'stalked', 'examination', 'restraint', 'pigeon', '32nd', 'negligence', 'rookie', 'scottsdale?select', 'prepay', 'hiccups', 'firearm', 'proves', 'transplant', 'gloria', 'observant', 'booklet', 'kiddies', 'muddy', 'smear', 'consulting', 'muted', '.nothing', 'jc', 'disclose', 'monies', '5min', 'realizes', 'sanitize', 'supports', 'creeps', 'balancing', 'processes', 'walgreen', 'secured', 'spiel', 'accusing', 'thinned', 'cholla', 'leagues', 'tension', 'promoted', 'bryant', 'slob', 'meticulous', 'ambulance', 'typed', 'nauseating', 'upped', 'broiler', 'alway', 'enticed', 'maggie', 'finicky', 'cheapo', 'christine', 'foolish', 'echoing', 'moore', 'secondhand', 'russell', 'dignity', 'incase', 'recreate', 'badge', 'irrelevant', 'administration', 'chicken-', 'irresponsible', 'instrument', 'gallons', 'sufficed', 'transitions', '10:00pm', 'goggles', 'filipinos', 'sleeps', 'ni', 'yada', 'overdose', 'soyo', 'nibble', 'lottery', 'relay', 'entertainers', 'glitch', 'res', '03', 'gingery', 'fluent', 'infinitely', 'tenderness', 'roquefort', 'lands', 'koobideh', 'ronald', 'lemme', 'experimental', 'creatures', 'xo', '11:00am', 'frontier', 'redemption', 'yucca', 'catchy', 'reno', 'nicotine', '2hrs', 'capriottis', 'flatbreads', 'linked', 'mesh', 'midwife', 'sinigang', 'bikers', 'prolly', 'boats', 'millionaire', 'altho', 'soften', 'slather', 'brunches', 'bec', 'irvine', 'overabundance', 'coordinated', 'obstacles', 'restored', 'thickened', 'imbibe', 'blackberries', 'mandy', 'cycling', 'divider', 'endeavor', 'evidenced', 'gingerbread', 'minors', 'pierced', 'preview', 'stretches', 'seminar', 'amazes', 'abt', 'stash', 'requisite', '92', 'fondly', 'injera', 'optometrist', '11:30pm', 'badger', 'showcasing', 'misunderstood', 'allotted', 'stoic', 'overdressed', 'wyndham', 'dared', 'recooked', 'modernized', 'accomodations', 'rawhide', 'ak', 'dole', 'obama', 'trippy', 'egyptian', 'realy', 'strand', 'unlucky', 'coulda', 'specifications', 'snapping', 'realistic', 'forums', 'demolished', 'edited', 'stationed', 'striking', 'melons', 'tara', 'conversational', 'cubs', 'punches', 'mannered', 'shuffling', 'zuzu', 'hughes', 'pac', 'snug', 'singular', 'magnum', 'fizz', 'graze', 'binder', '02', 'haricot', 'contribute', 'pescatarian', 'australia', 'bestie', 'mirrored', '68', 'toyama', 'tempo', 'fridges', 'comprehensive', 'lalibela', 'nora', 'blasphemy', 'nuong', 'resturants', 'brady', 'annoy', 'trekking', 'toured', 'saddened', 'gammage', 'scooping', 'gracie', 'mer', 'stucco', '11:45', 'stinking', 'rosatis', 'sway', 'inexplicably', 'binion', '.after', 'minister', 'rooting', 'slurping', 'snazzy', 'snot', 'mails', 'criticisms', 'simultaneously', 'showering', 'warrior', 'andres', 'unprofessionalism', 'hugh', 'bravas', 'tahoe', 'paddle', 'rhino', 'quibble', 'boulud', '750', 'poked', 'nelson', 'dover', 'bazaar', 'n9ne', 'replica', 'souffles', 'giddy', 'sysco', '1800', 'antelope', 'mopping', 'waitor', 'gamers', 'visibility', 'hangers', 'horrendously', 'gushing', 'docking', 'takoyaki', 'tomahawk', 'relied', 'forno', 'nouveau', 'boil', 'political', 'churro', 'lang', 'creamier', 'misunderstanding', 'bratwurst', 'bricks', 'renovating', 'intoxicating', 'popovers', 'refunding', 'amaze', 'garlicy', 'monsieur', 'scorpion', 'melinda', '77', 'reef', 'honorable', '7.77', 'unbearably', 'confetti', 'jubilee', 'flask', 'pizzazz', 'flute', 'rivaled', 'irons', 'wazuzu', 'savoy', 'kaiser', 'haddock', 'brazillian', 'gardein', 'banned', 'teapot', 'sorbets', 'apollo', 'rig', 'mixologist', 'seventh', 'coffeehouse', 'restaurants.com', 'grubby', 'wenig', 'fazit', 'jacqueline', 'gulp', 'salumi', 'u00e9ci', 'stripsteak', 'orchard', 'brewpub', 'acetone', 'mascara', 'directv', 'debt', 'detracted', 'ecofresh', 'robata', 'maternity', 'homely', 'csn', 'tyre', 'barkeep', 'yogurtology', 'rooster', 'tinga', 'piquillo', 'orientated', 'workday', 'dressler', 'milo', 'durian', 'eastside', 'u00e8rement', 'rapide', 'assiette', 'seul', \"n'a\", 'u00e9ment', 'u00eate', 'poutines', 'plein', 'plut', 'pourquoi', 'angelina', 'vins', 'manque', 'aldi', 'picard', 'gl', 'stockbridge', 'jewellery', 'cromwell', 'geno', 'beso', 'acct', 'ambiente', 'diese', 'nichts', 'u00f6ner', 'milos', 'joyride', 'pura', 'zupas', 'bicycles', 'graced', 'fingerprints', '.with', 'chucks', 'basin', 'conversing', 'waterpark', 'sandbar', 'knockoff', 'announcing', 'indulging', 'pino', 'hungrier', 'detected', 'rendering', 'pizzerias', 'recycle', 'scout', 'murals', 'drawings', 'natives', 'departing', 'limiting', 'coals', 'fibers', 'halved', 'tummies', 'logical', 'kegs', 'regent', 'allegheny', 'abandon', 'reassuring', 'slash', 'watchers', 'irks', 'parting', 'kaya', 'tapatio', 'deliberate', 'variable', 'nutmeg', 'futile', 'smirk', 'crt', 'supercuts', 'pakoras', 'minh', 'butler', 'grandmothers', 'homefries', 'cleverly', 'circumstance', 'jumps', 'premiere', 'laundromat', 'vest', 'saddest', 'emailing', 'scanning', 'exceedingly', 'hiatus', 'transit', 'coffe', 'surfing', 'candlelit', 'averaging', 'vital', 'overcrowding', 'unruly', 'remorse', 'haters', 'panther', 'belated', 'ventures', 'grinder', 'midweek', 'ly', 'mindset', 'malfunction', 'cpcc', 'burner', 'dmo', '01', 'handshake', 'oft', 'etouffee', 'banged', 'beeping', 'tcby', 'stern', 'commendable', 'apocalypse', 'column', 'charter', 'equis', 'consent', 'genoa', 'degrading', 'insect', 'pulp', 'deceive', 'memorized', 'tum', 'assess', 'operates', 'aids', 'longhorn', 'marbled', 'bojangles', 'mysteriously', 'americana', 'rural', 'unbalanced', 'shipments', 'squeaking', 'middleton', 'hoodie', 'confess', 'promos', '16.95', 'farewell', 'economics', 'aps', 'outsiders', 'disarray', 'seoul', 'classmates', 'convo', 'porta', 'mermaid', 'wright', 'outweigh', 'glaring', 'shocker', 'explicitly', '-5', 'risking', 'faithful', 'rearrange', 'unattentive', 'talkin', 'simplest', 'worship', 'naming', 'bombers', 'conferences', 'sponsored', 'germ', 'doh', 'camarones', 'virtual', 'stanley', 'cacti', 'pavilion', 'shattered', 'fucks', '104', 'szechwan', '-great', 'quoting', 'dumbbells', 'disdain', 'intensive', 'starring', 'intuitive', 'spade', 'cask', 'asst', 'dodgy', 'brimming', 'kirin', 'rattled', '74', 'exchanges', 'halt', '93', 'robyn', 'saga', 'elses', 'fred', 'pancho', 'arriba', 'allot', 'fuckin', 'footing', 'paints', 'samplers', 'minimize', 'crop', 'depended', 'fathom', 'snaps', 'earshot', '1400', 'annoys', 'impulse', 'usb', '49.99', 'dirtier', 'courage', 'dryness', 'lawrence', 'omaha', 'tonics', 'tastiness', 'wierd', 'compelling', '.maybe', 'pooch', 'danishes', 'selfies', 'ditto', 'rains', '1.89', 'mitchell', 'banger', 'chemistry', 'furthest', 'zillion', 'haphazard', 'sandwhiches', 'celebrations', 'aloud', 'ropa', 'entirety', 'sharpie', 'dilly', 'bradley', 'survives', 'ristorante', 'spilt', 'poof', 'assurance', 'diver', 'in-', 'coaching', 'throughly', 'anaheim', 'dissapointment', 'omlet', 'trickle', 'replacements', 'react', 'stewart', '930', 'forwarded', 'gab', 'institute', 'buckle', 'propane', 'asthma', '5pm', 'fettucini', 'duped', '97', 'marvel', 'd.c', 'snuff', 'klein', 'goofing', 'distress', 'preschool', 'agencies', 'quart', 'coordinating', 'discriminate', 'instinct', 'nothin', '-d', 'fixin', 'distributor', 'legged', 'discouraged', 'blankly', 'punish', 'docked', 'dilapidated', 'foresee', 'buffed', 'lids', 'compound', 'overpaid', 'existant', 'boasted', 'westside', 'rickety', 'bene', 'oooh', 'inari', 'subtracted', 'subtly', 'warranties', 'excite', 'hubbie', 'refresher', 'realization', 'irritate', 'dealerships', 'anyhoo', 'rescheduling', 'tapping', 'straightened', 'dismayed', 'riders', 'budgets', 'jarred', 'arrested', 'scoff', 'choo', 'uploaded', 'kisses', 'dew', 'cavity', 'shits', 'calculate', 'frost', 'wholesale', 'depths', 'chopstix', 'followup', 'thirteen', 'restocked', 'faults', 'preserves', 'hahahaha', 'jackass', 'coveted', 'chrome', 'entres', 'bodied', 'unforgivable', 'knight', 'clinics', 'specialists', 'ingenious', 'viable', '18.95', 'woah', 'laced', 'randy', 'wool', 'admitting', 'doom', 'cooker', 'awarded', 'constructed', 'flo', 'surgeries', 'findings', 'cleans', 'injection', 'pattie', 'wigs', 'healed', 'witnessing', 'notches', 'spitting', 'studied', 'gainey', 'newport', 'blouse', 'sniff', 'receiver', 'accountability', 'hayden', 'fowl', 'photograph', 'spanakopita', 'anal', 'asset', ':o)', 'manufactured', 'unnerving', 'swarm', 'warms', 'blake', 'solving', 'slopped', 'queues', 'shotgun', 'gutted', 'marshalls', '86', 'ea', 'hostel', 'flavourless', 'therapeutic', 'bd', 'tweaking', 'hospitals', 'hb', 'brownish', 'amplified', 'ds', 'precise', 'fritti', 'utility', 'geico', 'delete', 'sparks', 'forgets', 'carlsbad', '13th', 'fletcher', 'sectional', 'tailors', 'thy', 'heartedly', '3:00pm', 'draped', 'permeates', 'goldilocks', 'smiths', 'accountable', 'chopping', 'specs', '10k', 'willey', 'yelps', 'syrups', 'circling', 'hk', 'bugging', 'stank', 'maxim', 'suspension', 'fructose', 'refers', 'hors', 'kama', 'incl', 'implied', '1970', 'fa', 'salvation', 'torched', 'bap', 'o_o', 'ops', 'sewing', 'tweaks', 'mozzerella', 'herd', 'robertos', '26th', 'renewed', 'lays', 'chime', 'drainage', 'abusive', 'distasteful', 'back-', 'speck', 'revenge', 'goldfish', 'luis', 'stakes', 'xray', 'jk', 'earnest', 'dwell', 'cussing', 'patrol', 'wifes', 'makeshift', 'hotels.com', '1900', 'aired', 'leasing', 'couture', 'mediocore', 'pang', 'sopes', 'pompous', 'hiccup', 'snowy', '.75', 'disastrous', 'marbling', 'spg', 'ornate', 'abv', 'selfish', 'shaping', 'tweak', 'southend', 'clicks', 'womp', 'bronze', 'kyle', 'auditorium', 'unwrapped', 'cryin', 'owen', 'poetry', 'overseas', 'bellied', 'hoops', 'influx', 'electronically', 'outings', 'bernie', 'hunny', 'chophouse', 'renewal', 'muramoto', 'itchy', '9pm', 'persuaded', 'ensued', 'scandinavian', 'literal', 'elitist', 'obscura', 'intervals', 'walkable', 'wiz', 'nooks', 'squared', 'generator', 'interests', 'phrases', 'hour+', 'gucci', 'kickass', 'deliberately', 'packers', 'thaw', 'savoring', 'terra', 'citrusy', 'fathers', 'cabaret', 'insured', 'midwives', 'gagged', 'wongs', 'chapman', 'tortelloni', 'reuse', 'marine', 'selves', 'f*cking', 'gamer', 'rifle', 'comforters', 'vp', 'butterfield', 'skillets', 'shannon', 'scoffed', 'ipads', 'dominate', 'greenery', 'earliest', 'rellano', 'grouper', 'pizookie', 'marcus', 'ditched', 'quits', 'minimally', 'santan', 'geisha', 'communities', 'presentations', 'steadily', 'gatherings', 'crackling', '6.75', 'quid', 'showcases', 'velvety', 'paraphernalia', 'defeat', 'urged', 'rula', 'bula', 'blends', 'swirling', 'wafting', 'pannini', 'sen', 'som', 'julio', 'coyote', 'overpay', 'pueblo', 'roth', 'matinee', 'wages', 'abroad', 'moan', 'fanny', 'pilgrimage', 'handcrafted', 'minimums', 'sprinkling', 'swarmed', 'bernard', 'carpeted', 'chuckled', 'ant', 'vue', 'spaghettini', 'jodi', 'wranglers', \"f'ing\", 'lifeguards', 'spades', 'fosters', 'deterred', 'combines', 'amd', 'timeshares', 'vegas.com', 'ube', 'lopsided', 'eyeshadow', 'decors', 'logistics', 'opulence', 'glancing', 'gobble', 'tarragon', 'lighten', 'bomb.com', 'shaken', '8pm', 'obscenely', 'demarco', 'wimp', 'centric', 'spotting', 'dubious', 'fuji', 'raison', 'solar', 'confined', 'inclusive', 'laminated', 'gi', 'highlands', 'refreshingly', 'invent', 'warhol', 'blintzes', 'pomo', 'alchemy', 'jonathan', 'mayor', 'brenda', 'pinks', 'sophia', 'dotty', 'saunas', 'slows', 'worm', 'opus', 'maxi', 'chooses', 'branding', 'chateau', 'petals', 'leadership', 'woot', 'contraption', 'unisex', 'kahunaville', 'privileges', 'diva', 'janet', 'refrained', 'leah', 'shuffled', 'silently', 'lagoon', 'revised', 'waygu', 'spiciest', 'moules', 'vide', \"d'h\", 'shucked', 'shallots', 'reggae', 'user_local_photos?select', 'columns', 'swig', 'mosh', 'audiences', 'baton', 'invention', 'instincts', 'summit', 'hikes', 'augustus', '39.99', 'athlete', 'encanto', 'sculpture', 'usda', 'rey', '-service', 'shrunk', 'tammie', 'coe', '330', 'pecorino', 'gaston', 'too-', 'unreasonably', 'gambas', 'arancini', 'bead', 'refillable', 'smokin', 'anderen', 'postal', 'illy', 'charities', 'chickpea', 'michele', 'pourtant', 'terre', 'loosing', 'collective', 'delicacies', 'sumo', 'mermaids', 'helmet', 'cp', 'fattoush', 'cuff', 'carbonated', 'vacuums', 'tans', 'realty', 'felipe', 'shiso', 'denali', 'tropez', 'choco', 'toddy', 'dud', 'dakao', 'risky', 'turon', 'columbus', 'slidin', 'soupe', 'incapable', 'substituting', 'helix', 'tomo', 'yoforia', 'hibiscus', 'on-', 'partition', \"qu'un\", 'u00eapes', 'peut-', 'u00e9tais', 'u00bb', \"l'autre\", 'lorsque', 'u00e9rieur', 'u00f4te', 'chaque', 'u00e9galement', 'gibby', 'compl', 'ipas', 'semaine', 'passer', 'henri', 'slurp', 'glasgow', 'smalls', 'bruntsfield', 'trampolines', 'pabellon', 'barrymore', 'atwater', 'charro', 'chorro', 'e2', 'kiki', 'meine', 'recht', 'direkt', 'nett', 'gute', 'eis', 'holstein', 'flipside', 'trent', 'jena', 'sow', 'yonaka', 'roasting', 'olympics', 'insanity', 'numero', 'wasteland', 'transformation', 'overtly', 'stable', 'dungeon', 'hazelnuts', 'shorty', 'prima', 'frittata', 'revise', 'plywood', 'commercialized', 'insects', '1950', 'refurbished', 'predominantly', 'entryway', 'redneck', 'crackheads', 'awning', 'universal', 'extensively', 'skim', 'unnoticed', 'productions', 'mel', 'pide', 'inserted', 'rider', 'chillies', 'leans', 'drilling', 'alabama', 'snatch', 'bursts', 'softest', 'grad', 'lait', 'uneatable', 'plantation', 'qualifies', '1,200', 'mismatched', 'magnet', 'thrilling', 'sizeable', 'libraries', 'uverse', 'mert', 'mustards', 'jokingly', 'leggings', 'boredom', 'aloft', 'boldly', 'saints', 'puzzle', '70.00', 'ensemble', 'b+', 'dakota', 'simpsons', 'enthusiasts', 'riff', 'raff', 'poorer', 'amtrak', 'oy', '94', 'listings', 'atl', 'storms', 'brunswick', 'curbside', 'ric', 'holla', 'haggle', 'beliefs', 'scamming', 'moscato', 'stairwell', 'composition', 'capellini', 'oblige', 'chix', 'overdraft', 'deviate', 'wager', 'expedite', 'area-', 'enrolled', 'glared', 'smirked', 'gastronomic', 'wayside', '24.99', 'preventing', 'compass', 'corp', 'towns', 'worms', 'amazing-', 'denial', 'owning', 'traumatized', 'moly', '64', 'lectures', 'declared', 'again-', 'amsterdam', 'bux', 'critiques', 'immersed', 'sanitized', 'tippers', 'harried', 'carnivores', 'intricate', 'meticulously', 'gloss', 'hears', 'tendons', 'stacey', 'nba', 'withdraw', 'sneeze', 'premise', 'pediatric', 'cardiologist', 'lmao', 'practitioner', 'ultrasounds', 'beeline', 'inflexible', 'scientific', 'poorest', 'inlaws', 'chihuly', 'wildlife', 'florence', 'rabbits', '.ok', 'craptastic', 'embarrass', 'sack', 'causal', 'pleasantries', 'aab&c', 'trendier', 'trades', 'plato', 'nonchalant', 'informal', 'hoppy', 'clones', 'yearning', 'driveshaft', 'recap', 'cleanings', 'ws', 'rescued', 'frappuccino', 'necessities', 'portillo', 'bryan', 'dealings', 'topics', 'trish', 'shield', 'reggiano', 'capicola', 'totaling', 'squashed', 'loungy', 'topper', 'pardon', 'porcini', 'bcbg', 'accord', 'wrigley', 'unemployed', 'outdone', 'gibson', '3-', 'repaint', 'yam', 'languages', 'quickie', 'fazoli', 'invites', 'poodle', 'monkfish', 'appetit', 'conflicted', 'carton', 'lend', \"ya'll\", 'shithole', '.even', 'sinfully', 'thriving', 'gardening', 'geriatric', 'affection', 'annually', 'mexi', 'intentional', 'shortened', 'prides', 'babe', 'disorder', 'a-1', 'sensors', 'communicative', 'assuring', 'completly', 'swollen', 'definatly', 'bled', 'phenomenon', 'exams', 'recharge', 'np', 'torch', 'astounded', 'puffed', 'respiratory', '1star', 'justification', 'hs', 'literature', '45mins', 'affliction', 'prettiest', 'peer', 'toms', 'restoration', 'conclusions', 'fliers', '1985', '-not', 'timey', 'clarification', \"didn't\", '4:00pm', 'simpson', '-food', 'tolerant', 'slowness', 'perdu', 'fairmont', 'rooste', 'labyrinth', 'stilettos', 'fragrances', 'rover', 'venezia', 'physicians', 'bounds', 'cheba', 'logan', 'surplus', 'roger', '.great', 'flowed', 'afar', 'voided', 'escalate', 'fuddruckers', 'elaine', 'haves', 'malasadas', 'grinds', 'dispatch', 'repainted', 'sidenote', 'q.', 'chihuahua', 'explorer', 'cartridge', 'weds', 'inc', 'vampires', 'cheese-', 'categorized', 'gettin', 'kafta', 'conceived', '550', 'whispered', 'puzzling', 'disservice', 'miscellaneous', 'orientation', 'smidge', 'ram', 'https', 'graded', 'bjs', 'fleming', 'ee', 'attractively', 'bookstores', 'amazon.com', 'reciept', 'snottsdale', 'floaties', 'startled', 'daisy', 'footwear', 'installers', 'zushi', 'crappier', 'erase', 'foursome', 'publicity', 'diming', 'unsuccessful', 'lodging', 'comeback', 'joyful', 'aura', 'jos', 'midori', '100x', 'indians', 'stitches', 'surgeon', 'protocol', 'schoolers', 'spared', 'drones', 'specializing', 'nicoise', 'mccormick', 'pesky', 'ccw', 'vow', 'coldest', 'pewter', 'warehouses', 'jd', '135', 'wholly', '30s', 'credibility', 'benchmark', 'reflective', 'groan', 'participating', 'wacky', 'eighth', 'initiative', 'booming', 'inbetween', 'widely', 'understated', 'erased', 'likey', 'rocker', 'rehearsed', 'taj', 'trophy', 'malfunctioning', 'blades', 'printout', 'contests', 'tableau', 'complied', 'foccacia', 'priest', 'scripts', 'gingivitis', 'helpers', 'shuffleboard', 'rails', 'necks', 'subways', 'fractured', 'authorize', 'refuge', 'toasting', 'evolution', 'breadstick', 'outline', '5mins', 'i-17', 'victory', 'roadside', 'astronomical', 'boyardee', 'cringed', 'trumps', 'tigers', 'ricky', 'subjective', 'airplanes', 'blending', 'travelled', 'cords', 'resale', 'pocketed', 'pounded', 'findlay', 'stripped', 'jager', 'credentials', 'rueben', 'wasteful', 'rices', 'razors', 'terrain', 'carrabba', 'spec', 'bragged', 'payout', '8:30am', 'assures', 'burgundy', 'vaccine', 'charbroiled', 'satiated', 'broths', 'gio', 'jewels', '9.75', 'ducts', 'dal', 'agedashi', 'resistance', 'icu', 'targeted', 'bavarian', 'gristly', 'vows', 'pabst', 'entertainer', 'regarded', 'mee', 'tako', 'reid', 'bankrupt', 'accepts', 'outfitted', 'cookbooks', 'excruciating', 'missouri', 'overprice', 'reimbursement', 'indignant', 'you-', 'unofficial', 'haggard', 'pata', 'dimes', '113', 'refreshment', 'creeped', 'distances', 'entity', 'chestnut', 'fascination', 'yuengling', '40s', 'prepping', 'ooey', 'complimenting', 'bowel', 'respite', '6p', 'banker', 'fearing', 'uniquely', 'shadows', 'fryers', 'jenga', 'beam', 'joanna', 'weeknights', 'plop', 'retain', 'imaginary', 'tat', 'cameron', '1.95', 'macho', 'monterey', 'stonecrest', 'consequences', 'prestige', 'microphone', 'katy', 'pizazz', 'builds', 'perfected', 'emphasized', '50s', 'foamy', 'chaser', 'overhear', 'misstep', 'gelatinous', 'pales', 'cappuccinos', 'punctual', 'harmless', 'checkup', 'ensures', 'caller', 'greasier', '.youtube.com', 'intelligentsia', '650', 'oversold', 'guidelines', 'deteriorated', 'threads', 'execute', 'simon', 'endlessly', 'admirable', 'hipper', \"i'd\", 'badass', 'battling', 'ceviches', 'dubbed', 'angie', 'stair', 'nab', 'imitate', 'recieve', 'ncaa', 'yummo', 'mazda', 'swimsuit', 'equates', 'integrated', 'mian', 'approaches', 'cholesterol', 'rigatony', '2k', 'chug', 'pistol', 'sundance', 'pillowy', 'kohls', 'u00a0the', 'remixes', 'gringos', 'ketel', 'gloppy', 'casitas', 'deduction', 'roaring', 'waldorf', 'spiritual', 'goop', 'douches', 'tanya', 'fra', 'andre', 'lupe', 'massively', 'goth', 'trattoria', 'crabcakes', 'angles', 'encourages', 'nightstand', 'slushies', 'bop', 'embarassed', 'rev', 'producers', 'anderson', 'discussions', 'occurs', '.amazing', 'zealand', 'sixteen', 'permeated', '-my', 'ticks', 'polka', '96', 'agnolotti', 'srp', 'cuss', 'paraffin', 'horseback', 'alberto', 'inspecting', 'lago', 'fronts', 'minuses', 'dependent', 'unrelated', 'moreso', 'godsend', 'conflict', 'kardashian', 'roxanne', 'keurig', 'gorging', 'fattening', 'giggled', 'reside', 'looser', 'width', 'waiving', 'rsvp', 'bellhop', 'basing', 'wolfed', 'spencer', 'flamingos', 'defunct', 'wealthy', 'gaga', 'att', 'broker', 'glassed', 'rollaway', 'dads', 'comparatively', 'tagliatelle', 'wad', 'shania', 'panoramic', 'cramming', 'ses', 'tuscany', 'naps', 'commotion', 'armoire', 'selective', 'shelled', 'mozza', 'hopr', 'verbatim', 'bleachers', '.all', 'starred', 'sweetbreads', 'salvaged', 'embedded', 'guadalajara', 'drilled', 'bouncy', 'masago', 'bootleggers', 'boobies', 'princesses', 'tester', 'fecal', 'checkered', 'judgmental', 'stupidly', 'gravity', 'yuppies', 'cochinita', 'sasha', 'molinos', 'tricked', 'dialogue', 'gah', 'branzino', 'flames', 'ovation', 'invariably', 'mortar', 'lending', 'mtv', 'salts', 'rollin', 'exits', 'fornaio', 'urinals', 'safest', 'cashing', 'willingly', 'gd', 'nudity', 'blunt', 'segment', 'enoteca', 'morels', 'grazie', 'shiz', 'u00ebl', 'bumpin', 'diesel', 'revisiting', 'pending', 't.i', '22nd', '112', 'thump', 'coladas', 'blower', 'tahiti', 'deadly', 'fumbling', 'negra', 'boeuf', 'pierre', 'pappardelle', 'eatable', 'perky', 'canteen', 'jst', 'ethnicity', 'insure', 'crude', 'talents', 'degustation', 'peppercorns', \"'nuff\", 'creep', 'munched', 'washrooms', 'disguised', 'nibbling', 'donny', 'coriander', 'axis', 'busters', 'waxy', 'cargo', 'elk', 'sixty', 'boulangerie', 'fiamma', '.why', 'tomate', 'onslaught', 'blur', 'delicately', 'petites', 'musicals', 'ji', 'pix', 'unoccupied', 'denn', 'ohne', 'parmigiano', 'dominant', 'centurion', 'distinguish', 'manny', 'u00e7u', 'biodome', 'duece', 'jidori', 'forni', 'baseboards', 'ontario', 'feeney', 'mixology', 'akor', 'sidebar', 'jazzed', 'exp', 'deceived', 'sbux', 'li', 'hon', 'coil', 'headquarters', 'sandi', '11:20', 'scathing', 'coupe', 'dw', 'yummiest', 'aesthetician', 'portrait', 'johnnie', 'kame', 'literary', 'trevi', 'grampa', 'jiang', 'wabo', 'trampoline', 'jamon', 'implying', 'sais', 'ts', 'paintball', 'vom', 'pischke', 'mozen', '1511', 'yayo', 'liaison', 'matcha', 'commande', 'prend', 'probl', 'u00e8le', 'venu', 'sucre', 'leurs', 'mieux', 'finalement', 'bons', 'u00c7a', \"l'int\", 'jardin', 'retrouve', 'ceux', 'bonnes', 'avez', 'compte', 'selon', 'sommes', 'vaut', 'brasseurs', 'u00e9tions', 'shirley', 'vinyasa', 'cannery', 'weil', 'favour', 'monks', 'newington', 'wetherspoons', 'tmi', 'iman', 'bier', 'yola', 'vapor', 'lengths', 'deposited', 'mcwrap', 'revo', 'subaru', 'vinaio', 'mundo', 'zoyo', 'barstaurant', 'lecker', 'freundlich', 'getr', 'viele', 'sollte', 'wurden', 'auswahl', 'fand', 'kein', 'hatten', 'okonomiyaki', 'eegee', 'tanzy', 'cleo', 'loupes', 'mto', 'y3fcl4bly0ellkb0sdpnbq', 'boozing', 'picturing', 'homestead', 'pittsburgher', 'reinvented', 'spareribs', 'perpetually', 'bitters', 'shampoos', 'soaps', 'compost', 'dressers', 'tastic', 'searing', '1995', 'thinning', 'gobs', 'defending', 'barrista', 'happenings', 'polishing', 'pods', 'relented', 'guru', 'harp', 'growling', 'freed', 'gulab', 'powdery', 'lsu', 'mineo', 'lebanon', 'conquer', 'decore', '75.00', 'seamstress', 'mocking', 'lovingly', 'unavoidable', 'migraine', 'girasole', 'illness', 'abomination', 'margarine', 'firing', '6.5', 'applesauce', 'morrison', 'chocolaty', '485', 'notifying', 'exudes', 'mainstay', 'fireplaces', 'outages', 'increases', '-ian', 'staging', 'fiji', 'denise', 'wonky', 'abhorrent', \"i've\", 'snippy', 'goddess', 'prominently', 'accessibility', 'desks', 'soil', 'aircraft', 'inevitable', 'dia', 'cuba', 'revamping', 'contemplate', 'mlb', '168', 'recipient', 'fairview', 'nibbled', 'immigrants', 'unsupervised', 'restrict', 'impresses', 'piercings', 'pretentiousness', 'pronto', 'kabuto', 'murder', 'envision', 'churning', 'recalled', 'pigeons', '1980s', 'sweeten', 'vault', 'ru', 'tastless', 'driest', 'wt', 'shocks', 'chestnuts', 'travesty', 'bagging', 'pedro', 'tame', 'fantastically', 'scrambler', 'makings', 'satin', 'argentine', 'arranging', 'drags', 'housewares', 'flannel', 'colleges', 'annoyances', 'coop', 'domestics', 'springfield', 'appeals', '5-', '~15', 'attracting', '.oh', 'accoutrements', 'definetely', 'generations', 'consistantly', 'mariachi', '.go', 'confidently', 'olivos', 'haystack', 'though-', 'detox', 'redid', 'traumatic', 'grandfather', 'defeated', 'flows', '.she', 'discharge', 'softener', 'undeniably', 'taquito', 'bandaid', 'backstage', 'mariscos', 'predictably', 'cartilage', 'rito', 'drinks-', 'dbg', '1987', '76', 'disputing', 'behemoth', '-parking', 'pane', 'ludicrous', 'emulate', 'mania', 'trx', 'royally', 'headlight', 'standardized', '7ish', 'stalking', 'scuff', 'highs', 'toliet', 'deteriorating', 'comparably', 'obligation', 'superstore', 'paused', 'thang', 'thingies', 'camille', 'chiller', 'suzie', 'framing', 'gulf', 'demon', 'josie', 'coagulated', 'clustered', 'satiate', 'rotors', 'bolts', 'contributes', 'griddled', '730pm', 'tragedy', 'emissions', 'dd&d', 'giuseppe', 'panache', 'synonymous', 'susie', 'softness', 'decrease', 'humanly', 'whelmed', 'smother', 'steamers', 'taffy', 'somethin', 'whiskeys', 'awesome-', 'faulty', 'resource', 'cinnabon', 'disregarding', '1100', 'acquire', 'kia', 'tense', 'chuy', 'ajillo', 'chills', 'irene', 'overlap', 'thirds', 'mor', 'd-', 'revelation', 'pomodoro', 'mathnasium', 'accumulated', 'bouquets', 'restaurant-', 'clinton', 'accusatory', 'calmly', 'explanations', 'squirted', 'spayed', 'polynesian', 'bullying', 'joyous', 'one-', 'hehehe', 'sissy', 'teh', 'ornaments', 'freon', 'strait', 'gallagher', 'scoot', 'merchandising', 'greed', 'stuffs', 'chargers', 'pucks', 'packer', 'cited', 'greasiest', 'approximate', 'rubios', 'chained', 'godzilla', 'bowlers', 'gifted', 'struggles', 'forking', 'inflatable', 'restore', 'alarmed', 'depart', 'peed', 'organizations', 'alleys', 'dial', 'mow', 'gospel', 'surviving', 'curtis', 'childcare', 'kristin', 'ranger', 'undergone', 'roar', 'farthest', 'inconsistencies', 'ticketmaster', 'horns', 'rand', 'unflavorful', 'burton', 'subbed', 'submitting', 'mos', 'dermatologist', 'generated', 'firepit', 'entitlement', 'diy', 'joann', '0.99', 'sr', 'flattened', 'organ', 'protested', 'hoop', 'playful', 'cruiser', 'concise', 'contracted', 'chicharron', 'mailer', 'scalding', 'openness', 'yin', 'workshop', '17.99', 'homeowner', 'flap', 'simplistic', 'eg', 'reassurance', 'lifesaver', 'quickness', 'immune', 'cruel', 'influences', 'huckleberry', 'infrequently', 'os', 'damnit', '2500', 'chambord', 'location-', 'ada', 'wheelchairs', 'para', 'dinnertime', 'stephen', 'boonies', 'peroni', 'podge', 'nigri', \".i'll\", 'unlocked', 'lifter', 'connie', 'playgrounds', 'necklaces', 'explanatory', 'dat', 'irritates', 'scorpions', 'propose', 'yadda', 'sopping', 'canine', 'una', 'momma', 'mankind', '210', 'bohemian', 'risks', 'landry', 'sprigs', 'watercress', 'maduros', 'contaminated', 'allure', 'discard', 'junky', 'eagles', 'tonite', '2:15', 'thoughtfully', 'ducked', 'upmarket', 'concealed', 'inns', 'marissa', 'zipper', 'barometer', 'clocks', 'admiring', 'unconcerned', 'clicked', 'pizzaria', 'redundant', 'verification', 'troubling', 'preservatives', 'whoop', 'regimen', 'rivas', 'warp', 'producing', 'voluntarily', 'nastiest', 'rises', 'upholstery', 'gauntlet', 'infront', 'skewered', 'historically', 'ignition', 'diagnostics', 'reaches', 'brine', 'ideally', 'yc', 'aching', 'pcp', 'fenced', 'handout', 'swayed', 'macayos', '5.75', 'unexceptional', 'pitts', 'weighing', 'competitions', 'lan', 'experimenting', 'kors', 'bouillabaisse', 'gourmand', 'inadequate', 'terriyaki', 'milder', 'dorado', 'bumpy', 'planted', 'putt', 'iam', '430', 'moisturizer', 'index', 'bode', 'restaraunts', 'refrigerators', 'bodily', 'donating', 'bev', 'leaky', 'purrfect', 'engraved', 'moaning', 'waitperson', 'meltdown', 'beneficial', 'chubby', 'molded', 'speeds', 'sneezed', 'demerits', 'fausto', 'windmill', 'expressing', 'destroying', 'orgy', 'barbecued', 'pocketbook', 'otro', 'wisdom', 'cos', 'disrepair', 'bounty', 'frown', 'hopeless', 'controls', 'persuade', 'decadence', 'hotspot', 'loaves', 'fungus', 'docs', 'victims', 'butterflied', 'indiana', 'israeli', 'glistening', 'shirazi', 'greenland', 'incomparable', 'showered', 'grounded', '0.75', 'rotates', 'sevice', 'soybean', 'wan', 'diluted', 'choi', 'spearmint', '626', 'smirnoff', 'apiece', 'bilingual', 'carribean', '9:45', 'pediatrician', 'brilliantly', '1998', 'krazy', 'maltese', 'arches', 'kernels', 'blade', 'surgical', 'nauseated', '84', 'confirms', 'zagat', 'freezers', 'lung', 'acne', 'dixie', 'midi', 'savior', 'descriptive', 'shakey', '87', 'plucked', 'excusing', 'rejects', 'pai', 'lat', 'clinical', 'harter', '1-', 'realistically', 'awakened', 'regulate', 'sweated', 'loitering', 'thirdly', 'locksmith', '100th', 'recreation', 'rejoice', '1030', 'coq', 'mishaps', 'ombre', 'busing', 'flicks', 'righteous', 'hippy', 'housekeepers', 'spins', 'similiar', 'exhausting', 'showings', 'prohibition', 'frito', 'trekked', 'slopes', 'julienned', 'renee', 'knockout', 'gravitate', 'stimulating', 'empties', 'quattro', 'sugars', '5.25', 'hustled', 'equaled', 'mcmuffin', 'poivre', 'postage', 'global', 'spied', 'wally', 'asheville', 'cereals', 'dosas', 'manchurian', 'quizno', 'lavish', 'inserts', '1:30am', 'producer', 'offputting', 'magnus', 'takara', 'majestic', 'marigold', 'aubergine', 'shareable', 'articles', 'coliseum', 'tyson', 'cons-', 'replete', 'toppers', 'c.d', 'corrections', 'adjectives', 'comprehension', 'banfield', 'infuriated', 'smartest', 'abused', 'herded', 'marinating', 'possessed', 'energized', 'possession', '1:15', 'bookmark', 'embraced', 'pebble', 'insignificant', 'speeding', 'steamy', 'populated', 'vang', 'cuon', 'demo', 'horizons', 'anesthesiologist', 'epidural', 'palo', 'loans', 'chemically', 'bruises', 'enthusiastically', 'harassment', 'tarot', 'sentiment', 'crunchiness', '.as', 'guadalupe', 'bountiful', 'shiraz', 'tia', 'recreational', 'snowbirds', 'grisly', 'writes', 'defects', 'stacking', 'encounters', 'roberts', 'thu', '300.00', 'u00a0', 'sushis', 'flawed', 'coastal', 'foolishly', 'cells', 'rake', 'mannequin', 'malee', 'verts', 'taters', 'triangular', 'definitly', 'hoards', 'saltier', 'dished', 'diablos', 'indulgent', '9:00pm', 'trends', 'infinity', '145', 'adobe', 'posing', 'cycles', 'brokers', 'dissapoint', 'gnats', 'flier', 'marijuana', 'shiro', 'babaganoush', 'gypsy', 'obligations', 'lockring', 'nozzle', 'ancho', 'dotted', 'backpack', 'spacing', 'stubborn', 'kissed', 'soulless', 'conspiracy', 'complexes', 'amor', 'gouge', 'quasi', 'marty', 'pebbles', '129', 'albert', 'unpack', 'fullest', 'unpleasantly', 'a&w', 'define', 'arrows', 'toots', 'deafening', 'precheck', 'giggles', 'dona', 'tokens', 'u00a0i', 'that-', 'disposed', 'swoop', 'burt', 'slacking', 'rebecca', 'bully', 'hrid', 'registry', 'dangling', 'newcastle', 'throne', 'kimberly', 'ramekin', 'unfortunatly', 'conserve', 'bellevue', 'fideo', 'suds', 'aerobics', 'schnapps', 'dumps', 'ethernet', 'octane', 'patatas', 'segments', 'prefect', 'launch', 'stratta', 'comedic', 'teddy', 'peasant', 'takeover', 'circo', 'cappucino', 'okada', 'f&b', 'casing', 'hazy', 'skaters', 'teresa', 'xd', 'drais', 'learnt', 'hookup', 'toothbrush', 'distinction', 'breather', 'bolted', 'amid', 'hotties', 'elderflower', 'frothy', 'rampart', 'chucky', '8.25', 'athens', 'mag', 'ralph', 'capastrami', 'alamo', 'pkg', 'occupancy', 'off-', 'spumoni', 'intercom', 'slicer', 'unsettling', 'shivering', 'slave', 'vaccines', 'shattering', 'wisely', 'wahoos', 'champions', 'arse', 'behaviour', 'lindsay', 'visuals', 'graphics', 'favourites', 'lace', 'sopaipillas', 'parted', 'resume', 'cohesive', 'ogden', 'exponentially', 'prone', 'reopen', 'shallot', 'tamago', 'translucent', 'hauled', 'tailgate', 'c+', 'goin', 'ridic', 'declare', 'payard', 'skywalk', 'arc', 'barriers', 'opulent', 'elegantly', '3pm', 'enoki', 'unacceptably', 'donovan', 'suspended', 'trapeze', 'feats', 'unimportant', 'elixir', 'hookups', 'anemic', 'colicchio', 'charismatic', 'gt', 'nourish', '26.95', 'hammering', 'resturaunt', 'stoli', 'bourguignon', 'grim', 'opaque', 'fireside', 'aqua', 'donnie', 'crossroads', '5:30am', 'hunted', 'maggianos', 'f**k', 'rumjungle', 'proposition', 'cm', 'shibuya', 'biergarten', 'pussy', 'blinded', 'obtrusive', 'limoncello', 'showgirls', 'seater', 'heaps', 'entourage', 'mack', 'candlelight', 'virginity', 'groped', 'chantilly', 'suzette', 'strengths', 'showcased', 'fighter', 'leroy', 'fondant', 'bask', 'cleanly', '.one', 'reduces', 'veneto', 'tentacles', 'teased', 'adios', 'notte', 'madly', 'phillipe', 'intensely', 'spectacularly', 'vein', 'tragic', '71', 'chana', 'fuller', 'tums', 'elara', 'truthful', 'table-', 'overjoyed', 'mars', 'marzano', 'zucca', 'piranha', 'jaime', 'everthing', 'beefs', 'awaits', 'beckett', 'bashing', 'remixed', 'sheen', 'mozarella', 'snickers', 'caniac', 'glock', 'spartan', 'gelatin', '10:15', 'bueller', 'zwei', 'munchkins', 'doable', 'u00e5', 'absolut', 'puri', 'rabe', 'viande', 'u00e9licieux', 'dommage', 'payer', \"d'aller\", 'sympa', 'fattier', 'utilizing', 'amounted', 'gaucho', 'chamber', 'contrived', 'inexperience', 'suspicions', \"mac'n\", 'rossa', 'jonny', 'sura', 'carvery', 'permits', 'havarti', 'churrascarias', 'crates', 'lawsuit', 'horizontal', 'avalon', 'mikes', 'twister', 'vitacost', 'frescas', 'marley', 'airbrush', 'petland', 'adrian', 'lululemon', 'operational', 'ohana', 'slushie', 'vivian', 'weighs', 'vey', 'roomier', '230', 'terri', 'stripburger', 'saketini', 'sora', 'dylan', 'sac', 'cleanup', 'montague', 'kahuna', 'sugared', 'ika', 'pretension', 'clotted', 'issa', 'peru', 'christy', 'lees', 'loca', 'chan', 'conveyer', 'alkaline', 'mosaic', 'laurel', 'u00e9l', 'epicentre', 'mauvaise', 'celui', 'offre', 'depuis', 'comptoir', 'servir', 'patates', 'cambodia', 'personnes', 'fairmount', 'partout', 'vient', 'aurait', 'byow', \"m'a\", 'nibbles', \"d'ailleurs\", 'malgr', 'saveur', 'servi', \"l'exp\", 'u00e7', 'cela', 'guinea', 'situ', 'u00e7ais', 'laval', 'quota', 'biblos', 'rugby', 'u00a35', 'gothic', 'u00a36', 'recliners', 'xbox', 'cannon', 'cardigan', 'characteristics', 'chasu', 'yogi', 'margie', 'krishna', 'athena', 'fugu', 'fnb', 'revolver', '81', 'corrine', 'aoli', 'anime', 'sambalatte', 'fukuburger', 'moondoggies', 'sommer', 'letzten', 'zimmer', 'besser', 'u00e4nke', 'vielleicht', 'u00dfer', 'selbst', 'kebap', 'babystacks', 'dobdden97_qwuq90g3fahq', 'zba', 'drybar', 'mercurio', 'layla', 'blo', 'naba', 'kuma', 'coolata', 'scuba', 'mumbling', 'remix', '7:40', 'fabulously', 'stunningly', 'diavolo', 'abstract', 'sincerity', 'spreading', 'blowingly', 'classiest', 'diagonally', 'jess', 'heals', 'insults', 'sailor', 'tempt', 'colossal', 'heartbreaking', 'conglomerate', 'dispose', 'lai', 'ar', 'labeling', 'gerry', 'bakes', 'garfield', 'palak', 'tinny', 'flowery', 'cope', 'bloomfield', 'juiciest', 'gg', 'acclaimed', 'withhold', 'goof', 'browning', 'sacramento', 'murky', '29.95', 'cosmos', 'mutual', 'condensation', 'dishing', 'jojo', 'fledged', 'crib', 'forrest', 'olde', 'pineville', 'deceptively', 'nagging', 'hellhole', 'northlake', 'fla', 'confines', 'mayer', 'feasible', 'poboy', 'gasoline', 'tanned', 'jacuzzis', 'grimey', 'cognac', 'tendencies', 'parmesean', 'sketch', 'kingdom', 'babysitter', 'rags', 'midtown', 'takeaways', 'usable', 'pepperoncini', 'tally', 'tongues', 'ramps', 'customs', 'immigration', 'beyonce', 'thunderstorm', 'vermont', 'privy', 'wretched', 'rattle', 'hides', 'micros', 'amphitheatre', 'todays', 'averages', 'caribou', 'slinging', 'reheating', 'collins', 'dub', 'vca', 'troublesome', 'steele', 'fleeting', 'ey', 'alteration', 'vests', 'mastercard', 'butchers', 'brewers', 'logos', 'unflavored', 'sacrificed', 'sludge', 'goblets', 'seals', 'gelati', 'humane', 'netflix', 'mower', 'nero', 'campustown', 'undergrad', 'professor', 'intently', 'wiper', 'conscience', 'oddity', 'notions', 'mopped', 'incoming', 'guido', 'librarian', 'lenscrafters', 'obtaining', 'pl', \"your'e\", 'distinguishes', 'brushing', 'ragoons', 'night-', 'splits', '.still', 'tribes', 'installations', 'majerle', 'awoken', 'celebs', 'roles', 'achiote', '1:20', 'departed', 'churches', 'endorsement', 'weirdo', 'arguments', 'verve', 'sprinklers', 'renewing', 'demonstrations', 'wonderbread', 'scholarship', 'pinatas', 'defect', 'bankruptcy', 'emerged', 'roommates', 'branched', 'malts', 'oaxaca', 'lizards', 'serenity', 'rammed', 'resonable', 'ritual', 'mb', 'toting', 'sh!t', 'compliant', 'standoffish', 'fuse', 'scavenger', 'devastated', 'fetish', 'jarring', 'tentative', 'w?select', 'novels', 'lows', 'giftcard', 'commitments', 'directory', 'trickling', 'bialy', 'emptying', 'manifold', '17.50', 'sew', 'enforced', 'investing', 'garments', 'strut', 'stagnant', 'choking', 'comparative', 'stapled', 'implemented', 'qualm', 'billboard', 'teetering', 'lapse', 'primavera', 'merc', 'haughty', 'squaw', 'hepatitis', 'happiest', 'foyer', 'irk', 'tote', 'cache', 'hazards', 'bombed', 'flashbacks', 'cellophane', 'binding', 'cutters', 'disintegrate', 'alicia', 'potted', 'objects', 'blander', 'elmer', 'rhonda', 'excellent-', 'unusable', 'prescribe', 'insulin', 'pumpernickel', 'unspectacular', 'boycott', 'awoke', 'idaho', 'longtime', 'patti', 'sukiyaki', 'characteristic', 'drippy', 'pinched', 'chard', '8:15pm', '730', 'coordination', '.super', 'predicament', 'decorum', 'humiliation', 'examining', 'instantaneously', 'soiled', 'neuter', 'skinned', 'cassidy', 'choppy', 'dysfunctional', 'welsh', 'thompson', 'ching', 'prescott', 'oozed', 'puma', 'sher', 'albums', 'spike', 'threats', 'centralized', 'midget', 'brewer', 'succeeds', 'providence', 'dfw', 'indifference', 'micky', 'liable', 'disrupting', 'eugene', 'faculty', 'itemized', 'defend', 'campaign', 'lint', 'climax', 'artificially', 'droppings', 'rattlesnake', 'rustler', 'atypical', 'clanging', 'tweeted', 'conjured', '4:45', '6:20', 'unneeded', 'karate', 'retire', 'salmonella', 'pakistani', 'defended', 'lesbian', 'diligent', 'reused', 'ammenities', 'wounds', 'seventeen', 'headset', 'spicing', 'vinny', 'restaruant', 'vegies', 'contributing', 'smacking', 'surfer', 'sued', 'clunky', 'campy', '60.00', 'vert', 'attach', 'oahu', 'beggars', 'greenfield', 'ty', 'pupusas', 'nile', 'hoses', 'competence', 'abnormally', 'florets', 'agian', 'mixup', 'strain', 'voyage', 'panicked', 'confessed', 'endearing', 'risen', 'patricia', 'bandage', 'finances', 'sprinkler', 'plural', 'drench', 'metabolism', 'shins', 'sustenance', 'jerked', 'pizza-', 'sauce-', 'order-', ':o', 'seam', 'stitching', 'pls', 'nipple', 'spiky', 'rightly', 'lettuces', 'fives', 'vegtables', 'gazillion', 'daiquiris', 'chowing', 'cocaine', 'fir', 'swiftly', 'hotness', 'veterinary', 'maiden', 'buster', 'scrambles', 'beaters', \"'bout\", 'trampled', 'hodge', 'priscilla', 'sighs', 'cornerstone', 'witches', 'layouts', 'completes', 'cashmere', 'terrifying', 'uphill', 'architecturally', 'tenth', 'unsavory', 'cougar', 'notepad', 'golfers', 'xtra', 'mines', 'innovation', 'scientist', 'blouses', 'kieran', 'frita', 'symbol', 'recognizable', 'turner', 'fixable', 'redness', 'improper', 'insalata', 'shampooing', 'intimidate', 'streaks', 'vines', 'alto', 'competitively', \".i've\", 'proficient', 'pant', 'vicki', 'trait', 'preliminary', 'hacked', 'prolonged', 'funniest', 'growlers', 'brassy', 'penney', 'reccommend', 'spagetti', 'byo', 'manuel', 'grandeur', 'batting', 'outfield', 'conscientious', 'staffer', 'xtreme', 'spine', 'fines', 'stirring', '3.49', 'gutter', 'masterpieces', 'sox', 'don;t', '24.95', 'dishonesty', 'traditions', '1990s', 'highchair', 'unpacking', '83', 'ironed', 'baggy', 'amended', 'finalize', 'protip', 'punked', 'arby', 'contempt', 'raid', 'giver', 'murmur', 'strokes', 'halal', 'anchored', 'forthcoming', 'acquaintances', 'bookmans', 'unseen', 'drummer', 'shasta', 'scorched', 'reign', '43rd', 'goopy', 'digestive', 'preservative', 'ottoman', 'heh', 'constitutes', 'dreading', 'bedbugs', '.sometimes', 'lowering', 'tm', 'rummage', 'unwashed', 'zia', 'negotiating', 'golfer', 'chrysler', 'flashlights', 'expedient', 'tubing', '8:00pm', 'weiss', 'orchid', 'consciousness', 'bonding', 'agony', 'upsold', 'upping', 'drains', '11.50', 'glitches', 'unimaginative', 'dum', 'patrolling', 'gaining', 'martial', 'encased', 'unsightly', 'monument', 'pecos', '21.99', 'joshua', 'revue', 'bomba', 'fiend', '2:30am', 'pescado', 'dinero', 'thanh', 'venting', '^_^', 'junkies', 'disclosed', 'overpowers', 'sung', 'claypot', 'rightfully', 'distribute', 'cabbie', 'davis', 'brit', 'pinching', 'dinosaur', 'grandmas', 'limos', 'kabab', 'msrp', 'secs', 'cakey', 'nephews', 'lag', 'extracted', 'dino', 'jb', 'nebraska', 'knockoffs', 'richer', 'hailed', 'seriousness', ':))', 'fizzy', 'upsells', 'handyman', 'phad', 'massaman', 'std', 'courthouse', 'motivating', 'shelling', 'womens', 'tact', 'brocolli', 'stix', 'af', 'sentiments', 'lifts', 'crook', 'molecular', 'jin', 'ama', 'proving', 'encountering', 'parchment', 'gloved', 'rarer', 'bacchus', 'invoices', 'monsters', 'harmon', 'koval', 'mintues', 'discipline', 'assignment', 'receptive', 'shotty', 'owl', 'dunked', 'grr', 'americas', 'ammonia', 'tuition', 'dehydration', 'chaya', 'milestone', 'merch', 'hungarian', 'bruegger', 'momentarily', 'endorse', 'uncertain', 'tallest', 'respects', 'competently', 'orient', 'sola', 'deflated', 'chopstick', 'accidently', 'jazzy', 'searches', 'demise', 'inhale', 'seams', 'succumbed', 'prayed', 'mac&cheese', 'ruffles', 'pkwy', 'ruled', 'reminiscing', 'illuminated', 'paula', 'expiring', 'slope', 'saute', 'loch', 'pike', 'limitless', 'jammin', 'digits', 'calmed', 'cartoons', 'shards', 'perfectionist', 'riddance', 'myers', 'psi', 'sternly', 'welp', 'originals', 'sorority', 'azteca', 'grandson', 'intermediate', 'peppy', '.now', 'cb', 'bearnaise', 'inline', 'pga', 'mdmd', 'perturbed', 'meaningful', 'ore', 'oodles', 'fine-', 'nitpicky', 'loosen', 'theresa', 'preceded', 'arrivals', 'fad', 'carr', 'outfitters', 'levi', 'emmy', 'nicknamed', 'repairman', 'dessert-', 'booted', '2:45', 'resounding', 'perkins', 'beacon', 'pros-', 'prey', 'accuse', 'infected', 'themself', 'condoms', 'propped', 'ordinarily', 'pianist', 'tuff', 'heeled', 'tre', 'koolaid', 'boob', 'smothering', 'intermittent', 'unfilled', 'cartons', 'kickstand', 'wrinkles', 'jonesing', 'gastrointestinal', 'homesick', 'goi', 'juggling', 'sui', 'reyes', 'portfolio', 'dunlap', 'discolored', 'humming', 'bfg', '450', 'yee', 'wes', 'simmered', '260', 'kat', 'talker', 'dents', 'alcoholics', 'farts', 'massachusetts', 'angled', '10$.', 'microbrew', 'striped', 'interrogated', 'bong', 'peeing', 'infrequent', 'horseshoe', 'managment', 'tweaked', 'bays', 'tangled', 'portable', 'bio', 'a++', 'bb', 'walled', 'tiered', 'tue', 'sharper', 'homerun', 'fingertips', 'tens', 'spanked', 'textural', '10:00am', 'vegetariana', 'tins', 'asphalt', 'swooped', 'cartoon', 'unidentifiable', 'ratatouille', 'sexist', 'yawn', 'calculated', 'zipp', 'anniversaries', '17.00', 'lhasa', 'newland', 'shampooed', 'grazing', 'yanked', 'unparalleled', 'destiny', 'dubstep', 'groovy', 'turtles', 'reed', 'travelzoo', 'schmick', 'amazingness', 'meatheads', 'bonded', 'marketed', 'affable', 'confrontational', 'rumble', 'elder', 'misting', 'sho', 'weirded', 'complacent', 'menu-', 'mods', 'lightweight', 'biersch', 'exaggerated', 'connoisseurs', 'comparisons', 'exclaiming', 'grunting', 'funday', 'zilch', 'vw', 'nutritious', 'pedigree', '-when', 'monti', 'ronnie', 'wrinkled', 'luca', 'ponder', 'attired', 'superlative', 'fireball', 'for-', 'sitters', 'mockery', 'truely', 'leaps', 'riverview', 'bonnie', 'shrugs', 'pangs', 'nerdy', 'pumpkins', 'coyotes', 'jobing.com', 'sporadic', 'miraculously', 'pzones', 'softly', 'ay', 'comprehend', 'extractions', 'arrow', 'buddah', 'silvers', 'dumpsters', 'hagar', 'billboards', 'enduring', 'amped', 'saimin', 'pars', 'stars-', 'day-', 'ps3', 'cosmic', 'tard', '1:1', '\\n\\n\\n\\n\\n', 'tolerated', 'filming', 'reevaluate', 'erik', 'raises', 'unchanged', 'spuds', 'bonito', 'compel', 'chippendales', 'authorization', 'smudges', '~the', '24hours', 'chipper', 'mustang', 'sparsely', 'jetted', 'dinuguan', 'croquette', 'kent', 'porky', '-very', 'tiring', 'wil', 'hydrate', 'gondolas', '-clean', 'erroneous', 'wiser', 'hamada', 'devine', 'intelligence', 'esplanade', 'commerce', '45.00', 'cheapskate', 'rivera', 'filtration', 'diligence', 'indicative', 'spotlight', 'chapstick', 'sherman', 'joynt', 'caloric', 'ribs-', 'deferred', 'jerusalem', 'japonais', 'overcook', 'wording', 'beaming', 'strudel', 'preying', '380', 'deelish', 'reappear', 'timeless', 'editing', 'soliciting', 'artisanal', 'clemente', 'froth', 'mouthfuls', 'californians', 'shepherds', 'passers', 'reubens', '5:00pm', 'generate', 'referrals', 'veer', 'diverted', 'i-15', 'detest', 'subtlety', 'makhani', 'genie', 'emerge', 'courteously', 'wen', 'deposits', 'misinformed', 'vacay', 'campbell', 'dyno', 'holistic', 'adapt', 'termination', 'promotes', 'fueled', 'scaled', 'chima', 'deem', 'piazza', 'wiseguy', 'sonny', 'retractable', 'pibil', 'grunt', 'grosses', 'californian', 'lov', 'dolled', 'travelocity', 'motels', 'creepers', 'disjointed', 'nearing', 'seablue', 'rossini', 'chimay', 'painter', 'thimble', 'interpret', 'yield', 'hdtv', 'elevates', '7.75', 'distinguished', 'emt', 'incidentally', 'waddled', 'fourteen', 'housewives', 'nigh', 'sensi', 'mulino', 'accross', 'motley', 'loveseat', 'quitting', 'dinged', 'macs', 'bowie', 'u00b0', 'hamster', 'underdressed', 'chateaubriand', 'organizing', 'mayan', 'restraunts', 'drunkenly', 'pandora', 'aoki', 'plainly', 'eureka', 'repulsive', 'tarte', 'perrier', 'circulating', 'uniqueness', 'prevents', 'nuit', 'classique', 'soles', 'ravenous', 'slutty', 'beep', '35.00', '^', 'grumble', 'scammers', '-nice', 'ankles', 'clog', 'delano', 'protective', 'surpasses', 'nuanced', 'hurriedly', 'canard', 'u0153uf', 'segway', '11pm', 'pussycat', 'braved', 'retry', 'roasts', 'ghanoush', 'staged', 'gnocci', '-so', 'autumn', 'transitioning', 'pyrotechnics', 'futuristic', 'spat', 'hurrah', 'travis', 'hines', 'tapino', 'ambitious', 'stag', 'willingness', 'excluded', 'injuries', 'markers', 'enamored', 'flutter', 'lowly', 'accuracy', '.25', 'piggy', 'tron', 'replay', 'vaca', 'gander', 'tix4tonight', 'destroys', 'suprisingly', 'orecchiette', 'julep', 'bonefish', 'pleaser', 'gluey', 'fili', 'everyones', 'outlined', 'penalized', 'franklin', 'owens', 'capitalize', 'envious', 'cronut', 'dieses', 'alt', 'damit', 'gehen', 'durch', 'toothbrushes', 'u00fcllt', 'juicier', 'etouffe', 'shucking', 'rally', 'obsessive', 'bad-', 'orderd', 'curling', 'dante', 'ion', 'sinon', 'bas', 'pauly', 'eclairs', 'ichiban', 'acquaintance', 'hovered', '30k', 'beetroot', 'bids', 'frigid', 'laidback', 'maizie', 'salisbury', 'homie', 'milanese', 'steph', 'drake', 'banners', 'hatred', 'grasshopper', 'shaky', 'organised', '106', 's&w', 'drafty', 'vee', 'pampas', 'replenish', 'octavius', 'ag', 'dries', 'tait', 'scowl', 'angelica', 'tweekers', 'pinpoint', 'aerogelic', 'payless', 'u00f3n', 'flapping', 'vial', 'kofta', 'ldw', 'manufacturing', 'distributed', 'connecticut', 'mapo', 'masaman', 'ling', 'phillip', 'akc', 'mezzanine', 'boudoir', 'peaked', 'strained', 'fator', 'l&s', 'floated', 'tenaya', 'coverings', 'finisher', 'greenberg', 'lustre', 'guides', 'jackfruit', 'stereotypes', 'buckeye', 'flips', 'mang', 'earls', 'shisha', 'u00f2', 'u20ac', 'aftermath', 'norte', 'siena', 'concentrated', 'bomberos', 'capped', 'lemonades', 'carelessness', 'coded', 'bld', 'toner', 'waverly', '144', 'piccolo', 'communion', 'amena', 'meze', 'upward', 'caipirinha', 'inflation', 'koma', 'tostones', 'grat', 'blackboard', 'botero', 'lolz', 'decipher', 'bink', 'beaver', 'samsung', 'bailed', 'tellement', 'triste', 'journ', 'serveur', 'arriv', 'propre', 'u00e9dients', 'frais', 'recommande', 'derni', 'sherbrooke', 'froid', 'u00e9toile', 'reste', \"qu'ils\", 'parler', 'u00e9bec', 'u00e9jeuner', 'tel', 'savoury', 'gens', 'serait', \"l'heure\", 'voulez', 'difficile', 'quelque', 'u00e9f', 'laisse', 'puis', 'faim', 'talon', 'besoin', 'saveurs', 'u00ab', 'u00e9lection', 'vos', 'pourrez', 'simplement', 'ensuite', 'rind', 'envie', 'magnan', 'loblaws', 'quartier', 'lors', 'montesano', 'cowbell', \"d'lisa\", 'bri', 'sm', 'u00a32', 'u00a315', 'loos', 'marchmont', 'frankenstein', 'britannia', 'yoghurt', 'vibrating', 'soso', 'daybed', 'skincare', '2:00pm', 'nem', 'goodnight', 'flutes', 'babycakes', 'investors', 'loo', 'luci', 'vocals', 'elote', 'eclipse', 'shrooms', 'sheridan', 'vivace', 'whiski', 'jesse', 'infiniti', 'builder', 'peters', 'biaggio', 'salat', 'u00fcrlich', 'u00f6n', 'geht', 'geschmacklich', 'abend', 'u00e4ste', 'u00e4tte', 'gerade', 'teuer', 'sicher', 'klasse', 'gibts', 'kam', 'gerne', 'meinen', 'karlsruher', 'allem', 'jeder', 'meiner', 'meg', 'amaro', 'yoli', 'k0j_znzin0jshxvnpvw86a?select', 'joeys', 'jph', 'commonwealth', 'meineke', '5church', 'gadzooks', 'hiromaru', \"o'sheas\", 'giadas', 'gillis', 'resentful', 'scuffed', 'repertoire', 'gangsta', 'joan', 'plaster', 'wast', 'drizzling', 'barren', 'tamari', 'oolong', 'yellowfin', 'incredulous', 'performs', 'noshing', 'unripe', 'inclusion', 'likelihood', 'hilariously', \"they're\", 'carriage', 'damaging', 'hairspray', 'dinosaurs', 'evolve', 'surrounds', 'apricots', 'copied', \"eat'n\", 'gauc', 'soaks', 'glassy', 'fiends', 'gangster', 'uniformed', 'retracted', 'workin', 'aims', 'heaped', '-10', 'shard', 'opposing', 'freshman', 'analog', 'guarding', 'infrastructure', 'bandwidth', 'thrust', 'yinzer', 'axle', 'sambuca', 'belligerent', 'tessaro', 'exposing', 'intestinal', 'fiori', 'champs', 'prohibited', 'fanciful', 'crowding', 'anyones', 'grotesque', 'institutional', 'seasonally', 'crafters', 'dissing', 'hoof', 'hap', 'twc', 'identification', 'indigestion', 'beckoning', 'frowned', 'cg', '114', 'delicious-', 'tailgating', 'julius', 'horny', 'upstream', 'mp', '8:50', 'dented', 'rebate', 'friendly-', 'gazebo', 'don\"t', 'gent', 'malaysia', '-and', 'grosser', 'diem', 'conflicting', 'ther', 'favorably', 'strangest', 'rebook', 'checkpoint', 'problematic', 'dublin', 'jfk', 'awareness', 'networks', 'tripadvisor', 'totes', 'guise', 'colorless', 'kroger', 'muck', 'absorbed', 'manned', 'sammies', 'tripled', 'mailbox', 'murdered', 'survival', 'inquires', 'constraints', 'curves', 'brink', 'accordion', 'hubcap', '.ever', 'subscription', 'systematic', 'canister', 'misled', 'glop', 'snl', '150.00', 'texmex', 'dazzled', 'unauthorized', 'unmatched', 'teensy', 'interminable', 'errand', 'chico', 'prostitute', 'armenian', 'cardamom', 'collectibles', 'sullen', 'academic', 'auditoriums', 'gen', 'unintelligible', 'tas', 'spooned', 'sandwich-', 'reptiles', 'intestine', 'tumble', 'evo', 'smudged', 'intolerable', 'erm', 'youngsters', 'crowning', 'impolite', 'esquire', '.nope', 'creatively', 'chiffon', 'accomodated', 'abnormal', 'dui', 'ghosts', ':-o', 'pixie', 'berate', 'bulls', 'validates', 'mizithra', 'bandwagon', 'wafted', 'clove', 'maintains', 'incessantly', 'medallion', 'magnets', 'optical', '-_-', 'planetarium', 'immersive', 'waterworks', 'juniors', 'demonstration', 'firsthand', 'illustrate', 'rants', 'hospitalized', 'foodgasm', 'strapped', 'participated', '2lbs', 'skunk', 'persisted', 'lavash', 'melded', 'spirited', 'heartless', 'charmed', 'administrative', 'delicioso', 'caliente', '9p', 'therein', '.get', 'reptile', 'capabilities', 'chou', 'strep', 'closeby', '-free', 'accusations', 'sins', 'excusable', 'recollection', 'postures', 'terse', 'registering', 'learns', 'relive', 'lps', 'nickname', 'admits', 'spouts', 'sonora', 'pilsner', 'calibrated', 'stepford', 'o2', 'affinity', 'loaner', 'montelucia', 'billiards', 'vampire', 'nervously', 'cfs', 'clinging', 'considers', 'vocabulary', 'mumble', 'sharpened', 'corey', 'neg', 'harness', '1984', 'decanter', 'angered', 'mailers', 'unenjoyable', 'rodney', 'caffeinated', 'medicore', 'mortons', 'phenominal', 'freaken', 'mistreated', 'cemented', 'applications', 'translator', 'zipped', 'e.r', 'flooding', 'lust', 'middling', 'parenting', 'recourse', 'discriminating', 'abscess', 'sacks', '91', 'brushetta', 'plateful', 'inexpensively', 'fontanella', 'insider', 'schlep', 'dinging', 'tutti', 'santi', 'bowled', 'adage', 'admissions', 'veranda', 'incur', 'rotted', 'solace', 'reappeared', 'disheveled', 'gunk', 'fritz', 'abs', 'demonstrates', 'machinery', 'implants', 'hyundai', 'wiggling', 'abalone', 'unto', 'restriction', 'babbo', 'chicagoan', 'livingsocial', 'mn', 'lly', 'charitable', 'infections', 'masterful', '325', 'limitations', 'revisited', '.especially', 'consigned', 'iphones', 'dumber', 'motivate', 'fries-', 'elated', 'mushed', 'manga', 'artie', 'gong', 'cornstarch', 'wards', 'firemen', 'crumbling', 'addendum', 'carolinas', 'fabricated', 'sheriff', 'pier', 'limping', 'rests', 'disabilities', 'ports', 'scanner', 'mouthwash', 'breeds', '.service', 'query', 'ambassador', 'motorized', 'reeking', 'superbly', 'outweighed', 'exceeding', 'chocolately', 'sogginess', 'monopoly', 'pricetag', 'deduce', 'kitchy', 'so-', 'masse', 'braces', 'ogling', 'pope', 'italia', 'eatin', 'sultry', 'fettuccini', 'pinned', 'side-', 'resolving', 'swimmer', '480', 'het', 'heyday', 'deathly', 'scripted', 'arbitrary', 'teamed', 'mangled', 'admired', 'gorilla', 'antsy', 'zack', 'paychecks', 'steals', 'retirees', 'intervention', '7.25', '.to', 'streamlined', 'caper', 'manapua', 'voiced', 'selfs', 'adjuster', 'parody', 'clipping', 'seizure', 'moth', 'cranny', 'martha', 'tryed', 'hysterically', 'sic', 'cheddars', 'explosive', 'identifiable', \"f'n\", 'pima', 'morel', 'misdiagnosed', '78', 'stupidity', 'suspiciously', 'intolerance', 'bfs', 'scaring', 'ramekins', 'teakwoods', 'cravin', 'electro', 'hydro', 'kayla', 'mangoes', 'bedazzled', 'argues', '8.5', 'tarnished', 'mutha', 'diatribe', 'lagers', 'monsoon', 'hairdo', 'berating', 'helpfull', 'infact', 'che', 'smorgasbord', 'creaking', 'chaparral', 'clincher', 'heartbroken', 'store-', 'clarity', 'civic', 'cred', 'incorporating', 'awry', 'insensitive', 'greats', 'hugs', 'desolate', '225', 'plowed', 'cutlets', 'handlebar', 'begs', 'beefsteak', \".don't\", '.their', 'draping', 'dozo', 'grandkids', 'pests', 'bouillon', 'jeweler', 'misrepresented', 'drunkards', 'steamboat', 'killers', 'imaging', 'rankings', 'slacks', 'cheri', 'outlandish', 'holland', 'g28b-5cvhgb', 'countertop', 'excursion', 'howling', 'crud', 'handprints', 'diseases', 'unnatural', 'snafu', '20k', '6:00pm', 'classless', 'hacking', 'sensible', 'nimbus', 'popper', 'tidbit', 'abby', 'thrills', 'senor', 'goody', 'autographs', 'manic', 'mites', 'wuss', 'gradually', 'internally', 'upholstered', 'simulation', 'dispense', 'landis', 'vowing', 'engrossed', 'dived', 'burger-', 'biriyani', 'whey', 'carburetor', 'chaps', 'grossest', 'magnitude', 'abdominal', 'expose', '139', 'prejudice', 'rapport', 'ap', 'namaste', 'pharmacists', '4x', 'oral', 'glamor', 'ailment', 'swindled', 'mindless', 'superficial', 'padre', 'virgins', 'exploding', 'upsale', 'railroad', 'snaking', 'consecutive', 'differs', '28.00', 'mascot', 'firebirds', 'litterally', 'sprays', 'cigs', 'copay', 'swirls', 'wknd', 'slender', 'cherished', 'csr', 'traction', 'prematurely', 'premature', 'scaloppini', 'cucina', 'discouraging', 'forgetable', 'dreamt', '2.49', 'adept', 'accomplishment', 'badges', 'guardian', 'limb', 'jill', 'evoo', 'ying', 'preventative', 'studies', 'zaru', 'parish', 'portal', 'microwaves', 'pumi', 'alison', 'napping', 'fob', 'coolness', 'cookin', 'elastic', 'chomping', \"comp'ed\", 'bombarded', 'occassionally', 'kushi', 'kj', '0.5', 'garment', 'leger', 'untill', 'prohibits', 'tic', 'presidential', 'mandoo', 'timeliness', 'homer', 'aligned', 'winded', 'yong', '.wait', 'bcuz', 'phony', 'cheezy', 'csi', 'amend', 'papas', 'rincon', 'yuca', 'dictate', 'collared', 'reject', 'handgun', 'bartendress', 'polishes', '1996', '.how', '.had', 'reckless', 'omitted', 'meander', 'nang', 'kaow', 'tok', 'slowing', 'tldr', 'lg', 'omlettes', 'gastronomy', 'morphine', 'reducing', 'secretary', 'artisans', 'crow', 'shatter', 'seas', 'trailers', 'denomination', 'deedee', 'avo', 'bootlegger', 'cushy', 'arise', 'tilt', 'disingenuous', 'overheating', 'perfecto', 'increments', 'religiously', 'infusion', 'shrink', 'regulation', 'racism', 'mantis', 'uv', 'ergo', 'reacted', '.another', 'ashes', 'brighten', 'overzealous', 'politicians', 'pierogi', 'boxty', 'nakama', 'squeamish', '1960', 'shiloh', 'formally', 'slurs', 'tantrum', 'balk', 'twos', 'proverbial', 'ruder', 'confrontation', 'structured', 'shudder', 'crass', 'dippers', 'filmed', 'oftentimes', 'cranked', 'lipton', 'brutally', 's**t', 'roll-', 'spunky', 'quadruple', 'nikko', 'straightening', 'medal', 'brixx', 'slammin', 'creamers', 'hearth', 'tecate', 'underarm', 'sabarro', 'waitressing', 'homeland', 'trans', 'hawed', 'slo', 'tattered', 'better-', 'swords', 'cruz', 'crediting', 'outpost', 'penalty', 'papi', 'margaret', 'vivid', 'identifying', 'nepalese', 'renewals', 'occupants', 'kari', 'foosball', 'diligently', 'edgewater', 'germain', '1130', 'mineral', 'bibimbop', 'resisted', 'flabby', 'resent', 'trims', 'distorted', 'confessional', 'generals', 'supervision', '7:00pm', 'fondness', 'poisoned', 'unplug', 'paradiso', 'dictates', 'footprint', 'raced', 'programmed', 'ff', 'offspring', 'decrepit', 'prorated', 'embraces', 'jurors', 'yung', 'converting', 'sha', 'nintendo', 'whispers', 'aide', 'wafer', 'sweetly', 'cramps', 'obstructed', 'doggies', 'maneuvering', 'compels', 'valle', 'rectangle', 'pierce', 'ana', 'sped', 'oozes', 'tid', 'gurgling', 'stews', 'hominy', 'dong', 'rebuild', 'eucalyptus', 'proclaims', 'drywall', '90k', 'stupendous', 'cape', 'mindblowing', 'obtained', 'spikes', 'mooing', 'presses', 'paypal', 'carls', 'popo', '1988', 'sonics', 'dainty', 'pestering', 'capt', 'readings', 'creeping', 'inconveniences', 'ecuadorian', 'douchebaggery', 'shimp', 'arkansas', 'hangin', 'razz', 'cassette', 'rafts', '6.25', 'connective', 'exaggerate', 'cronuts', 'jerking', 'duds', 'calculator', 'unmelted', 'gentile', 'washers', 'u00a0she', 'conceptually', 'tea-', 'unopened', 'ineptitude', 'intercontinental', 'rousing', 'away-', 'lipgloss', '.was', 'berkshire', 'punctuated', 'tobasco', 'contend', 'pastel', 'phyllo', 'blowouts', 'dillards', 'r.g.-', 'disengaged', 'spoiling', 'pibb', 'monaco', 'insufficient', 'downing', 'snobbery', 'khaki', 'canoli', 'publicly', 'carpenter', 'smushed', 'poki', 'abit', 'magnifying', 'bfast', 'forked', 'sanded', 'justifiable', 'them-', 'consign', \"you'll\", 'happenin', 'volkswagen', 'bunched', 'defalco', 'urges', 'stouts', 'campers', 'backseat', 'punching', 'primo', 'prenatal', 'wat', 'harlow', 'waterworld', 'abut', 'haji', 'almighty', 'lurking', 'sank', 'arabic', 'saganaki', 'mystic', 'esther', 'ellipticals', 'gabbing', 'superstar', 'lysol', 'licorice', 'prik', 'denim', 'settles', 'chaat', 'bollywood', 'strongbow', 'whine', 'nee', 'faceless', 'fancied', 'degraded', 'bootcamp', 'touchy', 'kasondra', 'tawni', 'informational', 'someburros', 'hing', 'broadcasting', 'mastered', 'hoard', 'sob', 'unctuous', 'cs', 'kingman', 'purge', 'dieting', 'harshly', 'committing', 'stevia', 'gamy', 'robots', 'mccarren', 'demeaning', 'missteps', 'hesitantly', 'i.d', '.until', 'connector', 'dtlv', 'fuckers', 'scurry', 'bewildered', 'relayed', 'reynolds', 'disk', 'chumlee', 'mainland', 'lad', 'syncing', 'puppets', 'baos', 'stil', 'tiramasu', 'calves', 'dazzling', 'eventhough', '22.00', 'severn', 'undercover', 'asahi', 'frigging', '.lol', 'todai', 'astonishing', 'ivory', 'pia', 'zadora', 'assumptions', 'rednecks', 'puked', 'rom', 'spectator', 'barmaid', '16.50', 'matzoh', 'tussaud', 'buena', 'hef', 'greated', 'foh', 'smoothness', 'meld', 'panhandlers', '4:00am', 'whores', 'nites', 'sig', '5.11', 'morals', 'glittery', 'frightdome', 'adventuredome', 'sane', 'hooking', 'coughed', 'cabbed', 'mobster', 'pubic', 'laughably', 'sanrio', 'miko', 'ragout', 'exclude', 'twain', '@$$', 'published', 'vain', 'moderation', 'hormel', 'prevalent', 'riv', 'sweltering', 'impersonators', 'stub', 'kokomo', 'dumbed', 'blair', 'handedly', '27th', 'saltiest', 'monger', '10-$12', 'competed', 'ironman', 'chattering', 'trevor', 'raita', 'catwalk', 'planners', 'burberry', 'buts', 'flattered', 'leaner', 'unworthy', 'fats', 'occurring', 'believable', 'hennessey', 'enhances', 'argh', 'psychic', 'introductory', 'kaizen', 'beanie', 'attentively', 'panevino', '.2', 'wiens', 'hogging', 'yucatan', 'pbs', '5:50', 'darryl', 'tamba', 'jaunt', 'negro', 'undies', 'bending', 'sciatica', '-rude', '102', 'ebi', 'theories', 'exploration', 'geesh', 'bluntly', '.5', 'u00ae', 'congress', 'creator', 'quirks', 'stickiness', 'skeeball', 'emotionally', 'oprah', 'estimation', 'theatrics', 'tod', 'soviet', 'projected', \"wow'ed\", 'hunch', 'wtih', 'monk', 'rockies', '-you', 'trough', 'pacman', 'congestion', 'helpfulness', 'woodman', 'stomachache', 'ebb', 'snowbird', '4.49', 'inconveniently', 'bonkers', 'micheal', 'winnings', 'advantages', 'slanted', 'u00af', 'bizarrely', 'ida', 'technological', 'mam', 'unanimously', 'travelodge', 'owing', 'interpretations', 'bathrobes', 'lovey', 'rigged', 'proceeding', 'cows', 'baltimore', 'signaled', 'capri', 'aways', 'janitor', 'apologetically', 'irresistible', 'neglecting', \"l'atelier\", 'ledge', '179', 'wesley', 'console', 'bonuses', 'amends', 'shui', 'jacob', 'rockhouse', 'cot', 'merci', 'uttered', 'elongated', 'announcements', 'spun', 'longingly', 'accumulating', 'camped', 'pervades', 'entails', 'punished', 'raffles', 'assessed', 'renditions', 'civilization', 'tourism', 'gimlet', 'standalone', 'fours', 'staggered', 'perfunctory', 'u00eetre', 'kumamoto', 'baileys', 'magret', 'coulis', 'acknowledgment', 'parched', 'asylum', 'cupboard', 'belvedere', 'casanova', 'detector', 'monitored', 'doodle', 'snickerdoodles', 'temptation', 'mussles', 'outnumber', 'posers', 'ps-', 'injected', 'bookings', 'incarnations', 'sumptuous', 'stormy', 'amateurish', 'preconceived', 'mouthfeel', 'medic', '16.00', '.in', 'souplantation', 'toothpicks', 'maya', 'perplexing', 'definitley', 'skrillex', 'pretends', 'barmasa', 'gulped', 'anorexic', 'emotion', 'assumes', 'thickest', 'maddening', 'stripe', 'verging', 'pozole', 'enlighten', 'splurged', 'misti', 'shoutout', 'unfairly', 'partaking', 'jigae', 'portrayed', 'cutesy', 'sensibilities', 'hainanese', 'glee', 'emulsion', 'reeling', 'unadulterated', 'contrasted', 'fattiness', 'brooke', 'extremly', 'schwarma', 'tagliolini', 'cavern', 'stickler', 'franktuary', 'sydney', 'eden', 'dodgeball', 'brasil', 'petrossian', 'fml', 'juggled', 'carve', 'howl', 'recite', 'artistry', 'kaleidoscope', 'bittersweet', 'courtyards', 'craw', 'piglet', 'twp', 'pinkish', 'tocino', 'elton', 'moons', 'frappucino', 'gamut', 'aprons', 'alfred', 'unser', 'seine', 'alle', 'rockstars', 'lenny', 'pepito', 'crazies', 'houdini', 'flanked', 'praising', 'environs', 'reagan', 'sopped', 'supple', 'criticize', 'cranking', 'station-', 'vege', 'lebo', 'anchors', 'rhode', 'grudgingly', 'timberlake', 'knish', 'hind', 'trolling', 'cmu', 'carmine', 'misto', 'flavoured', 'unannounced', 'enabled', 'breakers', 'dinette', 'plinko', 'blinding', 'beards', 'reccomended', 'tachi', '475', 'pathways', 'rama', 'kindergarten', 'summation', 'preggo', 'flavorings', 'overpoweringly', 'restos', 'natalie', 'possess', 'shuseki', 'speculation', 'invasion', 'icee', 'townsquare', 'khmer', 'ponds', 'ack', 'journal', 'detracts', 'bouches', '7:30am', 'merchants', 'tatse', 'sumac', 'sup', 'fabulousness', 'anantuni', 'commands', 'comcast', 'reinforcement', 'lollicup', 'huffed', 'assign', 'chuckie', 'minis', 'retrain', 'camino', 'meetup', 'margin', 'higley', 'aguas', 'badgering', 'amano', 'spatula', 'unrecognizable', 'malted', 'camden', 'melrose', 'servie', 'bulldog', 'analysis', 'shaves', 'katsuya', 'shucks', 'benjamin', 'motown', 'uhaul', 'sababa', 'illegally', 'mechanism', 'u00e9j', 'gyn', 'longevity', 'blaster', 'naga', 'confections', 'osteria', 'missus', 'glazier', 'endurance', 'fina', 'qq', 'concretes', 'navigated', 'rasberry', 'jazmin', 'crunching', 'vinegarette', 'oliver', 'manhattans', 'turnips', 'backgrounds', 'bistros', 'pittsburg', 'underway', 'stracciatella', 'jenna', 'legume', \"wan't\", 'outskirts', 'moisten', 'blendz', 'distribution', 'kangaroo', 'sambar', 'cinderella', 'haut', 'measuring', 'crustini', 'localdines', 'meilleur', 'cai', 'andreolis', 'porchetta', 'wedged', 'designing', 'fass', 'marino', 'malasada', 'mochiko', 'meadow', 'wolfpack', 'youthful', 'juvenile', 'rustica', 'janice', 'shag', 'special-', '1130pm', 'bocca', 'dimensional', 'moronic', 'u00e9lange', 'dominates', 'mews', 'aromatherapy', 'teharu', 'rojo', 'fromagination', 'pinterest', 'costumed', '270', 'malai', 'questionnaire', 'suncoast', 'yorkers', 'taster', 'conseille', 'pense', 'attendre', 'assiettes', 'ingr', 'meilleure', 'u00e9coration', 'sera', 'sortes', 'travellers', \"d'avoir\", 'commentaires', 'veux', 'fais', 'passe', 'pieds', 'verdun', 'oeufs', 'u00e9cid', 'italians', 'saq', 'barami', 'succursale', 'personne', 'parfois', \"s'est\", \"d'hote\", 'retourner', 'essayer', 'probablement', 'u00e9tro', 'toilette', 'laurier', 'u00e9rent', 'trois', 'montrealer', 'sloan', 'laissez', 'berri', 'boire', 'gyozas', 'avaient', 'messe', 'longue', 'choses', 'molson', 'apologised', \"d'amis\", 'donne', 'russ', 'kinder', 'westmount', 'webpage', 'retournerai', 'propri', 'milsa', 'lucia', 'frit', 'salades', 'meme', 'bonita', 'huntersville', 'lobsta', 'tator', 'untidy', 'becasue', 'unica', 'mezzo', 'roasters', 'lothian', 'u00a330', 'licence', 'u00a33', 'holyrood', 'zuchinni', 'playstation', 'wafers', 'snooker', '50p', 'inca', 'morningside', 'accomodation', 'curated', 'cava', '116', 'baci', 'xinh', 'deducting', 'cebu', 'scarves', 'ozen', 'planks', 'everest', 'silvia', 'summon', 'suckling', 'siew', 'bufala', 'nahla', 'juanita', '1oak', 'daiya', 'buzzberry', 'romesco', 'newness', '.35', 'fukuda', 'tisane', 'sagos', 'bianca', 'whoopie', 'sunburst', 'centurylink', 'phrank', 'nu', '5-$6', 'piri', 'prudent', 'lasers', 'ketchups', 'poori', 'mentaiko', 'gestern', 'ordnung', 'kippe', 'kostet', 'diesem', 'macht', 'atmosph', 'liegt', 'weiter', 'sauber', 'eben', 'lange', 'schnell', 'finde', 'unsere', 'warten', 'gef', 'empfehlen', 'ging', 'gefallen', 'sondern', 'nun', 'pflug', 'guten', 'frisch', 'gar', 'lage', 'drau', 'vapiano', 'aufgrund', 'geschmack', 'gerichte', 'paletas', 'joanne', 'rebar', 'bombero', 'crafty', 'demande', 'billionaire', 'primp', 'tinting', 'bubba', 'seolleongtang', 'lok', 'magpie', 'kyara', 'prune', 'etait', 'malabar', 'amaebi', 'bgt', 'byron', 'braids', 'lucio', 'kneaders', 'sbe', 'yagyu', 'skoti', 'jjanga', 'humiliated', 'scrounge', 'vagina', 'eclipsed', 'skee', 'bratty', 'caricature', 'kennywood', 'americanos', 'gobbler', 'naw', 'fished', 'casbah', 'decreasing', 'designation', 'gloopy', 'dodging', 'garde', 'vessel', 'attachment', 'foe', 'resteraunt', 'forbes', 'weirdness', 'peet', 'sacrificing', 'restarted', 'constituted', 'primantis', 'sammiches', 'underlying', 'reyna', 'gauchos', 'perked', 'pennsylvania', 'jukeboxes', 'sensibility', 'hte', 'articulate', 'solidified', 'egos', 'quenching', 'clusters', 'shuttered', 'lagasse', 'caravan', 'rot', 'disasters', 'claire', 'hemming', 'marched', '7.5', 'retained', 'carriers', 'deborah', 'nighter', 'zoom', 'lightest', 'siding', 'modernize', 'hideously', 'directtv', 'unsurprisingly', 'consulted', 'structures', 'craphole', 'curvy', 'scolding', 'ugg', 'mortal', 'hulu', 'prowl', 'barman', 'smartly', 'nosebleeds', 'poncho', 'defy', 'newton', 'diss', 'zebra', 'cesear', 'blacken', 'eventful', 'instill', 'uncc', 'owes', 'hawthorne', 'burners', 'swirled', 'tuxedos', 'valeted', 'geeky', 'etoufee', '1960s', 'temples', 'liken', '.although', 'pleasent', 'watcher', 'radiation', 'outsourced', 'intersections', 'layovers', 'mistook', 'cheerfully', '128', 'relocate', 'cappicola', 'transparent', 'weighted', 'cincinnati', 'stairwells', 'abide', '.again', 'reserves', 'cardamon', 'traits', 'bestbuy', 'withdrawal', 'geniuses', 'walkie', 'simplified', 'fundraising', 'scallopini', 'regain', 'felling', 'lifeguard', 'snubbed', 'rh', 'wisco', 'frostbite', 'gemelos', 'crutches', 'z.', 'stoners', 'lien', 'disheartened', 'brusque', 'minneapolis', 'lends', 'inning', 'disapointing', 'governor', 'adjustable', '5:10', 'enquire', 'frayed', 'prompting', 'purposefully', 'crushing', 'chambana', 'troll', 'samuel', 'tikki', 'tidbits', 'cornichons', 'enormously', 'copenhagen', 'poach', 'exchanging', 'potties', 'bacterial', 'jillian', 'forcefully', 'huff', 'swine', 'refrigeration', 'tempeh', 'cooperative', 'hump', 'shelly', 'dentistry', 'thing-', 'money-', 'smoothest', 'sloth', 'terminator', 'culturally', 'tribe', 'snoring', 'sightseeing', 'cory', 'toothsome', 'trolley', 'beater', 'zoes', 'aversion', 'switzerland', 'tennessee', 'scoured', 'lightrail', 'victorious', 'bofa', 'environmental', 'muttering', 'fighters', 'beeper', 'ers', 'beginnings', 'caramba', 'bowtie', 'bordered', 'gingerly', 'pinata', 'not-', 'puerco', 'outweighs', 'renovate', 'breezed', 'jewlery', 'nana', 'garners', '8:20', 'luminarias', 'rangers', 'flowering', 'delhi', 'rollins', 'cellular', 'dulled', 'ridiculousness', 'zones', 'prerequisite', 'engines', 'motors', 'cation', 'arizonians', 'discrepancy', 'dialog', 'obgyn', 'jetta', 'bondage', 'florescent', 'craves', 'oval', 'smudge', 'busts', 'clicking', 'invitations', 'toothpick', 'uofa', 'pokemon', 'hatter', 'yaki', 'kreplach', 'uniformly', 'domain', 'metrocenter', 'kristy', 'relies', 'funnier', 'tracker', 'candor', 'tetanus', '1970s', 'caved', 'transplanted', 'texan', 'cholula', 'yielded', 'rochelle', 'mcclintock', 'tableware', 'discarded', 'reinstall', 'scrapped', 'alternating', 'fussing', 'hag', 'droves', 'tacori', 'lemoncello', 'foliage', 'deliberating', '-all', '0.25', 'ettouffe', 'directs', 'suey', 'caulking', 'saks', 'dior', 'revive', 'reordered', 'despicable', 'manicured', 'anonymous', 'tryin', 'adjective', 'dell', 'pursuit', 'fairway', 'bunkers', 'pedals', 'affiliation', '7.49', 'lore', 'mullet', 'sawdust', 'tomates', 'leslies', 'exploratory', 'hacienda', 'determining', 'grunts', 'audrey', 'pursuing', 'jaws', 'zuppa', 'throngs', '1994', 'julienne', 'lettering', 'marcellino', '25min', 'quench', '.let', 'memorize', 'tahitian', 'elliott', 'thermostats', '120.00', 'proposal', 'signor', 'sensing', 'commissions', 'repairing', 'tirade', 'amateurs', 'neutered', 'demographics', 'hangry', 'earnhardt', 'negotiations', 'spinatos', 'cts', 'automobile', 'empathetic', 'jargon', 'supervised', 'valvoline', 'flatly', 'forwarding', '375', 'trumpet', 'taunting', 'rimmed', 'plugging', 'arid', 'carhops', \"can't\", 'sherbet', 'seventies', 'narrator', 'rephrase', 'slaughter', 'mushu', 'booger', 'gymnastics', 'grizzly', 'brainless', 'avalanche', 'sullivan', 'gecko', '12:30am', '169', 'offsite', 'adapted', 'effed', 'joins', 'overgrown', 'pronunciation', 'gino', 'residual', 'braided', '3s', 'superstition', 'fading', 'lawyer', 'fireman', 'segregated', 'jostled', 'marveled', 'accosted', 'padding', 'enhancements', 'thw', 'venerable', 'visions', 'wielding', '21.95', 'interruption', 'maraschino', 'escaping', 'conjunction', 'ironwood', 'caeser', 'workings', 'adele', 'rabid', '5s', 'doritos', 'muttered', 'recessed', 'lengthwise', 'distressed', 'politeness', 'teriaki', 'troubleshoot', 'ostentatious', \"6'2\", 'cardiac', 'arrest', 'sleezy', 'tjs', 'hydraulic', 'bender', 'mayweather', 'totaly', 'despair', 'scab', 'snowball', 'sprints', '79.99', 'retrained', 'magnetic', 'onstage', 'ev', 'solitary', 'maverick', 'bree', '80.00', 'timeframe', 'ramos', 'venders', 'reproduction', 'creators', 'kelli', 'nate', 'bruise', '10:20', 'sayings', 'swiping', 'gasket', 'cruisers', 'shorten', 'hummingbird', 'wand', 'tingling', 'silliest', 'coached', 'kirkland', 'haunting', 'apathy', 'limbs', 'exposure', 'toped', 'activated', 'salivary', 'glands', 'schemes', 'crouton', 'hoodies', 'absolutly', 'kiddy', 'kindof', 'tejas', 'animation', 'tabletops', 'trainwreck', 'inundated', '-prices', 'cinemark', '4ish', 'pissing', '15-$20', 'backroom', 'reformed', 'farmhouse', 'hasty', 'preferential', 'phuket', 'hazardous', 'dorky', 'craftsmanship', 'baggers', 'rolex', '50cent', 'coherent', 'jampong', 'boggles', 'rhinestone', 'katherine', 'sifting', 'impending', 'develops', 'ua', 'partook', 'manufacturers', 'reprieve', '.however', 'firmer', 'cookbook', 'adores', 'racking', 'humiliating', '--and', 'tux', 'suishi', 'shitting', 'amok', \"o'reilly\", 'hollowed', 'i\"ve', 'negi', 'interviewed', 'jagged', 'helluva', '.h', 'arthritis', 'bibb', 'risottos', '39.95', 'pretense', '90th', 'picturesque', 'aspen', 'fourths', 'gratuities', 'psycho', 'duplicated', '1.49', '2.79', 'brochures', 'moles', 'p8j59f370g?select', 'evan', 'mounting', 'fattiest', 'leary', 'taillights', 'reiterated', 'visor', 'tanked', '.never', 'closings', 'figuratively', 'picazzo', 'crisper', 'slaughtered', 'greasewood', 'mobility', 'vocalist', 'gastric', 'paige', 'twisty', 'bugger', 'transpired', 'spurs', 'eddy', 'wed', 'phew', 'spokes', 'definitive', 'disagreement', 'warped', 'gaggle', 'syringe', 'gangsters', 'sleeveless', 'repast', 'jaguar', 's&j', 'otb', 'sylvia', 'jamun', 'humps', 'streams', 'practiced', 'jittery', 'wk', 'bischoff', 'reel', 'nhl', 'sku', '83rd', 'bomber', 'quac', 'jsut', 'removes', '13.50', 'nearer', 'assaulted', 'candid', 'romain', 'interpreted', '9:30am', 'ombr', '103', 'wam', 'depleted', 'leslie', 'savannah', 'thereby', 'smoothed', 'ships', '75th', 'hoarders', 'prevention', 'tightest', 'allowance', 'announces', '15.95', 'herby', 'nip', 'scurried', 'wickenburg', 'anita', 'mesmerizing', 'hairdryer', 'incidental', 'embarking', 'nitpicking', 'crayon', '6:50', '7:10', 'composure', 'barstow', 'cruised', 'glaringly', 'husky', 'shellane', 'melanie', 'bigtime', 'inquiries', 'wether', 'zeppoles', 'enchilladas', 'siri', 'wearhouse', 'carnivorous', 'callback', 'afb', 'chicas', 'implode', 'fret', 'crowned', 'restock', 'gunna', 'buon', '4pm', 'blizzards', 'smithwicks', '.too', 'weaved', 'aided', 'technologically', 'parrot', 'looses', 'ugliest', 'shingle', 'stint', 'westminster', '8.75', 'chong', 'lugar', 'jenni', 'holic', 'confuses', 'japchae', 'guk', 'marination', 'cust', 'layaway', 'hopelessly', 'essie', 'posed', 'darlings', 'cheetah', 'lacey', 'reek', 'weaker', \"d'oeuvres\", 'icheza', 'distaste', 'gizzard', 'ntv1hc0dt5obqon9fbg9fa', '1.30', 'loot', 'gestured', 'herve', 'spanning', 'textbook', 'larkin', 'monique', 'habib', 'boosts', 'u00f3', 'ether', 'bobba', 'sorrows', 'excursions', 'o.j', 'bile', 'belagio', 'pathetically', 'archaic', 'costuming', 'trademark', 'salvadorian', 'avenues', 'pavement', 'lambs', 'camry', 'bowels', 'colon', 'tabitha', '.60', 'doctored', 'asinine', 'derrick', 'mouthing', 'teppenyaki', 'fatter', 'defines', 'overstaffed', 'kart', 'thinnest', 'furnace', 'mikey', 'pud', 'ethel', 'arises', 'quinta', 'kidneys', 'nitro', 'introduces', 'discriminated', 'oph', 'rationale', 'resistant', 'origins', 'quartet', 'eponymous', 'epoxy', 'climbers', 'payouts', 'ailments', 'groaning', 'factual', 'wakame', 'affordability', 'wheeler', 'disrespectfully', 'mull', 'setups', 'done-', 'ae', 'xxl', 'scarred', 'minding', 'ninety', '+2', 'drenching', 'compartment', '4-', 'tying', 'zenith', 'grueling', 'swankier', 'yi', 'transient', 'parlors', 'blunders', 'ballgame', 'wiki', 'smarmy', 'gaelic', 'aplenty', 'salivate', 'heeded', 'piggies', 'mellon', 'abhor', 'threshold', 'mei', 'smidgen', 'impacted', '.eh', 'gran', 'mouthed', 'mineos', 'coldwell', 'hanlon', 'steeped', 'occurance', 'shambles', 'but-', 'hmph', 'titled', 'affluent', 'wobbled', 'stubs', 'wildest', 'crawls', 'resisting', 'showtimes', 'blondes', 'farro', 'colony', 'mecklenburg', 'sullivans', 'chimney', 'logs', 'smugly', 'dynasty', 'sterilized', 'hinted', 'neutering', 'revival', 'muse', 'taipei', 'luigi', 'omega', 'reproduce', 'achieving', 'shebang', 'livestock', 'portofino', 'whirlwind', 'olfactory', 'noel', 'gots', 'dish-', 'nopales', 'taquerias', '-some', 'wallace', 'whit', '7:15pm', 'creamery', 'descended', 'sloshed', 'berated', 'volunteered', 'fossils', 'snuggle', 'isthmus', 'newcomers', 'copps', 'masterfully', 'turnip', 'madtown', 'frequency', 'showy', 'banquette', 'mulled', 'viola', 'jacques', 'charisma', 'hart', 'afghan', 'awkwardness', 'pillar', 'dismissing', 'soco', 'rooibos', 'o.c', 'lombardinos', 'affairs', '12:15', 'injectors', 'hormone', 'doubly', 'knobs', 'bads', 'sparingly', 'sentences', 'copying', 'fetuccini', 'collage', 'nitpick', 'brined', 'salary', 'grunge', 'mirabelle', 'belittling', 'roundabout', '3:30am', 'painstakingly', 'ticking', '.yeah', 'delaying', 'paso', 'tasking', 'uncanny', 'woes', 'striving', 'zealous', 'bypassed', 'jag', 'gauze', 'boop', 'alil', 'jp', 'buren', 'eyeball', 'weapon', 'cheap-', 'adorning', '3-$4', 'streamers', 'wrought', 'ritas', 'carelessly', '39.00', 'bunk', '.first', 'churned', 'overfilled', 'folder', 'jogged', 'furnitures', 'complications', 'vegetarianism', 'jimmie', 'juxtaposition', 'slate', 'gawk', 'bichon', 'fundamental', 'enrollment', 'sheratons', 'sopa', 'predicted', 'educating', 'graduates', 'capo', 'fanboy', 'huffy', 'humberto', 'tsao', 'tagine', 'drizzles', 'blanche', 'exhale', 'ripened', 'pioneer', 'giovanni', 'hankerin', 'overdo', 'soaring', 'matrix', 'attacking', 'swam', '90.00', 'posture', 'protector', 'spaetzle', 'loathing', 'prism', 'atms', 'angelic', 'comically', 'childs', 'roi', 'macdonald', 'dunes', 'manis', 'disks', 'jalisco', 'mosey', 'allergens', 'thusly', 'bcs', 'restauranteurs', 'az88', 'cointreau', 'pajamas', 'perpetual', 'pepperjack', 'birthing', 'dodged', 'sangiovese', 'slum', 'longing', 'keel', 'freshen', 'pertains', 'manly', 'seamed', 'kazimierz', 'hounded', 'stfu', '.is', 'styro', 'firesky', 'parading', 'mulligans', 'bandido', 'uncharacteristically', 'parsnip', 'bitched', 'zipping', 'hoagies', 'tottie', 'sinuses', 'slurped', 'habenero', 'ogle', 'sportsbar', 'graduations', 'sfs', 'neiman', 'pomp', 'flamenco', 'collars', 'whooping', '5-$8', 'horrors', 'elf', 'maniac', 'cheez', 'grapevine', '-grilled', 'anomaly', 'deff', 'befitting', 'stumped', 'bobbing', 'bungalows', 'this-', 'saltimbocca', 'breadbasket', 'predominately', 'frig', 'spafinder', 'fusing', '1950s', 'redesign', 'nightcap', 'differed', 'skatepark', 'mio', 'neurologist', 'corporations', '34.99', 'buisness', 'backward', 'tasters', 'ethiopia', 'swiha', 'simulate', 'mange', 'slicked', 'knuckleheads', 'impressively', 'coral', 'l0l', 'shunned', 'waitlist', 'writting', 'go-', 'grader', 'boating', 'stomping', 'premixed', 'oddball', 'bracket', 'soley', 'angrily', 'fwy', 'accordian', 'unpolished', 'aptly', 'contestants', 'spouting', 'yearn', 'prized', 'woon', 'weathered', 'superhero', 'cheesiness', 'launched', 'wading', 'violet', 'yeesh', 'pintos', 'ipods', 'helicopters', 'withstand', 'monotone', 'h&r', 'gump', 'oiliness', 'soldiers', 'clears', 'ro', 'numbered', \"y'know\", 'lineups', 'undesirable', 'paneled', 'abundantly', 'ls', 'fantabulous', 'menue', 'unchewable', 'dillon', 'unaccommodating', 'arial', 'torito', 'mounts', 'bonds', 'rt', 'shih', 'diggity', 'sauted', 'rhymes', 'lima', 'sfo', 'amiable', 'purgatory', 'corridors', 'belittle', \"doin'\", '830', 'pasadena', 'overprices', 'concentrating', 'freeplay', 'triggers', 'kickboxing', 'downers', 'lucas', 'sightings', 'faggot', 'flambe', 'disinfectant', 'isolation', 'siblings', 'cartridges', 'mayhem', 'fitzgerald', 'aussie', 'customization', 'retest', 'tuxedo', 'brocoli', 'impressing', 'subtract', 'telly', \"don't\", 'ferraro', 'frutti', 'protecting', 'overpass', 'redecorated', 'interval', 'observing', 'traces', 'sma', 'convienent', 'singled', 'pacing', 'artistically', 'needlessly', 'innocently', 'exorbitantly', 'amoroso', 'condom', 'absolutley', 'birch', 'deed', 'pullout', 'waterslide', 'castles', 'vacationed', 'cora', 'luring', '4d', 'pinoy', 'captains', 'showgirl', 'wrinkly', 'pulpo', 'rillette', '-chicken', 'hounding', 'carnaval', 'emblazoned', 'sturgeon', 'layed', 'x2', 'whet', 'cushioned', 'salesgirl', 'confiscated', 'een', 'aruba', 'battista', 'shedding', 'substitutes', 'formulaic', 'offending', 'godiva', 'vacated', 'canaletto', 'bartolotta', 'bougie', 'chainsaw', 'yalla', 'eluded', 'sauntered', 'nickels', 'nathans', 'loudspeaker', 'nob', 'personalize', 'sparrow', 'tooths', 'ravers', 'frick', 'haw', 'craziest', 'tedious', 'veil', 'omar', 'bhaji', 'retard', 'splattered', 'nice-', '149', 'assuredly', 'teamwork', 'coincide', 'retains', 'fibrous', 'saleswoman', 'beaded', 'toscana', 'tango', 'muenster', '.unless', 'presidents', 'calico', 'redoing', 'paymon', 'landscaped', 'onset', 'fifties', 'flavorfull', 'dazzle', '7:00am', 'boils', 'basted', 'tis', 'ratty', 'cran', 'recognise', 'lupo', 'clung', 'traders', 'vikings', 'adhere', 'gushed', 'daal', 'toto', 'gau', 'delirium', 'limbo', 'scarfing', 'mohawk', 'remotes', 'chimed', 'carla', 'slurpee', 'edemame', 'skit', 'stagger', 'wits', '20ish', '6:55', 'madera', 'proprietary', 'tonya', '8.29', 'countertops', 'expediter', 'sqft', 'cliffs', 'molto', '400.00', 'hikari', 'pigged', 'diag', 'cisco', 'omnivores', 'singaporean', 'cloying', 'steampunk', 'kugel', 'trudge', 'flocked', 'j&g', 'effortlessly', 'mothership', 'restrictive', 'looped', 'moqppqoohfgincilkmvgjg', 'garish', 'landlocked', 'tomas', 'prohibitive', 'oklahoma', 'cusine', 'kao', 'kho', 'headline', 'protest', 'mangos', 'feeble', 'cathouse', 'disheartening', 'russia', 'commensurate', 'nutrients', 'ver', 'irritable', 'inexplicable', 'spoiler', 'spoilers', '1k', 'foodnetwork', 'photographed', '-our', 'softened', 'infuriating', 'honed', 'newcomer', 'streamline', 'compounded', 'significance', 'lao', 'brocach', 'kidszone', 'comers', 'mickies', 'sated', 'willie', 'underwater', 'forever21', 'poll', 'babysitting', 'manilow', 'babes', 'suntan', 'crazier', 'claustrophobia', 'foodwise', 'non-', 'crue', 'lightbulb', 'vacationers', 'enfants', 'lowlights', 'morimoto', 'norwegian', 'pertinent', 'replaces', 'mcds', 'foodcourt', 'rodent', 'grosse', 'plusses', 'haste', 'hulk', 'reseated', 'aerobic', 'nonsensical', 'wakes', 'hotspots', 'eyesore', 'ballin', 'masculine', 'pastels', 'theses', 'confession', 'hector', 'radicchio', 'swimwear', '20minutes', 'feelin', 'ihome', '11:50', 'ww', 'morn', 'audigier', 'gilley', 'solei', 'corps', 'traverse', 'boardwalk', 'wondrous', 'slated', \"s'il\", 'atmospheric', 'barramundi', 'memorably', 'shovel', 'chrissy', 'launching', 'fend', 'sneezing', 'timeline', 'flushed', 'groaned', '-in', 'belonging', 'multiples', 'peels', 'stoner', 'infants', 'a-', 'sema', 'falsely', 'pedestrians', 'verandah', 'stance', 'qualification', 'destined', 'radios', 'bolder', 'beignet', 'disapointment', 'omit', 'u00e2', 'seatings', 'writhing', 'rosotto', 'dory', 'gruy', 'russe', 'oldtown', 'familiarity', 'arden', 'undone', 'cesars', 'marching', 'buxom', 'viennese', 'appetisers', 'weaknesses', 'fashionista', 'foody', 'divas', 'abba', 'zooming', 'boundaries', 'nouvelle', 'dilute', 'curiously', 'chevre', 'petal', 'hottie', 'controlling', 'gawking', 'jitters', 'sequences', 'humour', 'divers', 'vertically', 't4', 'sequence', 'nodding', 'ss', 'centipede', 'torchon', 'saline', 'sux', 'chiliquiles', '12-$15', 'assertive', 'nominal', 'ventilated', 'sexiest', 'cathedral', 'syrah', 'posse', 'disadvantage', 'sy', 'nuances', 'dummy', 'dcr', 'nipples', 'hogs', 'vagrants', 'ethnicities', 'dumbass', 'crafting', 'clubbers', 'premiums', '17.95', 'wii', 'naka', 'aficionados', 'coldstone', 'foi', 'allergen', 'stomp', 'opium', 'splendor', 'outstandingly', 'phases', 'isolzudhc50ojliewpwv', 'parasol', 'commonplace', 'horde', 'ponytail', 'dah', 'bil', 'people-', 'frittes', 'lamest', 'veggi', 'laksa', 'xoxo', 'wc', 'yuim5vksco8rs1ex7f19_g?select', 'had-', '159', 'bada', 'bonsai', 'funghi', 'pathway', 'rez', 'turquoise', 'camelview', 'documentary', 'grail', 'kebabs', 'franchising', 'kurobuta', 'over-', 'terrier', 'noisier', 'leds', 'dollops', 'aspire', 'wristlet', 'gaping', 'moonlight', 'islander', 'orchids', 'slur', 'aztec', 'watch?v', 'alba', 'catty', 'surpass', 'conventional', 'reeses', 'chargrilled', 'sectioned', 'litle', 'cleopatra', 'limon', 'm.i.a', 'atherton', 'cultured', 'falafal', 'metered', 'clarifying', 'casita', 'expectedly', 'orangey', 'sly', 'gegen', 'unter', 'wer', 'wert', 'melange', 'djing', 'chap', 'parfaits', 'grownups', 'ashtrays', 'mics', 'moda', 'och', 'var', 'chocked', 'cuppa', \"s'more\", 'banquettes', 'vegas?select=6aiiyfgxeffokehgultmhw', '24.00', 'picatta', 'surmised', 'pulao', 'adamant', 'culprit', 'bocce', 'bachlorette', 'mma', 'outdoorsy', 'fragments', 'napoletana', 'occured', 'vm', '.because', 'pickups', 'lenient', 'dolmades', 'indonesia', 'subscribe', 'feverishly', 'eveything', 'vinagrette', 'mutt', 'wham', 'hgvne87fvk5pwkmzbdktba?select', 'ladders', 'transforms', 'tarbell', 'somthing', 'twinkie', 'fairs', 'blissfully', 'vito', 'checkouts', 'childish', 'seahawks', 'extortionate', 'nlv', 'jive', 'distinguishing', 'brule', 'rodizio', 'norton', 'obstacle', 'ranchers', 'aspirations', 'privileged', 'chucked', 'isolaz', 'natasha', 'dif', 'sanitizing', 'occupies', 'dawned', 'archery', 'enthralling', 'wiederhorn', 'coldly', 'dremel', 'pandas', 'tec', 'reflux', 'minature', 'ballooning', 'chav', 'resnick', 'meal-', 'apc', 'vitals', 'recruit', 'butte', 'debra', 'gorditas', 'recipients', 'superfood', 'cozier', 'sewn', 'infuriates', 'convient', 'tackled', 'deception', 'insulation', 'claudia', 'tetracycline', 'shin', 'caldereta', 'cripsy', 'certification', 'photographing', 'conducting', 'blehh', 'fists', 'cavatelli', 'masquerading', 'whittlesea', 'miscounted', 'horton', 'sim', 'headliners', 'gerber', 'residency', 'willpower', 'mocked', 'mezza', 'undress', 'fern', 'prevail', 'revolve', 'estrella', 'hawaiin', 'bazic', 'yolanda', 'grenade', 'gil', 'kenmore', '10:45am', 'azuki', 'floury', 'astray', 'cavatappi', 'monarch', 'armchairs', 'lopez', 'bayou', 'spicyness', 'cashman', 'coziness', 'kandy', 'pastitsio', 'seviche', 'amphitheater', 'familia', 'rotd', 'archi', 'hsieh', 'fling', 'sunflowers', 'mms', 'kawali', 'rinds', 'dissected', 'orded', 'brea', 'exhaustion', 'palais', 'homme', 'heightened', 'snapshot', 'interpretive', 'culmination', 'autograph', 'sweeteners', 'afghani', 'surfin', 'stabbing', 'vampiro', 'cotija', 'mah', 'shoebox', 'unfocused', 'ikura', 'yaa', 'anglais', 'daft', 'vinegars', 'flax', 'pates', 'involvement', 'forefathers', 'popover', 'sutra', 'feijoada', 'madras', 'breadfruit', 'tock', 'tracey', 'hinting', 'rapini', 'caveman', 'dyed', 'dysart', 'woodfired', 'kaiware', 'omikase', 'samps', 'liquidators', 'norterra', 'cosi', 'satays', 'pitta', 'swina', 'senorita', 'tickles', 'harden', 'woodlawn', 'hilldale', 'mcfadden', 'admin', 'curdled', 'mannequins', \"b'c\", 'playlist', 'amelie', 'valentina', '6:15pm', 'formidable', 'modeled', 'visite', 'plac', 'commence', \"l'on\", 'coll', 'elles', 'oubli', 'exemple', 'riz', \"j'aurais\", 'attendu', 'directement', 'positif', 'conseil', 'adresse', 'banquise', 'sucr', 'terasse', 'u00e9toiles', 'andr', 'voit', 'u00e9cois', 'faites', 'u00e9tour', 'trifle', 'semaines', 'canadiens', 'vrai', 'ligne', 'tant', 'u00e9tant', \"n'avait\", 'aucun', 'mettre', 'aime', 'u00eene', 'sugg', 'offrir', 'seule', 'sait', 'heure', 'dor', 'fung', 'rapidement', 'u00e9v', 'organis', 'u00e8tement', 'vases', 'u00fbte', 'queuing', 'quebecois', \"l'eau\", 'commandes', 'doit', 'serez', 'faisant', 'u00e9rence', 'dessus', 'dieu', 'ciel', 'ailleurs', 'filles', \"d'attente\", 'crois', 'charme', 'allait', 'amie', 'fum', 'poudre', \"d'eau\", \"n'en\", \"l'ai\", \"d'y\", 'rendre', 'lumi', 'ouest', 'infinite', 'kitchener', 'sao', 'cote', \"c'etait\", 'thermos', '-this', 'furnishing', '.sorry', 'gullet', 'delve', 'feces', 'blakeney', '1.80', 'wannabes', 'tam', 'oddities', 'tats', 'radiant', 'chauffeur', 'villas', 'lunching', '3.80', 'mammas', 'u00a31', 'halloumi', 'u00a320', 'emerging', 'echoed', '9a', 'u00e9rents', 'sainsburys', 'janelle', 'heeling', 'b&q', 'jenners', 'tollcross', 'drouthy', 'oxtails', 'stm', 'deadmau5', 'zin', 'michel', 'u00e4nger', 'karve', 'rocher', 'inadvertently', 'fierce', 'unicorn', 'pch', 'override', 'persimmon', 'tito', 'heist', 'faygo', 'marinelli', 'lamar', 'verrado', 'dar', 'timbers', 'pazookie', 'deejai', 'guild', 'facilement', 'evoked', 'anatomy', 'distillery', 'ditzy', 'karaage', 'forego', 'shtick', 'pusadee', 'bisbee', 'pertaining', 'beachy', 'ree', 'jennie', 'usuals', 'wildcard', 'jobot', 'mano', 'atmo', 'mamita', 'fen', 'brickhouse', 'venezuelan', 'muzzle', 'honking', 'arooji', 'bonkerz', 'dandelion', 'shaw', 'founders', 'chica', 'mabel', 'f4x1ybxklrzg652xt2kr5g?select', 'casablanca', 'dustin', 'aquatherm', 'gallbladder', 'chanterelle', 'smashfries', 'sweety', 'streats', 'tucker', 'fatoush', 'rambo', 'kilimanjaro', 'belinda', 'rockstar', 'flux', 'primark', 'abdc', 'gogi', 'nitamago', 'dojo', 'thit', 'richmond', 'limite', 'trotzdem', 'entt', 'findet', 'uhr', 'dazu', 'z.b', 'gleichen', 'umgebung', 'guter', 'u00fcnstig', 'kommen', 'u00dfes', 'angenehm', 'erst', 'gesch', 'u00fcrde', 'u00dfig', 'frische', 'insgesamt', 'minuten', 'zeit', 'portillos', 'daf', 'heute', 'kaffee', 'paar', 'bedienung', 'nochmal', 'namen', 'lokal', 'u00f6', 'werde', 'lassen', 'einmal', 'tische', 'jahren', 'u00e4tze', 'hochzeit', 'diesen', 'klar', 'darf', 'drin', 'beste', 'griechisch', 'bubblegum', 'zingers', '8:10', 'kommt', 'billie', 'wonka', 'adobado', 'zudem', 'panzanella', 'charlotte?select', 'braddah', 'jumpstreet', 'burgushi', 'mowed', 'newk', 'lavraki', 'akahana', 'patinoire', 'mcnuggets', 'bottega', 'bruges', \"vamp'd\", 'sekong', 'inspector', 'aly', 'chedder', \"o'aces\", 'heid', 'mopeds', 'frijoles', 'slideshow', 'banzo', 'herban', 'alyssa', 'melodi', 'portioning', 'proofs', 'markis', 'gotham', 'rosehip', 'caitlin', 'bicol', 'gellato', 'searsucker', 'cinebarre', 'fukumimi', 'filib', 'milunka', 'u00efs', 'gyu', 'ryu', 'hek', \"pel'meni\", '180q', 'vinaigres', 'huiles', 'huli', 'indo', 'foxtail', 'chayo', 'rose.rabbit.lie', 'punctured', 'fetched', 'chorus', 'pianists', 'quintessentially', 'cheeky', 'witted', 'cornhole', 'd&b', 'warmers', '5:10pm', '5:20', 'biatch', 'pfc', 'doubted', 'artisinal', 'incidences', 'wobbling', 'good--', 'dosed', 'owls', 'fined', 'greenhouse', 'brash', 'institutions', 'biological', 'minerals', 'impressionist', 'corking', 'tandem', 'npr', 'gazette', 'campiti', 'deadlines', 'certainty', 'resentment', '.okay', 'accidental', 'standoff', 'impaired', 'cleavage', 'rotations', 'grid', 'mcknight', 'roland', 'mancini', 'tosses', 'delirious', 'afloat', 'recounted', '1991', 'tambellini', 'extravagance', 'steeler', 'serena', 'carmen', 'peperoni', 'vaccination', 'troy', 'interference', 'thunderstorms', 'thinness', 'antiquated', 'mahogany', 'fiddle', 'inherited', 'denizens', 'alu', 'brothy', 'vestibule', 'swarming', 'sabotage', 'winghart', 'brookline', 'proportionate', 'paring', 'tatami', 'ellsworth', 'horizontally', 'bub', 'restrain', 'unceremoniously', \"iv'e\", '8.0', 'aloe', 'hillside', 'lightheaded', 'guesses', 'herman', 'waldhorn', 'spaten', 'yields', 'nether', 'garnered', 'affecting', 'cya', '602', 'carowinds', 'fernando', 'bailing', 'rb', 'dvr', 'retention', 'longish', 'whiting', 'jou', 'snacked', 'sidecar', 'durham', 'bobcats', 'nobles', 'convienence', 'grannies', 'bestsellers', '9:25', 'dowd', 'filleted', 'carbo', 'plums', 'bight', 'preserving', 'visulite', 'canai', 'unsweet', 'heroes', 'foreigners', 'fermented', 'troubled', 'ode', 'ticketed', 'utilitarian', 'pricewise', 'concourses', 'loiter', 'dl', 'scanners', 'commuters', 'congregate', 'adirondack', '280', 'newark', 'convoluted', 'zoomed', 'ord', 'collards', 'nichols', '-if', 'trashing', 'rediculously', 'beware-', 'av', 'focal', 'musashi', 'cheapie', 'wikipedia', 'balked', 'restrained', 'illiterate', 'disrupt', 'binoculars', 'ratchet', 'squeaks', 'prodded', 'iq', 'condemned', 'feng', 'nil', 'mbps', 'acclaim', 'tzaziki', 'eighteen', 'romantically', 'turmeric', 'nationally', 'arboretum', 'kt', 'banked', 'devin', 'do-', 'pisces', 'semolina', 'spud', 'stoney', 'skid', 'masking', 'backwoods', 'mcfarland', 'sconnie', 'responsiveness', 'conspicuous', 'teething', 'congeal', 'interfere', 'bullets', 'pedros', 'prius', 'whimsy', 'collectible', 'maroon', 'trapping', 'aviation', 'kennels', '350.00', 'graduating', 'crustless', 'funded', 'undergrads', 'academics', 'welds', 'greeks', 'engineers', 'penske', 'routed', 'cafeterias', 'embarassing', 'punjabi', 'crispy-', 'hugest', 'knuckle', 'sweden', 'skank', 'paraphrase', 'illini', 'eyewear', 'kopi', 'ambivalent', 'said-', 'beer-', 'minutes-', 'chagrin', 'legwork', 'wowing', 'thaiger', 'unknowingly', 'latina', 'occurrences', 'uncertainty', 'babysit', 'molding', 'mae', 'kennedy', 'sacred', 'canasta', 'poppins', 'chicos', 'clued', 'diamondback', 'amigo', 'flung', 'pappadeaux', 'detective', 'scatter', 'prediction', 'gatorade', 'cheuvront', '007', 'dint', 'wrecking', 'frightened', 'triage', 'rosita', 'flauta', 'rositas', 'injustice', 'drivethrough', 'empowering', 'scholarships', 'eschew', 'hurricanes', 'pointy', 'bunches', 'cheapskates', 'untrustworthy', 'marlin', 'denser', 'atmostphere', 'drugstore', 'swell', 'bric', 'molcajete', 'micheladas', 'squirrels', 'critters', 'papusa', 'hyperbole', 'bookshelves', 'rox', 'vacancies', 'woudl', 'stirfry', 'chongqing', 'presently', 'vallet', 'imposed', 'kettlebells', 'osborn', 'screenings', 'troubleshooting', 'reimbursing', 'accumulate', 'vibrator', '.uh', 'embody', '3:1', 'shrine', 'pzookie', 'mccaffrey', 'azure', '1300', 'catalytic', 'struts', 'arlin', 'friendship', 'surfboard', \"id'd\", 'scruffy', 'texaz', 'degenerate', 'amusingly', 'moto', 'perfumes', 'jude', 'lukes', 'catalina', '10-', 'chinsy', 'heartier', 'numbering', 'parcel', 'determines', 'escapades', 'armadillo', 'roving', 'mouthwateringly', 'chevrolet', 'rollercoaster', 'bonjour', 'evaporated', '40min', '-spinach', 'slimey', 'elie', 'hava', 'blase', 'competes', 'exemplifies', '3:15', 'vesper', 'jot', 'thirties', 'spontaneously', 'stoop', 'bauer', 'floods', 'propaganda', 'obliging', 'musubi', 'honour', 'enthralled', 'cumulative', 'tome', 'balm', 'tripas', 'likeable', 'zacher', 'hypoallergenic', 'disruptive', 'clockwork', '00', 'competency', 'overture', 'opa', 'clothed', 'scumbags', 'pbj', 'revolves', 'edged', 'bruschettas', 'atmospheres', 'jeffrey', 'pooped', 'tardiness', 'bushy', 'sabor', 'berridge', 'limey', 'hinge', 'fishies', 'lovable', 'bovine', 'failures', 'lifelong', '1993', 'spunk', 'insurances', 'staffers', 'centerpieces', 'unsuccessfully', 'upsets', 'oversees', 'exhaustive', 'module', 'squeegee', 'cylinder', 'donalds', 'sedan', '.pretty', 'profitable', 'embarassment', 'capacitors', 'incision', 'gasped', 'comforted', 'livelihood', 'disagreed', '645', 'prorate', 'organs', 'trey', 'is-', 'else-', 'woe', 'outward', 'dissapeared', 'camps', 'commissioned', 'review-', 'lofty', 'collide', 'beauties', 'downgrading', 'franchised', 'masseuses', 'extremes', 'wang', 'wantons', 'parilla', 'internship', '.um', 'intimately', 'looming', 'sponsor', 'relocation', 'whizzing', 'herding', 'detained', 'conceded', 'notebooks', '.horrible', '.something', 'merged', 'interupted', 'pdx', 'crane', 'limped', 'uplifting', 'muggy', 'inland', 'dood', 'needy', 'nurturing', 'reccommended', '2s', 'offender', 'neptune', \"was'nt\", 'niro', 'optometrists', 'dwindling', 'deepdish', 'sushi-', 'mehh', 'loopy', 'waterlogged', 'berg', 'unbeknownst', 'grouped', 'migraines', 'floaters', 'sponges', 'crumpled', '.of', 'tutorial', 'bose', 'swimsuits', 'prolong', 'shittier', 'oversee', 'mcc', 'hateful', 'invade', 'echelon', '4s', 'widow', 'phenomenally', 'grumpily', 'offish', 'terror', 'relic', 'refusal', 'overwhelms', 'arab', \"5'10\", 'trials', 'cert', 'tl', 'shamrock', 'drafting', 'affectionately', 'morris', 'termites', '30minutes', 'recreated', 'time.the', 'rhetorical', 'bloodwork', 'r.i.p', 'inventor', 'puddings', 'hillbilly', 'cowgirl', 'bedillons', 'abode', 'camaro', 'moods', 'jut', 'sustain', 'sphinx', 'keyed', 'removable', 'pricer', 'choir', 'cyclo', 'noddle', 'outshine', 'phlebotomist', 'factored', 'adorn', 'firebird', 'sopapilla', 'seafoods', 'widest', 'decimated', 'keystone', 'testy', 'edwards', 'citations', 'pegged', 'bruleed', 'microgreens', 'disparate', 'subtleties', 'originated', 'scoped', 'robbing', 'tmobile', 'powerless', 'payable', 'detectable', 'dines', '15.50', 'lurk', 'redeemable', 'adhd', 'knorr', 'novices', \"z'tejas\", 'grizzle', 'inverted', 'darken', 'point-', 'frustratingly', 'evils', '-tv', '-drinks', 'browser', 'skiing', 'celeste', 'pediatrics', 'rearranging', 'skyrocketed', 'flatiron', '29.00', '25mins', 'rs', 'bfe', 'comings', 'goings', 'dreamin', 'enables', 'leaders', 'sermons', 'shoplifters', 'sandal', 'nourishment', 'alexanders', 'shashimi', 'tinkered', 'touting', 'inflammatory', 'soundproofing', 'medicated', 'risers', 'bentley', 'salting', 'shied', 'appetiser', 'mobsters', 'fixer', 'unrelenting', 'overflowed', 'distinguishable', 'catheter', \"maitre'd\", 'fritos', 'fritas', 'mofongo', 'daugher', 'ebony', 'chord', 'hilarity', 'pickin', 'debilitating', 'chipotles', 'tourette', 'clamped', 'incensed', 'skepticism', 'kristina', 'frighten', 'meyer', 'serenaded', 'titanium', 'kinkos', 'breastnet', 'unnamed', '6.49', 'oxymoron', 'enlisted', 'wetzel', 'partitioned', 'hugged', 'evaluated', 'boone', '1992', 'crosses', 'hangings', 'dimed', 'scissor', '38.00', 'dachs', 'underwood', 'density', 'invalid', 'simmer', 'at-', '3k', '.localdines.com', 'yellowish', 'browsers', 'margerita', 'dweller', 'kolsch', 'revising', 'inconsistant', 'permeating', 'sustained', 'guitarist', 'bleacher', 'roamed', 'pitching', 'bloomin', 'chewiness', 'texano', 'favoritos', 'whistled', 'inflate', 'configure', 'trucker', 'confronting', 'shivers', 'berto', 'grunted', 'hooligan', 'convicts', 'shaggy', 'caged', 'scrolled', 'scoreboard', 'apoligized', 'consummate', 'achievement', 'transitioned', 'consoles', 'positivity', 'intervening', 'toughness', 'oblivion', 'humbly', 'skyscraper', 'enuff', 'wipers', 'scuffs', 'downloaded', 'shudders', 'rebuke', 'sparked', 'kenneth', 'stitch', 'fatemeh', 'tourney', 'boofay', 'insecure', 'abdomen', 'dumbest', 'dna', '2:15pm', 'cassandra', 'recliner', 'crease', 'immediatley', 'cavities', 'scaling', 'kummelweck', 'drunkard', 'gassy', 'mgd', '1.29', 'kibble', 'gardeners', 'jogging', 'bookman', 'atrocity', 'glen', '-had', '.where', 'unauthentic', '48th', 'sorting', 'cling', 'handrolls', 'perceive', 'nuke', 'bitching', 'cusp', 'sensitivities', 'interchangeable', 'bavette', 'yummers', 'excellant', 'joys', 'organizer', 'invaded', 'cottonwood', 'vaccumed', 'wreaked', 'blegh', 'suizas', 'starfish', \"rec'd\", 'phenom', 'overseeing', 'reems', 'vera', '445', 'aww', 'flippant', 'abuelos', 'bmt', '.every', 'guam', 'deb', 'pervasive', 'sweatshirts', 'arcades', 'sprained', 'inflamed', 'unexplained', 'pauses', 'buss', 'newsstand', 'periodicals', 'fresheners', 'eviction', 'masubi', 'satan', 'printers', 'juicer', '.once', 'stevie', 'voil', 'sante', 'caramels', 'trepidation', 'dsw', 'stacie', 'gauging', 'blindly', 'quo', 'justifying', 'patted', 'right-', 'cutbacks', 'plumbers', 'favorite-', 'gabe', 'buggies', 'sealant', 'weave', 'bookmarks', 'sprung', 'evaluating', 'oo', 'vegi', 'chowmein', 'brians', 'roppongi', 'katsudon', 'redic', 'divots', 'swapping', 'exotics', 'upshot', 'interfering', 'ky', 'defeating', 'traditionalist', 'tumor', 'tecs', 'p.m', 'measurement', 'armpit', 'listeners', 'vien', 'locator', 'faked', 'innards', 'crapped', 'shimmer', 'servicio', 'restaurante', 'aunty', 'pickiest', 'mystical', 'harmonious', 'lua', 'eat-', 'flatbed', '.com', 'unrealistic', 'lp', 'fugly', 'claus', 'implement', 'corrective', 'octupus', 'lagging', 'oishii', 'shochu', 'buta', 'filmy', 'stretchy', 'backless', 'zi', 'delcious', 'ong', 'shortcut', 'sash', 'pneumonia', 'tuxes', 'hurrying', 'bulldozer', 'rife', 'pak', 'crullers', '19.50', 'roundtrip', 'utilities', 'stemware', 'checkbook', 'bibim', '.3', '10.75', 'greasey', '1pm', 'wiggle', 'shirmp', 'lmfao', '-.-', 'squalor', 'hoity', 'greener', 'cheesed', 'bonanza', 'scold', 'lotsa', 'pounce', 'gibberish', 'awa', 'treasured', 'immigrant', 'engulfed', 'aerial', 'gawdy', 'grubbing', 'sexuality', 'mirin', 'hygienic', 'cues', 'sherbert', 'senator', 'underestimated', 'raul', 'pelvic', 'aswell', 'roxy', 'adidas', 'tweezers', 'artful', 'burly', 'starvation', '-room', 'sluggish', 'radiology', 'painkillers', 'dementia', 'fluffiness', 'counterpoint', 'footsteps', 'decreases', 'roughy', 'collapsed', 'incentives', 'cukes', 'cove', 'counselor', 'intimated', 'scams', 'recognizes', 'pasted', 'senile', 'vicky', 'rou', 'farming', 'salud', 'microfiber', 'devore', 'sultan', 'taziki', 'lingo', 'breastfeeding', 'pickings', 'investigating', 'inspectors', 'unsalted', 'hinges', 'degrade', 'curiousity', 'apprehension', 'contagious', 'cleansing', 'urgently', 'leveled', 'sifu', 'drugged', 'colorist', 'uncommonly', 'paled', 'recited', 'h2o', 'nasal', 'cynthia', 'sauv', 'administrators', 'destruction', 'cemetery', 'stilton', 'clamp', 'cousine', 'alliteration', 'ominous', 'openers', 'multigrain', 'windex', 'slug', 'imagery', 'inattentiveness', 'pollack', 'uncool', 'cruelty', 'thais', 'configuration', 'hawiian', 'allegro', 'before-', 'apologise', 'catsup', 'tunnels', 'monumental', 'gram', 'observatory', 'wanton', 'dispatched', 'dodo', 'livable', 'daytona', 'boudin', 'omen', 'feasting', 'lightening', 'stumptown', 'digestion', 'bitchin', 'redbox', 'brueggers', 'tt', 'vinnie', 'talley', 'sensitivity', 'chimes', 'clementine', 'steeping', 'ceased', 'tyber', 'beading', 'devote', 'throwdown', 'bastards', 'laundering', 'hashbrown', 'nudge', 'alternates', 'delusional', '-nothing', 'lobe', 'worcestershire', 'indigo', 'swallowing', 'hued', 'autobell', 'poverty', 'cubby', 'waxer', 'wolfman', 'shelving', 'tasked', 'distraught', 'withing', 'saltwater', 'montford', 'vt', 'grips', 'remiss', '.next', 'doin', 'profoundly', 'relocating', 'sharpies', 'fleas', 'compressed', 'replicated', 'vada', 'leafs', 'gator', 'carp', 'camouflage', 'crumby', 'configured', 'clockwise', 'supersize', 'stomped', 'ccs', 'inaudible', 'taxed', 'specimen', 'worldly', 'sunroom', 'peering', 'blip', 'divert', 'mildred', 'bonsett', 'lance', 'shakti', 'chapped', 'spiders', 'norway', 'mismanagement', 'jang', 'obliterated', 'unfresh', 'pillars', 'cumbersome', 'flirty', 'tumblers', 'emptiness', 'riley', 'sniffed', 'blacked', 'committee', 'vermouth', 'curing', 'recommed', 'coffeeshop', 'bangin', 'clattering', 'panhandling', 'oats', 'awol', 'times-', 'betsey', 'gail', 'notebook', '5x', 'truckers', 'microscope', 'coffin', 'paisan', 'lonesome', 'evened', 'bucky', 'heaviest', 'ginza', 'indefinitely', 'monstrously', 'arduous', 'discourteous', 'mercury', 'shanks', 'candidates', 'embarrassingly', 'elevate', 'transports', 'pekara', 'longed', 'negligent', 'ancillary', 'trooper', 'dividend', 'assignments', 'allegiant', 'stewards', 'reveals', 'merge', 'diamondbacks', 'gasping', 'mccain', 'beckons', 'stewing', 'exhibitions', 'burbs', '166', 'kinky', 'quelle', 'torrid', 'easley', 'corset', 'dominatrix', 'geg', 'freindly', 'lolos', 'freakishly', 'negate', 'banal', 'mantra', 'bruising', 'tagline', 'geeks', 'mislabeled', 'spotlessly', 'gist', 'paloma', 'shh', 'utilizes', 'densely', '2.29', 'creases', 'hoi', 'gnc', 'freshwater', 'cjs', 'pare', 'dingbat', 'pepperocinis', 'tweaker', 'sunnyslope', 'flocking', 'golly', 'incomes', 'unintentionally', 'mmi', 'tuneup', 'garcias', 'crowne', 'ctr', 'dodgers', 'portraits', 'bestest', 'chese', 'culminated', 'prostitutes', 'classico', 'zeppoli', 'flex', 'raiders', 'ark', 'stereos', 'soothe', 'argentinean', 'initiation', 'minuets', 'randomness', 'narnia', 'antifreeze', 'styx', 'punks', '130.00', 'throats', '20.99', 'carbohydrates', 'silhouette', 'tirimisu', 'enroll', 'grandchildren', 'septic', 'milieu', 'jousting', 'fuzzies', 'indicators', 'backbone', 'taka', 'supercenter', 'motrin', 'motorcycles', 'bandit', 'classrooms', 'statutes', 'shading', 'ocotillo', 'tidied', 'cherish', 'vendetta', 'lamenting', 'ofcourse', 'untoasted', 'hooka', 'mahalo', '23.95', 'bickering', 'scowling', 'impacts', 'zippy', 'undeserved', 'saliva', 'streamed', 'dictionary', 'ped', 'drs', 'fbr', 'ditching', 'neighborly', 'breakfast-', 'muertos', 'objection', 'griping', 'varietal', 'stetson', 'winder', 'quenched', 'cufflinks', 'brochette', 'hq', 'medizona', 'fuddy', 'fallback', '7:20', 'eagerness', 'budlight', 'adovado', 'ditsy', 'colonel', 'acqua', 'inhaling', 'two-', 'apso', 'brioni', 'ritzy', 'redelivered', 'dogg', 'macmillan', 'binks', 'pondering', 'havens', 'folio', 'room-', 'enchanting', 'pinon', 'guiding', 'clippings', 'energizer', 'sharpness', 'richly', 'oppurtunity', 'yawning', 'potpourri', 'provel', 'por', 'flicka', 'picket', 'pence', 'tomb', 'stripes', 'elimination', 'soar', 'waittress', 'modeling', 'alum', 'quirkiness', 'wonderfull', 'gallerie', 'squish', 'handsomely', 'woodfire', 'classiness', 'chump', 'standbys', 'temptress', 'biscut', 'shakespeare', 'wayy', 'obvi', 'kamikaze', 'vortex', 'anecdotes', 'roadtrip', 'climber', 'hansen', 'b*tch', 'gasm', 'shroom', 'jims', 'limu', 'chx', 'blinking', 'potluck', 'ortega', 'baiz', 'handlebars', 'cyclists', '2.15', 'minon', 'beckoned', 'misunderstand', '49th', 'evokes', 'clorox', 'shameless', 'mayonaise', 'frikin', 'intruding', 'spritz', 'irrigation', 'whatevers', 'pokey', '11:40', 'wrists', 'deviated', 'unpalatable', 'gigs', 'cuter', 'nano', 'sharply', 'warmest', 'fluffiest', 'hale', 'greesy', 'meatier', 'yuma', 'misunderstandings', 'cursory', '2600', 'monologue', 'followers', 'lombardi', 'wicker', 'enlarged', 'swelling', 'dillons', 'littles', 'compacted', 'bossy', 'kissing', 'attn', 'weck', 'misspelled', 'ointment', 'rvs', 'tzu', 'builders', 'muscular', 'ao', 'chrissake', 'undersized', 'fury', 'announcer', 'redeems', 'internationally', 'smoothy', 'unions', 'responsibilities', 'disoriented', 'nashville', 'sprawled', 'detached', 'cutie', 'hailing', 'mami', 'uninitiated', 'binions', 'imploded', 'thoughtless', 'congregated', 'joker', 'evoke', 'kickin', 'capitalizing', 'sweethearts', 'volunteering', 'tori', 'pushers', 'phobia', 'retrieving', 'trotter', 'steak-', 'silicon', 'sh*tty', 'crackhead', 'spells', 'gorsek', 'violence', 'housewife', 'aghast', 'systemic', 'pulsating', 'orion', 'sagging', '4500', 'bandana', 'ellen', 'kooky', 'pew', 'figurines', 'affiliate', 'fru', 'reflex', 'customizable', 'capistrami', 'blazers', 'pork-', 'ruths', 'snicker', 'recognizing', 'shamefully', 'gratifying', 'ossobuco', 'alerting', 'cringing', 'verbiage', '100s', 'hobo', 'keepin', 'raiser', 'flopping', 'rewind', 'toplessness', 'thr', 'radical', '53.00', 'operative', 'janitorial', 'baggie', 'spans', 'startup', 'varietals', 'swivel', 'moss', 'cordless', 'enough-', 'croustillant', 'poppyseed', 'longboard', 'gauges', 'libre', 'suppliers', '3:50', 'stina', 'serum', 'heathen', 'glaziers', 'wieners', 'gymnasts', 'motel-6', '9:00am', 'traipsing', '-cheap', 'sours', 'lvcc', 'tradeshow', 'depp', 'nanay', 'cherchez', 'transplants', 'everclear', 'doubting', 'rejuvenated', 'recomment', 'swooning', 'server-', 'sleepless', 'unplugged', 'surefire', '~20', 'reassure', 'otherhand', 'autos', 'holster', 'warriors', 'modes', 'sequel', 'euphoria', 'vince', 'remnant', 'demolish', 'bagna', 'cauda', '.perfect', 'reconstituted', 'thon', 'pomegranite', \"couldn't\", 'markedly', 'yippee', 'cia', 'sommeliers', 'hermes', 'alluring', 'possesses', 'rive', 'abusing', 'terribles', 'bootie', 'perverted', 'ballers', 'strat', 'footlongs', '10p', 'seemes', 'planter', 'workflow', 'porte', 'revelers', 'inter', 'buttload', '165', 'brisket-', 'spinach-', 'mushrooms-', 'hardworking', 'vegas-2?selected', 'h_safhn_rcok3qtuslttpa', 'sequined', 'oppressive', 'creamiest', 'postrio', 'exec', 'moped', 'everyplace', 'hott', 'humping', 'thong', 'slams', 'boner', 'chugging', 'surreptitiously', 'mags', 'blinked', 'animatronic', 'khakis', 'hues', 'bogged', 'folds', 'tenderloins', 'conversed', 'jolie', 'brazilians', 'yeasty', 'topple', 'autonation', 'stepmom', 'frowns', 'maytag', 'flickering', 'falafil', 'bred', 'intangibles', 'gennaro', 'blobs', 'talapia', 'pablano', 'crapes', 'combative', 'reigning', '5star', 'unbiased', 'party-', 'separators', 'vongole', 'misnomer', 'pellets', 'mamey', 'shawerma', 'lunchbox', 'avoids', 'flores', 'cramp', 'populate', 'mitts', '6:45pm', 'grumbles', 'censored', 'ble', 'trimmers', 'brent', 'boxer', 'boppers', 'stardust', 'yy', 'plunger', 'dwayne', 'author', 'tract', 'mailboxes', 'commended', 'editions', 'storing', 'labelled', 'conversationalist', 'tokyoto', 'muffaletta', 'dapper', 'veneer', 'advises', 'connectivity', 'smartphones', 'piero', 'reunited', '600.00', '22.50', 'preparedness', 'pillsbury', 'ringer', 'unbelieveable', 'fairey', 'communist', 'capitalist', 'protesting', 'cetera', 'littering', 'sag', '3:45pm', 'imbibing', 'takers', 'infiltrated', 'gardunos', 'dibs', 'imperfections', 'tomatoey', 'amply', 'arribas', 'blta', 'toothless', 'neophyte', '20.95', 'tay', 'overated', 'nines', 'anus', 'earthiness', 'jasmin', 'coucous', '63', 'preset', 'bphoto', 'aoili', 'hostility', 'magicians', 'orgasms', 'bury', 'barbequed', 'inoffensive', 'dissuade', 'definatley', 'mallorca', 'valencia', 'framboise', 'overspiced', 'rafters', 'navigator', 'hawking', 'sloppiness', '6-', 'overdosed', 'concious', 'drinkin', 'etc-', 'cf', 'badgers', 'edo', 'hyvee', 'grandiose', 'pps', 'kurt', 'cristal', 'sportscenter', 'negativity', 'intermittently', 'spanking', 'damnation', 'sniffing', 'triomphe', '.your', 'oomph', 'eifel', 'unconscionable', 'benjamins', 'thor', 'zowie', 'hagen', 'daz', 'floaty', 'horrifically', 'chintzy', 'nicks', 'mater', 'align', 'disadvantages', 'sexiness', 'ved', 'soliel', 'trite', 'eternal', 'graceful', 'suggestive', 'pearly', 'erotic', 'threesome', 'hiss', 'ughh', 'burglarized', 'synopsis', 'tude', 'tramp', 'corzo', 'coffeemaker', 'flushes', 'extinct', 'aspires', 'shamelessly', 'shiet', 'woof', 'tagging', 'restuarants', 'sideshow', 'turnstyle', 'entranceway', 'eerily', '25-$30', 'shouts', 'jigger', 'trickled', 'staircases', 'miley', 'cyrus', 'antenna', 'itunes', 'tiresome', '328', '20x', 'fm', 'latch', 'location--', 'appreciating', 'full-', 'spectacular-', '-3', 'circulate', 'excavator', 'tatin', 'explosions', 'complet', 'ceases', 'crinkled', 'fatal', 'quiches', 'whale', 'tthe', 'munchie', 'fied', 'pesci', 'tiling', 'turbo', 'sinus', 'awaken', '10am-6pm', 'norma', '8:00am', 'crick', 'tut', '15minutes', 'aurora', 'teasing', 'pacquiao', 'filtering', 'casting', '1997', 'calf', 'slant', 'sevens', 'rambunctious', 'burke', 'vandalized', 'antithesis', 'grody', 'nostrils', 'indulgences', '9:45pm', 'aggression', 'godfather', 'qualifier', 'arpa', 'pores', 'yeast', 'shortrib', 'fingerlings', 'lotta', 'bouchons', 'heinous', 'gabbi', 'escorts', 'tortelli', 'crackin', 'voss', 'analogy', 'touche', 'homard', 'prelude', 'ecco', 'segways', 'arg', 'bisquit', 'plexi', 'biaggis', 'frisbee', 'notwithstanding', 'dm', 'trc', 'plead', 'marinaded', '.some', 'strapping', 'socialization', 'corralled', 'kiwis', 'espressos', 'spank', 'jenn', 'bosom', 'siren', 'beause', 'bans', 'silks', 'psychedelic', 'o.o', 'ballagio', 'bluefin', 'renamed', 'wedgie', 'protects', 'akward', 'unnoticeable', '-did', 'buddhist', \"'cos\", 'valiantly', 'boogie', 'napolean', 'swerve', 'headlining', 'all-', 'downfalls', 'kuz', 'skool', 'safari', 'bream', 'aquatic', 'decadently', 'plexiglass', 'bottomline', 'charr', 'leeway', 'kanye', 'rationalize', 'promotor', 'obstructing', 'shirtless', 'dreadlocks', 'regroup', 'soldier', 'evolving', 'captivating', 'manchu', 'tawny', 'compatible', 'hob', 'pms', 'btwn', 'wrath', 'cpr', 'acquisition', 'descend', 'graves', 'stiletto', 'danceable', 'psychological', 'soggier', 'chats', 'meritage', 'manna', 'progresses', 'of-', 'oniony', 'frc', 'ssn', 'hikers', 'strenuous', 'hugging', '9am', 'totals', 'stung', 'cafepino', 'philosophical', 'demonstrate', 'tricia', 'paellas', 'miracles', 'minion', 'schmuck', 'creeper', 'eras', 'owner(s', 'refrigerate', 'stresses', 'saccharine', 'mochas', 'jell', 'aah', 'lambchops', 'deboned', 'starches', 'squealed', 'unfiltered', 'quaker', 'sunchoke', 'precautions', 'buckaroos', 'percussion', 'derived', 'crappiest', 'yoke', 'ooze', 'exclusivity', 'amirite', 'fuzz', 'baffles', 'locavore', 'strayed', 'testify', 'mythical', 'authenic', 'frenchie', 'cassoulet', 'payback', 'ruckus', 'hypnotized', 'glistened', 'chesse', 'gazing', 'columbia', 'hainan', 'tfdu', 'cacophony', 'lingers', 'severed', 'prefix', 'crabe', 'bolognaise', 'gnawing', 'daphne', 'livers', 'wuz', 'bruno', 'munchkin', 'alrighty', 'vividly', 'innocuous', 'patate', 'crostada', 'lavazza', 'drinkey', 'blister', 'herberger', 'stats', 'hopdoddy', 'stellas', 'trisha', 'eraser', 'blanched', 'brasa', '1.5hrs', 'visted', 'penzey', 'decibel', 'fd', 'tbh', 'siphon', 'milanesa', 'juevos', 'dao', 'kofusion', 'muddling', 'rodriguez', 'muddle', 'autographed', 'fagioli', 'shrubs', 'martinez', 'forgave', 'snore', 'mormon', 'flared', 'actress', 'know-', 'crustaceans', 'unapologetically', 'objections', 'procured', 'dialect', 'emilio', 'niceness', 'approving', 'kickoff', 'penguins', 'inject', 'hhagg', 'yums', 'hashes', 'tailgater', 'screwdriver', 'turnberry', 'naengmyun', 'jjajangmyun', 'baring', 'gangnam', 'frenetic', 'complainer', '2.8', 'clearer', 'startling', '.everything', 'indecision', 'bereich', 'u00f6wen', 'dieser', 'unserem', 'einige', 'durchschnitt', 'delphine', 'wasser', 'ziemlich', 'bietet', 'drei', 'flashes', 'ludacris', 'kleenex', '33rd', 'xx', 'crocker', 'carumba', 'sympathize', 'partiers', 'ut', 'flott', 'burg', 'whiff', 'roux', 'flaked', 'veges', 'mandate', 'compartments', 'pierogie', 'collapse', 'rendang', 'radiohead', 'cbtl', 'marts', 'walkin', 'teleported', 'lennon', 'slade', 'pani', 'morocco', 'cantor', 'cuit', 'buttah', 'prevailed', 'overview', 'boxers', 'puppet', 'argentina', 'naples', 'reparations', 'lofts', 'dotto', 'stave', 'ml', 'flashed', 'discontinue', 'beepin', 'tru', 'appies', 'myst', 'spanikopita', 'rogan', 'suburbia', 'expecially', 'amir', 'pg-13', 'blanca', 'grimace', 'bearly', 'teal', 'ptsd', 'p.s.-', 'versatile', 'modernity', 'teenie', 'unloaded', 'sculpted', 'bot', 'habaneros', 'mavericks', 'meshed', 'barstools', 'madam', 'cks', 'unfazed', 'insoles', 'isp', 'pleather', 'inherent', 'rumbi', 'sunnyside', 'lounger', 'canon', 'inkjet', 'spaniel', 'soondubu', 'spits', 'whims', 'hy', 'criticized', 'kirk', 'affirmative', 'slathering', 'part-', 'caesers', 'trudged', 'dbag', 'mot', 'rika', 'dimmer', 'manolo', 'pique', 'biked', 'kal', 'sustainability', 'eyeballing', 'knack', 'sparce', 'tusca', '5:55', 'refinancing', 'refinance', 'relentless', 'rusick', 'fiddling', 'reassures', 'landscapes', 'viper', 'wiggly', 'vpn', 'puzzles', 'bandages', 'whatev', 'accountant', 'seville', 'vistancia', 'trilogy', 'bettas', 'psych', 'resell', 'ondemand', 'foresight', 'frogger', 'flagstone', 'manpower', 'conceivable', 'emptor', 'boasting', 'ow', 'clocked', 'mckenzie', 'smears', 'dukes', 'jcrew', 'kickball', 'cru', 'dish--', 'laquinta', 'flw', 'buffing', 'intentioned', 'congenial', 'atv', 'friggen', 'priciest', 'scribbling', 'scarlet', 'wavering', 'enchanted', 'ziggy', 'differential', '.ridiculous', 'newsflash', 'first-', 'lin', 'joanie', 'specification', 'poland', 'saunter', 'facialist', 'metropolis', 'albanian', 'reinforce', 'submarine', 'burratta', 'snaked', 'leon', 'worrisome', 'gusta', 'bimbimbap', 'powders', '275', 'probability', 'ap2s', 'r9s', 'rhe', 'flourish', 'keying', 'pavilions', 'pencils', 'yoshi', 'broc', 'schreiner', 'meat-', 'icr', 'today-', 'purveyor', 'inbox', 'schnauzer', 'conveniences', 'reals', 'gelee', 'lexy', 'unwieldy', 'rowdier', 'racked', 'unanswered', 'nguyen', 'hudson', 'pawns', 'frap', 'daltile', 'plater', 'westernized', 'boe', 'punctuality', 'dorothy', 'reload', 'eased', 'grater', 'barrettoko', 'concocted', '.from', 'detailer', 'mustardy', 'fisherman', 'corn-', 'sparking', 'rhum', 'braising', 'ljs', 'foodmaker', 'keypad', 'farce', 'tortured', 'lifespan', 'cubic', 'rinsing', 'cocina', 'rafael', 'defender', 'tacks', 'medicare', 'whomp', 'trending', 'pe', 'meghan', 'cobalt', 'masseur', 'meek', 'speediness', 'incessant', 'rents', 'boatload', 'wowza', 'cacio', 'bul', 'overall-', 'parsnips', 'joanns', '122', 'willis', 'commemorate', 'royce', 'charley', 'vanish', 'frowning', 'supplying', 'f-', 'arugala', 'adventurer', 'dissect', 'winchell', 'unhappiness', 'scientists', 'hal', 'presidio', 'smarty', 'dousing', 'zappos', 'bracelets', 'constraint', 'appitizers', 'nbe', 'simons', 'hachi', 'karage', 'stead', 'verse', 'belgians', 'overloading', '25.95', 'stump', 'mesquites', 'twigs', 'isis', 'momentum', 'jolt', 'rhodes', 'dario', 'inhibitions', 'playoffs', 's3', 'potbelly', 'palce', 'peepshow', 'reminisce', 'milano', 'zha', 'loungey', 'fodder', 'sling', \"6'4\", 'rcs', 'ravs', 'interspersed', 'surveyed', 'hepburn', 'camaron', 'amazeballs', 'tacone', 'goober', 'shadowed', 'clenched', 'voicemails', 'pitches', 'feasted', 'doz', 'translating', 'simone', 'relationships', 'dori', 'sochu', '1:50', 'ladyfingers', 'enought', 'commanding', 'pinkaow', 'precarious', 'sumits', 'amendment', 'twisting', 'grasping', 'mimic', 'beleive', 'mojave', 'mcgrath', 'unending', 'compromising', 'mornay', 'skillfully', 'ape', 'grotty', 'chugged', ':|', 'sprawl', 'immediatly', 'airing', 'gelled', \"na'an\", 'jefferson', 'elena', 'f&e', 'jamming', 'turo', 'gochujang', 'sauciness', 'dees', 'lacquered', 'cine', 'cuite', 'urgh', 'deutschland', 'homies', 'beacuse', 'feuille', 'unjustified', 's.o.l', 'pleases', 'champignons', 'cee', 'spencers', 'eau', 'poisson', 'spasms', 'chanterelles', 'commander', 'souvli', 'richman', 'decking', 'unskilled', 'travertine', 'trunks', 'co2', 'kayak', 'forsaken', 'fulton', 'bankers', 'marmelade', 'mazie', 'rudimentary', 'worded', 'sharable', 'hoppers', 'dredged', 'woodie', 'swat', 'drifted', 'drapery', 'interface', 'collectively', 'jalopeno', 'atlantis', 'tandoor', 'gado', 'wanted-', '99.9', 'langer', 'casks', 'i-215', 'nichole', 'disposition', 'inhabited', 'regularity', 'facilitate', 'scrawny', 'overpaying', 'perogies', '^^', 'trouv', 'coinc', 'sens', 'u00e9gal', 'courtois', 'servies', 'raisonnable', 'cependant', 'ouverte', 'semble', 'sourire', 'frigo', 'aucune', 'deuxi', 'dernier', 'rendez', 'souriant', 'u00e9dictine', 'u00e7aise', 'u00e9rentes', 'vers', \"y'a\", 'u00eames', 'gratuit', 'sortir', 'celle', 'acheter', 'attente', \"l'assiette\", 'juliette', 'u00eat', 'pleine', 'saumon', 'romados', 'towne', 'heaviness', 'environ', 'u00e9matique', \"d'autant\", 'cadeau', 'certains', 'particulier', 'pratique', 'sympathique', 'voire', 'autant', 'u00eener', 'vois', 'bouch', 'tampura', 'servis', \"j'en\", 'amarillo', 'u00e2ton', 'cuisson', \"qu'une\", 'crafter', 'congr', 'clairement', 'donn', 'u00c9galement', 'nombre', 'semblait', 'moyen', 'cad', 'u00fbts', 'u00e9rer', \"l'entr\", 'volont', 'prochaine', 'cheapness', 'ouvert', 'jusqu', 'embarrased', 'variables', 'montrealers', 'neighbour', 'friperie', 'peine', 'u00e8te', '5:00am', 'sauf', 'devant', 'u00e9pices', 'ainsi', 'warren', 'certaine', 'u00e9ressant', 'disponible', 'malheureusement', 'positifs', 'arr', 'toilettes', 'worldwide', 'laiss', 'imp', 'u00e9tendre', 'kanda', 'impressionnant', 'u00e9sente', \"l'impression\", 'pouvoir', \"n'ont\", 'absolument', 'pire', 'maintenant', 'u00fb', 'discreet', 'bouteille', 'u00e9chamel', 'u00e9taire', 'vite', 'lasalle', 'coeur', 'disponibles', 'ennio', 'bol', 'louisiane', 'u00e9server', 'acquiesced', \"l'ail\", 'marin', 'solide', 'bixi', 'etoiles', 'gout', 'partag', 'partager', 'insistence', 'borgata', 'progression', 'deservedly', 'andiamo', 'gratuitous', 'reiki', 'flava', 'jakes', '12p', 'dimanche', 'u00e9ressante', 'rok', 'reconsidering', \"l'estomac\", 'takin', 'overeat', 'teds', 'baxter', 'juju', 'parrilla', 'cochata', 'pastabar', 'duncan', 'teaspoon', 'snappers', 'etching', 'obesity', 'greyfriar', 'whiskys', 'pimms', 'caramelised', 'handheld', 'cockburn', 'metres', 'u00a325', 'maxies', 'flatter', 'haymarket', 'tartan', 'jardins', 'scots', 'dominion', 'cineworld', 'sibling', 'empenadas', 'patio-', 'epitomizes', 'palenque', 'soya', 'springy', 'u00a37.50', 'catalogue', 'u00a38', 'balmoral', 'pleasance', 'u00a33.50', 'georgian', 'corsets', 'leonard', 'salvatore', 'dangers', 'quibbles', 'j&k', 'vegas-5?start=300', 'lionel', 'indus', 'teammates', 'reliability', 'rockfish', 'caddies', 'nasi', 'radioshack', 'eventual', 'tht', 'lidl', \"l'an\", 'bantu', 'abbreviated', 'l.jpg', 'pasti', 'palermo', 'funhouse', 'layering', 'definitively', 'tigerlilly', 'mums', 'potion', 'parador', 'individualized', 'pomegranates', 'acapulco', 'chocoholics', 'boris', 'mourning', 'paddys', 'jocette', 'retuning', 'fulls', 'no.1', 'reinforced', 'katrina', 'sakura', 'unbussed', 'pian', 'managerial', 'frappacino', 'foiled', 'oliveo', '230pm', 'gastrolounge', '5stars', 'extermination', 'osmosis', 'diana', 'mangia', 'signals', 'tenner', 'conch', 'siglo', 'vettro', 'anther', 'txt', 'conant', 'allez', 'oat', 'rigo', 'simba', '5:45pm', 'phillips', 'kareys', 'mechado', 'cassava', 'tyvola', 'suzanna', 'cordoned', 'more-', 'provence', 'gizzards', 'u00e0nh', 'heath', 'andrews', 'piquant', 'ibu', 'peeking', 'sanctum', 'glutinous', 'jurlique', 'kayleen', 'haggling', 'vingtaine', 'moderne', 'optima', 'twig', 'freakn', 'outdid', 'mismanaged', 'fluffier', 'cheaters', 'lites', 'developers', 'dippin', 'evolved', 'breeding', 'olivier', 'sparkletts', 'tacking', 'moderno', 'acupuncture', 'cho', 'impreza', 'stiffness', 'porters', 'tickled', 'rotator', 'redesigned', 'vbac', 'landscaper', 'ent', 'rvmt', 'marque', '8-$10', 'subsided', 'cicis', 'rotel', 'josefina', 'morrissey', 'teddybear', 'bacio', 'shahi', 'p.u.b', 'cooperating', 'potence', 'raclette', 'ftd', 'barby', 'nary', 'kebbeh', 'rivertowne', 'fila', 'palettes', 'u00fbtait', 'palmyra', '4-$6', 'punishing', 'refurbishment', 'selwyn', 'niveau', 'gummi', 'secreto', 'fritata', 'tiers', 'takana', 'vegas-2?select', 'essay', 'sincity', 'kinh', 'spacey', 'freunden', 'gewesen', 'aufmerksam', 'einrichtung', 'u00e4uscht', 'eines', 'kosten', 'bestellt', 'echt', 'trinken', 'u00fcbrigens', 'sitzen', 'tage', 'bleibt', 'weder', 'schade', 'u00e4ge', 'u00f6glichkeiten', 'positiv', 'innenstadt', 'tor', 'ebenfalls', 'fenster', 'jedem', 'unbedingt', 'kn', 'gefunden', 'u00f6tchen', 'konnte', 'zutaten', 'freundliches', 'inkl', 'gelegen', 'seit', 'kaufen', 'obwohl', 'gegessen', 'personen', 'ersten', 'leistungsverh', 'u00e4ltnis', 'wegen', 'andere', 'karte', 'meist', 'punkte', 'platz', 'unserer', 'relativ', 'inhaber', 'gebe', 'boyz', 'nie', 'playpark', 'impersonating', 'thriller', 'serviert', 'fanden', 'anschlie', 'bisher', 'typisch', 'gesehen', 'sieht', 'verschiedenen', 'raum', 'unseren', 'welche', 'jetzt', 'hierher', 'gehege', 'zwar', 'ganze', 'u00f6chte', 'wochenmarkt', 'geschmeckt', 'salate', 'hab', 'lieber', 'tisch', 'xiang', 'verk', 'u00e4ufer', 'nittaya', 'pers', 'daher', 'empfehlenswert', 'gastronomie', 'kelsey', 'popsicles', 'bristo', 'maribel', 'u00e8ce', 'lovin', 'clarion', 'drone', 'mung', 'charcuteries', 'liege', 'tast', 'theming', 'inglot', 'deegie', 'trys', 'u00e2tes', 'nitrogen', 'probe', 'bota', 'reygadas', 'sauceman', 'chaud', 'formaggio', 'pleah', 'nasu', 'brewdog', 'spritzer', 'trailhead', 'mayra', 'yew', 'fwd', 'zorba', 'reina', 'pepiada', 'venezuela', 'hills?select', 'tweb', 'antlers', 'sicili', 'ssam', 'megabus', 'hnj', 'c&w', 'richie', 'tacos-', 'turnout', \"d'alcool\", 'greco', 'russo', 'ncounter', 'electricians', 'colombia', 'baylor', 'kronut', 'innis', 'gunn', 'wob', 'brasilians', 'difara', 'outlaw', 'lillo', 'grassroots', 'cuervo', 'khushi', 'kara', 'bw3s', 'mmisoma', 'shio', 'eggnog', 'symphonique', 'harvard', 'surgitel', 'pacifico', 'longanisa', 'wag', 'scc', 'bagatelle', 'kathiee', 'colonic', 'rolo', 'deanne', 'eaton', 'barcade', 'polling', '347', 'ramsays', 'rustique', 'gqgbboobwxl4nmnr2auqnq', 'dray', 'bt', 'matteo', 'josefa', 'rba', 'colectivo', 'underlayment', 'roofing', 'periodontal', 'laduree', 'mcdoubles', 'emporio', 'bodi', 'tacu', 'boozery', 'fuckture', 'gopi', 'kimuchi', 'info@maidbydesign.net', 'management@maidbydesign.net', 'forester', 'foofy', 'expletives', 'glittering', 'ducky', 'yinz', 'matured', 'baffling', 'tazza', \"d'oro\", 'house-', '10:15am', 'plasticky', 'environmentally', 'noxious', 'perfectta', 'wv', 'prehistoric', 'kardashians', 'stripping', 'potholes', 'penna', 'thugs', 'nods', 'restaurateur', 'lester', 'supersized', 'torturing', 'socialite', 'bossa', '--but', 'internets', 'stalker', 'pretenses', 'seep', 'nicholas', 'energizing', 'rattling', 'christo', 'smithfield', 'chairman', 'twas', 'bedbug', 'gatsby', \"f'd\", 'inhabit', '430pm', 'lidia', 'marshmellow', 'flatten', 'braddock', 'interviews', 'headboard', 'bathrobe', 'replenishing', 'foray', 'krispie', 'stevens', 'vowels', 'consonants', 'reportedly', 'shifters', 'compute', 'fared', 'shocktop', 'unsympathetic', 'weaving', 'overhearing', 'granita', 'winking', 'sadder', 'diabetics', 'grocers', 'fuckery', 'moniker', 'hijinks', \"nuthin'\", 'pharmacies', 'impartial', 'newish', 'knit', 'giggly', 'cite', 'lyonnaise', 'latta', '39th', 'rifles', 'pistols', 'paranormal', 'weirder', 'goulash', 'deterrent', 'multitask', 'chees', 'narcissistic', 'grievance', 'separator', 'lusting', 'sponsoring', 'dunhill', 'restoring', 'spankin', 'busyness', 'viewpoint', 'iwas', 'merts', 'infomercial', 'negated', 'stupor', 'paradox', \"5'1\", 'cheerleader', 'flamboyant', 'ciaa', 'halftime', 'raleigh', 'blackfinn', 'buckhead', 'markety', 'crashes', 'heaving', 'whitest', 'oscars', 'nominated', '151', 'disapproving', 'management-', 'dinner-', 'semifreddo', 'kickback', 'therefor', 'carby', 'districts', 'bluff', 'impatience', 'snowed', 'cq', 'crayfish', 'imposing', 'hayley', '5ish', 'indianapolis', 'gestapo', 'slimmer', 'unquestionably', 'peasy', 'frustrate', 'brawl', 'judgemental', 'activation', 'affordably', 'harasses', 'fraudulently', 'juts', 'delinquent', 'baoding', 'inherit', 'seawater', 'showmars', 'innuendo', 'macros', 'saison', 'submission', 'miguel', \"get'em\", 'argula', 'schooler', 'gags', 'memorizing', 'currys', 'scrapping', 'dishes-', 'ghee', 'noteable', 'sirloins', 'zaps', 'nets', 'explicit', 'fellowship', 'talkie', 'swans', 'wakeup', 'configurations', '40mins', 'superman', '4runner', 'flaunted', 'sinew', 'unintentional', 'mozart', 'logistical', 'imperative', 'lgbt', 'windshields', 'consumable', 'swished', 'atwood', 'syrian', 'sarma', 'indescribable', 'dolmathes', 'ganouj', 'absorption', 'invoking', 'highchairs', 'nic', 'streaked', 'muffled', 'dairyland', 'ragoon', 'buckles', 'mtd', 'hosed', 'econ', 'shafted', 'uiuc', 'eds', 'intellectual', '.weird', '.except', 'devon', 'nitaya', 'overripe', 'gnawed', 'ferrets', 'hermit', 'elect', 'doggone', 'thrifting', 'guzzling', 'colonies', 'p.j', 'barcode', 'delaware', 'moonstruck', 'flossing', 'realist', 'ko', 'taffer', 'anything-', 'yeah-', 'jupiter', 'bacaro', 'thad', 'homecoming', 'torso', 'snowstorm', 'becca', 'peices', 'pooling', 'angsty', 'furiously', 'testimonials', 'template', 'dempsey', 'factoring', 'meandered', 'validation', 'tackiness', 'a.c', 'diningroom', 'fiercely', 'brillo', 'jovel', 'linear', 'attacks', 'asbestos', 'messaged', 'franchisee', 'bribed', '21.00', 'passages', 'applicable', 'momentary', 'sparser', 'manuever', 'trinket', 'rumored', 'neater', 'ayesha', 'sail', 'gonzo', 'gogh', 'ripley', 'it--', 'list-', '4hrs', 'disturbingly', 'camels', 'ekg', 'landslide', 'mentor', 'tolteca', 'caldo', 'cambridge', 'thourough', 'cath', 'otehr', 'experiments', 'bandaids', 'virtue', 'battles', '~votes', 'accounted', 'brac', 'playa', 'mariachis', 'misbehaving', 'beaches', 'balboa', 'frogs', 'thingamajig', 'wildflowers', 'sod', 'pupusa', '44th', 'bread-', 'peacocks', 'zoos', 'patent', 'trajectory', 'cofco', 'opinion-', 'prompts', 'devotees', 'moz', 'epl', 'meditate', 'circuits', 'vitality', 'quests', 'gyno', 'lesbians', 'relates', 'griped', 'outnumbered', 'vita', 'malty', 'continously', 'attendee', 'baddest', 'unfortunatley', 'bollo', 'beefstro', 'paged', 'cherryblossom', 'maintenence', 'lucid', 'fonts', '27.00', '55.00', 'karsh', 'screeched', 'moryha', 'restart', 'converter', 'sealing', 'braking', 'rift', 'fleece', 'kobalt', 'downtrodden', 'molar', 'nitrous', 'snorting', 'parolees', 'yarn', 'beggin', 'bluebell', 'handler', 'glucose', 'engraving', 'smoothing', 'splatters', 'pcg', 'mp3', 'matts', 'accessed', 'cluck', 'feigning', 'daggers', '10.5', 'asics', 'keema', 'a**holes', 'reinstalled', 'thur', 'eying', 'pinesol', 'dannys', 'prego', 'proportionally', 'gala', 'gulch', 'manila', 'sofia', 'pta', 'vegas-', 'vagrant', 'normandy', 'vanishes', 'cavier', 'sergio', 'blazer', 'brusquely', 'u00e9touff', 'brunt', 'concealer', 'nars', '.yum', 'discontent', 'intel', 'line-', 'zapped', 'sulfur', 'icons', 'huts', 'graders', 'cookware', 'blitz', 'scars', 'buche', '.45', 'thunk', 'lydia', 'truman', 'ambiance-', 'hangars', 'ingleside', 'wine-', 'metrosexual', 'blurted', 'pupils', 'dilate', 'lethal', 'frenzy', 'scintillating', 'wildfish', 'gandules', 'berenjena', 'tropics', 'vieja', 'politically', 'firefighter', 'verifying', 'planting', 'droid', 'misquoted', 'stax', 'gardener', 'sidewall', 'lana', '22.95', 'rollatini', 'abysmally', 'oversauced', 'transfered', 'b&l', 'clinched', 'apx', 'dyes', 'topcoat', '9:05', 'peggy', 'seeks', 'receptions', 'sashes', 'snacky', 'invigorating', '.please', 'late-', 'creepiest', 'ruffle', 'alienate', '.stay', 'veneers', 'detours', 'nielsen', 'countered', 'calibre', 'bamboozled', 'scrotum', 'fletchers', 'lund', 'saab', 'plagued', 'leukemia', 'doberman', 'frisky', 'whereby', 'wks', 'flourescent', 'evac', 'retriever', 'tolleson', 'it\"s', '40minutes', 'rn', 'esoteric', 'veils', 'tiaras', 'botch', 'diehard', 'pledged', 'backdoor', 'sufferers', 'anonymity', 'documented', 'biggy', 'lunch-', '1976', '1974', 'iguana', 'permeate', 'hygienists', 'academically', 'heartache', 'suiza', 'daintily', 'condemning', 'bodywork', 'provocative', 'kneed', 'quotient', 'baggies', 'booties', 'tine', 'dearth', 'retiring', 'dubai', 'lufthansa', 'supershuttle', 'cheerios', 'althought', 'shelters', 'avoidable', '4k', 'coldness', 'attends', 'weekend-', 'assert', 'bends', '34th', 'parvo', 'oakley', 'esteem', 'waltz', 'tugging', 'thincrust', 'hollered', 'interacts', 'redirected', 'ticketing', 'soundly', 'unwatchable', 'pruning', 'facsimile', 'solidify', 'cordially', 'ths', 'shrieking', 'commandments', 'mcgee', 'affixed', 'forged', 'foraging', 'hots', 'oilier', 'bhartha', 'rooftops', 'rigatonys', 'overdrive', 'fusilli', 'nontraditional', '9:50am', '.only', 'counter-', 'umph', 'marcel', 'tanner', 'warm-', 'shipper', 'unconventional', 'buono', '136', 'hindi', 'telescope', 'dufus', 'henna', 'foreigner', 'stepson', 'behinds', 'celebratory', 'sombrero', 'paragraphs', 'hasbrowns', 'definate', 'dues', 'unadorned', 'say-', 'cinammon', 'unanimous', '12.49', 'tweens', 'yoko', 'intresting', '1.10', 'pitbull', 'nny', 'glyde', 'bawling', '.fine', 'shootings', 'warrantee', 'upsides', 'ashleys', 'fiddler', 'lulls', 'humbling', 'prescribing', 'conglomerates', 'dicount', '1600', 'wateringly', 'catchup', 'helmets', 'durability', '.90', 'unpredictable', 'bock', 'plummeted', 'soprano', 'acute', '2.30', 'phu', 'reprimanded', 'dates-', '.bad', 'structural', 'mignion', 'subsitute', 'chauvinistic', 'gifting', 'alladin', 'fronted', 'rational', 'plops', 'stammered', 'chichen', 'snatches', 'dunn', 'wheatgrass', 'pooper', 'genetics', 'disinfected', 'cribs', 'crockery', 'gila', 'pollen', 'lingonberry', 'elders', 'fracture', 'adviser', 'georgie', 'boycotted', 'pedic', '4yr', 'biscuts', 'experiance', 'rl', 'swaddee', 'carraba', 'autistic', 'inordinately', 'strategic', 'abuelo', '.facebook.com', 'uncut', 'torrential', 'inward', 'preaches', '-happy', 'competive', 'fused', 'enviroment', 'temari', 'sayonara', 'everything-', '126', 'foolishness', 'finalized', 'burp', 'pestered', 'retort', 'hamilton', 'presley', 'dork', 'x3', '5.5', 'resized', 'troon', 'ministries', 'chizona', 'fanfare', 'liverwurst', 'overshadow', '.probably', 'referee', 'roc', 'soltero', 'saguaro', 'shadiness', 'township', 'elaborately', 'stay-', 'quacking', 'discrepancies', 'bitchiness', 'pasture', 'froo', 'hubcaps', 'manipulative', 'eyecare', 'matchy', 'broadcasts', 'ry', 'mosquitoes', '4star', 'planing', 'tempered', 'judith', 'zinc', '.thats', 'differentiates', 'ukqdcwyv6_c', 'cooperate', 'haan', 'blacks', 'yun', 'sunniest', '9ish', 'nellie', 'currants', 'salsiccia', 'wonderfulness', 'besemer', 'lodged', '--to', 'vineyard', 'concotion', 'yummier', 'bialys', '150k', 'extracts', 'amps', 'rework', 'compulsive', '10pm', 'nachbar', 'indentation', 'pucker', 'continual', 'dispenses', 'okinawa', 'a.j', 'tylenol', 'chuckling', 'ajs', 'decibels', 'manuels', 'feisty', 'hissing', 'prongs', 'monetary', 'gondolier', 'bocelli', 'galileo', 'carlson', 'chymist', 'fasturtle', 'unreturned', 'legalize', 'scabbed', 'dominique', 'voracious', 'unfavorable', 'sensodyne', 'manicurists', 'airhead', 'fenders', 'pap', 'unappreciated', 'jax', 'licenses', 'breakage', 'deal-', '385', 'fastened', 'gleaming', 'fungi', 'phoenix?ref=19485', '27.50', 'investments', 'starfire', 'sunbru', 'freshening', 'installs', 'kilter', 'formica', 'dissolve', 'pd', 'ballparks', '1230', 'brekkie', 'silverskin', 'riva', 'backpacking', 'gritted', 'dreamsicle', 'purposed', 'indirectly', '61', 'laloo', \"o'douls\", \"5'8\", 'dishware', 'cubicle', 'poppa', 'diversion', 'carnage', 'cum', 'loosened', 'gush', 'prometheus', 'hooligans', 'skateboard', 'escalated', '.fantastic', 'recharged', 'impossibly', 'bulletin', 'upstate', 'weber', 'dynamics', 'meekly', 'laney', 'acura', 'licensing', '11:15pm', 'delia', 'elites', '1955', 'soreness', 'inflammation', 'minorities', 'humm', 'fabricator', 'truckload', 'fiddlesticks', 'golfland', 'scarcely', 'subbing', 'plight', 'quackenbush', 'canals', 'hesitates', 'teryiaki', 'puss', 'wyatt', 'farting', 'poly', 'universities', 'nutritionist', 'best-', 'underweight', 'blogging', 'techie', 'tabatha', \"-didn't\", 'grandpas', 'embroidered', 'tasty-', 'end-', 'ambiguous', 'bewilderment', 'sone', 'bannister', 'cliental', 'overbook', 'asa', 'brusk', 'try-', '8:40', '9:20', 'repulsed', 'yacked', 'jeeps', 'volition', '.enough', 'boyle', '~$14', '~$3', 'paranoia', 'westerns', 'avoidance', 'behaving', 'rearranged', 'inlet', 'snakes', 'waddell', 'bermuda', 'okey', '415', 'discombobulated', 'bdb', 's.l.o.w', 'boycotting', 'daves', 'rein', 'blasts', 'passible', 'raggedy', '4p', 'zulma', 'incandescent', \"kind've\", 'podiatrist', 'diddly', '\\n\\n▁\\n', 'pinapple', 'scammer', 'ernie', 'nozzles', 'slacked', '1:45pm', 'dispersed', 'wowsers', 'spongebob', 'specifying', 'pointedly', 'verdi', 'halve', 'frape', 'prices-', 'piccatta', 'condescendingly', 'overlay', 'amuck', 'cheerleading', 'frets', 'employers', 'tightening', 'klas', 'routing', 'papardelle', 'texturally', 'fado', 'wings-', 'overally', 'ingenuity', 'warrantied', '199', 'raking', 'salutation', 'cuvee', 'winchells', 'conviction', 'degenerates', 'horsey', 'adriana', 'romeo', 'persuasion', 'siamese', '239', 'bewildering', 'illustrated', 'accomplishments', 'satisfactorily', '3300', '10x10', 'grays', '1700', 'wiley', '2300', 'balling', 'computerized', 'baroque', '10-$15', 'intoxication', 'fruitier', 'benz', 'mindblown', '.more', 'navel', 'roid', 'pero', 'urbanspoon', 'gavin', 'canh', 'xe', 'shoo', 'jab', '930pm', 'us-', 'good~', 'profiled', 'sep', 'rehabs', 'idle', 'rarities', 'bushings', 'retards', 'shuttling', 'coctail', 'bygone', 'grossness', 'augmented', 'grumbled', 'arville', 'irrational', 'bottleneck', 'coasts', 'zong', '7-$10', 'cleanness', 'fontaine', 'tissues', 'incongruous', 'provisions', '425', 'refered', 'brah', 'gook', 'bur', 'mandu', 'otter', 'verry', 'suffices', 'contradicting', 'seiko', 'experimentation', 'yoshinoya', 'fizzle', 'u8c46', 'abuses', '.wish', 'togethers', '2:00am', 'prissy', 'toity', 'putrid', 'pastures', 'deployment', 'hoochie', 'developer', 'picadillo', 'porto', 'criollo', 'baccarat', 'greygoose', 'shear', 'flexing', 'pact', 'cardigans', 'tawdry', 'titty', 'unforgiving', 'charmless', 'rations', 'fricasse', 'immunization', 'freddie', 'carter', 'unthinkable', 'unworn', '.who', 'trashcan', 'skips', 'typo', 'shushi', 'principles', 'embracing', 'quipped', 'regime', 'intern', 'pendants', 'bleeds', 'ungrateful', 'slogans', 'preppy', 'uncomfy', '.wow', 'amnesia', 'nyx', 'blogs', 'waxers', 'corinne', 'perfecting', 'peg', 'elsa', 'ventura', 'funner', 'crosswalk', 'slaps', 'doofus', 'phoning', 'extortion', 'corrupt', 'chocolatier', 'laundered', 'renal', 'dilauded', 'zofran', 'seekers', 'unconscious', 'gnaw', 'deacon', 'adverse', 'signatures', 'teaming', 'blistered', 'jewler', 'whoo', 'checklist', 'reccomendation', 'wrongly', 'parishioners', 'riveting', 'external', 'wardley', 'hicks', 'contradicted', 'steiner', 'sheryl', 'modus', 'operandi', 'ingested', 'purr', 'desensitized', 'affront', 'teng', 'taxing', 'painlessly', 'chastising', 'enters', 'dow', 'setter', 'unenthusiastic', 'korner', 'minivan', '-close', 'arnt', 'miscarriage', 'cnn', 'billable', 'esteemed', 'covina', 'winged', 'gravitated', 'chinatowns', 'burlington', 'hunnie', 'bunnie', 'touts', 'ks', '.did', 'cleansers', 'culp', 'louboutin', 'hatin', 'advisory', 'menus-', 'peliculas', 'sabrina', 'chia', 'seperately', 'squint', 'ktnv', 'hijacked', 'fahrenheit', 'en.wikipedia.org', 'pierogis', 'hardboiled', 'differing', 'dosage', 'toad', 'pipers', 'lunatic', 'unwrap', 'natures', 'precariously', 'flinch', 'duquesne', 'underused', 'undergraduate', 'lu', 'violate', 'fuddle', 'nutter', '~1', 'remarking', 'algae', 'brillobox', 'kabayaki', 'succeeding', 'storefronts', 'randoms', 'broadcast', 'belting', 'pickins', 'jumbalaya', '250.00', 'twiddling', 'bucca', 'slung', '7:45pm', 'rib-', 'tenderized', 'somehting', 'collaboration', 'ppg', 'cabbies', 'assurances', 'reclined', 'unforgiveable', 'lafayette', 'columbian', 'mellows', 'growers', 'meck', 'peripheral', 'bane', 'peacefully', 'matilda', 'muffuletta', 'lugged', 'whisking', 'notepads', 'deffinetly', 'smuggling', 'bleachy', 'diggin', 'malaya', 'tambourine', 'yeh', 'spongey', 'crape', 'angrier', 'sadu', '10.18', 'chickened', 'years-', 'hubbub', '~$8', 'somber', 'cubbies', 'violating', 'rackets', 'pappa', 'corals', 'abominable', 'balled', 'righ', '3inch', 'eyesight', 'diaz', 'globbed', 'cotswald', 'relished', 'complaint-', 'bongos', 'octoberfest', 'bronco', '-one', 'bobbi', 'woodlands', 'waay', 'mommas', 'luigis', 'ming', '.also', 'fritto', 'undiscovered', 'afficionado', 'mooch', 'spillage', 'livery', 'advil', 'barnyard', 'avon', 'conglomeration', 'balding', 'youngish', 'michelangelo', 'continent', 'jamerica', 'snagging', 'wot', 'sunglass', 'ite', '14.50', 'wisconsinite', 'flecks', 'thermometer', 'rare-', 'willalby', 'omnipresent', 'janes', 'microbrewery', 'finagle', 'finn', 'tartness', 'targeting', '12.25', 'eldorado', 'fuente', 'hemingway', 'humidor', 'gars', 'barriques', 'marscapone', 'marigolds', 'sri', 'famine', 'unpeeled', 'studded', 'peanutty', 'manipulation', 'nefarious', 'k-9', 'bluephies', 'doner', 'fitchburg', 'quieted', 'norms', 'srsly', 'silos', 'cheetos', 'scummy', 'quacks', 'nitty', 'randall', 'sci', 'rosatti', 'squeak', 'duvet', 'commodity', 'contradictory', 'godawful', 'courier', 'expresses', 'admiration', 'crannies', 'stricken', 'duffle', 'concede', 'payoff', 'sills', 'playroom', 'dorms', 'fraps', 'heartland', 'condolences', 'strays', 'kittens', 'microsoft', 'jackhammers', 'staid', 'gq', 'tran', 'alliance', '.god', 'forgiveness', 'cutoff', 'rebooked', 'tarmac', 'kimpton', 'willo', 'denominations', 'gonads', 'suave', 'slander', 'scape', 'disorienting', 'pharrell', 'speedily', 'sufferer', 'itchin', 'corpse', 'braiding', 'fervor', 'pipping', 'mahal', 'intown', 'hopper', 'ind', 'giddyup', 'caroline', 'frolic', '59.99', 'farmstead', 'laborers', 'sundown', 'thickener', '--service', 'hoarding', 'betrayed', 'pawned', 'foggy', 'investigated', 'disassembled', 'assigning', 'conveying', 'drunky', 'useable', 'piercer', 'studs', 'stupidest', 'dwight', 'ammount', 'hybrids', 'mtb', 'scowled', 'dilated', 'coyle', 'afew', 'salvageable', 'lifes', 'coyles', '815pm', 'ouzo', 'wows', 'blindfold', 'scribbles', 'tip-', 'hoan', 'breadth', 'newsletter', 'iceburg', 'repercussions', '31st', 'forearm', 'mediums', 'directors', 'salesmanship', 'baptist', 'childbirth', 'yanking', 'daren', 'hone', 'dropouts', 'finacial', 'grants', 'mexicana', 'bellmen', 'eliminating', 'liquidy', 'tackling', 'taper', 'vibration', 'whiplash', 'sardella', 'consultants', 'lunatics', 'eminent', 'googly', 'kylie', 'panama', 'yak', 'amenable', 'freestanding', '1986', 'prisoner', 'apointment', 'risked', '.delicious', 'ramiro', 'pooh', 'blimpie', 'arancinis', 'stemming', 'intertwined', 'bleep', '.e', '6.30', 'ladles', 'regretfully', 'tirelessly', 'bandeja', 'paisa', 'seco', 'posturing', 'shaun', 'pressuring', 'clashed', 'o.m.g', 'showstopper', 'cobwebs', 'revived', 'rougher', 'besties', 'campuses', 'milly', 'anemia', 'remedies', 'toothed', 'hyenas', 'crem', 'landmarks', 'sirrine', 'cassettes', 'saratoga', 'rapids', 'underworld', 'f*cked', 'stuff-', 'sunblock', 'cascading', 'ferry', 'burbank', 'u00e2ce', '9.25', 'birria', 'holsters', '.wrong', 'unmentionables', 'throwers', 'shotguns', 'bargin', 'protected', 'taint', 'sled', 'bluegrass', 'carnies', 'adolescent', 'gazed', 'heckled', 'wanders', 'plotting', 'thom', 'zocalo', 'flora', 'soapbox', 'facet', 'rainbows', 'uti', 'invisibility', 'cleary', 'spurting', 'ooo', 'thx', 'pinion', 'sendas', 'brak', 'loner', 'laos', 'envisioning', 'tg', 'patrice', 'plastics', 'millionaires', 'barfed', '944', 'censors', 'preposterous', '12:45pm', 'overt', 'shafts', 'malfunctions', 'anyting', '2-$3', '119', 'bigass', 'bony', 'scp', 'trusts', 'toiletry', 'midgets', 'perspiration', 'xanax', '.holy', 'kombucha', 'kaz', 'wherein', 'drooled', 'testosterone', 'schtick', 'sprucing', 'mezcal', 'consciously', 'playin', 'accomidations', 'reckon', '930am', 'bisquick', 'aunts', 'willies', 'retox', 'experince', 'foward', 'psh', 'biters', 'pothead', 'duddy', 'simmons', 'grabber-', 'friend-', 'settlement', 'sony', 'eighty', 'dishwater', 'khai', 'powerfully', 'undamaged', 'beans-', 'unwillingness', 'laurels', 'baseballs', 'j&j', 'ned', 'cliquey', 'n00b', 'coarsely', 'murmurs', 'abounds', 'affords', 'chalupa', 'inspite', 'cheescake', 'deployed', 'discretionary', '4yrs', 'perceived', 'ruse', 'smoca', 'm&c', 'stomached', 'lazaro', 'chests', 'catalogs', 'tobiko', 'oaky', 'mingled', 'nazis', 'voluminous', 'conceirge', 'oh-', '1983', 'gmos', 'fantasic', 'also-', 'capturing', 'fron', 'unpaved', 'avella', 'pester', 'way-', 'outside-', 'chips-', 'tpc', 'originator', 'dolmeh', 'sultani', 'bodybuilders', 'haggled', 'creamsicle', '6:05', 'metals', 'caterers', 'stimulation', 'exacerbated', 'remorseful', 'metaphysical', 'agers', 'authors', 'sitch', 'liquified', 'sugo', 'schedulers', 'consults', 'nast', 'seasonals', 'overstatement', 'raj', 'alumni', 'birmingham', 'implication', 'glutenous', 'griefo', 'waayy', 'hamptons', 'submerged', 'alicha', 'sega', '3.9', 'cauldron', 'mechanisms', 'hauling', 'bootleg', 'smartass', 'babysitters', 'dissappointing', 'boddington', 'workweek', 'rosewater', 'tadig', 'khoresh', 'rumbling', '3.29', 'borne', 'hummas', '.nice', 'obsolete', 'peddlers', 'restricting', 'ak-47', 'closeness', 'armpits', 'eternally', 'freeways', 'chuckbox', 'juicyness', 'trench', 'tragically', 'payton', 'digestif', 'imposition', 'beirsch', 'inauthentic', 'ensuing', 'netting', 'advocating', 'seuss', 'cms', 'capability', '4peaks', 'notoriously', 'microwaving', 'machacha', 'serranos', 'creed', 'frist', 'deficiency', 'tardy', 'pasand', 'fitbit', 'consistancy', 'abounding', 'nyuck', 'anesthesia', 'variance', 'gust', 'zuchini', 'flaps', 'loon', 'teepee', 'smuggle', 'purest', 'arenas', 'tactful', 'carding', 'teed', 'dabbling', 'souvenier', 'mast', '120k', 'auctioned', 'standup', 'disproportionate', 'trudging', 'beany', 'yuki', 'marsh', 'extreamly', 'winters', 'brough', 'wrestlers', 'aftercare', 'acquiring', 'winn', 'enraged', 'hwy', 'lizard', 'corkscrew', 'muzak', 'impersonation', 'handlers', 'bdays', 'purell', 'souveniers', 'trams', 'harrassed', 'boned', '5x7', 'roomed', 'apparatus', '1906', 'baloney', 'u00a0a', 'u00a0this', 'u00a0not', 'u00a0and', 'reverb', '6-$10', 'slipper', '0.02', 'ible', '65.00', 'filthiest', 'ambien', 'reefer', 'defying', 'crippled', 'laughlin', 'interim', '49.00', 'bellboy', 'jovi', 'reoccurring', '3:00am', 'threadbare', 'soothed', 'altough', 'nats', 'expediting', 'placard', 'thingie', 'splurging', 'experience-', 'carvings', 'borscht', 'vegas-2', '8.10', 'hotline', 'profiling', 'hours-', 'updo', 'copyright', 'ferraros', 'mixologists', 'arrabiata', 'ballrooms', 'swankiest', 'ina', 'daquiri', 'edging', 'headphone', 'however-', 'avatar', 'cameo', 'overshadows', '1989', 'overhang', 'loungers', 'lagged', 'masquerade', 'gracefully', 'adhesive', 'securing', '.otherwise', 'dink', 'affiliates', 'philli', 'sift', 'seething', 'koji', '4:30am', '56th', 'pheasant', 'odors', 'lucha', 'shortening', 'accompanyments', 'ranches', 'u00e1', 'vase', 'masochist', 'maint', 'blondies', 'saddled', 'polyester', 'nationality', 'bedsheets', 'kremes', 'airconditioning', \"would't\", 'effected', 'brewhouse', 'vigorously', 'gw', 'calamansi', 'fastfood', 'cohorts', 'opentable.com', 'seating-', 'saturation', 'bussboy', 'ceviche-', 'sliders-', '11:00pm', 'skyler', 'mouth-', 'stocky', 'comfortable-', 'headbands', 'wp', 'marvelously', 'latke', 'ballooned', 'expendable', 'broaden', 'leased', 'backpacks', 'franciscan', 'crustacean', 'blistering', 'rejuvenation', 'seminars', 'optimize', '-check', 'loafers', 'twang', 'tricycle', 'stein', 'boboli', 'circuses', 'cheapen', 'vandalism', 'unadvertised', 'thrird', 'briskly', 'carnation', 'squarely', 'boohoo', 'genial', 'ponzi', \".didn't\", 'earphones', 'lei', 'tenacity', 'disgraceful', 'scavenge', '130pm', 'insincere', 'venition', 'bussiness', 'darkest', 'shittiest', 'greased', 'catcher', 'rarest', 'leer', 'hilt', 'tactical', 'unstoppable', 'benefitted', 'springrolls', 'fanciness', 'matress', 'canadians', 'glamourous', 'teases', 'cocacola', 'dwellers', 'yuc', 'barbary', 'chillis', 'toast-', 'marriotts', 'hairbrush', 'ffs', 'ariel', 'sortof', 'izzy', 'whined', 'shamed', 'doneness', 'marred', 'primer', 'whiny', 'commercially', 'eyeballs', 'suffocate', 'herpes', 'hiv', 'lomi', 'spanned', 'unwarranted', 'sass', '-garlic', 'undeniable', 'allegiance', 'herm', \"you're\", 'yesteryear', 'wilder', 'olympus', 'afterwords', 'manipulated', 'tartin', 'liqueurs', 'epicurean', '11.75', 'spectators', 'sailing', '3500', 'someway', 'catch-22', 'bade', 'rambled', 'vacancy', 'reopening', 'patter', 'lugging', '4mins', 'harvey', 'organizational', 'founded', 'nurseries', 'israel', 'coordinators', 'nicol', 'assoc', 'acclimated', 'assets', 'qualifications', 'recital', 'expectant', 'humorless', 'sneer', 'wiith', '1982', 'multiply', 'droop', 'flaccid', 'velveta', 'smearing', 'saturn', 'frustrates', 'bcf', 'bog', 'silverwear', 'soufle', 'freelance', 'nastier', 'plate-', 'tsatziki', 'colliding', 'healthful', 'fabuloso', 'budding', 'triumphant', 'capes', 'tights', 'astonishment', 'recommened', 'compromises', '20-$40', '4.98', 'kyklos', 'breach', 'franchisees', 'acrid', 'chole', 'shiner', '3.98', 'swill', 'trop-', 'suffocated', 'hoegaarden', 'blazin', 'dispensary', 'skated', 'rinks', 'whisperer', 'cropping', 'familar', 'u00e1n', 'seperates', 'a.m', 'subtracting', 'down-', 'warning-', 'considerations', 'underpaid', 'nautica', '.love', 'dribble', 'food4less', 'dearest', 'diagonal', \"'cuz\", 'copa', 'grayish', 'waisted', 'primm', 'cham', 'barium', 'complication', 'arroyo', '6:40am', 'uninterrupted', 'poops', 'helpfully', 'poised', 'brando', 'mispronounced', 'bookshelf', 'chapters', 'ting', 'spiedini', 'stip', '630pm', 'soled', 'yankees', 'yummies', 'shortchanged', 'oddest', 'winked', 'yelpy', 'anglaise', 'enclosure', 'genki', 'weasel', 'fect', 'calipers', 'sparkles', 'onyx', 'bx', '-always', 'palin', 'monochromatic', 'delucas', 'duel', 'fritatta', 'materialized', 'coloration', 'fins', 'mongers', 'cheung', 'nother', 'hubbard', 'wholeheartedly', 'quarterly', '.come', 'fucken', 'sheds', 'durants', 'carbonation', 'rennovation', 'clap', 'absorbing', 'snarled', 'hemp', 'aversions', '18.99', 'darting', 'jacobs', 'arizonan', 'philip', 'illuminating', 'enhancers', 'accost', '.10', 'jumble', 'curving', 'coincidental', 'patchy', 'nua', 'rieslings', 'vintages', 'milks', 'moister', 'waltzed', 'nordic', 'subterranean', 'rhianna', 'clubbed', '2:30ish', 'incoherent', 'melba', 'gregarious', 'gearing', 'vinci', 'faintly', 'pefectly', 'absentee', 'palmed', 'mute', 'duck-', 'prixe', 'racers', 'pisco', 'mastering', 'advertized', 'leakage', 'amen', 'fashions', 'gutters', 'laan', 'khua', 'swaying', 'storming', 'panino', 'bypassing', 'vaudeville', 'montmartre', 'lederhosen', 'weiner', '6am', 'committment', 'chess', 'andes', 'lj', 'surge', 'scrabble', 'solitude', 'kayaks', 'mickie', 'leaped', 'thawing', 'enclosures', 'vilas', 'barneys', 'tgifriday', 'fudruckers', 'evian', '1930', 'payday', 'activate', '4:10', 'inescapable', 'prodding', 'rods', 'resturaunts', 'countdown', 'epcot', 'hiltons', 'musky', 'bookit.com', 'springer', 'u30c4', '-for', 'derogatory', 'releasing', 'stalkers', 'revoir', 'earring', 'magnificient', 'prunes', 'ic', 'cobble', 'provencal', 'flatscreens', 'thankyou', 'gesturing', 'unsolicited', 'viewable', 'prefixed', 'factly', 'berkeley', 'minimalism', 'nsa', 'misoyaki', 'shortages', 'b*tches', '~$17', 'venitian', 'terminated', 'plaque', 'yusho', 'lampshade', 'undertaking', 'poignant', 'm.c', 'risque', 'tumbling', 'suspecting', 'dralion', 'revert', 'rialto', '299', 'converts', 'recordings', 'schmoozing', 'incurred', 'witnesses', 'refinement', 'siegfried', 'd+', 'tickle', 'dolphin', 'waver', 'aquaknox', 'colts', 'teardrop', 'phallic', 'are-', 'tamer', 'securities', 'continuity', 'trailor', '--i', 'citywalk', 'airless', 'redolent', 'fainting', 'paralyzed', 'scrapes', '0.00', 'deactivated', 'docks', 'adapter', 'centrifuge', 'glimmer', 'w&w', 'geo', 'postings', 'snuggled', 'backbreaking', 'dds', 'penned', 'elicit', 'leann', 'especial', 'bumming', 'wreak', '6ish', 'maximizing', 'barracks', 'singlehandedly', 'conditioners', 'vibrations', \"coudn't\", 'cig', 'proponent', 'frenchy', 'gluttons', 'jouet', 'brut', 'bellegio', '10am', 'yummie', 'storebought', 'inpatient', 'protruding', '73', 'poissons', 'shoveled', 'grandmere', 'paleo', 'profiterole', 'whales', '\\n\\n\\n\\n\\n\\n\\n', 'thinking-', 'valium', 'slit', 'pda', 'hubba', 'succession', '2-$4', \"hold'em\", '6:15am', 'eew', '-friendly', 'emphatically', 'pittance', 'smooshed', 'dasani', 'janky', 'bali', 'forcibly', 'minuted', 'cotto', 'gtl', 'delt', 'hamper', 'squealing', 'particle', 'setback', 'workspace', 'coconuts', 'fer', 'resort-', 'infuse', 'nicked', 'partygoers', 'pollution', 'morbidly', 'whatshisface', 'ketzu', 'sinewy', 'bak', 'porno', 'retaining', 'bests', 'unfounded', 'beefiness', 'hrc', 'basking', 'yountville', 'devotee', 'spewed', 'madiera', 'fawning', 'courgettes', 'campagne', 'legumes', 'carrozza', 'noirs', 'minted', 'dancefloors', 'diminishing', '40-$50', 'cassis', 'sphere', 'aldo', 'blissful', 'reinvent', 'pannacotta', 'flakiness', 'proclaiming', '-4', 'sprecher', 'fraternity', 'molest', 'sobriety', 'blindfolded', 'rosy', 'emcee', 'dunkel', 'wurst', 'broads', 'swatting', 'brightened', 'braid', 'desiring', 'tatoos', 'hurdle', 'interludes', 'markdown', 'inspires', 's.o.s', 'jook', 'disapprove', 'cremes', 'squab', 'gravies', '32.99', 'assortments', 'hunters', 'weep', 'ghanouj', 'chippendale', 'stamina', 'viewers', 'runt', 'domes', 'nh', 'runaround', 'jiggy', 'guestlists', 'lightweights', 'bex', 'playfully', 'ided', 'pocketing', 'paparazzi', 'mixtures', 'instigate', 'rapped', 'ducasse', 'regurgitating', 'thesuite', 'numbing', 'tannins', 'turbot', 'beluga', 'equinox', 'passerby', '135.00', 'frida', 'tempranillo', 'michelada', 'reall', 'dissatisfying', 'ked', 'vc', 'pave', 'show-', 'myvegas', 'guarded', 'pegs', 'sheltered', 'butch', 'twirling', 'reunite', 'cirques', 'narration', 'villain', 'darth', 'tribal', 'clan', 'ecstasy', 'perceptions', 'bayside', 'breathless', 'oohh', 'beaker', 'tapestries', 'cfc', 'lactation', 'overwelming', 'bedtime', 'shittake', '3.0', 'tassels', 'schezuan', 'goldies', 'tush', 'objectively', 'rnb', 'musing', 'bodyguards', 'paramount', 'lavatories', 'earthly', 'mexicali', 'reeba', \"d'oeuvre\", 'humored', 'conjure', 'isla', 'greene', '.on', 'sandhill', 'margharita', 'hiker', 'climbs', '8.30', 'sexed', 'ecclectic', 'aberration', 'capricciosa', 'unscathed', 'phd', 'erika', 'blackbean', 'harissa', 'reconcile', 'raviolo', 'i\"ll', 'fiascos', '.actually', 'stilt', 'tequilla', 'stilts', 'presale', '4am', 'p.o.s', 'addams', 'grabber', 'stiffer', 'jpp', 'brightness', 'merengue', 'remeber', '26.99', 'v.i.p', '.salad', 'antipasta', 'yank', 'cutely', 'legs-', 'lous', 'service.they', '6x', '-desserts', '23.99', 'skylight', 'specks', '-can', 'carbed', 'shmancy', 'unpopular', 'carver', 'payroll', 'reisling', 'digged', 'drumming', 'strobe', 'mannerisms', 'gris', 'inkling', 'pimping', 'huddling', 'pcl', 'nudging', 'kelp', 'persevered', 'singularly', 'funnily', 'lightened', 'bernardus', 'awakening', 'jist', 'pinenuts', 'tubular', 'reiterating', 'doves', 'esq', 'seeped', 'motioned', 'dedicate', 'exude', '6:00am', 'hedonistic', 'windowless', 'lathered', 'danrick', 'bacons', 'custards', 'generating', 'gormet', 'zuma', 'jib', 'saul', 'size-', 'ile', 'skimming', 'mew', 'wowie', 'uncultured', 'correlates', 'prata', 'appy', 'thongs', 'smitten', 'gyrating', 'partys', 'seperated', 'waft', 'pavlova', 'enlightening', 'corked', 'acacia', 'enhancing', 'ottawa', 'gingered', 'dipper', 'ycs', 'pimple', 'primed', 'irreverent', 'illogical', 'dissolved', 'collagen', 'sparklers', 'vinyls', 'nes', 'gremolata', 'negates', 'entail', 'immersion', 'microwaveable', 'neonopolis', 'cacciatora', 'primi', 'ragged', 'spirals', 'fizzled', 'conquered', 'homecooked', 'reticent', 'quads', 'wigwam', 'clover', 'x10', 'kuey', 'guarana', 'jefe', 'ticoz', 'blinis', ':0', 'chiffonade', 'barrell', 'atmospher', 'udupi', '10:40', 'sheila', 'skis', 'coy', 'googles', 'bk_etlw_ueueymzdzlkn6a?select', 'saggy', 'antioxidant', 'proletariat', 'blare', 'unity', 'hario', 'waterless', 'wrinkle', '11:15am', 'plea', 'atmosphere-', 'nuevo', 'involtini', 'sensations', 'crapper', 'bws', 'tradiciones', 'solicit', 'woodford', 'drunker', 'juggler', 'hardwell', 'vickie', 'outlier', '33.00', 'barks', 'conjecture', 'countenance', 'ladled', 'tsaziki', 'undici', 'drunkie', 'bette', 'midler', 'templeton', '411', 'alexandra', 'tomaso', 'endorsed', 'lala', 'kusshi', 'tides', 'brochettes', 'hite', 'conversationalists', 'rhythms', 'roughed', 'adorns', 'solstice', 'beagles', 'phish', 'tn', 'barq', 'tug', 'babyback', 'absorbent', 'sigi', 'ber', 'siehe', 'foto', 'unten', 'jahre', 'untergrund', 'statt', 'sehen', 'hamburg', 'sache', 'shaven', 'mercifully', 'socked', 'employs', 'tarp', 'bigelow', '201', 'clarendon', 'forlorn', 'paces', 'mezze', 'roosters', 'noisey', 'phillys', 'conspicuously', 'u00e4ten', 'u00e4r', 'u00f6r', 'seth', 'quiessence', 'margins', 'modification', 'shrill', 'distracts', 'implements', 'vincitorio', 'tooling', 'expanse', 'explodes', 'eloquent', 'inane', 'cas', 'beatle', 'medium-', 'wickedly', 'mutter', 'steers', 'fumbled', 'twinkle', 'panchetta', '.awesome', 'vintner', 'hissy', 'cornucopia', 'publication', 'contention', 'bucs', 'dopey', 'convience', 'bizzare', 'arbor', 'entendu', 'tbones', 'price--', 'jocelyn', 'ambrosia', 'abou', 'vings', 'parlour', 'sprig', \"mac'n'cheese\", 'adrienne', 'instructing', 'upskirt', 'apropos', 'simmering', 'likings', 'blowers', 'topnotch', 'maw', 'forkful', 'fs', 'mignardises', 'himalayan', '.over', 'bigeye', 'pri', 'coopers', 'l.v', '310', 'unmanageable', 'delegation', 'barker', 'overbid', 'disgusts', 'magenta', 'repeatable', 'nolen', 'mbfg', 'decals', 'pastys', 'pastie', 'garbled', 'lagunitas', 'retract', 'remaking', 'recollect', 'asparagus-', 'tase', 'totem', 'progresso', 'sexually', 'wichcraft', 'ized', 'griller', 'shone', 'reastaurant', 'blad', 'yupah', 'star-', 'yom', 'fatties', 'noob', 'cleaver', 'squeal', 'traversing', 'presumptuous', 'gtfo', 'realtors', 'alright-', 'comicon', 'integral', 'karai', 'explaination', 'traveller', 'gfs', '~*~', 'tripel', 'noticable', 'barring', 'millers', 'indiscernible', 'depicting', 'bradshaw', 'cen', 'haley', 'grittiness', 'negihama', 'thrashing', 'steeper', 'gentry', '-pool', 'mindy', 'dsl', 'gr8', 'bumber', 'anywhoo', 'appitizer', 'skeptic', 'chemist', 'critter', 'regency', '2.35', 'canoe', 'ensconced', 'scroll', 'unfold', 'fettucinni', 'shauna', 'sidetracked', 'gameplan', 'meh-', 'heralded', 'scurrying', 'cadet', 'indistinguishable', '3rds', 'bastianich', 'posto', 'ceci', 'comin', 'puh', 'painters', 'prestigious', 'textiles', 'stipulation', 'expressionless', 'coils', 'sti', 'panroast', 'attires', 'whirlpools', 'reactive', 'ira', 'pincher', 'chiken', 'ventano', 'fellows', 'k.d', 'cooties', 'qejjv2k8ndhoiypmi_avow?select', 'daybeds', 'ahah', 'clatter', 'latex', 'reasoned', 'celiacs', 'asiana', 'fearful', 'beck', 'microdermabrasion', 'alerts', 'moot', 'rabies', 'gladiator', 'skysong', 'bearded', 'mealworms', 'scumbag', '5.49', 'slits', 'serrated', 'huntington', 'coaxing', 'bullseye', 'surveillance', 'youfit', '3:45', 'cahoots', 'sighting', 'jacking', 'lynch', 'subscribed', 'reboot', 'costcos', 'leeds', 'hairline', 'vi', 'dianne', 'wr', 'outset', 'corns', 'showerhead', 'blisters', 'jibber', 'allred', 'shelton', 'wring', 'dissappointment', 'subjects', 'worksheets', 'unkind', 'headsets', 'tempera', '8x10', 'dismantled', 'snip', 'fundraisers', 'postcards', 'tellies', 'matron', 'refs', 'elbowing', 'refrozen', 'behaves', 'yipp', 'stratus', 'florals', 'maestro', 'skies', 'hotwire.com', 'unassigned', 'footnote', 'tingles', 'wholefoods', 'derp', 'maneuvered', 'wastefulness', 'disorderly', 'crawford', 'ahs', 'diagnosing', 'regina', 'apex', 'sav', 'darque', 'pubes', 'partnered', 'objected', 'sandia', 'blockbusters', 'moseyed', 'delegating', 'seriously-', 'pepperdews', 'chachi', 'structurally', 'python', 'mns', '35.50', 'coward', 'litmus', 'norcal', 'places-', 'overenthusiastic', 'deviation', 'concurred', '3a', 'effortless', 'caterer', 'ramada', 'alight', 'shoji', 'raintree', 'khan', 'queued', 'commenced', 'vatican', 'encouragement', 'cheng', 'hips', \":'(\", 'flirts', 'new(er', 'financed', 'gcs', 'uggh', 'gandolfo', 'strategies', '-sushi', '1.19', ':3', 'week-', 'afterwork', 'hanson', 'coupling', 'superstitions', 'dollers', 'intrusion', '1.20', 'freeds', 'despises', 'altessa', 'tomy', 'dest', 'airflow', 'hapa', 'professions', 'bursted', 'aycd', '.kinda', 'pikes', 'mignons', 'zaytoon', 'houmos', 'kababs', 'cautioned', 'pjs', 'underfilled', 'stepchild', 'hennessy', 'fda', 'cla', 'jammy', 'kindest', 'blas', 'hgi', 'rebels', 'dismissively', 'budgeted', 'oem', 'assembling', 'inmates', 'mimis', 'barney', 'theives', 'chants', 'agitate', 'esthetically', 'oxide', 'deceitful', '4:20', 'stinging', 'kitties', 'khoury', 'digesting', 'lillie', 'undivided', 'supervising', 'g.c', 'duckets', '64th', 'gypped', 'callendar', 'muppets', 'bayonne', 'z4', 'inconspicuous', 'spelt', 'poopy', 'yesterdays', 'toughest', 'basa', 'launcher', 'irishmen', 'smithwick', 'gastronomical', 'gorgeously', 'vats', 'delighting', 'policing', 'damm', 'emission', 'pedicurist', 'sald', 'instrumental', 'elantra', 'flatware', 'doe', 'pummeling', 'cowering', 'bahlduini', 'blanton', 'excludes', 'sippy', 'reddy', 'globby', 'encompassing', 'overcast', 'homophobic', 'odell', 'skye', 'malay', 'unleash', 'etcetc', 'concentration', 'mmmm', '440', 'dimensions', 'andreas', 'skinnier', 'liberating', 'throwaway', 'disparity', 'sweet-', 'rebates', 'broader', 'indescribably', 'madcap', 'resigned', 'portugal', 'captions', 'vday', 'bedsheet', 'palabok', 'v1.5', 'regrettable', 'crostinis', 'bens', 'hazel', 'neice', 'carnations', 'incoco', 'bunky', 'bloodys', 'minas', 'canola', 'istanbul', 'calypso', 'croatian', 'igor', 'commie', 'lucca', 'slighted', 'm&s', 'barstaff', 'momo', 'bentos', 'highschool', 'sickened', 'fumble', 'umpteenth', 'rookies', 'misted', 'corrects', 'refils', 'claddagh', 'badmouth', 'tobler', 'narrative', 'xinjiang', 'bottling', 'swagat', 'shoves', 'emmanuel', 'liza', 'bladders', 'cious', 'cobbled', 'arborists', 'bogi', 'okie', 'dokie', 'abdaljalil', 'chupacabra', 'tes', 'quel', 'u00e9ciale', 'retour', 'genetically', 'wraps-', 'diffrent', 'pdf', 'detractors', 'brutta', '8.59', 'gan', 'dou', 'playlists', 'dutifully', 'southbound', 'taboo', 'snoop', \"q'doba\", 'roca', 'huger', 'undertones', 'champange', 'province', 'yougurt', 'mui', 'tustin', 'mambo', 'navigation', 'verbena', 'turndown', 'consequence', 'a**hole', '-chips', 'lexi', 'cesaer', 'unrivaled', 'junked', 'lucile', 'preseason', 'purists', \"bbq'd\", 'm.o', 'breathable', 'laboratory', 'colin', 'bian', 'phan', \"hawai'i\", 'abd', 'avery', 'saudi', 'arabia', 'allan', 'twirl', 'pizzeti', 'condone', 'nabbed', 'intrigue', '.got', '-fried', 'hv', 'sumit', 'reconfirm', 'eleanor', 'aiello', 'disintegrated', 'grammar', 'distractingly', 'rica', 'casualty', 'enemies', 'rainfall', '156', 'fishbowl', 'gnarly', '30$.', 'aye', 'priv', 'hungrily', 'customshop', '7-$8', 'giveaway', '8ish', 'parachute', 'savories', 'screeching', 'nothings', 'captures', 'behaviors', \"o'sullivan\", 'splashes', 'literate', 'queijo', 'aeropress', 'chopin', 'friscos', 'woud', 'nummy', 'tana', '-complimentary', 'libby', 'matte', 'haba', 'u00f1ero', '4:15', 'pices', '18.50', 'redux', 'brits', 'zj', 'beantown', 'earful', 'taos', '~$5', 'lmk', 'nct', 'eyeglasses', 'tascon', 'deconstruct', 'splinters', 'curled', 'liquer', 'blarney', 'pomeranian', 'correspondence', 'wilty', 'diffusers', 'crepe-', 'trimmings', 'comforts', 'purples', 'bakery-', 'mille', 'stinker', 'shortlist', 'maca', 'contractions', 'cookiez', 'jip', 'marscarpone', 'badtz', 'maru', 'bauman', 'walt', '1.65', 'shanghi', 'revoked', 'mido', 'ef', 'hurray', 'gorganzola', 'pressures', 'simplify', 'whitey', 'nourished', 'kuru', 'hugemangous', 'park-', 'gizmo', 'shrinking', 'monieux', 'delores', 'crapshoot', 'bloomington', '\\n\\n▁\\n\\n', 'germann', 'exfoliation', 'exerted', 'ontop', 'sniffling', 'dubs', 'lagundo', 'yolo', 'chimmi', 'trente', 'tweet', 'fundamentals', 'drunkenness', 'cheeburger', 'sheepishly', 'undergo', 'thug', 'elias', 'jacky', 'creeks', 'correspond', 'waldo', '-full', 'paratha', 'charring', 'update-', 'orphans', 'shoveling', 'gans', 'humility', 'agt', 'extraction', 'trekkies', 'lorenzo', 'porsche', 'kidnapped', 'linh', 'huzzah', 'steroid', '910', 'moustaches', 'negatives-', 'chapati', 'niether', 'b14', 'eddies', 'endo', 'periphery', 'mexicano', 'was-', 'befuddled', 'aurore', 'prayers', 'omgoodness', 'underwhelm', 'foreve', '20-$25', 'trip-', 'sunning', 'goodfellas', 'shoes-', 'tullamore', 'taverna', 'toxins', 'seamlessly', 'colombians', 'azcentral', 'sofrito', 'platanos', 'bulgolgi', 'shawarmas', 'peta', 'salut', 'birdsong', 'fatoosh', 'hardens', 'cynical', 't&t', 'compactor', 'stemmed', 'renegade', 'dhaba', 'lassie', 'washcloth', 'administered', 'scooted', 'nolia', 'bearer', 'heros', 'cosmetology', 'u00e2teau', 'alinea', 'cra', 'customizing', 'compensates', 'downsized', 'grammatical', 'knitting', 'microscopic', 'zine', 'bbt', 'piqued', 'glances', 'partie', 'attachments', \"d'essayer\", 'disant', 'dirait', 'gestion', 'u00eats', 'calme', 'chinoise', 'u00e9cialit', 'savoureuses', 'pourrais', 'droit', 'comprendre', 'u00e9cialis', 'mets', 'joue', 'tranquille', 'traversez', 'tendre', 'u00fbtent', 'honk', 'serveurs', 'hdp', 'suffocatingly', 'u00e9poque', 'billets', \"l'a\", 'pis', \"l'attente\", 'connaissent', 'ire', 'regarder', 'garder', 'plaisir', 'endroits', 'heures', 'eviter', 'matchs', 'elio', 'gnudi', 'cuites', 'copieuses', 'souhait', 'verdure', 'accompagner', 'panure', 'terminer', \"s'en\", 'toque', 'surement', 'u00e9r', 'u00e9viter', 'u00e9panneur', 'showrooms', 'kosmos', \"qu'elle\", 'renaud', 'bray', 'u00e9tablissement', 'libraires', 'chauss', 'revues', \"l'acad\", 'u00e9mie', 'italiana', 'piatto', 'u00e9couvrir', 'trouverez', 'assur', 'u00e9lev', 'magasins', 'conseiller', 'viateur', \"l'avenue\", 'entrant', 'tromp', \"l'un\", 'noter', 'ordinaire', 'tranche', 'oignons', 'croustillantes', 'particuli', 'contenants', 'yuan', 'autour', 'renown', '8-', 'apetizing', 'laquelle', 'passables', \"l'emplacement\", 'champlain', 'ybe', 'excellents', \"d'abord\", 'u00fbrement', 'viandes', 'veau', 'jambon', 'u00e9rant', 'squishing', 'hostels', 'stints', 'fishiness', 'khyber', 'excellente', 'remplis', '17h', 'derri', 'murs', 'samedi', 'copain', 'accompagn', 'rissol', \"l'argent\", 'comptant', 'nyt', 'beaubien', 'liquidation', 'partir', 'u00e9crans', 'u00e9nement', 'couche', 'participer', 'u00e9ral', 'obrigado', 'connais', 'dedans', 'ait', 'secondes', 'u00eetres', 'afin', 'gruesome', 'clipboards', 'amazin', 'nauseum', 'rainstorm', 'toutefois', 'u00e9couverte', 'paye', 'magnifique', 'cabane', 'davantage', 'devenu', 'quasiment', 'belles', 'pharmaprix', 'moishe', 'calorically', 'moyenne', 'revient', 'argent', 'achet', 'noix', 'urbain', 'salles', 'servent', 'chaleureux', 'peche', 'musee', 'u00e9rieure', 'u00e9penses', 'u00e9alit', 'crevettes', 'stationnement', 'uqam', 'bruyant', 'reviendrai', '5$.', 'faible', 'u00e9but', 'jours', 'abordable', 'spectacles', 'proximit', 'exceptionnel', 'papilles', 'cineplex', 'cheapy', 'hustler', 'beaux', 'a&f', 'onoir', 'verres', 'ferreira', 'hic', 'u00e9co', 'devrait', 'barred', 'tartares', 'cosm', 'u00e9tiques', 'u00eave', 'bain', 'faisait', 'u00e8ne', 'grenadine', 'nachos-', 'u00e7ue', \"d'extraordinaire\", 'morceaux', 'disons', 'u00e9couter', 'viewings', 'concordia', 'soirs', 'terrasses', 'provigo', 'severity', 'agressive', 'patisseries', 'it`s', 'offert', 'parmi', 'fallait', 'copine', 'num', 'grange', 'shite', 'pouvez', 'brining', \"m'emp\", 'u00eacher', 'u00eatements', 'u00e9guli', 'alcool', 'sud', 'u00e9tons', 'clutched', 'atlas', 'veggy', 'km', 'rouleau', 'somme', 'tong', \"l'academie\", 'lachine', 'chaussures', 'taouk', 'lightness', 'appeasing', 'unfit', 'e.g', 'albiet', 'slurred', 'gamme', 'honest-1', 'amarone', 'belk', 'benched', 'bonfire', 'exiger', 'moiti', 'avions', \"n'avons\", 'retournerons', 'wayward', 'moreno', 'rumblings', 'blackhawk', 'pvc', 'feeder', 'monogrammed', 'bazillion', 'gv', 'docg', 'insights', 'dozed', 'savoriness', 'ayrsley', 'vomitted', 'tangible', 'supermex', 'caff', 'undressed', 'hun', 'uniquement', 'note-', 'u00e9rieux', 'price-', 'prancing', 'groping', 'nurture', 'voter', 'android', 'courtenay', 'mustered', 'pellegrino', 'u00e9guster', 'ayant', 'lourd', 'citron', 'macdonalds', '131', 'ayala', 'skunky', 's&s', 'mgt', 'catastrophe', 'entailed', 'don`t', 'rubberized', 'nogales', 'dwp10iez5lgf3fhcvqzm0q?select', 'puns', 'inhabitants', 'u00ed', 'pica', 'nomnom', \"i'v\", 'dominican', 'navajo', 'epidemic', 'plumeria', 'earthquakes', 'aha', 'greggs', 'witchery', 'muito', 'rela', 'embora', 'pouco', 'inclination', 'dickens', 'nicolson', 'handily', 'centotre', 'importing', 'constitute', 'snax', 'pringles', 'peered', 'bastions', 'hive', 'straining', 'frankensteins', 'tinned', 'polonia', 'u00a36.50', 'lacklustre', 'piemaker', 'caledonian', 'footie', 'u00a32.50', 'fiver', 'grumbling', 'crowns', 'whittard', 'kathleen', '.guess', 'mignonette', 'montpeliers', 'plently', 'instructional', 'musselburgh', 'rollo', 'bateman', 'fussed', 'bierex', 'parka', 'inhospitable', 'noah', '32.00', 'teaser', 'cohesion', 'vessels', 'harbour', 'gins', 'gastropubs', 'swany', 'highways', 'u00a318', 'sewed', 'onwards', 'penhaligon', 'penhaligons', 'edward', 'peckish', 'trousers', 'trauma', 'uncles', 'revolutionary', 'homebase', 'bespoke', 'stodgy', 'encompasses', '30p', 'footlocker', 'testicles', 'quayside', 'fudges', 'congratulate', 'u00a31.50', 'topman', 'skater', 'infectious', 'bbc', 'thoroughness', 'sainsbury', 'settlers', 'vineyards', 'hobbling', 'misfits', 'fleetwood', 'redhead', 'bru', 'gorgie', 'dummies', 'mosque', 'eng', 'citynorth', '830am', 'climates', 'somethingorother', 'mcclendon', 'citycenter', 'satara', 'awnings', 'joya', '158', 'swizzle', 'cv', 'charburger', 'fiveguys', 'krust', 'dazed', 'cutouts', 'mckellips', 'shaunte', 'disaffected', 'thwarted', 'deceivingly', 'metros', 'lasso', 'outsides', 'inside.the', 'boudan', 'dosai', 'pooches', 'clint', 'ecletic', 'gains', 'notoriety', 'barfing', 'organizers', 'diminishes', 'lipsticks', 'dupe', 'mindblowingly', 'divot', 'approves', 'fantastic-', 'hubster', 'uninvited', 'armrest', 'lightform', 'bunker', 'risquez', 'touristes', 'compagnie', 'falko', 'britain', 'recieving', 'amalgam', 'windemere', '5-$7', 'depicts', 'dolores', '2stars', 'unison', 'zz', 'dmvs', 'huhot', 'olden', 'haupia', '4-$5', 'bate', 'indirect', 'affaire', 'guanciale', 'austere', 'kerri', 'brizza', 'demoralizing', 'sakun', 'spoilt', 'moet', 'holler', 'conversion', 'quilt', 'magnified', 'wringing', 'chicagoland', '.big', 'uncrowded', 'terzetto', 'bergies', 'favorita', 'liste', \"wow'd\", 'regurgitated', 'rhinos', 'displeasing', '.an', 'icebox', 'bois', 'ingrown', 'electronica', 'wino', 'limitation', 'scour', 'qi', 'fei', 'understaff', 'gassed', 'klondike', 'hbh', 'unwrapping', '90min', 'huddle', 'snooki', '.need', 'eludes', 'allowances', 'serviceman', 'nicola', 'perspectives', 'precautionary', 'tw&m', 'hollering', 'currey', 'bridget', 'rums', 'blazed', 'entrepreneurs', 'bishop', 'jg', 'mcclain', 'wormwood', 'horible', 'reconfirmed', 'clancy', 'goreng', 'frangelico', 'uphold', '.total', 'tini', 'condesa', 'boda', 'pearce', 'hanam', 'manquer', '-have', 'hua', 'transform', 'nala', 'rafiki', '29.50', 'caketini', 'smeeks', 'staches', 'pernil', 'glacial', 'stepdaughter', 'lessen', 'hawt', 'kauai', 'serge', 'unpaid', 'blurb', 'hough', 'mojarra', 'danes', 'sanctity', 'tartelette', 'splotchy', 'cals', 'resourceful', 'surpised', 'tables-', 'pube', 'u00f1or', 'enso', 'eggspectation', 'wrong-', 'clutching', 'goddam', 'contingent', 'tramps', 'reinventing', 'daze', 'menchie', 'myra', 'u00e8mes', 'ino', 'duk', 'vo', 'muay', 'chickfila', '4.80', 'acupressure', 'pigging', 'fougasse', 'sas', 'hewat', 'rump', 'songbird', 'ninth', 'conventioneers', 'clues', 'forensics', 'baca', 'towbin', 'peaty', 'lobbys', 'cnf', 'supermodel', 'fkn', 'burying', 'chiu', 'blot', 'pavle', 'charleen', 'backtracks', 'gage', 'nicki', 'kink', 'bowties', 'prioritize', 'bevy', 'zimbrick', 'mandated', 'tinnen', '-as', 'velcro', 'vicious', 'tentadora', 'patata', 'nonfat', 'patacon', 'forefront', 'deters', 'swipes', 'blackening', 'salsarita', 'supervise', 'diabla', 'raphael', 'pulsing', 'alcatraz', 'lvs', 'favourable', 'whiney', 'ppap', 'pittsburghese', 'ampitheater', 'invasive', 'spot-', 'bulgar', 'merica', 'aok', 'scaffolding', 'lumberjack', 'hallelujah', 'stashed', 'treehouse', 'impose', 'addictions', 'amp', 'gordita', 'homelife', 'defining', 'foreman', 'c3', 'overheated', 'welded', 'ihops', 'onan', 'granddaughters', 'abyss', 'scenarios', 'traumatizing', 'awed', 'indecent', 'crsvr', 'necessitating', 'suffocating', 'initiated', 'alfonzo', 'cbx', 'turkeys', 'snowflakes', 'lyn', 'big5', 'typhoid', 'susana', 'fleisher', 'webmd', 'i-515', 'injections', 'aspirin', '11s', 'lambo', 'yanni', 's4', 'pluck', 'waivers', 'home-', 'toastadas', 'businessman', 'armando', \"lovin'\", 'fromm', 'battlefield', 'rhapsodille', 'montecito', 'leach', 'stability', 'celina', 'moh', 'endoscopy', 'chuang', 'analyst', 'solicited', 'carzone', '-location', 'rancher', 'ashtanga', 'b&g', 'lw', 'shc', 'outcomes', 'ascs', 'billet', 'phl', 'basilic', 'locacion', '8:05', 'revitalization', 'chers', 'gingembre', 'revenir', 'oatcakes', 'lebowskis', 'braver', 'broughton', 'hawke', 'sos', '21212', 'kazu', 'crags', 'schenley', 'illustrious', 'raver', '--great', 'winston', 'tulips', 'bhan', 'frois', 'g.i', 'isabelle', 'wold', 'shitshow', 'sazerac', 'pogo', 'angello', 'chiefs', 'rocketburger', '.way', 'wobble', 'saxophone', 'blaze', 'starr', 'slurring', 'haq', 'neato', 'desker', 'pushups', 'nuoc', 'unfulfilled', 'restaurant.the', 'kgb', 'chenin', 'salvo', 'griechische', 'musik', 'trotz', 'studi', 'wesentlich', 'u00fcckt', 'bratkartoffeln', 'morgens', 'vielen', 'voll', 'kennt', 'jahr', 'jedoch', 'fertig', 'gew', 'erwartet', 'tischen', 'abends', 'u00e4he', 'u00fcberrascht', 'geb', 'erreichen', 'u00f6pfe', 'dusche', 'leute', 'gehe', 'machen', 'bem', 'u00e4se', 'u00f6nnte', 'inbegriffen', 'kurz', 'frage', 'unfreundlich', 'besonders', 'durlacher', 'schmeckt', 'lunasagna', 'speisen', 'trocken', 'hin', 'schauburg', 'sitzt', 'vogel', 'u00f6nen', 'kino', 'wochenende', 'davon', 'sagen', 'zukunft', 'meinem', 'bedingt', 'hause', 'bestellten', 'netten', 'halbe', 'pils', 'reis', 'seinen', 'lohnt', 'zubereitet', 'schlechten', 'bewertungen', 'folie', 'dennoch', 'u00fc', 'u00dfend', 'untergebracht', 'weit', 'immerhin', 'stadtmobil', 'kleine', 'u00f6nnen', 'sofort', 'jemand', 'tolle', 'erf', 'u00fcllen', 'gemacht', 'u00fcssen', 'sitze', 'u00fcberall', 'hohe', 'vorstellungen', 'beobachten', 'gestaltet', 'anders', 'sah', 'u00fcche', 'ofen', 'deshalb', 'bewertung', 'samstag', 'nette', 'zufrieden', 'u00e4llt', 'richtung', 'u00f6nes', 'stadt', 'bordeaux', 'u00fctlich', 'komme', 'vern', 'bekommen', 'u00fcsste', 'u00fcnen', 'typische', 'gericht', 'lamm', 'gekocht', 'bessere', 'bereits', 'ende', 'tun', 'bekommt', 'kantine', 'u00e4ndig', 'ansicht', 'eur', 'u00f6llig', 'empfehlung', 'u00f6nlich', 'discusting', 'mixx', 'newfound', 'lowdown', 'paleta', 'restaurateurs', 'nix', 'asade', 'twm', 'waffel', 'dahin', 'kieth', 'tumeric', 'bistroid', 'shanghainese', 'predecessor', 'backstory', 'hendricks', 'fertilizers', '59.00', 'insinuate', 'fastball', 'harwell', 'firefighters', 'zydeco', 'bullion', 'hugger', 'moaned', 'underdogs', 'nostrano', 'smore', 'eez', 'broasted', 'zink', 'moshi', 'spaetzel', 'manon', 'mover', 'originale', 'jouer', 'somalian', 'carmas', 'bai', 'facto', 'endermologie', 'cellulite', '7:05', 'platos', 'kubideh', 'boozled', 'bit.ly', \"n'er\", 'lollygagger', 'c1', '3stars', 'gelatto', 'panacotta', 'expos', 'u00e9placement', 'curacao', 'liv', 'sware', 'estiatorio', '20.13', 'playarea', 'planked', 'ganzen', 'd.o.c.g', 'proportional', 'arrichion', 'sammi', 'millet', 'morty', 'wishy', 'washy', 'problemo', 'rumbis', 'dadurch', 'edison', 'intermingling', 'meatballz', \"d'backs\", 'lorna', 'swish', 'firmness', 'occupant', 'siem', 'reap', '160.00', 'raked', 'nailing', 'gobblet', 'reponse', 'kru', 'clich', 'hotlink', '7.29', '+5', 'coin(s', 'dizziness', 'spoonz', 'combing', 'samoa', 'holley', 'again--', 'thunderbolt', 'u8089', 'chaiya', \"n'etaient\", 'retouched', 'stalzy', 'parchita', 'kk', 'couper', 'pookie', 'kokoro', 'acres', 'pablo', 'mulas', 'suadero', 'verdes', 'chiropractors', 'anniversaire', 'pichet', 'u00e9rieusement', 'u00e9phone', 'insomniac', 'dada', '174', 'krav', 'assam', '28go', 'calgary', 'artifice', 'correcte', 'jjs', 'dahntahn', 'herring', 'ratios', 'gaati', 'embers', 'daly', 'percussionist', 'oatie', 'yelp.com', 'semisweet', 'schlotzskys', 'yassa', 'giardia', 'negotiable', 'vadai', 'bhavan', 'harmoniously', 'brasilian', 'anejo', 'barrelhouse', 'juror', 'barefeet', 'photoshoot', 'elan', 'mff', 'dadu', 'preparers', 'alterra', 'stimmt', 'mois', 'nicolette', 'rudys', 'sarie', 'courtroom', 'dic', 'hamid', 'temaki', 'raus', 'superbe', 'kidrobot', 'ettingers', 'bom', 'roastery', 'katana', 'choisir', 'blackstrap', 'hanna', 'sfingi', 'renello', 'dollheads', 'stefan', 'marnie', 'zabas', 'hesitating', 'damon', 'pbc', 'cvmh', 'bp', 'kneads', 'pepperonis', 'crocetia', 'reclaimed', 'fohawk', 'backings', 'm4', 'peridot', 'casona', 'pansy', 'juicing', 'sustainably', 'bookkeeping', 'pellini', 'aramaic', 'zookz', 'vezas', 'barracuda', 'ballot', 'famille', 'u00e9rante', 'shoku', 'transgender', 'gertrude', 'greasiness', 'snoh', 'gillmore', 'asadero', 'yahoo', 'luiz', 'chrys', 'fertility', 'de2lri4xe353jlyac9ac6q', 'fastmed', 'armrests', 'u00eb', 'minx', 'mingi', 'arcoiris', 'ceelo', 'aries', 'hakkassan', 'zikwid', 'pizzaiolo', 'gopro', 'noggle', 'promptness', 'bobas', 'yosi', 'manquait', 'llc', 'schlechte', 'dran', 'leistung', 'richtig', 'lex', 'weidner', 'u00e9gustation', 'skinnyfats', 'tatoo', 'hazing', 'vangs', 'xlbs', 'regelm', 'inzwischen', 'sparklings', 'pel', 'meni', 'sigsig', 'atley', 'lyfe', 'favritos', 'pelon', 'five50', \"d'olives\", 'vapery', 'zzeeks', 'rotolis', 'matc', 'collichio', 'parasols', 'frapuccino', 'wilderness', 'autohaus', 'automatikgetriebe', 'supermarkt', '4,50', 'meeka', 'haymaker', 'chippie', 'kenzo', 'ingo', 'tupelo', 'kaku', 'appys', 'naya', 'ciroc', 'hulas', 'baig', 'giardineira', 'cheddatruck', 'polaroid', 'altius', 'polaroids', 'dlls', 'mame', 'haweli', 'watertower', 'brimhall', 'cronin', 'batemann', 'joverse', 'ncc', 'topgolf', 'xxfake'],['negative', 'positive']]"
      ]
     },
     "execution_count": 35,
     "metadata": {},
     "output_type": "execute_result"
    }
   ],
   "source": [
    "learn_inf = load_learner(path/'export.pkl')\n",
    "learn_inf.dls.vocab"
   ]
  }
 ],
 "metadata": {
  "kaggle": {
   "accelerator": "gpu",
   "dataSources": [],
   "dockerImageVersionId": 30733,
   "isGpuEnabled": true,
   "isInternetEnabled": true,
   "language": "python",
   "sourceType": "notebook"
  },
  "kernelspec": {
   "display_name": "Python 3",
   "language": "python",
   "name": "python3"
  },
  "language_info": {
   "codemirror_mode": {
    "name": "ipython",
    "version": 3
   },
   "file_extension": ".py",
   "mimetype": "text/x-python",
   "name": "python",
   "nbconvert_exporter": "python",
   "pygments_lexer": "ipython3",
   "version": "3.10.13"
  },
  "papermill": {
   "default_parameters": {},
   "duration": 5025.426477,
   "end_time": "2024-07-03T19:43:04.179476",
   "environment_variables": {},
   "exception": null,
   "input_path": "__notebook__.ipynb",
   "output_path": "__notebook__.ipynb",
   "parameters": {},
   "start_time": "2024-07-03T18:19:18.752999",
   "version": "2.5.0"
  }
 },
 "nbformat": 4,
 "nbformat_minor": 5
}
